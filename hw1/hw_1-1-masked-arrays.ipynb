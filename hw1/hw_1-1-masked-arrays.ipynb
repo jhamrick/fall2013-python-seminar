{
 "metadata": {
  "name": ""
 },
 "nbformat": 3,
 "nbformat_minor": 0,
 "worksheets": [
  {
   "cells": [
    {
     "cell_type": "markdown",
     "source": [
      "## Due Wednesday Sept 11, 2013 @ 5pm ##\n",
      "\n",
      "Send us an email `ucbpythonclass+seminar@gmail.com` (with a tarball of\n",
      "notebook/code/files)\n",
      "\n",
      "## 0-1  Fun with Masked Arrays ##\n",
      "\n",
      "`Numpy` masked arrays provide a way to keep track of elements that are\n",
      "considered \"missing\" or \"bad\". This is extremely useful when\n",
      "performing statistics on such arrays---masked elements should not be\n",
      "included in determining, for example the mean.  Masked arrays are\n",
      "really helpful when combining images too that have known regions of\n",
      "bad or bogus data.\n",
      "\n",
      "Check out the masked array methods and functions here:\n",
      "  http://docs.scipy.org/doc/numpy/reference/routines.ma.html"
     ]
    },
    {
     "cell_type": "markdown",
     "source": [
      "In this exercise you'll use masked arrays to find a hidden word by\n",
      "combining a series of images. Here's two of them (`im1-a.png`):\n",
      "\n",
      "<center>\n",
      "<img src=\"files/hw_1_data/im1-a.png\" width=20%/> &nbsp; <img src=\"files/hw_1_data/im1-b.png\" width=20%/>\n",
      "</center>"
     ]
    },
    {
     "cell_type": "markdown",
     "source": [
      "The black dot and the hidden word are fixed with respect to each other\n",
      "but the light grey area hides a different part of the word in each\n",
      "image. You'll notice that the black dot has moved in each image.\n",
      "\n",
      "A tarball for this question and the next is at:\n",
      "\n",
      "https://www.dropbox.com/s/0clmmvwkoy000d4/homework1_data.tgz"
     ]
    },
    {
     "cell_type": "markdown",
     "source": [
      "1) Using `numpy` tools, find the location of the center of the black\n",
      "dot in all five images (`im1-a.png` through `im1-e.png`) and report\n",
      "those locations as a list of 5 tuples. Note: if you want to display\n",
      "the images you can do something like (in IPython):\n",
      "\n",
      "```python\n",
      "%pylab inline\n",
      "from scipy.ndimage import imread\n",
      "im=imread(\"im1.png\",flatten=True)\n",
      "imshow(im,cmap=cm.Greys)\n",
      "```"
     ]
    },
    {
     "cell_type": "code",
     "collapsed": false,
     "input": [
      "from scipy.ndimage import imread\n",
      "from scipy.misc import imsave\n",
      "import matplotlib.pyplot as plt\n",
      "import matplotlib.cm as cm\n",
      "%matplotlib inline"
     ],
     "language": "python",
     "outputs": [],
     "prompt_number": 1
    },
    {
     "cell_type": "code",
     "collapsed": false,
     "input": [
      "# load the images\n",
      "imgdir = \"hw_1_data\"\n",
      "imgs = [imread(os.path.join(imgdir, x), flatten=True)\n",
      "\tfor x in sorted(os.listdir(imgdir)) if x.startswith(\"im1-\")]"
     ],
     "language": "python",
     "outputs": [],
     "prompt_number": 2
    },
    {
     "cell_type": "code",
     "collapsed": false,
     "input": [
      "# find the center of the dots\n",
      "dots = [zip(*np.nonzero(im == im.min()))[0] for im in imgs]\n",
      "dots"
     ],
     "language": "python",
     "outputs": [
      {
       "output_type": "pyout",
       "prompt_number": 3,
       "text": [
        "[(71, 144), (71, 195), (66, 134), (76, 128), (76, 118)]"
       ]
      }
     ],
     "prompt_number": 3
    },
    {
     "cell_type": "markdown",
     "source": [
      "2) Using the location of the black dot in the first image, find the\n",
      "offset of the other images with respect to the first image. Using\n",
      "`scipy.ndimage.interpolation.shift` perform a shift on the other four\n",
      "images such that they are \"registered\" (aligned) with the first\n",
      "image. That is, make sure that the black dots are all in the same x,y\n",
      "location in the transformed images. Keep those images in `numpy`\n",
      "arrays (for the next part) but also save those images as `.png` files,\n",
      "appropriately named (`im1-b-shift.png`, `im1-c-shift.png`,\n",
      "etc.). Note: you'll need to think a bit about how you treat the edges\n",
      "in the `shift` operation."
     ]
    },
    {
     "cell_type": "code",
     "collapsed": false,
     "input": [
      "# compute offsets from the first image, using the dot positions\n",
      "offsets = np.array(dots[0]) - np.array(dots)\n",
      "offsets"
     ],
     "language": "python",
     "outputs": [
      {
       "output_type": "pyout",
       "prompt_number": 4,
       "text": [
        "array([[  0,   0],\n",
        "       [  0, -51],\n",
        "       [  5,  10],\n",
        "       [ -5,  16],\n",
        "       [ -5,  26]])"
       ]
      }
     ],
     "prompt_number": 4
    },
    {
     "cell_type": "code",
     "collapsed": false,
     "input": [
      "# shift the images\n",
      "imshift = scipy.ndimage.interpolation.shift\n",
      "shifted = np.array([\n",
      "    imshift(im, offset, mode='wrap') for im, offset in zip(imgs, offsets)])"
     ],
     "language": "python",
     "outputs": [],
     "prompt_number": 5
    },
    {
     "cell_type": "code",
     "collapsed": false,
     "input": [
      "# save the shifted images\n",
      "for letter, im in zip(list(\"abcde\"), shifted):\n",
      "    pth = \"hw_1_results/im1-%s-shift.png\" % letter\n",
      "    print pth\n",
      "    imsave(pth, im)"
     ],
     "language": "python",
     "outputs": [
      {
       "output_type": "stream",
       "stream": "stdout",
       "text": [
        "hw_1_results/im1-a-shift.png\n",
        "hw_1_results/im1-b-shift.png\n",
        "hw_1_results/im1-c-shift.png\n",
        "hw_1_results/im1-d-shift.png\n",
        "hw_1_results/im1-e-shift.png\n"
       ]
      }
     ],
     "prompt_number": 6
    },
    {
     "cell_type": "markdown",
     "source": [
      "3) Mask out the registered images by finding an appropriate `mask` for\n",
      "the grey-level regions making 5 new masked arrays like:\n",
      "```python\n",
      "new_masked_a = ma.masked_array(ima,mask=mask)\n",
      "```\n",
      "Combine the masked arrays using `np.ma.median` to reveal the hidden\n",
      "message."
     ]
    },
    {
     "cell_type": "code",
     "collapsed": false,
     "input": [
      "# overlay the shifted images to find the message\n",
      "masked = np.ma.masked_array(shifted, mask=(shifted <= 183))\n",
      "message = np.ma.median(masked, axis=0)\n",
      "plt.imshow(message, cmap='gray')"
     ],
     "language": "python",
     "outputs": [
      {
       "output_type": "pyout",
       "prompt_number": 7,
       "text": [
        "<matplotlib.image.AxesImage at 0x10e26bbd0>"
       ]
      },
      {
       "output_type": "display_data",
       "png": "[encoded data removed]",
       "text": [
        "<matplotlib.figure.Figure at 0x10e114e10>"
       ]
      }
     ],
     "prompt_number": 7
    },
    {
     "cell_type": "code",
     "collapsed": false,
     "input": [
      "#(c) Python Seminar UC Berkeley 2013\n",
      "__author__ = \"Josh Bloom\"\n",
      "__email__ = \"joshbloom@berkeley.edu\""
     ],
     "language": "python",
     "outputs": [],
     "prompt_number": 8
    }
   ]
  }
 ]
}