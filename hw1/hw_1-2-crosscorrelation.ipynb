{
 "metadata": {
  "name": ""
 },
 "nbformat": 3,
 "nbformat_minor": 0,
 "worksheets": [
  {
   "cells": [
    {
     "cell_type": "markdown",
     "source": [
      "## Due Wednesday Sept 11, 2013 @ 5pm ##\n",
      "\n",
      "Send us an email `ucbpythonclass+seminar@gmail.com` (with a tarball of\n",
      "notebook/code/files)\n",
      "\n",
      "## Super-resolution imaging ##\n",
      "\n",
      "Obtaining several snapshots of the same scene, from microscopes to\n",
      "telescopes, is useful for the postprocessing increase of signal to\n",
      "noise: by summing up imaging data we can effectively beat down the\n",
      "noise. Interestingly, if we image the same scene from different vistas\n",
      "we can also improve the clarity of the combined image. Being able to\n",
      "discern features in a scene from this combination effort is sometimes\n",
      "called super-resolution imaging.\n",
      "\n",
      "Here, we'll combine about 4 seconds of a shaky video to reveal the\n",
      "statement on a license plate that is not discernable in any one frame.\n",
      "\n",
      "<img src=\"files/hw_1_data/im2-1.png\">"
     ]
    },
    {
     "cell_type": "markdown",
     "source": [
      "A tarball of the data is at:\n",
      "https://www.dropbox.com/s/0clmmvwkoy000d4/homework1_data.tgz\n",
      "\n",
      "1) Resize each frame to be 3 times larger in each axis (ie. 9 times\n",
      "larger images). Using `scipy.signal.correlate2d` find the offsets of\n",
      "each frame with respect to the first frame. Report those offsets to 2\n",
      "decimal places."
     ]
    },
    {
     "cell_type": "code",
     "collapsed": false,
     "input": [
      "from scipy.ndimage import imread\n",
      "from scipy.ndimage.interpolation import zoom\n",
      "import matplotlib.pyplot as plt\n",
      "from scipy.signal import fftconvolve\n",
      "%matplotlib inline"
     ],
     "language": "python",
     "outputs": [],
     "prompt_number": 1
    },
    {
     "cell_type": "code",
     "collapsed": false,
     "input": [
      "img_dir = \"hw_1_data\"\n",
      "img_names = [x for x in sorted(os.listdir(img_dir)) if x.startswith(\"im2-\")]\n",
      "img_pths = [os.path.join(img_dir, x) for x in img_names]"
     ],
     "language": "python",
     "outputs": [],
     "prompt_number": 2
    },
    {
     "cell_type": "code",
     "collapsed": false,
     "input": [
      "# allocate arrays for resized and thresholded images\n",
      "zoomed = np.empty((len(img_pths), 864, 864))\n",
      "thresh = np.empty((len(img_pths), 864, 864))\n",
      "\n",
      "for i, (img_name, img_pth) in enumerate(zip(img_names, img_pths)):\n",
      "    # load and resize the image\n",
      "    zoomed[i] = zoom(imread(img_pth, flatten=True), 3)\n",
      "    # threshold it so the darker 50% of the image is black. If we\n",
      "    # don't do this the correlation will just be highest at the center\n",
      "    # of the image, which isn't very useful.\n",
      "    t = zoomed[i].copy()\n",
      "    t[:150] = 0\n",
      "    t[715:] = 0\n",
      "    t[t <= np.percentile(t[150:715].ravel(), 50)] = 0\n",
      "    thresh[i] = t"
     ],
     "language": "python",
     "outputs": [],
     "prompt_number": 3
    },
    {
     "cell_type": "code",
     "collapsed": false,
     "input": [
      "def calcshift(shifted, original):\n",
      "    \"\"\"Compute the offset between two images\"\"\"\n",
      "    # using fftconvolve rather than correlate2d, because it is faster\n",
      "    corr = fftconvolve(original[::-1, ::-1], shifted, mode='full')\n",
      "    # find the index of the highest correlation\n",
      "    idx = np.unravel_index(np.abs(corr.argmax()), corr.shape)\n",
      "    # compute the offset\n",
      "    origin = np.array(corr.shape) / 2\n",
      "    offset = idx - origin\n",
      "    return offset"
     ],
     "language": "python",
     "outputs": [],
     "prompt_number": 4
    },
    {
     "cell_type": "code",
     "collapsed": false,
     "input": [
      "# compute offsets using the thresholded images\n",
      "offsets = -np.array([calcshift(im, thresh[0]) for im in thresh], dtype='f8')\n",
      "np.set_printoptions(formatter={'float': lambda x: \"% 7.2f\" % x})\n",
      "print offsets"
     ],
     "language": "python",
     "outputs": [
      {
       "output_type": "stream",
       "stream": "stdout",
       "text": [
        "[[  -0.00   -0.00]\n",
        " [   8.00  -39.00]\n",
        " [ 104.00   -8.00]\n",
        " [  57.00 -166.00]\n",
        " [  63.00  -23.00]\n",
        " [  25.00 -104.00]\n",
        " [  56.00   -8.00]\n",
        " [ 177.00  -19.00]\n",
        " [ 114.00   33.00]\n",
        " [  56.00  -73.00]\n",
        " [ 107.00  -96.00]\n",
        " [  41.00  -23.00]\n",
        " [ 122.00   -7.00]\n",
        " [ -48.00  -81.00]\n",
        " [  79.00 -109.00]\n",
        " [  48.00  -97.00]\n",
        " [  16.00 -107.00]\n",
        " [ 113.00  -63.00]\n",
        " [ 121.00  -62.00]\n",
        " [  -0.00 -167.00]\n",
        " [  46.00   49.00]\n",
        " [  52.00   57.00]\n",
        " [ 138.00   -0.00]\n",
        " [ 178.00   33.00]\n",
        " [  81.00 -127.00]\n",
        " [ 114.00   88.00]\n",
        " [  82.00   17.00]\n",
        " [ 169.00  -57.00]\n",
        " [  -1.00 -112.00]\n",
        " [ 105.00   -0.00]\n",
        " [ 158.00   64.00]\n",
        " [  99.00   50.00]\n",
        " [  56.00  -44.00]\n",
        " [  45.00  136.00]\n",
        " [  -0.00    2.00]\n",
        " [  81.00   -8.00]\n",
        " [ 113.00   -2.00]\n",
        " [  92.00   13.00]\n",
        " [  80.00  -24.00]\n",
        " [  62.00   10.00]\n",
        " [   8.00 -148.00]\n",
        " [  50.00  -90.00]\n",
        " [  81.00  -99.00]\n",
        " [ 137.00   29.00]\n",
        " [ 138.00   -5.00]\n",
        " [   7.00   33.00]\n",
        " [ 130.00    8.00]\n",
        " [  57.00  -58.00]\n",
        " [  67.00 -142.00]\n",
        " [  -0.00  -31.00]\n",
        " [  88.00 -137.00]\n",
        " [  65.00  -36.00]\n",
        " [ -13.00   21.00]\n",
        " [  -0.00  -64.00]\n",
        " [  23.00  -24.00]\n",
        " [ 113.00 -104.00]\n",
        " [ 134.00   72.00]\n",
        " [  24.00  -71.00]\n",
        " [ 195.00  -21.00]\n",
        " [ -49.00  -44.00]\n",
        " [  29.00  -88.00]\n",
        " [  48.00 -122.00]\n",
        " [  16.00   -7.00]\n",
        " [  -8.00 -145.00]\n",
        " [ 106.00   36.00]\n",
        " [ 106.00  -57.00]\n",
        " [  64.00  -56.00]\n",
        " [  -0.00 -121.00]\n",
        " [  56.00   -1.00]\n",
        " [  16.00   -3.00]\n",
        " [  79.00  -10.00]\n",
        " [  29.00 -109.00]\n",
        " [  -8.00  -57.00]\n",
        " [  69.00    8.00]\n",
        " [ -24.00  -11.00]\n",
        " [  73.00  -65.00]\n",
        " [  58.00  -72.00]\n",
        " [ 127.00  -40.00]\n",
        " [  65.00  -35.00]\n",
        " [  57.00  -95.00]\n",
        " [  95.00  -30.00]\n",
        " [ 144.00   39.00]\n",
        " [  54.00  -74.00]\n",
        " [ -56.00   -0.00]\n",
        " [ 108.00    9.00]\n",
        " [ 216.00  -43.00]\n",
        " [ 188.00  -15.00]\n",
        " [  66.00   90.00]\n",
        " [  15.00  -55.00]\n",
        " [  -0.00  -80.00]\n",
        " [ 186.00   91.00]\n",
        " [  89.00   11.00]\n",
        " [ 113.00   56.00]\n",
        " [  80.00 -154.00]\n",
        " [ 120.00   48.00]\n",
        " [   1.00  -56.00]\n",
        " [ 105.00  -17.00]\n",
        " [  16.00   17.00]\n",
        " [ 145.00   46.00]\n",
        " [  93.00   -5.00]]\n"
       ]
      }
     ],
     "prompt_number": 5
    },
    {
     "cell_type": "markdown",
     "source": [
      "2) shift each image to register the frames to the original (expanded\n",
      "in size) frame. You should, in general, be shifting by subpixel\n",
      "offsets."
     ]
    },
    {
     "cell_type": "code",
     "collapsed": false,
     "input": [
      "# shift the original (unthresholded but zoomed) images\n",
      "imshift = scipy.ndimage.interpolation.shift\n",
      "shifted = np.array([\n",
      "    imshift(im, offset) for im, offset in zip(zoomed, offsets)])"
     ],
     "language": "python",
     "outputs": [],
     "prompt_number": 6
    },
    {
     "cell_type": "markdown",
     "source": [
      "3) Combine all the registered images to form a super-resolution\n",
      "image. What does the license plate read?"
     ]
    },
    {
     "cell_type": "code",
     "collapsed": false,
     "input": [
      "# find the super-resolution image which shows the license plate\n",
      "sr_img = np.mean(shifted, axis=0)\n",
      "plt.imshow(sr_img, cmap='gray')"
     ],
     "language": "python",
     "outputs": [
      {
       "output_type": "pyout",
       "prompt_number": 7,
       "text": [
        "<matplotlib.image.AxesImage at 0x14e26cc90>"
       ]
      },
      {
       "output_type": "display_data",
       "png": "[encoded data removed]",
       "text": [
        "<matplotlib.figure.Figure at 0x106f0fc90>"
       ]
      }
     ],
     "prompt_number": 7
    },
    {
     "cell_type": "markdown",
     "source": [
      "The license plate reads \"IM A CAR\"."
     ]
    },
    {
     "cell_type": "code",
     "collapsed": false,
     "input": [
      "#(c) Python Seminar UC Berkeley 2013\n",
      "__author__ = \"Josh Bloom\"\n",
      "__email__ = \"joshbloom@berkeley.edu\""
     ],
     "language": "python",
     "outputs": [],
     "prompt_number": 8
    }
   ]
  }
 ]
}