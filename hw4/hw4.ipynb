{
 "metadata": {
  "name": ""
 },
 "nbformat": 3,
 "nbformat_minor": 0,
 "worksheets": [
  {
   "cells": [
    {
     "cell_type": "code",
     "collapsed": false,
     "input": [
      "import IPython.core\n",
      "import numpy as np\n",
      "import skimage.exposure\n",
      "import skimage.feature\n",
      "import skimage.filter\n",
      "import skimage.io\n",
      "\n",
      "from glob import glob\n",
      "from sklearn import preprocessing\n",
      "from sklearn.ensemble import RandomForestClassifier\n",
      "from sklearn.metrics import confusion_matrix"
     ],
     "language": "python",
     "outputs": []
    },
    {
     "cell_type": "code",
     "collapsed": false,
     "input": [
      "%matplotlib inline"
     ],
     "language": "python",
     "outputs": []
    },
    {
     "cell_type": "code",
     "collapsed": false,
     "input": [
      "def load_image(img_path):\n",
      "    img = skimage.io.imread(img_path).astype('f8')\n",
      "    img = skimage.exposure.equalize_hist(img)\n",
      "    img = skimage.filter.denoise_bilateral(img, 3, 0.1)\n",
      "\n",
      "    shape = img.shape[:2]\n",
      "    scale = 400. / max(shape)\n",
      "    img = skimage.transform.rescale(img, scale)\n",
      "\n",
      "    idx = np.argmin(shape)\n",
      "    bufshape = list(img.shape)\n",
      "    bufshape[idx] = 400 - min(shape)\n",
      "    buffer = np.ones(bufshape)\n",
      "    b0, b1 = np.array_split(buffer, 2, axis=idx)\n",
      "    img = np.concatenate([b0, img, b1], axis=idx)\n",
      "\n",
      "    return img"
     ],
     "language": "python",
     "outputs": []
    },
    {
     "cell_type": "code",
     "collapsed": false,
     "input": [
      "def extract_features(img):\n",
      "    RGB = img.reshape((-1, 3)).T\n",
      "\n",
      "    # mean of each channel\n",
      "    mean = np.mean(RGB, axis=1)\n",
      "    # covariance between channels\n",
      "    cov = np.cov(RGB).ravel()\n",
      "    # histogram of oriented gradients\n",
      "    hog = skimage.feature.hog(img.mean(axis=-1))\n",
      "    \n",
      "    # concatenate all the features together\n",
      "    feature_vec = np.concatenate([mean, cov, hog])\n",
      "\n",
      "    return feature_vec    "
     ],
     "language": "python",
     "outputs": []
    },
    {
     "cell_type": "code",
     "collapsed": false,
     "input": [
      "images = glob(\"./50_categories/*/*.jpg\")"
     ],
     "language": "python",
     "outputs": []
    },
    {
     "cell_type": "code",
     "collapsed": false,
     "input": [
      "features = []\n",
      "\n",
      "for i, image_path in enumerate(images):\n",
      "    print \"[%d / %d] %s\" % (i, len(images), image_path)\n",
      "    sys.stdout.flush()\n",
      "\n",
      "    img = load_image(image_path)\n",
      "    img_features = extract_features(img)\n",
      "    features.append(img_features)\n",
      "\n",
      "    IPython.core.display.clear_output()"
     ],
     "language": "python",
     "outputs": []
    },
    {
     "cell_type": "code",
     "collapsed": false,
     "input": [
      "features = np.array(features)\n",
      "features"
     ],
     "language": "python",
     "outputs": []
    },
    {
     "cell_type": "code",
     "collapsed": false,
     "input": [
      "get_category = lambda x: os.path.split(os.path.split(x)[0])[1]\n",
      "categories = map(get_category, images)\n",
      "category_map = sorted(set(categories))\n",
      "categories = np.array(map(category_map.index, categories))"
     ],
     "language": "python",
     "outputs": []
    },
    {
     "cell_type": "code",
     "collapsed": false,
     "input": [
      "dataset = np.hstack([features, categories[:, None]])\n",
      "np.save(\"image_dataset.npy\", dataset)"
     ],
     "language": "python",
     "outputs": []
    },
    {
     "cell_type": "code",
     "collapsed": false,
     "input": [
      "dataset = np.load(\"image_dataset.npy\")\n",
      "np.random.shuffle(dataset)"
     ],
     "language": "python",
     "outputs": []
    },
    {
     "cell_type": "code",
     "collapsed": false,
     "input": [
      "ntrain = int(len(dataset) * 0.9)\n",
      "\n",
      "X = preprocessing.scale(dataset[:, :-1])\n",
      "X_train = X[:ntrain]\n",
      "X_test = X[ntrain:]\n",
      "\n",
      "Y = dataset[:, -1]\n",
      "Y_train = Y[:ntrain]\n",
      "Y_test = Y[ntrain:]\n",
      "\n",
      "clf = RandomForestClassifier()\n",
      "clf.fit(X_train, Y_train)"
     ],
     "language": "python",
     "outputs": []
    },
    {
     "cell_type": "code",
     "collapsed": false,
     "input": [
      "Y_pred = clf.predict(X_test)\n",
      "confmat = confusion_matrix(Y_test, Y_pred)\n",
      "plt.matshow(confmat)"
     ],
     "language": "python",
     "outputs": []
    }
   ]
  }
 ]
}