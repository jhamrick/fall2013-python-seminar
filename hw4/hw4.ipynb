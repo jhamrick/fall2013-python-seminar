{
 "metadata": {
  "name": ""
 },
 "nbformat": 3,
 "nbformat_minor": 0,
 "worksheets": [
  {
   "cells": [
    {
     "cell_type": "code",
     "collapsed": false,
     "input": [
      "import numpy as np\n",
      "from sklearn import preprocessing\n",
      "from sklearn.ensemble import RandomForestClassifier\n",
      "from sklearn.metrics import confusion_matrix"
     ],
     "language": "python",
     "outputs": []
    },
    {
     "cell_type": "code",
     "collapsed": false,
     "input": [
      "%matplotlib inline"
     ],
     "language": "python",
     "outputs": []
    },
    {
     "cell_type": "code",
     "collapsed": false,
     "input": [
      "# load the dataset\n",
      "dataset = np.load(\"image_dataset.npy\", mmap_mode='c')\n",
      "categories = np.load(\"image_categories.npy\")"
     ],
     "language": "python",
     "outputs": []
    },
    {
     "cell_type": "code",
     "collapsed": false,
     "input": [
      "np.random.shuffle(dataset)"
     ],
     "language": "python",
     "outputs": []
    },
    {
     "cell_type": "code",
     "collapsed": false,
     "input": [
      "# split the dataset into input/output and testing/training\n",
      "ntrain = int(len(dataset) * 0.9)\n",
      "\n",
      "X = preprocessing.scale(dataset[:, :-1])\n",
      "X_train = X[:ntrain]\n",
      "X_test = X[ntrain:]\n",
      "\n",
      "Y = dataset[:, -1]\n",
      "Y_train = Y[:ntrain]\n",
      "Y_test = Y[ntrain:]"
     ],
     "language": "python",
     "outputs": []
    },
    {
     "cell_type": "code",
     "collapsed": false,
     "input": [
      "# train a random forest classifier on the data\n",
      "clf = RandomForestClassifier()\n",
      "clf.fit(X_train, Y_train)"
     ],
     "language": "python",
     "outputs": []
    },
    {
     "cell_type": "code",
     "collapsed": false,
     "input": [
      "# compute predictions and accuracy\n",
      "Y_pred = clf.predict(X_test)\n",
      "confmat = confusion_matrix(Y_test, Y_pred)"
     ],
     "language": "python",
     "outputs": []
    },
    {
     "cell_type": "code",
     "collapsed": false,
     "input": [
      "# plot the confusion matrix to visualize the accuracy\n",
      "fig, ax = plt.subplots()\n",
      "ax.matshow(confmat, cmap='gray')\n",
      "\n",
      "ax.set_xticks(xrange(len(categories)))\n",
      "ax.set_xticklabels(categories, rotation=90, fontsize=9)\n",
      "ax.set_yticks(xrange(len(categories)))\n",
      "ax.set_yticklabels(categories, rotation=0, fontsize=9)\n",
      "\n",
      "fig.set_figwidth(8)\n",
      "fig.set_figheight(8)"
     ],
     "language": "python",
     "outputs": []
    }
   ]
  }
 ]
}