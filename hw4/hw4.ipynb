{
 "metadata": {
  "name": ""
 },
 "nbformat": 3,
 "nbformat_minor": 0,
 "worksheets": [
  {
   "cells": [
    {
     "cell_type": "code",
     "collapsed": false,
     "input": [
      "import IPython.core\n",
      "import numpy as np\n",
      "import skimage.exposure\n",
      "import skimage.feature\n",
      "import skimage.filter\n",
      "import skimage.io\n",
      "import logging\n",
      "\n",
      "from glob import glob\n",
      "from sklearn import preprocessing\n",
      "from sklearn.ensemble import RandomForestClassifier\n",
      "from sklearn.metrics import confusion_matrix"
     ],
     "language": "python",
     "outputs": []
    },
    {
     "cell_type": "code",
     "collapsed": false,
     "input": [
      "logging.basicConfig(level=logging.INFO)\n",
      "def loginfo(msg):\n",
      "    logging.info(msg)\n",
      "    sys.stdout.flush()"
     ],
     "language": "python",
     "outputs": []
    },
    {
     "cell_type": "code",
     "collapsed": false,
     "input": [
      "%matplotlib inline"
     ],
     "language": "python",
     "outputs": []
    },
    {
     "cell_type": "code",
     "collapsed": false,
     "input": [
      "def load_image(img_path, n=250):\n",
      "    loginfo(\"Loading image from file...\")\n",
      "    img = skimage.io.imread(img_path).astype('f8')\n",
      "    if img.ndim == 2:\n",
      "\timg = img[:, :, None] * np.ones(img.shape + (3,))\n",
      "\n",
      "    loginfo(\"Equalizing...\")\n",
      "    img = skimage.exposure.equalize_hist(img)\n",
      "    loginfo(\"Denoising...\")\n",
      "    img = skimage.filter.denoise_bilateral(img, 3, 0.1)\n",
      "    \n",
      "    loginfo(\"Scaling...\")\n",
      "    shape = img.shape[:2]\n",
      "    if shape == (n, n):\n",
      "\treturn img\n",
      "\n",
      "    scale = float(n) / max(shape)\n",
      "    img = skimage.transform.rescale(img, scale)\n",
      "    shape = img.shape[:2]\n",
      "    idx = np.argmin(shape)\n",
      "    bufshape = list(img.shape)\n",
      "    bufshape[idx] = n - min(shape)\n",
      "    buffer = np.ones(bufshape)\n",
      "    b0, b1 = np.array_split(buffer, 2, axis=idx)\n",
      "\n",
      "    parts = [b0, img]\n",
      "    if b1.size > 1:\n",
      "\tparts.append(b1)\n",
      "    img = np.concatenate(parts, axis=idx)\n",
      "\n",
      "    return img"
     ],
     "language": "python",
     "outputs": []
    },
    {
     "cell_type": "code",
     "collapsed": false,
     "input": [
      "def extract_features(img):\n",
      "    RGB = img.reshape((-1, 3)).T\n",
      "\n",
      "    # mean of each channel\n",
      "    loginfo(\"Computing channel statistics...\")\n",
      "    mean = np.mean(RGB, axis=1)\n",
      "    # covariance between channels\n",
      "    cov = np.cov(RGB).ravel()\n",
      "    # histogram of oriented gradients\n",
      "    loginfo(\"Computing HOG features...\")\n",
      "    hog = skimage.feature.hog(img.mean(axis=-1))\n",
      "    \n",
      "    # concatenate all the features together\n",
      "    feature_vec = np.concatenate([mean, cov, hog])\n",
      "    loginfo(\"%d features\" % feature_vec.size)\n",
      "\n",
      "    return feature_vec    "
     ],
     "language": "python",
     "outputs": []
    },
    {
     "cell_type": "code",
     "collapsed": false,
     "input": [
      "images = glob(\"./50_categories/*/*.jpg\")"
     ],
     "language": "python",
     "outputs": []
    },
    {
     "cell_type": "code",
     "collapsed": false,
     "input": [
      "features = None\n",
      "\n",
      "for i, image_path in enumerate(images):\n",
      "    print \"[%d / %d] %s\" % (i, len(images), image_path)\n",
      "    sys.stdout.flush()\n",
      "\n",
      "    img = load_image(image_path)\n",
      "    img_features = extract_features(img)\n",
      "    if i == 0:\n",
      "\tfeatures = np.empty((len(images), img_features.size))\n",
      "    features[i] = img_features\n",
      "\n",
      "    IPython.core.display.clear_output()"
     ],
     "language": "python",
     "outputs": []
    },
    {
     "cell_type": "code",
     "collapsed": false,
     "input": [
      "features = np.array(features)\n",
      "features"
     ],
     "language": "python",
     "outputs": []
    },
    {
     "cell_type": "code",
     "collapsed": false,
     "input": [
      "get_category = lambda x: os.path.split(os.path.split(x)[0])[1]\n",
      "categories = map(get_category, images)\n",
      "category_map = sorted(set(categories))\n",
      "categories = np.array(map(category_map.index, categories))"
     ],
     "language": "python",
     "outputs": []
    },
    {
     "cell_type": "code",
     "collapsed": false,
     "input": [
      "dataset = np.hstack([features, categories[:, None]])\n",
      "np.save(\"image_dataset.npy\", dataset)"
     ],
     "language": "python",
     "outputs": []
    },
    {
     "cell_type": "code",
     "collapsed": false,
     "input": [
      "dataset = np.load(\"image_dataset.npy\")\n",
      "np.random.shuffle(dataset)"
     ],
     "language": "python",
     "outputs": []
    },
    {
     "cell_type": "code",
     "collapsed": false,
     "input": [
      "ntrain = int(len(dataset) * 0.9)\n",
      "\n",
      "X = preprocessing.scale(dataset[:, :-1])\n",
      "X_train = X[:ntrain]\n",
      "X_test = X[ntrain:]\n",
      "\n",
      "Y = dataset[:, -1]\n",
      "Y_train = Y[:ntrain]\n",
      "Y_test = Y[ntrain:]\n",
      "\n",
      "clf = RandomForestClassifier()\n",
      "clf.fit(X_train, Y_train)"
     ],
     "language": "python",
     "outputs": []
    },
    {
     "cell_type": "code",
     "collapsed": false,
     "input": [
      "Y_pred = clf.predict(X_test)\n",
      "confmat = confusion_matrix(Y_test, Y_pred)"
     ],
     "language": "python",
     "outputs": []
    },
    {
     "cell_type": "code",
     "collapsed": false,
     "input": [
      "fig, ax = plt.subplots()\n",
      "ax.matshow(confmat, cmap='gray')\n",
      "\n",
      "ax.set_xticks(xrange(len(category_map)))\n",
      "ax.set_xticklabels(category_map, rotation=90, fontsize=9)\n",
      "ax.set_yticks(xrange(len(category_map)))\n",
      "ax.set_yticklabels(category_map, rotation=0, fontsize=9)\n",
      "\n",
      "fig.set_figwidth(8)\n",
      "fig.set_figheight(8)"
     ],
     "language": "python",
     "outputs": []
    }
   ]
  }
 ]
}