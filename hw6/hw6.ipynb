{
 "metadata": {
  "name": ""
 },
 "nbformat": 3,
 "nbformat_minor": 0,
 "worksheets": [
  {
   "cells": [
    {
     "cell_type": "code",
     "collapsed": false,
     "input": [
      "import pandas as pd\n",
      "import sqlite3\n",
      "import urllib\n",
      "import sys\n",
      "from itertools import product"
     ],
     "language": "python",
     "outputs": []
    },
    {
     "cell_type": "code",
     "collapsed": false,
     "input": [
      "top_airports = pd.DataFrame.from_csv(\"hw_6_data/top_airports.csv\").reset_index()\n",
      "icao = pd.DataFrame.from_csv(\"hw_6_data/ICAO_airports.csv\").reset_index()"
     ],
     "language": "python",
     "outputs": []
    },
    {
     "cell_type": "code",
     "collapsed": false,
     "input": [
      "connection = sqlite3.connect(\":memory:\")\n",
      "cursor = connection.cursor()"
     ],
     "language": "python",
     "outputs": []
    },
    {
     "cell_type": "code",
     "collapsed": false,
     "input": [
      "sql_cmd = \"\"\"CREATE TABLE top_airports (id INTEGER PRIMARY KEY\n",
      "AUTOINCREMENT, city TEXT, faa TEXT, iata TEXT, icao TEXT, airport\n",
      "TEXT, role TEXT, enplanements INTEGER)\"\"\" \n",
      "cursor.execute(sql_cmd)\n",
      "\n",
      "cols = map(str, top_airports.columns)\n",
      "for aid, data in top_airports.iterrows():\n",
      "    sql_cmd = \"INSERT INTO top_airports (%s) VALUES %s\" % (\n",
      "\t\", \".join(cols), str(tuple(data)))\n",
      "    cursor.execute(sql_cmd)"
     ],
     "language": "python",
     "outputs": []
    },
    {
     "cell_type": "code",
     "collapsed": false,
     "input": [
      "sql_cmd = \"\"\"CREATE TABLE icao (id INTEGER PRIMARY KEY, ident TEXT,\n",
      "type TEXT, name TEXT, latitude_deg FLOAT, longitude_deg FLOAT,\n",
      "elevation_ft INTEGER, continent TEXT, iso_country TEXT, iso_region\n",
      "TEXT, municipality TEXT, scheduled_service TEXT, gps_code TEXT,\n",
      "iata_code TEXT, local_code TEXT, home_link TEXT, wikipedia_link TEXT,\n",
      "keywords TEXT)\"\"\" \n",
      "cursor.execute(sql_cmd)\n",
      "\n",
      "for aid, data in icao.iterrows():\n",
      "    cols = map(str, icao.columns)\n",
      "    cols, data = zip(*filter(\n",
      "\tlambda x: not (isinstance(x[1], float) and np.isnan(x[1])), \n",
      "\tzip(cols, data)))\n",
      "    sql_cmd = \"INSERT INTO icao (%s) VALUES %s\" % (\n",
      "\t\", \".join(cols), str(data))\n",
      "    cursor.execute(sql_cmd)"
     ],
     "language": "python",
     "outputs": []
    },
    {
     "cell_type": "code",
     "collapsed": false,
     "input": [
      "# Create a table of the 50 most travelled airports in the US\n",
      "# containing relevant information such as name, city, ICAO airport\n",
      "# code, latitude, and longitude.\n",
      "\n",
      "sql_cmd = \"\"\"SELECT top_airports.icao, icao.name, top_airports.city,\n",
      "icao.latitude_deg, icao.longitude_deg FROM top_airports LEFT JOIN icao\n",
      "ON top_airports.icao == icao.ident\"\"\" \n",
      "cursor.execute(sql_cmd) \n",
      "rows = cursor.fetchall()"
     ],
     "language": "python",
     "outputs": []
    },
    {
     "cell_type": "code",
     "collapsed": false,
     "input": [
      "connection.close()\n",
      "connection = sqlite3.connect(\"airports.db\")\n",
      "cursor = connection.cursor()"
     ],
     "language": "python",
     "outputs": []
    },
    {
     "cell_type": "code",
     "collapsed": false,
     "input": [
      "try:\n",
      "    cursor.execute(\"DROP TABLE airports\")\n",
      "except:\n",
      "    pass\n",
      "\n",
      "sql_cmd = \"\"\"CREATE TABLE airports (icao TEXT PRIMARY KEY, name TEXT,\n",
      "city TEXT, latitude FLOAT, longitude FLOAT)\"\"\"\n",
      "cursor.execute(sql_cmd)\n",
      "\n",
      "sql_cmd = \"\"\"INSERT INTO airports (icao, name, city, latitude,\n",
      "longitude) VALUES %s\"\"\"\n",
      "for row in rows:\n",
      "    cursor.execute(sql_cmd % str(tuple(map(str, row))))\n",
      "\n",
      "connection.commit()"
     ],
     "language": "python",
     "outputs": []
    },
    {
     "cell_type": "code",
     "collapsed": false,
     "input": [
      "def download(code, year, month):\n",
      "    if not os.path.exists(\"weather_data\"):\n",
      "\tos.makedirs(\"weather_data\")\n",
      "\n",
      "    filename = \"weather_data/%s-%s-%s.csv\" % (code, year, month)\n",
      "    if os.path.exists(filename):\n",
      "\treturn filename\n",
      "\t\n",
      "    url_fmt = \"http://www.wunderground.com/history/airport/KSFO/%d/%d/1/MonthlyHistory.html?format=1\"\n",
      "    url = url_fmt % (year, month)\n",
      "    raw_data = urllib.urlopen(url).read()\n",
      "\n",
      "    with open(filename, \"w\") as fh:\n",
      "\tfh.write(raw_data.strip().replace(\"<br />\", \"\"))\n",
      "\n",
      "    return filename"
     ],
     "language": "python",
     "outputs": []
    },
    {
     "cell_type": "code",
     "collapsed": false,
     "input": [
      "def load(code, year, month):\n",
      "    filename = download(code, year, month)\n",
      "    data = pd.DataFrame.from_csv(filename, parse_dates=False).reset_index()\n",
      "\n",
      "    data.columns = [x.strip() for x in data.columns]\n",
      "    data['ICAO'] = code\n",
      "    cols = [\n",
      "\t'ICAO', \n",
      "\t'PST' if 'PST' in data else 'PDT', \n",
      "\t'Min TemperatureF', \n",
      "\t'Max TemperatureF', \n",
      "\t'Min Humidity', \n",
      "\t'Max Humidity', \n",
      "\t'PrecipitationIn', \n",
      "\t'CloudCover'\n",
      "    ]\n",
      "\n",
      "    return data[cols]"
     ],
     "language": "python",
     "outputs": []
    },
    {
     "cell_type": "code",
     "collapsed": false,
     "input": [
      "try:\n",
      "    cursor.execute(\"DROP TABLE weather\")\n",
      "except:\n",
      "    pass\n",
      "\n",
      "sql_cmd = \"\"\"CREATE TABLE weather (id INTEGER PRIMARY KEY\n",
      "AUTOINCREMENT, icao TEXT, date TEXT, min_temp INTEGER, max_temp\n",
      "INTEGER, min_humidity INTEGER, max_humidity INTEGER, precipitation\n",
      "FLOAT, cloud_cover INTEGER)\"\"\"\n",
      "\n",
      "cursor.execute(sql_cmd)\n",
      "connection.commit()"
     ],
     "language": "python",
     "outputs": []
    },
    {
     "cell_type": "code",
     "collapsed": false,
     "input": [
      "cursor.execute(\"SELECT icao FROM airports\")\n",
      "codes = [x[0] for x in cursor.fetchall()]"
     ],
     "language": "python",
     "outputs": []
    },
    {
     "cell_type": "code",
     "collapsed": false,
     "input": [
      "sql_cmd = \"\"\"INSERT INTO weather (icao, date, min_temp, max_temp,\n",
      "min_humidity, max_humidity, precipitation, cloud_cover) VALUES %s\"\"\"\n",
      "\n",
      "strline = \"\"\n",
      "num = len(codes) * len(xrange(2008, 2014)) * len(xrange(1, 13))\n",
      "it = product(codes, xrange(2008, 2014), xrange(1, 13))\n",
      "\n",
      "for i, (code, year, month) in enumerate(it):\n",
      "    sys.stdout.write(\" \"*len(strline) + \"\\r\")\n",
      "    strline = \"[%d/%d] %s %s-%s\" % (i+1, num, code, year, month)\n",
      "    sys.stdout.write(\"%s\\r\" % strline)\n",
      "    sys.stdout.flush()\n",
      "\n",
      "    if year == 2013 and month >= 10:\n",
      "\tcontinue\n",
      "\n",
      "    data = load(code, year, month)\n",
      "    for idx, row in data.iterrows():\n",
      "\tcursor.execute(sql_cmd % str(tuple(map(str, row))))\n",
      "\n",
      "    connection.commit()"
     ],
     "language": "python",
     "outputs": []
    }
   ]
  }
 ]
}