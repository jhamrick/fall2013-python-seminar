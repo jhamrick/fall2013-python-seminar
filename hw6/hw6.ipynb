{
 "metadata": {
  "name": ""
 },
 "nbformat": 3,
 "nbformat_minor": 0,
 "worksheets": [
  {
   "cells": [
    {
     "cell_type": "code",
     "collapsed": false,
     "input": [
      "import pandas as pd\n",
      "import sqlite3"
     ],
     "language": "python",
     "outputs": [],
     "prompt_number": 1
    },
    {
     "cell_type": "code",
     "collapsed": false,
     "input": [
      "top_airports = pd.DataFrame.from_csv(\"hw_6_data/top_airports.csv\").reset_index()\n",
      "icao = pd.DataFrame.from_csv(\"hw_6_data/ICAO_airports.csv\").reset_index()"
     ],
     "language": "python",
     "outputs": [],
     "prompt_number": 2
    },
    {
     "cell_type": "code",
     "collapsed": false,
     "input": [
      "connection = sqlite3.connect(\"airports.db\")\n",
      "cursor = connection.cursor()"
     ],
     "language": "python",
     "outputs": [],
     "prompt_number": 3
    },
    {
     "cell_type": "code",
     "collapsed": false,
     "input": [
      "try:\n",
      "    cursor.execute(\"DROP TABLE top_airports\")\n",
      "except:\n",
      "    pass\n",
      "\n",
      "sql_cmd = \"\"\"CREATE TABLE top_airports (id INTEGER PRIMARY KEY\n",
      "AUTOINCREMENT, city TEXT, faa TEXT, iata TEXT, icao TEXT, airport\n",
      "TEXT, role TEXT, enplanements INTEGER)\"\"\" \n",
      "cursor.execute(sql_cmd)\n",
      "\n",
      "cols = map(str, top_airports.columns)\n",
      "for aid, data in top_airports.iterrows():\n",
      "    sql_cmd = \"INSERT INTO top_airports (%s) VALUES %s\" % (\n",
      "\t\", \".join(cols), str(tuple(data)))\n",
      "    cursor.execute(sql_cmd)\n",
      "\n",
      "connection.commit()"
     ],
     "language": "python",
     "outputs": [],
     "prompt_number": 4
    },
    {
     "cell_type": "code",
     "collapsed": false,
     "input": [
      "try:\n",
      "    cursor.execute(\"DROP TABLE icao\")\n",
      "except:\n",
      "    pass\n",
      "\n",
      "sql_cmd = \"\"\"CREATE TABLE icao (id INTEGER PRIMARY KEY, ident TEXT,\n",
      "type TEXT, name TEXT, latitude_deg FLOAT, longitude_deg FLOAT,\n",
      "elevation_ft INTEGER, continent TEXT, iso_country TEXT, iso_region\n",
      "TEXT, municipality TEXT, scheduled_service TEXT, gps_code TEXT,\n",
      "iata_code TEXT, local_code TEXT, home_link TEXT, wikipedia_link TEXT,\n",
      "keywords TEXT)\"\"\" \n",
      "cursor.execute(sql_cmd)\n",
      "\n",
      "for aid, data in icao.iterrows():\n",
      "    cols = map(str, icao.columns)\n",
      "    cols, data = zip(*filter(\n",
      "\tlambda x: not (isinstance(x[1], float) and np.isnan(x[1])), \n",
      "\tzip(cols, data)))\n",
      "    sql_cmd = \"INSERT INTO icao (%s) VALUES %s\" % (\n",
      "\t\", \".join(cols), str(data))\n",
      "    cursor.execute(sql_cmd)\n",
      "\n",
      "connection.commit()"
     ],
     "language": "python",
     "outputs": [],
     "prompt_number": 5
    }
   ]
  }
 ]
}