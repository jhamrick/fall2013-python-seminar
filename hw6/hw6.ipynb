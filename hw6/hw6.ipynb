{
 "metadata": {
  "name": ""
 },
 "nbformat": 3,
 "nbformat_minor": 0,
 "worksheets": [
  {
   "cells": [
    {
     "cell_type": "markdown",
     "source": [
      "# Homework 6: Databases\n",
      "\n",
      "Jessica Hamrick  \n",
      "jhamrick@berkeley.edu"
     ]
    },
    {
     "cell_type": "code",
     "collapsed": false,
     "input": [
      "import pandas as pd\n",
      "import sqlite3\n",
      "import sys\n",
      "from itertools import product\n",
      "import util"
     ],
     "language": "python",
     "outputs": []
    },
    {
     "cell_type": "markdown",
     "source": [
      "## Part 1\n",
      "\n",
      "Create a table of the 50 most travelled airports in the US containing\n",
      "relevant information such as name, city, ICAO airport code, latitude,\n",
      "and longitude.\n"
     ]
    },
    {
     "cell_type": "code",
     "collapsed": false,
     "input": [
      "# read in the provided csv files\n",
      "top_airports = pd.DataFrame.from_csv(\"hw_6_data/top_airports.csv\").reset_index()\n",
      "icao = pd.DataFrame.from_csv(\"hw_6_data/ICAO_airports.csv\").reset_index()"
     ],
     "language": "python",
     "outputs": []
    },
    {
     "cell_type": "code",
     "collapsed": false,
     "input": [
      "# create a SQL connection in memory\n",
      "connection = sqlite3.connect(\":memory:\")\n",
      "cursor = connection.cursor()"
     ],
     "language": "python",
     "outputs": []
    },
    {
     "cell_type": "code",
     "collapsed": false,
     "input": [
      "# create a table for top_airports.csv\n",
      "sql_cmd = \"\"\"CREATE TABLE top_airports (id INTEGER PRIMARY KEY\n",
      "AUTOINCREMENT, city TEXT, faa TEXT, iata TEXT, icao TEXT, airport\n",
      "TEXT, role TEXT, enplanements INTEGER)\"\"\" \n",
      "cursor.execute(sql_cmd)\n",
      "\n",
      "# populate it with the data from top_airports.csv\n",
      "cols = map(str, top_airports.columns)\n",
      "for aid, data in top_airports.iterrows():\n",
      "    sql_cmd = \"INSERT INTO top_airports (%s) VALUES %s\" % (\n",
      "\t\", \".join(cols), str(tuple(data)))\n",
      "    cursor.execute(sql_cmd)"
     ],
     "language": "python",
     "outputs": []
    },
    {
     "cell_type": "code",
     "collapsed": false,
     "input": [
      "# create a table for ICAO_aiports.csv\n",
      "sql_cmd = \"\"\"CREATE TABLE icao (id INTEGER PRIMARY KEY, ident TEXT,\n",
      "type TEXT, name TEXT, latitude_deg FLOAT, longitude_deg FLOAT,\n",
      "elevation_ft INTEGER, continent TEXT, iso_country TEXT, iso_region\n",
      "TEXT, municipality TEXT, scheduled_service TEXT, gps_code TEXT,\n",
      "iata_code TEXT, local_code TEXT, home_link TEXT, wikipedia_link TEXT,\n",
      "keywords TEXT)\"\"\" \n",
      "cursor.execute(sql_cmd)\n",
      "\n",
      "# populate it with the data from ICAO_aiports.csv\n",
      "for aid, data in icao.iterrows():\n",
      "    cols = map(str, icao.columns)\n",
      "    # filter out entries which are NaN\n",
      "    cols, data = zip(*filter(\n",
      "\tlambda x: not (isinstance(x[1], float) and np.isnan(x[1])), \n",
      "\tzip(cols, data)))\n",
      "    sql_cmd = \"INSERT INTO icao (%s) VALUES %s\" % (\n",
      "\t\", \".join(cols), str(data))\n",
      "    cursor.execute(sql_cmd)"
     ],
     "language": "python",
     "outputs": []
    },
    {
     "cell_type": "code",
     "collapsed": false,
     "input": [
      "# perform a database join on the two tables we just created to get the\n",
      "# data we want for our airports table\n",
      "sql_cmd = \"\"\"SELECT top_airports.icao, icao.name, top_airports.city,\n",
      "icao.latitude_deg, icao.longitude_deg FROM top_airports LEFT JOIN icao\n",
      "ON top_airports.icao == icao.ident\"\"\" \n",
      "cursor.execute(sql_cmd) \n",
      "\n",
      "# fetch the result and close the connection in memory, because we are\n",
      "# done with these two temporary tables\n",
      "rows = cursor.fetchall()\n",
      "connection.close()"
     ],
     "language": "python",
     "outputs": []
    },
    {
     "cell_type": "code",
     "collapsed": false,
     "input": [
      "# open a new connection to the real database\n",
      "connection = sqlite3.connect(\"airports.db\")\n",
      "cursor = connection.cursor()"
     ],
     "language": "python",
     "outputs": []
    },
    {
     "cell_type": "code",
     "collapsed": false,
     "input": [
      "# if the airports table already exists, the create will throw an\n",
      "# error, so try dropping it first\n",
      "try:\n",
      "    cursor.execute(\"DROP TABLE airports\")\n",
      "except:\n",
      "    pass"
     ],
     "language": "python",
     "outputs": []
    },
    {
     "cell_type": "code",
     "collapsed": false,
     "input": [
      "# create a table for the 50 airports, and populate it with data that\n",
      "# we got from the join we just performed\n",
      "\n",
      "sql_cmd = \"\"\"CREATE TABLE airports (icao TEXT PRIMARY KEY, name TEXT,\n",
      "city TEXT, latitude FLOAT, longitude FLOAT)\"\"\"\n",
      "cursor.execute(sql_cmd)\n",
      "\n",
      "sql_cmd = \"\"\"INSERT INTO airports (icao, name, city, latitude,\n",
      "longitude) VALUES %s\"\"\"\n",
      "for row in rows:\n",
      "    cursor.execute(sql_cmd % str(tuple(map(str, row))))\n",
      "\n",
      "connection.commit()"
     ],
     "language": "python",
     "outputs": []
    },
    {
     "cell_type": "markdown",
     "source": [
      "## Part 2\n",
      "\n",
      "Build another table that will hold historical weather information,\n",
      "such as min/max temperature, humidity, precipitation, and cloud cover.\n"
     ]
    },
    {
     "cell_type": "code",
     "collapsed": false,
     "input": [
      "# if the weather table already exists, the create will throw an\n",
      "# error, so try dropping it first\n",
      "try:\n",
      "    cursor.execute(\"DROP TABLE weather\")\n",
      "except:\n",
      "    pass"
     ],
     "language": "python",
     "outputs": []
    },
    {
     "cell_type": "code",
     "collapsed": false,
     "input": [
      "# create the weather table\n",
      "sql_cmd = \"\"\"CREATE TABLE weather (id INTEGER PRIMARY KEY\n",
      "AUTOINCREMENT, icao TEXT, date TEXT, min_temp INTEGER, max_temp\n",
      "INTEGER, min_humidity INTEGER, max_humidity INTEGER, precipitation\n",
      "FLOAT, cloud_cover INTEGER)\"\"\"\n",
      "\n",
      "cursor.execute(sql_cmd)\n",
      "connection.commit()"
     ],
     "language": "python",
     "outputs": []
    },
    {
     "cell_type": "markdown",
     "source": [
      "## Part 3\n",
      "\n",
      "Grab historical data from weather underground from 2008 until now and\n",
      "populate your tables accordingly.\n"
     ]
    },
    {
     "cell_type": "code",
     "collapsed": false,
     "input": [
      "# get the list of airport codes\n",
      "cursor.execute(\"SELECT icao FROM airports\")\n",
      "codes = [x[0] for x in cursor.fetchall()]"
     ],
     "language": "python",
     "outputs": []
    },
    {
     "cell_type": "code",
     "collapsed": false,
     "input": [
      "sql_cmd = \"\"\"INSERT INTO weather (icao, date, min_temp, max_temp,\n",
      "min_humidity, max_humidity, precipitation, cloud_cover) VALUES %s\"\"\"\n",
      "\n",
      "# create an iterator over airport codes, years, and months, so we only\n",
      "# need one outer for loop\n",
      "num = len(codes) * len(xrange(2008, 2014)) * len(xrange(1, 13))\n",
      "it = product(codes, xrange(2008, 2014), xrange(1, 13))\n",
      "\n",
      "for i, (code, year, month) in enumerate(it):\n",
      "    # print the progress\n",
      "    strline = \"[%d/%d] %s %s-%s\" % (i+1, num, code, year, month)\n",
      "    sys.stdout.write(\"%s\\r\" % strline)\n",
      "    sys.stdout.flush()\n",
      "\n",
      "    # don't try to load dates in the future\n",
      "    if year == 2013 and month >= 10:\n",
      "\tcontinue\n",
      "\n",
      "    # download the weather information from wunderground and save it\n",
      "    # to file (or load the file, if it's already been downloaded)\n",
      "    filename = util.download_weather(code, year, month)\n",
      "    # load the data from the file\n",
      "    data = util.load_weather(filename)\n",
      "\n",
      "    # write each row of the data into the database\n",
      "    for idx, row in data.iterrows():\n",
      "\tcursor.execute(sql_cmd % str(tuple(map(str, row))))\n",
      "    connection.commit()\n",
      "\n",
      "    sys.stdout.write(\" \" * len(strline) + \"\\r\")"
     ],
     "language": "python",
     "outputs": []
    },
    {
     "cell_type": "markdown",
     "source": [
      "## Part 4\n",
      "\n",
      "For each pair of cities/airports determine how the daily change of\n",
      "**high temperature** and **cloud cover** from one city predicts the\n",
      "daily change of the other city 1, 3, and 7 days in advance.\n",
      "\n",
      "*NOTE: Cloud cover from the Weather Underground tables ranges from 0\n",
      "(clear) to 8 (completely cloudy).*\n"
     ]
    },
    {
     "cell_type": "code",
     "collapsed": false,
     "input": [
      "sql_cmd = \"\"\"SELECT airports.city, airports.latitude,\n",
      "airports.longitude, weather.date, weather.max_temp,\n",
      "weather.cloud_cover FROM weather LEFT JOIN airports ON airports.icao\n",
      "== weather.icao\"\"\"\n",
      "\n",
      "cursor.execute(sql_cmd)\n",
      "columns = ['city', 'latitude', 'longitude', 'date', 'max_temp', 'cloud_cover']\n",
      "data = pd.DataFrame.from_records(cursor.fetchall(), columns=columns)\n",
      "data.date = pd.to_datetime(data.date)\n",
      "\n",
      "data.head()"
     ],
     "language": "python",
     "outputs": []
    },
    {
     "cell_type": "code",
     "collapsed": false,
     "input": [
      "temps = data.pivot(columns='city', index='date', values='max_temp').dropna()\n",
      "cloud = data.pivot(columns='city', index='date', values='cloud_cover').dropna()"
     ],
     "language": "python",
     "outputs": []
    },
    {
     "cell_type": "code",
     "collapsed": false,
     "input": [
      "temp_corrs = util.correlate(temps).rename(columns={'corr': 'temp'})\n",
      "cloud_corrs = util.correlate(cloud).rename(columns={'corr': 'cloud'})\n",
      "corrs = pd.merge(temp_corrs, cloud_corrs, left_index=True, right_index=True)\n",
      "corrs.head()"
     ],
     "language": "python",
     "outputs": []
    },
    {
     "cell_type": "markdown",
     "source": [
      "## Part 5\n",
      "\n",
      "Plot the correlation strengths for the 10 top pairs for all three\n",
      "dates, for both temperature and cloud cover as a function of\n",
      "distance. Also make a plot as a function of longitude difference. What\n",
      "trends do you see?\n"
     ]
    }
   ]
  }
 ]
}