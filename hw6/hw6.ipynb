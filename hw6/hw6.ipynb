{
 "metadata": {
  "name": ""
 },
 "nbformat": 3,
 "nbformat_minor": 0,
 "worksheets": [
  {
   "cells": [
    {
     "cell_type": "markdown",
     "source": [
      "# Homework 6: Databases\n",
      "\n",
      "Jessica Hamrick  \n",
      "jhamrick@berkeley.edu"
     ]
    },
    {
     "cell_type": "code",
     "collapsed": false,
     "input": [
      "import IPython\n",
      "import pandas as pd\n",
      "import sqlite3\n",
      "import sys\n",
      "import util\n",
      "from itertools import product"
     ],
     "language": "python",
     "outputs": [],
     "prompt_number": 1
    },
    {
     "cell_type": "code",
     "collapsed": false,
     "input": [
      "%matplotlib inline"
     ],
     "language": "python",
     "outputs": [],
     "prompt_number": 2
    },
    {
     "cell_type": "markdown",
     "source": [
      "## Part 1\n",
      "\n",
      "Create a table of the 50 most travelled airports in the US containing\n",
      "relevant information such as name, city, ICAO airport code, latitude,\n",
      "and longitude."
     ]
    },
    {
     "cell_type": "code",
     "collapsed": false,
     "input": [
      "# read in the provided csv files\n",
      "top_airports = pd.DataFrame.from_csv(\"hw_6_data/top_airports.csv\").reset_index()\n",
      "icao = pd.DataFrame.from_csv(\"hw_6_data/ICAO_airports.csv\").reset_index()"
     ],
     "language": "python",
     "outputs": [],
     "prompt_number": 3
    },
    {
     "cell_type": "code",
     "collapsed": false,
     "input": [
      "# create a SQL connection in memory\n",
      "connection = sqlite3.connect(\":memory:\")\n",
      "cursor = connection.cursor()"
     ],
     "language": "python",
     "outputs": [],
     "prompt_number": 4
    },
    {
     "cell_type": "code",
     "collapsed": false,
     "input": [
      "# create a table for top_airports.csv\n",
      "sql_cmd = \"\"\"CREATE TABLE top_airports (id INTEGER PRIMARY KEY\n",
      "AUTOINCREMENT, city TEXT, faa TEXT, iata TEXT, icao TEXT, airport\n",
      "TEXT, role TEXT, enplanements INTEGER)\"\"\" \n",
      "cursor.execute(sql_cmd)\n",
      "\n",
      "# populate it with the data from top_airports.csv\n",
      "cols = map(str, top_airports.columns)\n",
      "for aid, data in top_airports.iterrows():\n",
      "    sql_cmd = \"INSERT INTO top_airports (%s) VALUES %s\" % (\n",
      "        \", \".join(cols), str(tuple(data)))\n",
      "    cursor.execute(sql_cmd)"
     ],
     "language": "python",
     "outputs": [],
     "prompt_number": 5
    },
    {
     "cell_type": "code",
     "collapsed": false,
     "input": [
      "# create a table for ICAO_aiports.csv\n",
      "sql_cmd = \"\"\"CREATE TABLE icao (id INTEGER PRIMARY KEY, ident TEXT,\n",
      "type TEXT, name TEXT, latitude_deg FLOAT, longitude_deg FLOAT,\n",
      "elevation_ft INTEGER, continent TEXT, iso_country TEXT, iso_region\n",
      "TEXT, municipality TEXT, scheduled_service TEXT, gps_code TEXT,\n",
      "iata_code TEXT, local_code TEXT, home_link TEXT, wikipedia_link TEXT,\n",
      "keywords TEXT)\"\"\" \n",
      "cursor.execute(sql_cmd)\n",
      "\n",
      "# populate it with the data from ICAO_aiports.csv\n",
      "for aid, data in icao.iterrows():\n",
      "    cols = map(str, icao.columns)\n",
      "    # filter out entries which are NaN\n",
      "    cols, data = zip(*filter(\n",
      "        lambda x: not (isinstance(x[1], float) and np.isnan(x[1])), \n",
      "        zip(cols, data)))\n",
      "    sql_cmd = \"INSERT INTO icao (%s) VALUES %s\" % (\n",
      "        \", \".join(cols), str(data))\n",
      "    cursor.execute(sql_cmd)"
     ],
     "language": "python",
     "outputs": [],
     "prompt_number": 6
    },
    {
     "cell_type": "code",
     "collapsed": false,
     "input": [
      "# perform a database join on the two tables we just created to get the\n",
      "# data we want for our airports table\n",
      "sql_cmd = \"\"\"SELECT top_airports.icao, icao.name, top_airports.city,\n",
      "icao.latitude_deg, icao.longitude_deg FROM top_airports LEFT JOIN icao\n",
      "ON top_airports.icao == icao.ident\"\"\" \n",
      "cursor.execute(sql_cmd) \n",
      "\n",
      "# fetch the result and close the connection in memory, because we are\n",
      "# done with these two temporary tables\n",
      "rows = cursor.fetchall()\n",
      "connection.close()"
     ],
     "language": "python",
     "outputs": [],
     "prompt_number": 7
    },
    {
     "cell_type": "code",
     "collapsed": false,
     "input": [
      "# open a new connection to the real database\n",
      "connection = sqlite3.connect(\"airports.db\")\n",
      "cursor = connection.cursor()"
     ],
     "language": "python",
     "outputs": [],
     "prompt_number": 8
    },
    {
     "cell_type": "code",
     "collapsed": false,
     "input": [
      "# if the airports table already exists, the create will throw an\n",
      "# error, so try dropping it first\n",
      "try:\n",
      "    cursor.execute(\"DROP TABLE airports\")\n",
      "except:\n",
      "    pass"
     ],
     "language": "python",
     "outputs": [],
     "prompt_number": 9
    },
    {
     "cell_type": "code",
     "collapsed": false,
     "input": [
      "# create a table for the 50 airports, and populate it with data that\n",
      "# we got from the join we just performed\n",
      "\n",
      "sql_cmd = \"\"\"CREATE TABLE airports (icao TEXT PRIMARY KEY, name TEXT,\n",
      "city TEXT, latitude FLOAT, longitude FLOAT)\"\"\"\n",
      "cursor.execute(sql_cmd)\n",
      "\n",
      "sql_cmd = \"\"\"INSERT INTO airports (icao, name, city, latitude,\n",
      "longitude) VALUES %s\"\"\"\n",
      "for row in rows:\n",
      "    cursor.execute(sql_cmd % str(tuple(map(str, row))))\n",
      "\n",
      "connection.commit()\n",
      "connection.close()"
     ],
     "language": "python",
     "outputs": [],
     "prompt_number": 10
    },
    {
     "cell_type": "markdown",
     "source": [
      "## Part 2\n",
      "\n",
      "Build another table that will hold historical weather information,\n",
      "such as min/max temperature, humidity, precipitation, and cloud cover."
     ]
    },
    {
     "cell_type": "code",
     "collapsed": false,
     "input": [
      "# open a new connection to the database\n",
      "connection = sqlite3.connect(\"airports.db\")\n",
      "cursor = connection.cursor()"
     ],
     "language": "python",
     "outputs": [],
     "prompt_number": 11
    },
    {
     "cell_type": "code",
     "collapsed": false,
     "input": [
      "# if the weather table already exists, the create will throw an\n",
      "# error, so try dropping it first\n",
      "try:\n",
      "    cursor.execute(\"DROP TABLE weather\")\n",
      "except:\n",
      "    pass"
     ],
     "language": "python",
     "outputs": [],
     "prompt_number": 12
    },
    {
     "cell_type": "code",
     "collapsed": false,
     "input": [
      "# create the weather table\n",
      "sql_cmd = \"\"\"CREATE TABLE weather (id INTEGER PRIMARY KEY\n",
      "AUTOINCREMENT, icao TEXT, date TEXT, min_temp INTEGER, max_temp\n",
      "INTEGER, min_humidity INTEGER, max_humidity INTEGER, precipitation\n",
      "FLOAT, cloud_cover INTEGER)\"\"\"\n",
      "\n",
      "cursor.execute(sql_cmd)\n",
      "connection.commit()\n",
      "connection.close()"
     ],
     "language": "python",
     "outputs": [],
     "prompt_number": 13
    },
    {
     "cell_type": "markdown",
     "source": [
      "## Part 3\n",
      "\n",
      "Grab historical data from weather underground from 2008 until now and\n",
      "populate your tables accordingly."
     ]
    },
    {
     "cell_type": "code",
     "collapsed": false,
     "input": [
      "# open a new connection to the database\n",
      "connection = sqlite3.connect(\"airports.db\")\n",
      "cursor = connection.cursor()"
     ],
     "language": "python",
     "outputs": [],
     "prompt_number": 14
    },
    {
     "cell_type": "code",
     "collapsed": false,
     "input": [
      "# get the list of airport codes\n",
      "cursor.execute(\"SELECT icao FROM airports\")\n",
      "codes = [x[0] for x in cursor.fetchall()]"
     ],
     "language": "python",
     "outputs": [],
     "prompt_number": 15
    },
    {
     "cell_type": "code",
     "collapsed": false,
     "input": [
      "cols = [\n",
      "    'icao', 'date', \n",
      "    'min_temp', 'max_temp',\n",
      "    'min_humidity', 'max_humidity', \n",
      "    'precipitation', 'cloud_cover'\n",
      "]\n",
      "\n",
      "sql_cmd = \"\"\"INSERT INTO weather (%s) VALUES %s\"\"\"\n",
      "\n",
      "# create an iterator over airport codes, years, and months, so we only\n",
      "# need one outer for loop\n",
      "num = len(codes) * len(xrange(2008, 2014)) * len(xrange(1, 13))\n",
      "it = product(xrange(2008, 2014), xrange(1, 13), codes)\n",
      "\n",
      "for i, (year, month, code) in enumerate(it):\n",
      "    # print the progress\n",
      "    strline = \"[%d/%d] %s %s-%s\" % (i+1, num, code, year, month)\n",
      "    sys.stdout.write(\"\\r%s\\r\" % strline)\n",
      "    sys.stdout.flush()\n",
      "\n",
      "    # don't try to load dates in the future\n",
      "    if year == 2013 and month >= 10:\n",
      "        continue\n",
      "\n",
      "    # download the weather information from wunderground and save it\n",
      "    # to file (or load the file, if it's already been downloaded)\n",
      "    filename = util.download_weather(code, year, month)\n",
      "    # load the data from the file\n",
      "    data = util.load_weather(filename)\n",
      "\n",
      "    # write each row of the data into the database\n",
      "    for idx, row in data.iterrows():\n",
      "        # filter out entries which are NaN\n",
      "        cols_, row = zip(*filter(\n",
      "            lambda x: not (isinstance(x[1], float) and np.isnan(x[1])), \n",
      "            zip(cols, row)))\n",
      "        row = tuple(map(str, row))\n",
      "        cursor.execute(sql_cmd % (\", \".join(cols_), str(row)))\n",
      "    connection.commit()\n",
      "\n",
      "    sys.stdout.write(\" \" * len(strline))\n",
      "\n",
      "connection.close()"
     ],
     "language": "python",
     "outputs": [
      {
       "output_type": "stream",
       "stream": "stdout",
       "text": [
        "\r",
        "[1/3600] KATL 2008-1\r"
       ]
      },
      {
       "output_type": "stream",
       "stream": "stdout",
       "text": [
        "                    \r",
        "[2/3600] KAUS 2008-1\r"
       ]
      },
      {
       "output_type": "stream",
       "stream": "stdout",
       "text": [
        "                    \r",
        "[3/3600] KBNA 2008-1\r"
       ]
      },
      {
       "output_type": "stream",
       "stream": "stdout",
       "text": [
        "                    \r",
        "[4/3600] KBOS 2008-1\r"
       ]
      },
      {
       "output_type": "stream",
       "stream": "stdout",
       "text": [
        "                    \r",
        "[5/3600] KBWI 2008-1\r"
       ]
      },
      {
       "output_type": "stream",
       "stream": "stdout",
       "text": [
        "                    \r",
        "[6/3600] KCLE 2008-1\r"
       ]
      },
      {
       "output_type": "stream",
       "stream": "stdout",
       "text": [
        "                    \r",
        "[7/3600] KCLT 2008-1\r"
       ]
      },
      {
       "output_type": "stream",
       "stream": "stdout",
       "text": [
        "                    \r",
        "[8/3600] KCVG 2008-1\r"
       ]
      },
      {
       "output_type": "stream",
       "stream": "stdout",
       "text": [
        "                    \r",
        "[9/3600] KDAL 2008-1\r"
       ]
      },
      {
       "output_type": "stream",
       "stream": "stdout",
       "text": [
        "                    \r",
        "[10/3600] KDCA 2008-1\r"
       ]
      },
      {
       "output_type": "stream",
       "stream": "stdout",
       "text": [
        "                     \r",
        "[11/3600] KDEN 2008-1\r"
       ]
      },
      {
       "output_type": "stream",
       "stream": "stdout",
       "text": [
        "                     \r",
        "[12/3600] KDFW 2008-1\r"
       ]
      },
      {
       "output_type": "stream",
       "stream": "stdout",
       "text": [
        "                     \r",
        "[13/3600] KDTW 2008-1\r"
       ]
      },
      {
       "output_type": "stream",
       "stream": "stdout",
       "text": [
        "                     \r",
        "[14/3600] KEWR 2008-1\r"
       ]
      },
      {
       "output_type": "stream",
       "stream": "stdout",
       "text": [
        "                     \r",
        "[15/3600] KFLL 2008-1\r"
       ]
      },
      {
       "output_type": "stream",
       "stream": "stdout",
       "text": [
        "                     \r",
        "[16/3600] KHOU 2008-1\r"
       ]
      },
      {
       "output_type": "stream",
       "stream": "stdout",
       "text": [
        "                     \r",
        "[17/3600] KIAD 2008-1\r"
       ]
      },
      {
       "output_type": "stream",
       "stream": "stdout",
       "text": [
        "                     \r",
        "[18/3600] KIAH 2008-1\r"
       ]
      },
      {
       "output_type": "stream",
       "stream": "stdout",
       "text": [
        "                     \r",
        "[19/3600] KIND 2008-1\r"
       ]
      },
      {
       "output_type": "stream",
       "stream": "stdout",
       "text": [
        "                     \r",
        "[20/3600] KJFK 2008-1\r"
       ]
      },
      {
       "output_type": "stream",
       "stream": "stdout",
       "text": [
        "                     \r",
        "[21/3600] KLAS 2008-1\r"
       ]
      },
      {
       "output_type": "stream",
       "stream": "stdout",
       "text": [
        "                     \r",
        "[22/3600] KLAX 2008-1\r"
       ]
      },
      {
       "output_type": "stream",
       "stream": "stdout",
       "text": [
        "                     \r",
        "[23/3600] KLGA 2008-1\r"
       ]
      },
      {
       "output_type": "stream",
       "stream": "stdout",
       "text": [
        "                     \r",
        "[24/3600] KMCI 2008-1\r"
       ]
      },
      {
       "output_type": "stream",
       "stream": "stdout",
       "text": [
        "                     \r",
        "[25/3600] KMCO 2008-1\r"
       ]
      },
      {
       "output_type": "stream",
       "stream": "stdout",
       "text": [
        "                     \r",
        "[26/3600] KMDW 2008-1\r"
       ]
      },
      {
       "output_type": "stream",
       "stream": "stdout",
       "text": [
        "                     \r",
        "[27/3600] KMEM 2008-1\r"
       ]
      },
      {
       "output_type": "stream",
       "stream": "stdout",
       "text": [
        "                     \r",
        "[28/3600] KMIA 2008-1\r"
       ]
      },
      {
       "output_type": "stream",
       "stream": "stdout",
       "text": [
        "                     \r",
        "[29/3600] KMKE 2008-1\r"
       ]
      },
      {
       "output_type": "stream",
       "stream": "stdout",
       "text": [
        "                     \r",
        "[30/3600] KMSP 2008-1\r"
       ]
      },
      {
       "output_type": "stream",
       "stream": "stdout",
       "text": [
        "                     \r",
        "[31/3600] KMSY 2008-1\r"
       ]
      },
      {
       "output_type": "stream",
       "stream": "stdout",
       "text": [
        "                     \r",
        "[32/3600] KOAK 2008-1\r"
       ]
      },
      {
       "output_type": "stream",
       "stream": "stdout",
       "text": [
        "                     \r",
        "[33/3600] KORD 2008-1\r"
       ]
      },
      {
       "output_type": "stream",
       "stream": "stdout",
       "text": [
        "                     \r",
        "[34/3600] KPDX 2008-1\r"
       ]
      },
      {
       "output_type": "stream",
       "stream": "stdout",
       "text": [
        "                     \r",
        "[35/3600] KPHL 2008-1\r"
       ]
      },
      {
       "output_type": "stream",
       "stream": "stdout",
       "text": [
        "                     \r",
        "[36/3600] KPHX 2008-1\r"
       ]
      },
      {
       "output_type": "stream",
       "stream": "stdout",
       "text": [
        "                     \r",
        "[37/3600] KPIT 2008-1\r"
       ]
      },
      {
       "output_type": "stream",
       "stream": "stdout",
       "text": [
        "                     \r",
        "[38/3600] KRDU 2008-1\r"
       ]
      },
      {
       "output_type": "stream",
       "stream": "stdout",
       "text": [
        "                     \r",
        "[39/3600] KSAN 2008-1\r"
       ]
      },
      {
       "output_type": "stream",
       "stream": "stdout",
       "text": [
        "                     \r",
        "[40/3600] KSAT 2008-1\r"
       ]
      },
      {
       "output_type": "stream",
       "stream": "stdout",
       "text": [
        "                     \r",
        "[41/3600] KSEA 2008-1\r"
       ]
      },
      {
       "output_type": "stream",
       "stream": "stdout",
       "text": [
        "                     \r",
        "[42/3600] KSFO 2008-1\r"
       ]
      },
      {
       "output_type": "stream",
       "stream": "stdout",
       "text": [
        "                     \r",
        "[43/3600] KSJC 2008-1\r"
       ]
      },
      {
       "output_type": "stream",
       "stream": "stdout",
       "text": [
        "                     \r",
        "[44/3600] KSLC 2008-1\r"
       ]
      },
      {
       "output_type": "stream",
       "stream": "stdout",
       "text": [
        "                     \r",
        "[45/3600] KSMF 2008-1\r"
       ]
      },
      {
       "output_type": "stream",
       "stream": "stdout",
       "text": [
        "                     \r",
        "[46/3600] KSNA 2008-1\r"
       ]
      },
      {
       "output_type": "stream",
       "stream": "stdout",
       "text": [
        "                     \r",
        "[47/3600] KSTL 2008-1\r"
       ]
      },
      {
       "output_type": "stream",
       "stream": "stdout",
       "text": [
        "                     \r",
        "[48/3600] KTPA 2008-1\r"
       ]
      },
      {
       "output_type": "stream",
       "stream": "stdout",
       "text": [
        "                     \r",
        "[49/3600] PHNL 2008-1\r"
       ]
      },
      {
       "output_type": "stream",
       "stream": "stdout",
       "text": [
        "                     \r",
        "[50/3600] TJSJ 2008-1\r"
       ]
      },
      {
       "output_type": "stream",
       "stream": "stdout",
       "text": [
        "                     \r",
        "[51/3600] KATL 2008-2\r"
       ]
      },
      {
       "output_type": "stream",
       "stream": "stdout",
       "text": [
        "                     \r",
        "[52/3600] KAUS 2008-2\r"
       ]
      },
      {
       "output_type": "stream",
       "stream": "stdout",
       "text": [
        "                     \r",
        "[53/3600] KBNA 2008-2\r"
       ]
      },
      {
       "output_type": "stream",
       "stream": "stdout",
       "text": [
        "                     \r",
        "[54/3600] KBOS 2008-2\r"
       ]
      },
      {
       "output_type": "stream",
       "stream": "stdout",
       "text": [
        "                     \r",
        "[55/3600] KBWI 2008-2\r"
       ]
      },
      {
       "output_type": "stream",
       "stream": "stdout",
       "text": [
        "                     \r",
        "[56/3600] KCLE 2008-2\r"
       ]
      },
      {
       "output_type": "stream",
       "stream": "stdout",
       "text": [
        "                     \r",
        "[57/3600] KCLT 2008-2\r"
       ]
      },
      {
       "output_type": "stream",
       "stream": "stdout",
       "text": [
        "                     \r",
        "[58/3600] KCVG 2008-2\r"
       ]
      },
      {
       "output_type": "stream",
       "stream": "stdout",
       "text": [
        "                     \r",
        "[59/3600] KDAL 2008-2\r"
       ]
      },
      {
       "output_type": "stream",
       "stream": "stdout",
       "text": [
        "                     \r",
        "[60/3600] KDCA 2008-2\r"
       ]
      },
      {
       "output_type": "stream",
       "stream": "stdout",
       "text": [
        "                     \r",
        "[61/3600] KDEN 2008-2\r"
       ]
      },
      {
       "output_type": "stream",
       "stream": "stdout",
       "text": [
        "                     \r",
        "[62/3600] KDFW 2008-2\r"
       ]
      },
      {
       "output_type": "stream",
       "stream": "stdout",
       "text": [
        "                     \r",
        "[63/3600] KDTW 2008-2\r"
       ]
      },
      {
       "output_type": "stream",
       "stream": "stdout",
       "text": [
        "                     \r",
        "[64/3600] KEWR 2008-2\r"
       ]
      },
      {
       "output_type": "stream",
       "stream": "stdout",
       "text": [
        "                     \r",
        "[65/3600] KFLL 2008-2\r"
       ]
      },
      {
       "output_type": "stream",
       "stream": "stdout",
       "text": [
        "                     \r",
        "[66/3600] KHOU 2008-2\r"
       ]
      },
      {
       "output_type": "stream",
       "stream": "stdout",
       "text": [
        "                     \r",
        "[67/3600] KIAD 2008-2\r"
       ]
      },
      {
       "output_type": "stream",
       "stream": "stdout",
       "text": [
        "                     \r",
        "[68/3600] KIAH 2008-2\r"
       ]
      },
      {
       "output_type": "stream",
       "stream": "stdout",
       "text": [
        "                     \r",
        "[69/3600] KIND 2008-2\r"
       ]
      },
      {
       "output_type": "stream",
       "stream": "stdout",
       "text": [
        "                     \r",
        "[70/3600] KJFK 2008-2\r"
       ]
      },
      {
       "output_type": "stream",
       "stream": "stdout",
       "text": [
        "                     \r",
        "[71/3600] KLAS 2008-2\r"
       ]
      },
      {
       "output_type": "stream",
       "stream": "stdout",
       "text": [
        "                     \r",
        "[72/3600] KLAX 2008-2\r"
       ]
      },
      {
       "output_type": "stream",
       "stream": "stdout",
       "text": [
        "                     \r",
        "[73/3600] KLGA 2008-2\r"
       ]
      },
      {
       "output_type": "stream",
       "stream": "stdout",
       "text": [
        "                     \r",
        "[74/3600] KMCI 2008-2\r"
       ]
      },
      {
       "output_type": "stream",
       "stream": "stdout",
       "text": [
        "                     \r",
        "[75/3600] KMCO 2008-2\r"
       ]
      },
      {
       "output_type": "stream",
       "stream": "stdout",
       "text": [
        "                     \r",
        "[76/3600] KMDW 2008-2\r"
       ]
      },
      {
       "output_type": "stream",
       "stream": "stdout",
       "text": [
        "                     \r",
        "[77/3600] KMEM 2008-2\r"
       ]
      },
      {
       "output_type": "stream",
       "stream": "stdout",
       "text": [
        "                     \r",
        "[78/3600] KMIA 2008-2\r"
       ]
      },
      {
       "output_type": "stream",
       "stream": "stdout",
       "text": [
        "                     \r",
        "[79/3600] KMKE 2008-2\r"
       ]
      },
      {
       "output_type": "stream",
       "stream": "stdout",
       "text": [
        "                     \r",
        "[80/3600] KMSP 2008-2\r"
       ]
      },
      {
       "output_type": "stream",
       "stream": "stdout",
       "text": [
        "                     \r",
        "[81/3600] KMSY 2008-2\r"
       ]
      },
      {
       "output_type": "stream",
       "stream": "stdout",
       "text": [
        "                     \r",
        "[82/3600] KOAK 2008-2\r"
       ]
      },
      {
       "output_type": "stream",
       "stream": "stdout",
       "text": [
        "                     \r",
        "[83/3600] KORD 2008-2\r"
       ]
      },
      {
       "output_type": "stream",
       "stream": "stdout",
       "text": [
        "                     \r",
        "[84/3600] KPDX 2008-2\r"
       ]
      },
      {
       "output_type": "stream",
       "stream": "stdout",
       "text": [
        "                     \r",
        "[85/3600] KPHL 2008-2\r"
       ]
      },
      {
       "output_type": "stream",
       "stream": "stdout",
       "text": [
        "                     \r",
        "[86/3600] KPHX 2008-2\r"
       ]
      },
      {
       "output_type": "stream",
       "stream": "stdout",
       "text": [
        "                     \r",
        "[87/3600] KPIT 2008-2\r"
       ]
      },
      {
       "output_type": "stream",
       "stream": "stdout",
       "text": [
        "                     \r",
        "[88/3600] KRDU 2008-2\r"
       ]
      },
      {
       "output_type": "stream",
       "stream": "stdout",
       "text": [
        "                     \r",
        "[89/3600] KSAN 2008-2\r"
       ]
      },
      {
       "output_type": "stream",
       "stream": "stdout",
       "text": [
        "                     \r",
        "[90/3600] KSAT 2008-2\r"
       ]
      },
      {
       "output_type": "stream",
       "stream": "stdout",
       "text": [
        "                     \r",
        "[91/3600] KSEA 2008-2\r"
       ]
      },
      {
       "output_type": "stream",
       "stream": "stdout",
       "text": [
        "                     \r",
        "[92/3600] KSFO 2008-2\r"
       ]
      },
      {
       "output_type": "stream",
       "stream": "stdout",
       "text": [
        "                     \r",
        "[93/3600] KSJC 2008-2\r"
       ]
      },
      {
       "output_type": "stream",
       "stream": "stdout",
       "text": [
        "                     \r",
        "[94/3600] KSLC 2008-2\r"
       ]
      },
      {
       "output_type": "stream",
       "stream": "stdout",
       "text": [
        "                     \r",
        "[95/3600] KSMF 2008-2\r"
       ]
      },
      {
       "output_type": "stream",
       "stream": "stdout",
       "text": [
        "                     \r",
        "[96/3600] KSNA 2008-2\r"
       ]
      },
      {
       "output_type": "stream",
       "stream": "stdout",
       "text": [
        "                     \r",
        "[97/3600] KSTL 2008-2\r"
       ]
      },
      {
       "output_type": "stream",
       "stream": "stdout",
       "text": [
        "                     \r",
        "[98/3600] KTPA 2008-2\r"
       ]
      },
      {
       "output_type": "stream",
       "stream": "stdout",
       "text": [
        "                     \r",
        "[99/3600] PHNL 2008-2\r"
       ]
      },
      {
       "output_type": "stream",
       "stream": "stdout",
       "text": [
        "                     \r",
        "[100/3600] TJSJ 2008-2\r"
       ]
      },
      {
       "output_type": "stream",
       "stream": "stdout",
       "text": [
        "                      \r",
        "[101/3600] KATL 2008-3\r"
       ]
      },
      {
       "output_type": "stream",
       "stream": "stdout",
       "text": [
        "                      \r",
        "[102/3600] KAUS 2008-3\r"
       ]
      },
      {
       "output_type": "stream",
       "stream": "stdout",
       "text": [
        "                      \r",
        "[103/3600] KBNA 2008-3\r"
       ]
      },
      {
       "output_type": "stream",
       "stream": "stdout",
       "text": [
        "                      \r",
        "[104/3600] KBOS 2008-3\r"
       ]
      },
      {
       "output_type": "stream",
       "stream": "stdout",
       "text": [
        "                      \r",
        "[105/3600] KBWI 2008-3\r"
       ]
      },
      {
       "output_type": "stream",
       "stream": "stdout",
       "text": [
        "                      \r",
        "[106/3600] KCLE 2008-3\r"
       ]
      },
      {
       "output_type": "stream",
       "stream": "stdout",
       "text": [
        "                      \r",
        "[107/3600] KCLT 2008-3\r"
       ]
      },
      {
       "output_type": "stream",
       "stream": "stdout",
       "text": [
        "                      \r",
        "[108/3600] KCVG 2008-3\r"
       ]
      },
      {
       "output_type": "stream",
       "stream": "stdout",
       "text": [
        "                      \r",
        "[109/3600] KDAL 2008-3\r"
       ]
      },
      {
       "output_type": "stream",
       "stream": "stdout",
       "text": [
        "                      \r",
        "[110/3600] KDCA 2008-3\r"
       ]
      },
      {
       "output_type": "stream",
       "stream": "stdout",
       "text": [
        "                      \r",
        "[111/3600] KDEN 2008-3\r"
       ]
      },
      {
       "output_type": "stream",
       "stream": "stdout",
       "text": [
        "                      \r",
        "[112/3600] KDFW 2008-3\r"
       ]
      },
      {
       "output_type": "stream",
       "stream": "stdout",
       "text": [
        "                      \r",
        "[113/3600] KDTW 2008-3\r"
       ]
      },
      {
       "output_type": "stream",
       "stream": "stdout",
       "text": [
        "                      \r",
        "[114/3600] KEWR 2008-3\r"
       ]
      },
      {
       "output_type": "stream",
       "stream": "stdout",
       "text": [
        "                      \r",
        "[115/3600] KFLL 2008-3\r"
       ]
      },
      {
       "output_type": "stream",
       "stream": "stdout",
       "text": [
        "                      \r",
        "[116/3600] KHOU 2008-3\r"
       ]
      },
      {
       "output_type": "stream",
       "stream": "stdout",
       "text": [
        "                      \r",
        "[117/3600] KIAD 2008-3\r"
       ]
      },
      {
       "output_type": "stream",
       "stream": "stdout",
       "text": [
        "                      \r",
        "[118/3600] KIAH 2008-3\r"
       ]
      },
      {
       "output_type": "stream",
       "stream": "stdout",
       "text": [
        "                      \r",
        "[119/3600] KIND 2008-3\r"
       ]
      },
      {
       "output_type": "stream",
       "stream": "stdout",
       "text": [
        "                      \r",
        "[120/3600] KJFK 2008-3\r"
       ]
      },
      {
       "output_type": "stream",
       "stream": "stdout",
       "text": [
        "                      \r",
        "[121/3600] KLAS 2008-3\r"
       ]
      },
      {
       "output_type": "stream",
       "stream": "stdout",
       "text": [
        "                      \r",
        "[122/3600] KLAX 2008-3\r"
       ]
      },
      {
       "output_type": "stream",
       "stream": "stdout",
       "text": [
        "                      \r",
        "[123/3600] KLGA 2008-3\r"
       ]
      },
      {
       "output_type": "stream",
       "stream": "stdout",
       "text": [
        "                      \r",
        "[124/3600] KMCI 2008-3\r"
       ]
      },
      {
       "output_type": "stream",
       "stream": "stdout",
       "text": [
        "                      \r",
        "[125/3600] KMCO 2008-3\r"
       ]
      },
      {
       "output_type": "stream",
       "stream": "stdout",
       "text": [
        "                      \r",
        "[126/3600] KMDW 2008-3\r"
       ]
      },
      {
       "output_type": "stream",
       "stream": "stdout",
       "text": [
        "                      \r",
        "[127/3600] KMEM 2008-3\r"
       ]
      },
      {
       "output_type": "stream",
       "stream": "stdout",
       "text": [
        "                      \r",
        "[128/3600] KMIA 2008-3\r"
       ]
      },
      {
       "output_type": "stream",
       "stream": "stdout",
       "text": [
        "                      \r",
        "[129/3600] KMKE 2008-3\r"
       ]
      },
      {
       "output_type": "stream",
       "stream": "stdout",
       "text": [
        "                      \r",
        "[130/3600] KMSP 2008-3\r"
       ]
      },
      {
       "output_type": "stream",
       "stream": "stdout",
       "text": [
        "                      \r",
        "[131/3600] KMSY 2008-3\r"
       ]
      },
      {
       "output_type": "stream",
       "stream": "stdout",
       "text": [
        "                      \r",
        "[132/3600] KOAK 2008-3\r"
       ]
      },
      {
       "output_type": "stream",
       "stream": "stdout",
       "text": [
        "                      \r",
        "[133/3600] KORD 2008-3\r"
       ]
      },
      {
       "output_type": "stream",
       "stream": "stdout",
       "text": [
        "                      \r",
        "[134/3600] KPDX 2008-3\r"
       ]
      },
      {
       "output_type": "stream",
       "stream": "stdout",
       "text": [
        "                      \r",
        "[135/3600] KPHL 2008-3\r"
       ]
      },
      {
       "output_type": "stream",
       "stream": "stdout",
       "text": [
        "                      \r",
        "[136/3600] KPHX 2008-3\r"
       ]
      },
      {
       "output_type": "stream",
       "stream": "stdout",
       "text": [
        "                      \r",
        "[137/3600] KPIT 2008-3\r"
       ]
      },
      {
       "output_type": "stream",
       "stream": "stdout",
       "text": [
        "                      \r",
        "[138/3600] KRDU 2008-3\r"
       ]
      },
      {
       "output_type": "stream",
       "stream": "stdout",
       "text": [
        "                      \r",
        "[139/3600] KSAN 2008-3\r"
       ]
      },
      {
       "output_type": "stream",
       "stream": "stdout",
       "text": [
        "                      \r",
        "[140/3600] KSAT 2008-3\r"
       ]
      },
      {
       "output_type": "stream",
       "stream": "stdout",
       "text": [
        "                      \r",
        "[141/3600] KSEA 2008-3\r"
       ]
      },
      {
       "output_type": "stream",
       "stream": "stdout",
       "text": [
        "                      \r",
        "[142/3600] KSFO 2008-3\r"
       ]
      },
      {
       "output_type": "stream",
       "stream": "stdout",
       "text": [
        "                      \r",
        "[143/3600] KSJC 2008-3\r"
       ]
      },
      {
       "output_type": "stream",
       "stream": "stdout",
       "text": [
        "                      \r",
        "[144/3600] KSLC 2008-3\r"
       ]
      },
      {
       "output_type": "stream",
       "stream": "stdout",
       "text": [
        "                      \r",
        "[145/3600] KSMF 2008-3\r"
       ]
      },
      {
       "output_type": "stream",
       "stream": "stdout",
       "text": [
        "                      \r",
        "[146/3600] KSNA 2008-3\r"
       ]
      },
      {
       "output_type": "stream",
       "stream": "stdout",
       "text": [
        "                      \r",
        "[147/3600] KSTL 2008-3\r"
       ]
      },
      {
       "output_type": "stream",
       "stream": "stdout",
       "text": [
        "                      \r",
        "[148/3600] KTPA 2008-3\r"
       ]
      },
      {
       "output_type": "stream",
       "stream": "stdout",
       "text": [
        "                      \r",
        "[149/3600] PHNL 2008-3\r"
       ]
      },
      {
       "output_type": "stream",
       "stream": "stdout",
       "text": [
        "                      \r",
        "[150/3600] TJSJ 2008-3\r"
       ]
      },
      {
       "output_type": "stream",
       "stream": "stdout",
       "text": [
        "                      \r",
        "[151/3600] KATL 2008-4\r"
       ]
      },
      {
       "output_type": "stream",
       "stream": "stdout",
       "text": [
        "                      \r",
        "[152/3600] KAUS 2008-4\r"
       ]
      },
      {
       "output_type": "stream",
       "stream": "stdout",
       "text": [
        "                      \r",
        "[153/3600] KBNA 2008-4\r"
       ]
      },
      {
       "output_type": "stream",
       "stream": "stdout",
       "text": [
        "                      \r",
        "[154/3600] KBOS 2008-4\r"
       ]
      },
      {
       "output_type": "stream",
       "stream": "stdout",
       "text": [
        "                      \r",
        "[155/3600] KBWI 2008-4\r"
       ]
      },
      {
       "output_type": "stream",
       "stream": "stdout",
       "text": [
        "                      \r",
        "[156/3600] KCLE 2008-4\r"
       ]
      },
      {
       "output_type": "stream",
       "stream": "stdout",
       "text": [
        "                      \r",
        "[157/3600] KCLT 2008-4\r"
       ]
      },
      {
       "output_type": "stream",
       "stream": "stdout",
       "text": [
        "                      \r",
        "[158/3600] KCVG 2008-4\r"
       ]
      },
      {
       "output_type": "stream",
       "stream": "stdout",
       "text": [
        "                      \r",
        "[159/3600] KDAL 2008-4\r"
       ]
      },
      {
       "output_type": "stream",
       "stream": "stdout",
       "text": [
        "                      \r",
        "[160/3600] KDCA 2008-4\r"
       ]
      },
      {
       "output_type": "stream",
       "stream": "stdout",
       "text": [
        "                      \r",
        "[161/3600] KDEN 2008-4\r"
       ]
      },
      {
       "output_type": "stream",
       "stream": "stdout",
       "text": [
        "                      \r",
        "[162/3600] KDFW 2008-4\r"
       ]
      },
      {
       "output_type": "stream",
       "stream": "stdout",
       "text": [
        "                      \r",
        "[163/3600] KDTW 2008-4\r"
       ]
      },
      {
       "output_type": "stream",
       "stream": "stdout",
       "text": [
        "                      \r",
        "[164/3600] KEWR 2008-4\r"
       ]
      },
      {
       "output_type": "stream",
       "stream": "stdout",
       "text": [
        "                      \r",
        "[165/3600] KFLL 2008-4\r"
       ]
      },
      {
       "output_type": "stream",
       "stream": "stdout",
       "text": [
        "                      \r",
        "[166/3600] KHOU 2008-4\r"
       ]
      },
      {
       "output_type": "stream",
       "stream": "stdout",
       "text": [
        "                      \r",
        "[167/3600] KIAD 2008-4\r"
       ]
      },
      {
       "output_type": "stream",
       "stream": "stdout",
       "text": [
        "                      \r",
        "[168/3600] KIAH 2008-4\r"
       ]
      },
      {
       "output_type": "stream",
       "stream": "stdout",
       "text": [
        "                      \r",
        "[169/3600] KIND 2008-4\r"
       ]
      },
      {
       "output_type": "stream",
       "stream": "stdout",
       "text": [
        "                      \r",
        "[170/3600] KJFK 2008-4\r"
       ]
      },
      {
       "output_type": "stream",
       "stream": "stdout",
       "text": [
        "                      \r",
        "[171/3600] KLAS 2008-4\r"
       ]
      },
      {
       "output_type": "stream",
       "stream": "stdout",
       "text": [
        "                      \r",
        "[172/3600] KLAX 2008-4\r"
       ]
      },
      {
       "output_type": "stream",
       "stream": "stdout",
       "text": [
        "                      \r",
        "[173/3600] KLGA 2008-4\r"
       ]
      },
      {
       "output_type": "stream",
       "stream": "stdout",
       "text": [
        "                      \r",
        "[174/3600] KMCI 2008-4\r"
       ]
      },
      {
       "output_type": "stream",
       "stream": "stdout",
       "text": [
        "                      \r",
        "[175/3600] KMCO 2008-4\r"
       ]
      },
      {
       "output_type": "stream",
       "stream": "stdout",
       "text": [
        "                      \r",
        "[176/3600] KMDW 2008-4\r"
       ]
      },
      {
       "output_type": "stream",
       "stream": "stdout",
       "text": [
        "                      \r",
        "[177/3600] KMEM 2008-4\r"
       ]
      },
      {
       "output_type": "stream",
       "stream": "stdout",
       "text": [
        "                      \r",
        "[178/3600] KMIA 2008-4\r"
       ]
      },
      {
       "output_type": "stream",
       "stream": "stdout",
       "text": [
        "                      \r",
        "[179/3600] KMKE 2008-4\r"
       ]
      },
      {
       "output_type": "stream",
       "stream": "stdout",
       "text": [
        "                      \r",
        "[180/3600] KMSP 2008-4\r"
       ]
      },
      {
       "output_type": "stream",
       "stream": "stdout",
       "text": [
        "                      \r",
        "[181/3600] KMSY 2008-4\r"
       ]
      },
      {
       "output_type": "stream",
       "stream": "stdout",
       "text": [
        "                      \r",
        "[182/3600] KOAK 2008-4\r"
       ]
      },
      {
       "output_type": "stream",
       "stream": "stdout",
       "text": [
        "                      \r",
        "[183/3600] KORD 2008-4\r"
       ]
      },
      {
       "output_type": "stream",
       "stream": "stdout",
       "text": [
        "                      \r",
        "[184/3600] KPDX 2008-4\r"
       ]
      },
      {
       "output_type": "stream",
       "stream": "stdout",
       "text": [
        "                      \r",
        "[185/3600] KPHL 2008-4\r"
       ]
      },
      {
       "output_type": "stream",
       "stream": "stdout",
       "text": [
        "                      \r",
        "[186/3600] KPHX 2008-4\r"
       ]
      },
      {
       "output_type": "stream",
       "stream": "stdout",
       "text": [
        "                      \r",
        "[187/3600] KPIT 2008-4\r"
       ]
      },
      {
       "output_type": "stream",
       "stream": "stdout",
       "text": [
        "                      \r",
        "[188/3600] KRDU 2008-4\r"
       ]
      },
      {
       "output_type": "stream",
       "stream": "stdout",
       "text": [
        "                      \r",
        "[189/3600] KSAN 2008-4\r"
       ]
      },
      {
       "output_type": "stream",
       "stream": "stdout",
       "text": [
        "                      \r",
        "[190/3600] KSAT 2008-4\r"
       ]
      },
      {
       "output_type": "stream",
       "stream": "stdout",
       "text": [
        "                      \r",
        "[191/3600] KSEA 2008-4\r"
       ]
      },
      {
       "output_type": "stream",
       "stream": "stdout",
       "text": [
        "                      \r",
        "[192/3600] KSFO 2008-4\r"
       ]
      },
      {
       "output_type": "stream",
       "stream": "stdout",
       "text": [
        "                      \r",
        "[193/3600] KSJC 2008-4\r"
       ]
      },
      {
       "output_type": "stream",
       "stream": "stdout",
       "text": [
        "                      \r",
        "[194/3600] KSLC 2008-4\r"
       ]
      },
      {
       "output_type": "stream",
       "stream": "stdout",
       "text": [
        "                      \r",
        "[195/3600] KSMF 2008-4\r"
       ]
      },
      {
       "output_type": "stream",
       "stream": "stdout",
       "text": [
        "                      \r",
        "[196/3600] KSNA 2008-4\r"
       ]
      },
      {
       "output_type": "stream",
       "stream": "stdout",
       "text": [
        "                      \r",
        "[197/3600] KSTL 2008-4\r"
       ]
      },
      {
       "output_type": "stream",
       "stream": "stdout",
       "text": [
        "                      \r",
        "[198/3600] KTPA 2008-4\r"
       ]
      },
      {
       "output_type": "stream",
       "stream": "stdout",
       "text": [
        "                      \r",
        "[199/3600] PHNL 2008-4\r"
       ]
      },
      {
       "output_type": "stream",
       "stream": "stdout",
       "text": [
        "                      \r",
        "[200/3600] TJSJ 2008-4\r"
       ]
      },
      {
       "output_type": "stream",
       "stream": "stdout",
       "text": [
        "                      \r",
        "[201/3600] KATL 2008-5\r"
       ]
      },
      {
       "output_type": "stream",
       "stream": "stdout",
       "text": [
        "                      \r",
        "[202/3600] KAUS 2008-5\r"
       ]
      },
      {
       "output_type": "stream",
       "stream": "stdout",
       "text": [
        "                      \r",
        "[203/3600] KBNA 2008-5\r"
       ]
      },
      {
       "output_type": "stream",
       "stream": "stdout",
       "text": [
        "                      \r",
        "[204/3600] KBOS 2008-5\r"
       ]
      },
      {
       "output_type": "stream",
       "stream": "stdout",
       "text": [
        "                      \r",
        "[205/3600] KBWI 2008-5\r"
       ]
      },
      {
       "output_type": "stream",
       "stream": "stdout",
       "text": [
        "                      \r",
        "[206/3600] KCLE 2008-5\r"
       ]
      },
      {
       "output_type": "stream",
       "stream": "stdout",
       "text": [
        "                      \r",
        "[207/3600] KCLT 2008-5\r"
       ]
      },
      {
       "output_type": "stream",
       "stream": "stdout",
       "text": [
        "                      \r",
        "[208/3600] KCVG 2008-5\r"
       ]
      },
      {
       "output_type": "stream",
       "stream": "stdout",
       "text": [
        "                      \r",
        "[209/3600] KDAL 2008-5\r"
       ]
      },
      {
       "output_type": "stream",
       "stream": "stdout",
       "text": [
        "                      \r",
        "[210/3600] KDCA 2008-5\r"
       ]
      },
      {
       "output_type": "stream",
       "stream": "stdout",
       "text": [
        "                      \r",
        "[211/3600] KDEN 2008-5\r"
       ]
      },
      {
       "output_type": "stream",
       "stream": "stdout",
       "text": [
        "                      \r",
        "[212/3600] KDFW 2008-5\r"
       ]
      },
      {
       "output_type": "stream",
       "stream": "stdout",
       "text": [
        "                      \r",
        "[213/3600] KDTW 2008-5\r"
       ]
      },
      {
       "output_type": "stream",
       "stream": "stdout",
       "text": [
        "                      \r",
        "[214/3600] KEWR 2008-5\r"
       ]
      },
      {
       "output_type": "stream",
       "stream": "stdout",
       "text": [
        "                      \r",
        "[215/3600] KFLL 2008-5\r"
       ]
      },
      {
       "output_type": "stream",
       "stream": "stdout",
       "text": [
        "                      \r",
        "[216/3600] KHOU 2008-5\r"
       ]
      },
      {
       "output_type": "stream",
       "stream": "stdout",
       "text": [
        "                      \r",
        "[217/3600] KIAD 2008-5\r"
       ]
      },
      {
       "output_type": "stream",
       "stream": "stdout",
       "text": [
        "                      \r",
        "[218/3600] KIAH 2008-5\r"
       ]
      },
      {
       "output_type": "stream",
       "stream": "stdout",
       "text": [
        "                      \r",
        "[219/3600] KIND 2008-5\r"
       ]
      },
      {
       "output_type": "stream",
       "stream": "stdout",
       "text": [
        "                      \r",
        "[220/3600] KJFK 2008-5\r"
       ]
      },
      {
       "output_type": "stream",
       "stream": "stdout",
       "text": [
        "                      \r",
        "[221/3600] KLAS 2008-5\r"
       ]
      },
      {
       "output_type": "stream",
       "stream": "stdout",
       "text": [
        "                      \r",
        "[222/3600] KLAX 2008-5\r"
       ]
      },
      {
       "output_type": "stream",
       "stream": "stdout",
       "text": [
        "                      \r",
        "[223/3600] KLGA 2008-5\r"
       ]
      },
      {
       "output_type": "stream",
       "stream": "stdout",
       "text": [
        "                      \r",
        "[224/3600] KMCI 2008-5\r"
       ]
      },
      {
       "output_type": "stream",
       "stream": "stdout",
       "text": [
        "                      \r",
        "[225/3600] KMCO 2008-5\r"
       ]
      },
      {
       "output_type": "stream",
       "stream": "stdout",
       "text": [
        "                      \r",
        "[226/3600] KMDW 2008-5\r"
       ]
      },
      {
       "output_type": "stream",
       "stream": "stdout",
       "text": [
        "                      \r",
        "[227/3600] KMEM 2008-5\r"
       ]
      },
      {
       "output_type": "stream",
       "stream": "stdout",
       "text": [
        "                      \r",
        "[228/3600] KMIA 2008-5\r"
       ]
      },
      {
       "output_type": "stream",
       "stream": "stdout",
       "text": [
        "                      \r",
        "[229/3600] KMKE 2008-5\r"
       ]
      },
      {
       "output_type": "stream",
       "stream": "stdout",
       "text": [
        "                      \r",
        "[230/3600] KMSP 2008-5\r"
       ]
      },
      {
       "output_type": "stream",
       "stream": "stdout",
       "text": [
        "                      \r",
        "[231/3600] KMSY 2008-5\r"
       ]
      },
      {
       "output_type": "stream",
       "stream": "stdout",
       "text": [
        "                      \r",
        "[232/3600] KOAK 2008-5\r"
       ]
      },
      {
       "output_type": "stream",
       "stream": "stdout",
       "text": [
        "                      \r",
        "[233/3600] KORD 2008-5\r"
       ]
      },
      {
       "output_type": "stream",
       "stream": "stdout",
       "text": [
        "                      \r",
        "[234/3600] KPDX 2008-5\r"
       ]
      },
      {
       "output_type": "stream",
       "stream": "stdout",
       "text": [
        "                      \r",
        "[235/3600] KPHL 2008-5\r"
       ]
      },
      {
       "output_type": "stream",
       "stream": "stdout",
       "text": [
        "                      \r",
        "[236/3600] KPHX 2008-5\r"
       ]
      },
      {
       "output_type": "stream",
       "stream": "stdout",
       "text": [
        "                      \r",
        "[237/3600] KPIT 2008-5\r"
       ]
      },
      {
       "output_type": "stream",
       "stream": "stdout",
       "text": [
        "                      \r",
        "[238/3600] KRDU 2008-5\r"
       ]
      },
      {
       "output_type": "stream",
       "stream": "stdout",
       "text": [
        "                      \r",
        "[239/3600] KSAN 2008-5\r"
       ]
      },
      {
       "output_type": "stream",
       "stream": "stdout",
       "text": [
        "                      \r",
        "[240/3600] KSAT 2008-5\r"
       ]
      },
      {
       "output_type": "stream",
       "stream": "stdout",
       "text": [
        "                      \r",
        "[241/3600] KSEA 2008-5\r"
       ]
      },
      {
       "output_type": "stream",
       "stream": "stdout",
       "text": [
        "                      \r",
        "[242/3600] KSFO 2008-5\r"
       ]
      },
      {
       "output_type": "stream",
       "stream": "stdout",
       "text": [
        "                      \r",
        "[243/3600] KSJC 2008-5\r"
       ]
      },
      {
       "output_type": "stream",
       "stream": "stdout",
       "text": [
        "                      \r",
        "[244/3600] KSLC 2008-5\r"
       ]
      },
      {
       "output_type": "stream",
       "stream": "stdout",
       "text": [
        "                      \r",
        "[245/3600] KSMF 2008-5\r"
       ]
      },
      {
       "output_type": "stream",
       "stream": "stdout",
       "text": [
        "                      \r",
        "[246/3600] KSNA 2008-5\r"
       ]
      },
      {
       "output_type": "stream",
       "stream": "stdout",
       "text": [
        "                      \r",
        "[247/3600] KSTL 2008-5\r"
       ]
      },
      {
       "output_type": "stream",
       "stream": "stdout",
       "text": [
        "                      \r",
        "[248/3600] KTPA 2008-5\r"
       ]
      },
      {
       "output_type": "stream",
       "stream": "stdout",
       "text": [
        "                      \r",
        "[249/3600] PHNL 2008-5\r"
       ]
      },
      {
       "output_type": "stream",
       "stream": "stdout",
       "text": [
        "                      \r",
        "[250/3600] TJSJ 2008-5\r"
       ]
      },
      {
       "output_type": "stream",
       "stream": "stdout",
       "text": [
        "                      \r",
        "[251/3600] KATL 2008-6\r"
       ]
      },
      {
       "output_type": "stream",
       "stream": "stdout",
       "text": [
        "                      \r",
        "[252/3600] KAUS 2008-6\r"
       ]
      },
      {
       "output_type": "stream",
       "stream": "stdout",
       "text": [
        "                      \r",
        "[253/3600] KBNA 2008-6\r"
       ]
      },
      {
       "output_type": "stream",
       "stream": "stdout",
       "text": [
        "                      \r",
        "[254/3600] KBOS 2008-6\r"
       ]
      },
      {
       "output_type": "stream",
       "stream": "stdout",
       "text": [
        "                      \r",
        "[255/3600] KBWI 2008-6\r"
       ]
      },
      {
       "output_type": "stream",
       "stream": "stdout",
       "text": [
        "                      \r",
        "[256/3600] KCLE 2008-6\r"
       ]
      },
      {
       "output_type": "stream",
       "stream": "stdout",
       "text": [
        "                      \r",
        "[257/3600] KCLT 2008-6\r"
       ]
      },
      {
       "output_type": "stream",
       "stream": "stdout",
       "text": [
        "                      \r",
        "[258/3600] KCVG 2008-6\r"
       ]
      },
      {
       "output_type": "stream",
       "stream": "stdout",
       "text": [
        "                      \r",
        "[259/3600] KDAL 2008-6\r"
       ]
      },
      {
       "output_type": "stream",
       "stream": "stdout",
       "text": [
        "                      \r",
        "[260/3600] KDCA 2008-6\r"
       ]
      },
      {
       "output_type": "stream",
       "stream": "stdout",
       "text": [
        "                      \r",
        "[261/3600] KDEN 2008-6\r"
       ]
      },
      {
       "output_type": "stream",
       "stream": "stdout",
       "text": [
        "                      \r",
        "[262/3600] KDFW 2008-6\r"
       ]
      },
      {
       "output_type": "stream",
       "stream": "stdout",
       "text": [
        "                      \r",
        "[263/3600] KDTW 2008-6\r"
       ]
      },
      {
       "output_type": "stream",
       "stream": "stdout",
       "text": [
        "                      \r",
        "[264/3600] KEWR 2008-6\r"
       ]
      },
      {
       "output_type": "stream",
       "stream": "stdout",
       "text": [
        "                      \r",
        "[265/3600] KFLL 2008-6\r"
       ]
      },
      {
       "output_type": "stream",
       "stream": "stdout",
       "text": [
        "                      \r",
        "[266/3600] KHOU 2008-6\r"
       ]
      },
      {
       "output_type": "stream",
       "stream": "stdout",
       "text": [
        "                      \r",
        "[267/3600] KIAD 2008-6\r"
       ]
      },
      {
       "output_type": "stream",
       "stream": "stdout",
       "text": [
        "                      \r",
        "[268/3600] KIAH 2008-6\r"
       ]
      },
      {
       "output_type": "stream",
       "stream": "stdout",
       "text": [
        "                      \r",
        "[269/3600] KIND 2008-6\r"
       ]
      },
      {
       "output_type": "stream",
       "stream": "stdout",
       "text": [
        "                      \r",
        "[270/3600] KJFK 2008-6\r"
       ]
      },
      {
       "output_type": "stream",
       "stream": "stdout",
       "text": [
        "                      \r",
        "[271/3600] KLAS 2008-6\r"
       ]
      },
      {
       "output_type": "stream",
       "stream": "stdout",
       "text": [
        "                      \r",
        "[272/3600] KLAX 2008-6\r"
       ]
      },
      {
       "output_type": "stream",
       "stream": "stdout",
       "text": [
        "                      \r",
        "[273/3600] KLGA 2008-6\r"
       ]
      },
      {
       "output_type": "stream",
       "stream": "stdout",
       "text": [
        "                      \r",
        "[274/3600] KMCI 2008-6\r"
       ]
      },
      {
       "output_type": "stream",
       "stream": "stdout",
       "text": [
        "                      \r",
        "[275/3600] KMCO 2008-6\r"
       ]
      },
      {
       "output_type": "stream",
       "stream": "stdout",
       "text": [
        "                      \r",
        "[276/3600] KMDW 2008-6\r"
       ]
      },
      {
       "output_type": "stream",
       "stream": "stdout",
       "text": [
        "                      \r",
        "[277/3600] KMEM 2008-6\r"
       ]
      },
      {
       "output_type": "stream",
       "stream": "stdout",
       "text": [
        "                      \r",
        "[278/3600] KMIA 2008-6\r"
       ]
      },
      {
       "output_type": "stream",
       "stream": "stdout",
       "text": [
        "                      \r",
        "[279/3600] KMKE 2008-6\r"
       ]
      },
      {
       "output_type": "stream",
       "stream": "stdout",
       "text": [
        "                      \r",
        "[280/3600] KMSP 2008-6\r"
       ]
      },
      {
       "output_type": "stream",
       "stream": "stdout",
       "text": [
        "                      \r",
        "[281/3600] KMSY 2008-6\r"
       ]
      },
      {
       "output_type": "stream",
       "stream": "stdout",
       "text": [
        "                      \r",
        "[282/3600] KOAK 2008-6\r"
       ]
      },
      {
       "output_type": "stream",
       "stream": "stdout",
       "text": [
        "                      \r",
        "[283/3600] KORD 2008-6\r"
       ]
      },
      {
       "output_type": "stream",
       "stream": "stdout",
       "text": [
        "                      \r",
        "[284/3600] KPDX 2008-6\r"
       ]
      },
      {
       "output_type": "stream",
       "stream": "stdout",
       "text": [
        "                      \r",
        "[285/3600] KPHL 2008-6\r"
       ]
      },
      {
       "output_type": "stream",
       "stream": "stdout",
       "text": [
        "                      \r",
        "[286/3600] KPHX 2008-6\r"
       ]
      },
      {
       "output_type": "stream",
       "stream": "stdout",
       "text": [
        "                      \r",
        "[287/3600] KPIT 2008-6\r"
       ]
      },
      {
       "output_type": "stream",
       "stream": "stdout",
       "text": [
        "                      \r",
        "[288/3600] KRDU 2008-6\r"
       ]
      },
      {
       "output_type": "stream",
       "stream": "stdout",
       "text": [
        "                      \r",
        "[289/3600] KSAN 2008-6\r"
       ]
      },
      {
       "output_type": "stream",
       "stream": "stdout",
       "text": [
        "                      \r",
        "[290/3600] KSAT 2008-6\r"
       ]
      },
      {
       "output_type": "stream",
       "stream": "stdout",
       "text": [
        "                      \r",
        "[291/3600] KSEA 2008-6\r"
       ]
      },
      {
       "output_type": "stream",
       "stream": "stdout",
       "text": [
        "                      \r",
        "[292/3600] KSFO 2008-6\r"
       ]
      },
      {
       "output_type": "stream",
       "stream": "stdout",
       "text": [
        "                      \r",
        "[293/3600] KSJC 2008-6\r"
       ]
      },
      {
       "output_type": "stream",
       "stream": "stdout",
       "text": [
        "                      \r",
        "[294/3600] KSLC 2008-6\r"
       ]
      },
      {
       "output_type": "stream",
       "stream": "stdout",
       "text": [
        "                      \r",
        "[295/3600] KSMF 2008-6\r"
       ]
      },
      {
       "output_type": "stream",
       "stream": "stdout",
       "text": [
        "                      \r",
        "[296/3600] KSNA 2008-6\r"
       ]
      },
      {
       "output_type": "stream",
       "stream": "stdout",
       "text": [
        "                      \r",
        "[297/3600] KSTL 2008-6\r"
       ]
      },
      {
       "output_type": "stream",
       "stream": "stdout",
       "text": [
        "                      \r",
        "[298/3600] KTPA 2008-6\r"
       ]
      },
      {
       "output_type": "stream",
       "stream": "stdout",
       "text": [
        "                      \r",
        "[299/3600] PHNL 2008-6\r"
       ]
      },
      {
       "output_type": "stream",
       "stream": "stdout",
       "text": [
        "                      \r",
        "[300/3600] TJSJ 2008-6\r"
       ]
      },
      {
       "output_type": "stream",
       "stream": "stdout",
       "text": [
        "                      \r",
        "[301/3600] KATL 2008-7\r"
       ]
      },
      {
       "output_type": "stream",
       "stream": "stdout",
       "text": [
        "                      \r",
        "[302/3600] KAUS 2008-7\r"
       ]
      },
      {
       "output_type": "stream",
       "stream": "stdout",
       "text": [
        "                      \r",
        "[303/3600] KBNA 2008-7\r"
       ]
      },
      {
       "output_type": "stream",
       "stream": "stdout",
       "text": [
        "                      \r",
        "[304/3600] KBOS 2008-7\r"
       ]
      },
      {
       "output_type": "stream",
       "stream": "stdout",
       "text": [
        "                      \r",
        "[305/3600] KBWI 2008-7\r"
       ]
      },
      {
       "output_type": "stream",
       "stream": "stdout",
       "text": [
        "                      \r",
        "[306/3600] KCLE 2008-7\r"
       ]
      },
      {
       "output_type": "stream",
       "stream": "stdout",
       "text": [
        "                      \r",
        "[307/3600] KCLT 2008-7\r"
       ]
      },
      {
       "output_type": "stream",
       "stream": "stdout",
       "text": [
        "                      \r",
        "[308/3600] KCVG 2008-7\r"
       ]
      },
      {
       "output_type": "stream",
       "stream": "stdout",
       "text": [
        "                      \r",
        "[309/3600] KDAL 2008-7\r"
       ]
      },
      {
       "output_type": "stream",
       "stream": "stdout",
       "text": [
        "                      \r",
        "[310/3600] KDCA 2008-7\r"
       ]
      },
      {
       "output_type": "stream",
       "stream": "stdout",
       "text": [
        "                      \r",
        "[311/3600] KDEN 2008-7\r"
       ]
      },
      {
       "output_type": "stream",
       "stream": "stdout",
       "text": [
        "                      \r",
        "[312/3600] KDFW 2008-7\r"
       ]
      },
      {
       "output_type": "stream",
       "stream": "stdout",
       "text": [
        "                      \r",
        "[313/3600] KDTW 2008-7\r"
       ]
      },
      {
       "output_type": "stream",
       "stream": "stdout",
       "text": [
        "                      \r",
        "[314/3600] KEWR 2008-7\r"
       ]
      },
      {
       "output_type": "stream",
       "stream": "stdout",
       "text": [
        "                      \r",
        "[315/3600] KFLL 2008-7\r"
       ]
      },
      {
       "output_type": "stream",
       "stream": "stdout",
       "text": [
        "                      \r",
        "[316/3600] KHOU 2008-7\r"
       ]
      },
      {
       "output_type": "stream",
       "stream": "stdout",
       "text": [
        "                      \r",
        "[317/3600] KIAD 2008-7\r"
       ]
      },
      {
       "output_type": "stream",
       "stream": "stdout",
       "text": [
        "                      \r",
        "[318/3600] KIAH 2008-7\r"
       ]
      },
      {
       "output_type": "stream",
       "stream": "stdout",
       "text": [
        "                      \r",
        "[319/3600] KIND 2008-7\r"
       ]
      },
      {
       "output_type": "stream",
       "stream": "stdout",
       "text": [
        "                      \r",
        "[320/3600] KJFK 2008-7\r"
       ]
      },
      {
       "output_type": "stream",
       "stream": "stdout",
       "text": [
        "                      \r",
        "[321/3600] KLAS 2008-7\r"
       ]
      },
      {
       "output_type": "stream",
       "stream": "stdout",
       "text": [
        "                      \r",
        "[322/3600] KLAX 2008-7\r"
       ]
      },
      {
       "output_type": "stream",
       "stream": "stdout",
       "text": [
        "                      \r",
        "[323/3600] KLGA 2008-7\r"
       ]
      },
      {
       "output_type": "stream",
       "stream": "stdout",
       "text": [
        "                      \r",
        "[324/3600] KMCI 2008-7\r"
       ]
      },
      {
       "output_type": "stream",
       "stream": "stdout",
       "text": [
        "                      \r",
        "[325/3600] KMCO 2008-7\r"
       ]
      },
      {
       "output_type": "stream",
       "stream": "stdout",
       "text": [
        "                      \r",
        "[326/3600] KMDW 2008-7\r"
       ]
      },
      {
       "output_type": "stream",
       "stream": "stdout",
       "text": [
        "                      \r",
        "[327/3600] KMEM 2008-7\r"
       ]
      },
      {
       "output_type": "stream",
       "stream": "stdout",
       "text": [
        "                      \r",
        "[328/3600] KMIA 2008-7\r"
       ]
      },
      {
       "output_type": "stream",
       "stream": "stdout",
       "text": [
        "                      \r",
        "[329/3600] KMKE 2008-7\r"
       ]
      },
      {
       "output_type": "stream",
       "stream": "stdout",
       "text": [
        "                      \r",
        "[330/3600] KMSP 2008-7\r"
       ]
      },
      {
       "output_type": "stream",
       "stream": "stdout",
       "text": [
        "                      \r",
        "[331/3600] KMSY 2008-7\r"
       ]
      },
      {
       "output_type": "stream",
       "stream": "stdout",
       "text": [
        "                      \r",
        "[332/3600] KOAK 2008-7\r"
       ]
      },
      {
       "output_type": "stream",
       "stream": "stdout",
       "text": [
        "                      \r",
        "[333/3600] KORD 2008-7\r"
       ]
      },
      {
       "output_type": "stream",
       "stream": "stdout",
       "text": [
        "                      \r",
        "[334/3600] KPDX 2008-7\r"
       ]
      },
      {
       "output_type": "stream",
       "stream": "stdout",
       "text": [
        "                      \r",
        "[335/3600] KPHL 2008-7\r"
       ]
      },
      {
       "output_type": "stream",
       "stream": "stdout",
       "text": [
        "                      \r",
        "[336/3600] KPHX 2008-7\r"
       ]
      },
      {
       "output_type": "stream",
       "stream": "stdout",
       "text": [
        "                      \r",
        "[337/3600] KPIT 2008-7\r"
       ]
      },
      {
       "output_type": "stream",
       "stream": "stdout",
       "text": [
        "                      \r",
        "[338/3600] KRDU 2008-7\r"
       ]
      },
      {
       "output_type": "stream",
       "stream": "stdout",
       "text": [
        "                      \r",
        "[339/3600] KSAN 2008-7\r"
       ]
      },
      {
       "output_type": "stream",
       "stream": "stdout",
       "text": [
        "                      \r",
        "[340/3600] KSAT 2008-7\r"
       ]
      },
      {
       "output_type": "stream",
       "stream": "stdout",
       "text": [
        "                      \r",
        "[341/3600] KSEA 2008-7\r"
       ]
      },
      {
       "output_type": "stream",
       "stream": "stdout",
       "text": [
        "                      \r",
        "[342/3600] KSFO 2008-7\r"
       ]
      },
      {
       "output_type": "stream",
       "stream": "stdout",
       "text": [
        "                      \r",
        "[343/3600] KSJC 2008-7\r"
       ]
      },
      {
       "output_type": "stream",
       "stream": "stdout",
       "text": [
        "                      \r",
        "[344/3600] KSLC 2008-7\r"
       ]
      },
      {
       "output_type": "stream",
       "stream": "stdout",
       "text": [
        "                      \r",
        "[345/3600] KSMF 2008-7\r"
       ]
      },
      {
       "output_type": "stream",
       "stream": "stdout",
       "text": [
        "                      \r",
        "[346/3600] KSNA 2008-7\r"
       ]
      },
      {
       "output_type": "stream",
       "stream": "stdout",
       "text": [
        "                      \r",
        "[347/3600] KSTL 2008-7\r"
       ]
      },
      {
       "output_type": "stream",
       "stream": "stdout",
       "text": [
        "                      \r",
        "[348/3600] KTPA 2008-7\r"
       ]
      },
      {
       "output_type": "stream",
       "stream": "stdout",
       "text": [
        "                      \r",
        "[349/3600] PHNL 2008-7\r"
       ]
      },
      {
       "output_type": "stream",
       "stream": "stdout",
       "text": [
        "                      \r",
        "[350/3600] TJSJ 2008-7\r"
       ]
      },
      {
       "output_type": "stream",
       "stream": "stdout",
       "text": [
        "                      \r",
        "[351/3600] KATL 2008-8\r"
       ]
      },
      {
       "output_type": "stream",
       "stream": "stdout",
       "text": [
        "                      \r",
        "[352/3600] KAUS 2008-8\r"
       ]
      },
      {
       "output_type": "stream",
       "stream": "stdout",
       "text": [
        "                      \r",
        "[353/3600] KBNA 2008-8\r"
       ]
      },
      {
       "output_type": "stream",
       "stream": "stdout",
       "text": [
        "                      \r",
        "[354/3600] KBOS 2008-8\r"
       ]
      },
      {
       "output_type": "stream",
       "stream": "stdout",
       "text": [
        "                      \r",
        "[355/3600] KBWI 2008-8\r"
       ]
      },
      {
       "output_type": "stream",
       "stream": "stdout",
       "text": [
        "                      \r",
        "[356/3600] KCLE 2008-8\r"
       ]
      },
      {
       "output_type": "stream",
       "stream": "stdout",
       "text": [
        "                      \r",
        "[357/3600] KCLT 2008-8\r"
       ]
      },
      {
       "output_type": "stream",
       "stream": "stdout",
       "text": [
        "                      \r",
        "[358/3600] KCVG 2008-8\r"
       ]
      },
      {
       "output_type": "stream",
       "stream": "stdout",
       "text": [
        "                      \r",
        "[359/3600] KDAL 2008-8\r"
       ]
      },
      {
       "output_type": "stream",
       "stream": "stdout",
       "text": [
        "                      \r",
        "[360/3600] KDCA 2008-8\r"
       ]
      },
      {
       "output_type": "stream",
       "stream": "stdout",
       "text": [
        "                      \r",
        "[361/3600] KDEN 2008-8\r"
       ]
      },
      {
       "output_type": "stream",
       "stream": "stdout",
       "text": [
        "                      \r",
        "[362/3600] KDFW 2008-8\r"
       ]
      },
      {
       "output_type": "stream",
       "stream": "stdout",
       "text": [
        "                      \r",
        "[363/3600] KDTW 2008-8\r"
       ]
      },
      {
       "output_type": "stream",
       "stream": "stdout",
       "text": [
        "                      \r",
        "[364/3600] KEWR 2008-8\r"
       ]
      },
      {
       "output_type": "stream",
       "stream": "stdout",
       "text": [
        "                      \r",
        "[365/3600] KFLL 2008-8\r"
       ]
      },
      {
       "output_type": "stream",
       "stream": "stdout",
       "text": [
        "                      \r",
        "[366/3600] KHOU 2008-8\r"
       ]
      },
      {
       "output_type": "stream",
       "stream": "stdout",
       "text": [
        "                      \r",
        "[367/3600] KIAD 2008-8\r"
       ]
      },
      {
       "output_type": "stream",
       "stream": "stdout",
       "text": [
        "                      \r",
        "[368/3600] KIAH 2008-8\r"
       ]
      },
      {
       "output_type": "stream",
       "stream": "stdout",
       "text": [
        "                      \r",
        "[369/3600] KIND 2008-8\r"
       ]
      },
      {
       "output_type": "stream",
       "stream": "stdout",
       "text": [
        "                      \r",
        "[370/3600] KJFK 2008-8\r"
       ]
      },
      {
       "output_type": "stream",
       "stream": "stdout",
       "text": [
        "                      \r",
        "[371/3600] KLAS 2008-8\r"
       ]
      },
      {
       "output_type": "stream",
       "stream": "stdout",
       "text": [
        "                      \r",
        "[372/3600] KLAX 2008-8\r"
       ]
      },
      {
       "output_type": "stream",
       "stream": "stdout",
       "text": [
        "                      \r",
        "[373/3600] KLGA 2008-8\r"
       ]
      },
      {
       "output_type": "stream",
       "stream": "stdout",
       "text": [
        "                      \r",
        "[374/3600] KMCI 2008-8\r"
       ]
      },
      {
       "output_type": "stream",
       "stream": "stdout",
       "text": [
        "                      \r",
        "[375/3600] KMCO 2008-8\r"
       ]
      },
      {
       "output_type": "stream",
       "stream": "stdout",
       "text": [
        "                      \r",
        "[376/3600] KMDW 2008-8\r"
       ]
      },
      {
       "output_type": "stream",
       "stream": "stdout",
       "text": [
        "                      \r",
        "[377/3600] KMEM 2008-8\r"
       ]
      },
      {
       "output_type": "stream",
       "stream": "stdout",
       "text": [
        "                      \r",
        "[378/3600] KMIA 2008-8\r"
       ]
      },
      {
       "output_type": "stream",
       "stream": "stdout",
       "text": [
        "                      \r",
        "[379/3600] KMKE 2008-8\r"
       ]
      },
      {
       "output_type": "stream",
       "stream": "stdout",
       "text": [
        "                      \r",
        "[380/3600] KMSP 2008-8\r"
       ]
      },
      {
       "output_type": "stream",
       "stream": "stdout",
       "text": [
        "                      \r",
        "[381/3600] KMSY 2008-8\r"
       ]
      },
      {
       "output_type": "stream",
       "stream": "stdout",
       "text": [
        "                      \r",
        "[382/3600] KOAK 2008-8\r"
       ]
      },
      {
       "output_type": "stream",
       "stream": "stdout",
       "text": [
        "                      \r",
        "[383/3600] KORD 2008-8\r"
       ]
      },
      {
       "output_type": "stream",
       "stream": "stdout",
       "text": [
        "                      \r",
        "[384/3600] KPDX 2008-8\r"
       ]
      },
      {
       "output_type": "stream",
       "stream": "stdout",
       "text": [
        "                      \r",
        "[385/3600] KPHL 2008-8\r"
       ]
      },
      {
       "output_type": "stream",
       "stream": "stdout",
       "text": [
        "                      \r",
        "[386/3600] KPHX 2008-8\r"
       ]
      },
      {
       "output_type": "stream",
       "stream": "stdout",
       "text": [
        "                      \r",
        "[387/3600] KPIT 2008-8\r"
       ]
      },
      {
       "output_type": "stream",
       "stream": "stdout",
       "text": [
        "                      \r",
        "[388/3600] KRDU 2008-8\r"
       ]
      },
      {
       "output_type": "stream",
       "stream": "stdout",
       "text": [
        "                      \r",
        "[389/3600] KSAN 2008-8\r"
       ]
      },
      {
       "output_type": "stream",
       "stream": "stdout",
       "text": [
        "                      \r",
        "[390/3600] KSAT 2008-8\r"
       ]
      },
      {
       "output_type": "stream",
       "stream": "stdout",
       "text": [
        "                      \r",
        "[391/3600] KSEA 2008-8\r"
       ]
      },
      {
       "output_type": "stream",
       "stream": "stdout",
       "text": [
        "                      \r",
        "[392/3600] KSFO 2008-8\r"
       ]
      },
      {
       "output_type": "stream",
       "stream": "stdout",
       "text": [
        "                      \r",
        "[393/3600] KSJC 2008-8\r"
       ]
      },
      {
       "output_type": "stream",
       "stream": "stdout",
       "text": [
        "                      \r",
        "[394/3600] KSLC 2008-8\r"
       ]
      },
      {
       "output_type": "stream",
       "stream": "stdout",
       "text": [
        "                      \r",
        "[395/3600] KSMF 2008-8\r"
       ]
      },
      {
       "output_type": "stream",
       "stream": "stdout",
       "text": [
        "                      \r",
        "[396/3600] KSNA 2008-8\r"
       ]
      },
      {
       "output_type": "stream",
       "stream": "stdout",
       "text": [
        "                      \r",
        "[397/3600] KSTL 2008-8\r"
       ]
      },
      {
       "output_type": "stream",
       "stream": "stdout",
       "text": [
        "                      \r",
        "[398/3600] KTPA 2008-8\r"
       ]
      },
      {
       "output_type": "stream",
       "stream": "stdout",
       "text": [
        "                      \r",
        "[399/3600] PHNL 2008-8\r"
       ]
      },
      {
       "output_type": "stream",
       "stream": "stdout",
       "text": [
        "                      \r",
        "[400/3600] TJSJ 2008-8\r"
       ]
      },
      {
       "output_type": "stream",
       "stream": "stdout",
       "text": [
        "                      \r",
        "[401/3600] KATL 2008-9\r"
       ]
      },
      {
       "output_type": "stream",
       "stream": "stdout",
       "text": [
        "                      \r",
        "[402/3600] KAUS 2008-9\r"
       ]
      },
      {
       "output_type": "stream",
       "stream": "stdout",
       "text": [
        "                      \r",
        "[403/3600] KBNA 2008-9\r"
       ]
      },
      {
       "output_type": "stream",
       "stream": "stdout",
       "text": [
        "                      \r",
        "[404/3600] KBOS 2008-9\r"
       ]
      },
      {
       "output_type": "stream",
       "stream": "stdout",
       "text": [
        "                      \r",
        "[405/3600] KBWI 2008-9\r"
       ]
      },
      {
       "output_type": "stream",
       "stream": "stdout",
       "text": [
        "                      \r",
        "[406/3600] KCLE 2008-9\r"
       ]
      },
      {
       "output_type": "stream",
       "stream": "stdout",
       "text": [
        "                      \r",
        "[407/3600] KCLT 2008-9\r"
       ]
      },
      {
       "output_type": "stream",
       "stream": "stdout",
       "text": [
        "                      \r",
        "[408/3600] KCVG 2008-9\r"
       ]
      },
      {
       "output_type": "stream",
       "stream": "stdout",
       "text": [
        "                      \r",
        "[409/3600] KDAL 2008-9\r"
       ]
      },
      {
       "output_type": "stream",
       "stream": "stdout",
       "text": [
        "                      \r",
        "[410/3600] KDCA 2008-9\r"
       ]
      },
      {
       "output_type": "stream",
       "stream": "stdout",
       "text": [
        "                      \r",
        "[411/3600] KDEN 2008-9\r"
       ]
      },
      {
       "output_type": "stream",
       "stream": "stdout",
       "text": [
        "                      \r",
        "[412/3600] KDFW 2008-9\r"
       ]
      },
      {
       "output_type": "stream",
       "stream": "stdout",
       "text": [
        "                      \r",
        "[413/3600] KDTW 2008-9\r"
       ]
      },
      {
       "output_type": "stream",
       "stream": "stdout",
       "text": [
        "                      \r",
        "[414/3600] KEWR 2008-9\r"
       ]
      },
      {
       "output_type": "stream",
       "stream": "stdout",
       "text": [
        "                      \r",
        "[415/3600] KFLL 2008-9\r"
       ]
      },
      {
       "output_type": "stream",
       "stream": "stdout",
       "text": [
        "                      \r",
        "[416/3600] KHOU 2008-9\r"
       ]
      },
      {
       "output_type": "stream",
       "stream": "stdout",
       "text": [
        "                      \r",
        "[417/3600] KIAD 2008-9\r"
       ]
      },
      {
       "output_type": "stream",
       "stream": "stdout",
       "text": [
        "                      \r",
        "[418/3600] KIAH 2008-9\r"
       ]
      },
      {
       "output_type": "stream",
       "stream": "stdout",
       "text": [
        "                      \r",
        "[419/3600] KIND 2008-9\r"
       ]
      },
      {
       "output_type": "stream",
       "stream": "stdout",
       "text": [
        "                      \r",
        "[420/3600] KJFK 2008-9\r"
       ]
      },
      {
       "output_type": "stream",
       "stream": "stdout",
       "text": [
        "                      \r",
        "[421/3600] KLAS 2008-9\r"
       ]
      },
      {
       "output_type": "stream",
       "stream": "stdout",
       "text": [
        "                      \r",
        "[422/3600] KLAX 2008-9\r"
       ]
      },
      {
       "output_type": "stream",
       "stream": "stdout",
       "text": [
        "                      \r",
        "[423/3600] KLGA 2008-9\r"
       ]
      },
      {
       "output_type": "stream",
       "stream": "stdout",
       "text": [
        "                      \r",
        "[424/3600] KMCI 2008-9\r"
       ]
      },
      {
       "output_type": "stream",
       "stream": "stdout",
       "text": [
        "                      \r",
        "[425/3600] KMCO 2008-9\r"
       ]
      },
      {
       "output_type": "stream",
       "stream": "stdout",
       "text": [
        "                      \r",
        "[426/3600] KMDW 2008-9\r"
       ]
      },
      {
       "output_type": "stream",
       "stream": "stdout",
       "text": [
        "                      \r",
        "[427/3600] KMEM 2008-9\r"
       ]
      },
      {
       "output_type": "stream",
       "stream": "stdout",
       "text": [
        "                      \r",
        "[428/3600] KMIA 2008-9\r"
       ]
      },
      {
       "output_type": "stream",
       "stream": "stdout",
       "text": [
        "                      \r",
        "[429/3600] KMKE 2008-9\r"
       ]
      },
      {
       "output_type": "stream",
       "stream": "stdout",
       "text": [
        "                      \r",
        "[430/3600] KMSP 2008-9\r"
       ]
      },
      {
       "output_type": "stream",
       "stream": "stdout",
       "text": [
        "                      \r",
        "[431/3600] KMSY 2008-9\r"
       ]
      },
      {
       "output_type": "stream",
       "stream": "stdout",
       "text": [
        "                      \r",
        "[432/3600] KOAK 2008-9\r"
       ]
      },
      {
       "output_type": "stream",
       "stream": "stdout",
       "text": [
        "                      \r",
        "[433/3600] KORD 2008-9\r"
       ]
      },
      {
       "output_type": "stream",
       "stream": "stdout",
       "text": [
        "                      \r",
        "[434/3600] KPDX 2008-9\r"
       ]
      },
      {
       "output_type": "stream",
       "stream": "stdout",
       "text": [
        "                      \r",
        "[435/3600] KPHL 2008-9\r"
       ]
      },
      {
       "output_type": "stream",
       "stream": "stdout",
       "text": [
        "                      \r",
        "[436/3600] KPHX 2008-9\r"
       ]
      },
      {
       "output_type": "stream",
       "stream": "stdout",
       "text": [
        "                      \r",
        "[437/3600] KPIT 2008-9\r"
       ]
      },
      {
       "output_type": "stream",
       "stream": "stdout",
       "text": [
        "                      \r",
        "[438/3600] KRDU 2008-9\r"
       ]
      },
      {
       "output_type": "stream",
       "stream": "stdout",
       "text": [
        "                      \r",
        "[439/3600] KSAN 2008-9\r"
       ]
      },
      {
       "output_type": "stream",
       "stream": "stdout",
       "text": [
        "                      \r",
        "[440/3600] KSAT 2008-9\r"
       ]
      },
      {
       "output_type": "stream",
       "stream": "stdout",
       "text": [
        "                      \r",
        "[441/3600] KSEA 2008-9\r"
       ]
      },
      {
       "output_type": "stream",
       "stream": "stdout",
       "text": [
        "                      \r",
        "[442/3600] KSFO 2008-9\r"
       ]
      },
      {
       "output_type": "stream",
       "stream": "stdout",
       "text": [
        "                      \r",
        "[443/3600] KSJC 2008-9\r"
       ]
      },
      {
       "output_type": "stream",
       "stream": "stdout",
       "text": [
        "                      \r",
        "[444/3600] KSLC 2008-9\r"
       ]
      },
      {
       "output_type": "stream",
       "stream": "stdout",
       "text": [
        "                      \r",
        "[445/3600] KSMF 2008-9\r"
       ]
      },
      {
       "output_type": "stream",
       "stream": "stdout",
       "text": [
        "                      \r",
        "[446/3600] KSNA 2008-9\r"
       ]
      },
      {
       "output_type": "stream",
       "stream": "stdout",
       "text": [
        "                      \r",
        "[447/3600] KSTL 2008-9\r"
       ]
      },
      {
       "output_type": "stream",
       "stream": "stdout",
       "text": [
        "                      \r",
        "[448/3600] KTPA 2008-9\r"
       ]
      },
      {
       "output_type": "stream",
       "stream": "stdout",
       "text": [
        "                      \r",
        "[449/3600] PHNL 2008-9\r"
       ]
      },
      {
       "output_type": "stream",
       "stream": "stdout",
       "text": [
        "                      \r",
        "[450/3600] TJSJ 2008-9\r"
       ]
      },
      {
       "output_type": "stream",
       "stream": "stdout",
       "text": [
        "                      \r",
        "[451/3600] KATL 2008-10\r"
       ]
      },
      {
       "output_type": "stream",
       "stream": "stdout",
       "text": [
        "                       \r",
        "[452/3600] KAUS 2008-10\r"
       ]
      },
      {
       "output_type": "stream",
       "stream": "stdout",
       "text": [
        "                       \r",
        "[453/3600] KBNA 2008-10\r"
       ]
      },
      {
       "output_type": "stream",
       "stream": "stdout",
       "text": [
        "                       \r",
        "[454/3600] KBOS 2008-10\r"
       ]
      },
      {
       "output_type": "stream",
       "stream": "stdout",
       "text": [
        "                       \r",
        "[455/3600] KBWI 2008-10\r"
       ]
      },
      {
       "output_type": "stream",
       "stream": "stdout",
       "text": [
        "                       \r",
        "[456/3600] KCLE 2008-10\r"
       ]
      },
      {
       "output_type": "stream",
       "stream": "stdout",
       "text": [
        "                       \r",
        "[457/3600] KCLT 2008-10\r"
       ]
      },
      {
       "output_type": "stream",
       "stream": "stdout",
       "text": [
        "                       \r",
        "[458/3600] KCVG 2008-10\r"
       ]
      },
      {
       "output_type": "stream",
       "stream": "stdout",
       "text": [
        "                       \r",
        "[459/3600] KDAL 2008-10\r"
       ]
      },
      {
       "output_type": "stream",
       "stream": "stdout",
       "text": [
        "                       \r",
        "[460/3600] KDCA 2008-10\r"
       ]
      },
      {
       "output_type": "stream",
       "stream": "stdout",
       "text": [
        "                       \r",
        "[461/3600] KDEN 2008-10\r"
       ]
      },
      {
       "output_type": "stream",
       "stream": "stdout",
       "text": [
        "                       \r",
        "[462/3600] KDFW 2008-10\r"
       ]
      },
      {
       "output_type": "stream",
       "stream": "stdout",
       "text": [
        "                       \r",
        "[463/3600] KDTW 2008-10\r"
       ]
      },
      {
       "output_type": "stream",
       "stream": "stdout",
       "text": [
        "                       \r",
        "[464/3600] KEWR 2008-10\r"
       ]
      },
      {
       "output_type": "stream",
       "stream": "stdout",
       "text": [
        "                       \r",
        "[465/3600] KFLL 2008-10\r"
       ]
      },
      {
       "output_type": "stream",
       "stream": "stdout",
       "text": [
        "                       \r",
        "[466/3600] KHOU 2008-10\r"
       ]
      },
      {
       "output_type": "stream",
       "stream": "stdout",
       "text": [
        "                       \r",
        "[467/3600] KIAD 2008-10\r"
       ]
      },
      {
       "output_type": "stream",
       "stream": "stdout",
       "text": [
        "                       \r",
        "[468/3600] KIAH 2008-10\r"
       ]
      },
      {
       "output_type": "stream",
       "stream": "stdout",
       "text": [
        "                       \r",
        "[469/3600] KIND 2008-10\r"
       ]
      },
      {
       "output_type": "stream",
       "stream": "stdout",
       "text": [
        "                       \r",
        "[470/3600] KJFK 2008-10\r"
       ]
      },
      {
       "output_type": "stream",
       "stream": "stdout",
       "text": [
        "                       \r",
        "[471/3600] KLAS 2008-10\r"
       ]
      },
      {
       "output_type": "stream",
       "stream": "stdout",
       "text": [
        "                       \r",
        "[472/3600] KLAX 2008-10\r"
       ]
      },
      {
       "output_type": "stream",
       "stream": "stdout",
       "text": [
        "                       \r",
        "[473/3600] KLGA 2008-10\r"
       ]
      },
      {
       "output_type": "stream",
       "stream": "stdout",
       "text": [
        "                       \r",
        "[474/3600] KMCI 2008-10\r"
       ]
      },
      {
       "output_type": "stream",
       "stream": "stdout",
       "text": [
        "                       \r",
        "[475/3600] KMCO 2008-10\r"
       ]
      },
      {
       "output_type": "stream",
       "stream": "stdout",
       "text": [
        "                       \r",
        "[476/3600] KMDW 2008-10\r"
       ]
      },
      {
       "output_type": "stream",
       "stream": "stdout",
       "text": [
        "                       \r",
        "[477/3600] KMEM 2008-10\r"
       ]
      },
      {
       "output_type": "stream",
       "stream": "stdout",
       "text": [
        "                       \r",
        "[478/3600] KMIA 2008-10\r"
       ]
      },
      {
       "output_type": "stream",
       "stream": "stdout",
       "text": [
        "                       \r",
        "[479/3600] KMKE 2008-10\r"
       ]
      },
      {
       "output_type": "stream",
       "stream": "stdout",
       "text": [
        "                       \r",
        "[480/3600] KMSP 2008-10\r"
       ]
      },
      {
       "output_type": "stream",
       "stream": "stdout",
       "text": [
        "                       \r",
        "[481/3600] KMSY 2008-10\r"
       ]
      },
      {
       "output_type": "stream",
       "stream": "stdout",
       "text": [
        "                       \r",
        "[482/3600] KOAK 2008-10\r"
       ]
      },
      {
       "output_type": "stream",
       "stream": "stdout",
       "text": [
        "                       \r",
        "[483/3600] KORD 2008-10\r"
       ]
      },
      {
       "output_type": "stream",
       "stream": "stdout",
       "text": [
        "                       \r",
        "[484/3600] KPDX 2008-10\r"
       ]
      },
      {
       "output_type": "stream",
       "stream": "stdout",
       "text": [
        "                       \r",
        "[485/3600] KPHL 2008-10\r"
       ]
      },
      {
       "output_type": "stream",
       "stream": "stdout",
       "text": [
        "                       \r",
        "[486/3600] KPHX 2008-10\r"
       ]
      },
      {
       "output_type": "stream",
       "stream": "stdout",
       "text": [
        "                       \r",
        "[487/3600] KPIT 2008-10\r"
       ]
      },
      {
       "output_type": "stream",
       "stream": "stdout",
       "text": [
        "                       \r",
        "[488/3600] KRDU 2008-10\r"
       ]
      },
      {
       "output_type": "stream",
       "stream": "stdout",
       "text": [
        "                       \r",
        "[489/3600] KSAN 2008-10\r"
       ]
      },
      {
       "output_type": "stream",
       "stream": "stdout",
       "text": [
        "                       \r",
        "[490/3600] KSAT 2008-10\r"
       ]
      },
      {
       "output_type": "stream",
       "stream": "stdout",
       "text": [
        "                       \r",
        "[491/3600] KSEA 2008-10\r"
       ]
      },
      {
       "output_type": "stream",
       "stream": "stdout",
       "text": [
        "                       \r",
        "[492/3600] KSFO 2008-10\r"
       ]
      },
      {
       "output_type": "stream",
       "stream": "stdout",
       "text": [
        "                       \r",
        "[493/3600] KSJC 2008-10\r"
       ]
      },
      {
       "output_type": "stream",
       "stream": "stdout",
       "text": [
        "                       \r",
        "[494/3600] KSLC 2008-10\r"
       ]
      },
      {
       "output_type": "stream",
       "stream": "stdout",
       "text": [
        "                       \r",
        "[495/3600] KSMF 2008-10\r"
       ]
      },
      {
       "output_type": "stream",
       "stream": "stdout",
       "text": [
        "                       \r",
        "[496/3600] KSNA 2008-10\r"
       ]
      },
      {
       "output_type": "stream",
       "stream": "stdout",
       "text": [
        "                       \r",
        "[497/3600] KSTL 2008-10\r"
       ]
      },
      {
       "output_type": "stream",
       "stream": "stdout",
       "text": [
        "                       \r",
        "[498/3600] KTPA 2008-10\r"
       ]
      },
      {
       "output_type": "stream",
       "stream": "stdout",
       "text": [
        "                       \r",
        "[499/3600] PHNL 2008-10\r"
       ]
      },
      {
       "output_type": "stream",
       "stream": "stdout",
       "text": [
        "                       \r",
        "[500/3600] TJSJ 2008-10\r"
       ]
      },
      {
       "output_type": "stream",
       "stream": "stdout",
       "text": [
        "                       \r",
        "[501/3600] KATL 2008-11\r"
       ]
      },
      {
       "output_type": "stream",
       "stream": "stdout",
       "text": [
        "                       \r",
        "[502/3600] KAUS 2008-11\r"
       ]
      },
      {
       "output_type": "stream",
       "stream": "stdout",
       "text": [
        "                       \r",
        "[503/3600] KBNA 2008-11\r"
       ]
      },
      {
       "output_type": "stream",
       "stream": "stdout",
       "text": [
        "                       \r",
        "[504/3600] KBOS 2008-11\r"
       ]
      },
      {
       "output_type": "stream",
       "stream": "stdout",
       "text": [
        "                       \r",
        "[505/3600] KBWI 2008-11\r"
       ]
      },
      {
       "output_type": "stream",
       "stream": "stdout",
       "text": [
        "                       \r",
        "[506/3600] KCLE 2008-11\r"
       ]
      },
      {
       "output_type": "stream",
       "stream": "stdout",
       "text": [
        "                       \r",
        "[507/3600] KCLT 2008-11\r"
       ]
      },
      {
       "output_type": "stream",
       "stream": "stdout",
       "text": [
        "                       \r",
        "[508/3600] KCVG 2008-11\r"
       ]
      },
      {
       "output_type": "stream",
       "stream": "stdout",
       "text": [
        "                       \r",
        "[509/3600] KDAL 2008-11\r"
       ]
      },
      {
       "output_type": "stream",
       "stream": "stdout",
       "text": [
        "                       \r",
        "[510/3600] KDCA 2008-11\r"
       ]
      },
      {
       "output_type": "stream",
       "stream": "stdout",
       "text": [
        "                       \r",
        "[511/3600] KDEN 2008-11\r"
       ]
      },
      {
       "output_type": "stream",
       "stream": "stdout",
       "text": [
        "                       \r",
        "[512/3600] KDFW 2008-11\r"
       ]
      },
      {
       "output_type": "stream",
       "stream": "stdout",
       "text": [
        "                       \r",
        "[513/3600] KDTW 2008-11\r"
       ]
      },
      {
       "output_type": "stream",
       "stream": "stdout",
       "text": [
        "                       \r",
        "[514/3600] KEWR 2008-11\r"
       ]
      },
      {
       "output_type": "stream",
       "stream": "stdout",
       "text": [
        "                       \r",
        "[515/3600] KFLL 2008-11\r"
       ]
      },
      {
       "output_type": "stream",
       "stream": "stdout",
       "text": [
        "                       \r",
        "[516/3600] KHOU 2008-11\r"
       ]
      },
      {
       "output_type": "stream",
       "stream": "stdout",
       "text": [
        "                       \r",
        "[517/3600] KIAD 2008-11\r"
       ]
      },
      {
       "output_type": "stream",
       "stream": "stdout",
       "text": [
        "                       \r",
        "[518/3600] KIAH 2008-11\r"
       ]
      },
      {
       "output_type": "stream",
       "stream": "stdout",
       "text": [
        "                       \r",
        "[519/3600] KIND 2008-11\r"
       ]
      },
      {
       "output_type": "stream",
       "stream": "stdout",
       "text": [
        "                       \r",
        "[520/3600] KJFK 2008-11\r"
       ]
      },
      {
       "output_type": "stream",
       "stream": "stdout",
       "text": [
        "                       \r",
        "[521/3600] KLAS 2008-11\r"
       ]
      },
      {
       "output_type": "stream",
       "stream": "stdout",
       "text": [
        "                       \r",
        "[522/3600] KLAX 2008-11\r"
       ]
      },
      {
       "output_type": "stream",
       "stream": "stdout",
       "text": [
        "                       \r",
        "[523/3600] KLGA 2008-11\r"
       ]
      },
      {
       "output_type": "stream",
       "stream": "stdout",
       "text": [
        "                       \r",
        "[524/3600] KMCI 2008-11\r"
       ]
      },
      {
       "output_type": "stream",
       "stream": "stdout",
       "text": [
        "                       \r",
        "[525/3600] KMCO 2008-11\r"
       ]
      },
      {
       "output_type": "stream",
       "stream": "stdout",
       "text": [
        "                       \r",
        "[526/3600] KMDW 2008-11\r"
       ]
      },
      {
       "output_type": "stream",
       "stream": "stdout",
       "text": [
        "                       \r",
        "[527/3600] KMEM 2008-11\r"
       ]
      },
      {
       "output_type": "stream",
       "stream": "stdout",
       "text": [
        "                       \r",
        "[528/3600] KMIA 2008-11\r"
       ]
      },
      {
       "output_type": "stream",
       "stream": "stdout",
       "text": [
        "                       \r",
        "[529/3600] KMKE 2008-11\r"
       ]
      },
      {
       "output_type": "stream",
       "stream": "stdout",
       "text": [
        "                       \r",
        "[530/3600] KMSP 2008-11\r"
       ]
      },
      {
       "output_type": "stream",
       "stream": "stdout",
       "text": [
        "                       \r",
        "[531/3600] KMSY 2008-11\r"
       ]
      },
      {
       "output_type": "stream",
       "stream": "stdout",
       "text": [
        "                       \r",
        "[532/3600] KOAK 2008-11\r"
       ]
      },
      {
       "output_type": "stream",
       "stream": "stdout",
       "text": [
        "                       \r",
        "[533/3600] KORD 2008-11\r"
       ]
      },
      {
       "output_type": "stream",
       "stream": "stdout",
       "text": [
        "                       \r",
        "[534/3600] KPDX 2008-11\r"
       ]
      },
      {
       "output_type": "stream",
       "stream": "stdout",
       "text": [
        "                       \r",
        "[535/3600] KPHL 2008-11\r"
       ]
      },
      {
       "output_type": "stream",
       "stream": "stdout",
       "text": [
        "                       \r",
        "[536/3600] KPHX 2008-11\r"
       ]
      },
      {
       "output_type": "stream",
       "stream": "stdout",
       "text": [
        "                       \r",
        "[537/3600] KPIT 2008-11\r"
       ]
      },
      {
       "output_type": "stream",
       "stream": "stdout",
       "text": [
        "                       \r",
        "[538/3600] KRDU 2008-11\r"
       ]
      },
      {
       "output_type": "stream",
       "stream": "stdout",
       "text": [
        "                       \r",
        "[539/3600] KSAN 2008-11\r"
       ]
      },
      {
       "output_type": "stream",
       "stream": "stdout",
       "text": [
        "                       \r",
        "[540/3600] KSAT 2008-11\r"
       ]
      },
      {
       "output_type": "stream",
       "stream": "stdout",
       "text": [
        "                       \r",
        "[541/3600] KSEA 2008-11\r"
       ]
      },
      {
       "output_type": "stream",
       "stream": "stdout",
       "text": [
        "                       \r",
        "[542/3600] KSFO 2008-11\r"
       ]
      },
      {
       "output_type": "stream",
       "stream": "stdout",
       "text": [
        "                       \r",
        "[543/3600] KSJC 2008-11\r"
       ]
      },
      {
       "output_type": "stream",
       "stream": "stdout",
       "text": [
        "                       \r",
        "[544/3600] KSLC 2008-11\r"
       ]
      },
      {
       "output_type": "stream",
       "stream": "stdout",
       "text": [
        "                       \r",
        "[545/3600] KSMF 2008-11\r"
       ]
      },
      {
       "output_type": "stream",
       "stream": "stdout",
       "text": [
        "                       \r",
        "[546/3600] KSNA 2008-11\r"
       ]
      },
      {
       "output_type": "stream",
       "stream": "stdout",
       "text": [
        "                       \r",
        "[547/3600] KSTL 2008-11\r"
       ]
      },
      {
       "output_type": "stream",
       "stream": "stdout",
       "text": [
        "                       \r",
        "[548/3600] KTPA 2008-11\r"
       ]
      },
      {
       "output_type": "stream",
       "stream": "stdout",
       "text": [
        "                       \r",
        "[549/3600] PHNL 2008-11\r"
       ]
      },
      {
       "output_type": "stream",
       "stream": "stdout",
       "text": [
        "                       \r",
        "[550/3600] TJSJ 2008-11\r"
       ]
      },
      {
       "output_type": "stream",
       "stream": "stdout",
       "text": [
        "                       \r",
        "[551/3600] KATL 2008-12\r"
       ]
      },
      {
       "output_type": "stream",
       "stream": "stdout",
       "text": [
        "                       \r",
        "[552/3600] KAUS 2008-12\r"
       ]
      },
      {
       "output_type": "stream",
       "stream": "stdout",
       "text": [
        "                       \r",
        "[553/3600] KBNA 2008-12\r"
       ]
      },
      {
       "output_type": "stream",
       "stream": "stdout",
       "text": [
        "                       \r",
        "[554/3600] KBOS 2008-12\r"
       ]
      },
      {
       "output_type": "stream",
       "stream": "stdout",
       "text": [
        "                       \r",
        "[555/3600] KBWI 2008-12\r"
       ]
      },
      {
       "output_type": "stream",
       "stream": "stdout",
       "text": [
        "                       \r",
        "[556/3600] KCLE 2008-12\r"
       ]
      },
      {
       "output_type": "stream",
       "stream": "stdout",
       "text": [
        "                       \r",
        "[557/3600] KCLT 2008-12\r"
       ]
      },
      {
       "output_type": "stream",
       "stream": "stdout",
       "text": [
        "                       \r",
        "[558/3600] KCVG 2008-12\r"
       ]
      },
      {
       "output_type": "stream",
       "stream": "stdout",
       "text": [
        "                       \r",
        "[559/3600] KDAL 2008-12\r"
       ]
      },
      {
       "output_type": "stream",
       "stream": "stdout",
       "text": [
        "                       \r",
        "[560/3600] KDCA 2008-12\r"
       ]
      },
      {
       "output_type": "stream",
       "stream": "stdout",
       "text": [
        "                       \r",
        "[561/3600] KDEN 2008-12\r"
       ]
      },
      {
       "output_type": "stream",
       "stream": "stdout",
       "text": [
        "                       \r",
        "[562/3600] KDFW 2008-12\r"
       ]
      },
      {
       "output_type": "stream",
       "stream": "stdout",
       "text": [
        "                       \r",
        "[563/3600] KDTW 2008-12\r"
       ]
      },
      {
       "output_type": "stream",
       "stream": "stdout",
       "text": [
        "                       \r",
        "[564/3600] KEWR 2008-12\r"
       ]
      },
      {
       "output_type": "stream",
       "stream": "stdout",
       "text": [
        "                       \r",
        "[565/3600] KFLL 2008-12\r"
       ]
      },
      {
       "output_type": "stream",
       "stream": "stdout",
       "text": [
        "                       \r",
        "[566/3600] KHOU 2008-12\r"
       ]
      },
      {
       "output_type": "stream",
       "stream": "stdout",
       "text": [
        "                       \r",
        "[567/3600] KIAD 2008-12\r"
       ]
      },
      {
       "output_type": "stream",
       "stream": "stdout",
       "text": [
        "                       \r",
        "[568/3600] KIAH 2008-12\r"
       ]
      },
      {
       "output_type": "stream",
       "stream": "stdout",
       "text": [
        "                       \r",
        "[569/3600] KIND 2008-12\r"
       ]
      },
      {
       "output_type": "stream",
       "stream": "stdout",
       "text": [
        "                       \r",
        "[570/3600] KJFK 2008-12\r"
       ]
      },
      {
       "output_type": "stream",
       "stream": "stdout",
       "text": [
        "                       \r",
        "[571/3600] KLAS 2008-12\r"
       ]
      },
      {
       "output_type": "stream",
       "stream": "stdout",
       "text": [
        "                       \r",
        "[572/3600] KLAX 2008-12\r"
       ]
      },
      {
       "output_type": "stream",
       "stream": "stdout",
       "text": [
        "                       \r",
        "[573/3600] KLGA 2008-12\r"
       ]
      },
      {
       "output_type": "stream",
       "stream": "stdout",
       "text": [
        "                       \r",
        "[574/3600] KMCI 2008-12\r"
       ]
      },
      {
       "output_type": "stream",
       "stream": "stdout",
       "text": [
        "                       \r",
        "[575/3600] KMCO 2008-12\r"
       ]
      },
      {
       "output_type": "stream",
       "stream": "stdout",
       "text": [
        "                       \r",
        "[576/3600] KMDW 2008-12\r"
       ]
      },
      {
       "output_type": "stream",
       "stream": "stdout",
       "text": [
        "                       \r",
        "[577/3600] KMEM 2008-12\r"
       ]
      },
      {
       "output_type": "stream",
       "stream": "stdout",
       "text": [
        "                       \r",
        "[578/3600] KMIA 2008-12\r"
       ]
      },
      {
       "output_type": "stream",
       "stream": "stdout",
       "text": [
        "                       \r",
        "[579/3600] KMKE 2008-12\r"
       ]
      },
      {
       "output_type": "stream",
       "stream": "stdout",
       "text": [
        "                       \r",
        "[580/3600] KMSP 2008-12\r"
       ]
      },
      {
       "output_type": "stream",
       "stream": "stdout",
       "text": [
        "                       \r",
        "[581/3600] KMSY 2008-12\r"
       ]
      },
      {
       "output_type": "stream",
       "stream": "stdout",
       "text": [
        "                       \r",
        "[582/3600] KOAK 2008-12\r"
       ]
      },
      {
       "output_type": "stream",
       "stream": "stdout",
       "text": [
        "                       \r",
        "[583/3600] KORD 2008-12\r"
       ]
      },
      {
       "output_type": "stream",
       "stream": "stdout",
       "text": [
        "                       \r",
        "[584/3600] KPDX 2008-12\r"
       ]
      },
      {
       "output_type": "stream",
       "stream": "stdout",
       "text": [
        "                       \r",
        "[585/3600] KPHL 2008-12\r"
       ]
      },
      {
       "output_type": "stream",
       "stream": "stdout",
       "text": [
        "                       \r",
        "[586/3600] KPHX 2008-12\r"
       ]
      },
      {
       "output_type": "stream",
       "stream": "stdout",
       "text": [
        "                       \r",
        "[587/3600] KPIT 2008-12\r"
       ]
      },
      {
       "output_type": "stream",
       "stream": "stdout",
       "text": [
        "                       \r",
        "[588/3600] KRDU 2008-12\r"
       ]
      },
      {
       "output_type": "stream",
       "stream": "stdout",
       "text": [
        "                       \r",
        "[589/3600] KSAN 2008-12\r"
       ]
      },
      {
       "output_type": "stream",
       "stream": "stdout",
       "text": [
        "                       \r",
        "[590/3600] KSAT 2008-12\r"
       ]
      },
      {
       "output_type": "stream",
       "stream": "stdout",
       "text": [
        "                       \r",
        "[591/3600] KSEA 2008-12\r"
       ]
      },
      {
       "output_type": "stream",
       "stream": "stdout",
       "text": [
        "                       \r",
        "[592/3600] KSFO 2008-12\r"
       ]
      },
      {
       "output_type": "stream",
       "stream": "stdout",
       "text": [
        "                       \r",
        "[593/3600] KSJC 2008-12\r"
       ]
      },
      {
       "output_type": "stream",
       "stream": "stdout",
       "text": [
        "                       \r",
        "[594/3600] KSLC 2008-12\r"
       ]
      },
      {
       "output_type": "stream",
       "stream": "stdout",
       "text": [
        "                       \r",
        "[595/3600] KSMF 2008-12\r"
       ]
      },
      {
       "output_type": "stream",
       "stream": "stdout",
       "text": [
        "                       \r",
        "[596/3600] KSNA 2008-12\r"
       ]
      },
      {
       "output_type": "stream",
       "stream": "stdout",
       "text": [
        "                       \r",
        "[597/3600] KSTL 2008-12\r"
       ]
      },
      {
       "output_type": "stream",
       "stream": "stdout",
       "text": [
        "                       \r",
        "[598/3600] KTPA 2008-12\r"
       ]
      },
      {
       "output_type": "stream",
       "stream": "stdout",
       "text": [
        "                       \r",
        "[599/3600] PHNL 2008-12\r"
       ]
      },
      {
       "output_type": "stream",
       "stream": "stdout",
       "text": [
        "                       \r",
        "[600/3600] TJSJ 2008-12\r"
       ]
      },
      {
       "output_type": "stream",
       "stream": "stdout",
       "text": [
        "                       \r",
        "[601/3600] KATL 2009-1\r"
       ]
      },
      {
       "output_type": "stream",
       "stream": "stdout",
       "text": [
        "                      \r",
        "[602/3600] KAUS 2009-1\r"
       ]
      },
      {
       "output_type": "stream",
       "stream": "stdout",
       "text": [
        "                      \r",
        "[603/3600] KBNA 2009-1\r"
       ]
      },
      {
       "output_type": "stream",
       "stream": "stdout",
       "text": [
        "                      \r",
        "[604/3600] KBOS 2009-1\r"
       ]
      },
      {
       "output_type": "stream",
       "stream": "stdout",
       "text": [
        "                      \r",
        "[605/3600] KBWI 2009-1\r"
       ]
      },
      {
       "output_type": "stream",
       "stream": "stdout",
       "text": [
        "                      \r",
        "[606/3600] KCLE 2009-1\r"
       ]
      },
      {
       "output_type": "stream",
       "stream": "stdout",
       "text": [
        "                      \r",
        "[607/3600] KCLT 2009-1\r"
       ]
      },
      {
       "output_type": "stream",
       "stream": "stdout",
       "text": [
        "                      \r",
        "[608/3600] KCVG 2009-1\r"
       ]
      },
      {
       "output_type": "stream",
       "stream": "stdout",
       "text": [
        "                      \r",
        "[609/3600] KDAL 2009-1\r"
       ]
      },
      {
       "output_type": "stream",
       "stream": "stdout",
       "text": [
        "                      \r",
        "[610/3600] KDCA 2009-1\r"
       ]
      },
      {
       "output_type": "stream",
       "stream": "stdout",
       "text": [
        "                      \r",
        "[611/3600] KDEN 2009-1\r"
       ]
      },
      {
       "output_type": "stream",
       "stream": "stdout",
       "text": [
        "                      \r",
        "[612/3600] KDFW 2009-1\r"
       ]
      },
      {
       "output_type": "stream",
       "stream": "stdout",
       "text": [
        "                      \r",
        "[613/3600] KDTW 2009-1\r"
       ]
      },
      {
       "output_type": "stream",
       "stream": "stdout",
       "text": [
        "                      \r",
        "[614/3600] KEWR 2009-1\r"
       ]
      },
      {
       "output_type": "stream",
       "stream": "stdout",
       "text": [
        "                      \r",
        "[615/3600] KFLL 2009-1\r"
       ]
      },
      {
       "output_type": "stream",
       "stream": "stdout",
       "text": [
        "                      \r",
        "[616/3600] KHOU 2009-1\r"
       ]
      },
      {
       "output_type": "stream",
       "stream": "stdout",
       "text": [
        "                      \r",
        "[617/3600] KIAD 2009-1\r"
       ]
      },
      {
       "output_type": "stream",
       "stream": "stdout",
       "text": [
        "                      \r",
        "[618/3600] KIAH 2009-1\r"
       ]
      },
      {
       "output_type": "stream",
       "stream": "stdout",
       "text": [
        "                      \r",
        "[619/3600] KIND 2009-1\r"
       ]
      },
      {
       "output_type": "stream",
       "stream": "stdout",
       "text": [
        "                      \r",
        "[620/3600] KJFK 2009-1\r"
       ]
      },
      {
       "output_type": "stream",
       "stream": "stdout",
       "text": [
        "                      \r",
        "[621/3600] KLAS 2009-1\r"
       ]
      },
      {
       "output_type": "stream",
       "stream": "stdout",
       "text": [
        "                      \r",
        "[622/3600] KLAX 2009-1\r"
       ]
      },
      {
       "output_type": "stream",
       "stream": "stdout",
       "text": [
        "                      \r",
        "[623/3600] KLGA 2009-1\r"
       ]
      },
      {
       "output_type": "stream",
       "stream": "stdout",
       "text": [
        "                      \r",
        "[624/3600] KMCI 2009-1\r"
       ]
      },
      {
       "output_type": "stream",
       "stream": "stdout",
       "text": [
        "                      \r",
        "[625/3600] KMCO 2009-1\r"
       ]
      },
      {
       "output_type": "stream",
       "stream": "stdout",
       "text": [
        "                      \r",
        "[626/3600] KMDW 2009-1\r"
       ]
      },
      {
       "output_type": "stream",
       "stream": "stdout",
       "text": [
        "                      \r",
        "[627/3600] KMEM 2009-1\r"
       ]
      },
      {
       "output_type": "stream",
       "stream": "stdout",
       "text": [
        "                      \r",
        "[628/3600] KMIA 2009-1\r"
       ]
      },
      {
       "output_type": "stream",
       "stream": "stdout",
       "text": [
        "                      \r",
        "[629/3600] KMKE 2009-1\r"
       ]
      },
      {
       "output_type": "stream",
       "stream": "stdout",
       "text": [
        "                      \r",
        "[630/3600] KMSP 2009-1\r"
       ]
      },
      {
       "output_type": "stream",
       "stream": "stdout",
       "text": [
        "                      \r",
        "[631/3600] KMSY 2009-1\r"
       ]
      },
      {
       "output_type": "stream",
       "stream": "stdout",
       "text": [
        "                      \r",
        "[632/3600] KOAK 2009-1\r"
       ]
      },
      {
       "output_type": "stream",
       "stream": "stdout",
       "text": [
        "                      \r",
        "[633/3600] KORD 2009-1\r"
       ]
      },
      {
       "output_type": "stream",
       "stream": "stdout",
       "text": [
        "                      \r",
        "[634/3600] KPDX 2009-1\r"
       ]
      },
      {
       "output_type": "stream",
       "stream": "stdout",
       "text": [
        "                      \r",
        "[635/3600] KPHL 2009-1\r"
       ]
      },
      {
       "output_type": "stream",
       "stream": "stdout",
       "text": [
        "                      \r",
        "[636/3600] KPHX 2009-1\r"
       ]
      },
      {
       "output_type": "stream",
       "stream": "stdout",
       "text": [
        "                      \r",
        "[637/3600] KPIT 2009-1\r"
       ]
      },
      {
       "output_type": "stream",
       "stream": "stdout",
       "text": [
        "                      \r",
        "[638/3600] KRDU 2009-1\r"
       ]
      },
      {
       "output_type": "stream",
       "stream": "stdout",
       "text": [
        "                      \r",
        "[639/3600] KSAN 2009-1\r"
       ]
      },
      {
       "output_type": "stream",
       "stream": "stdout",
       "text": [
        "                      \r",
        "[640/3600] KSAT 2009-1\r"
       ]
      },
      {
       "output_type": "stream",
       "stream": "stdout",
       "text": [
        "                      \r",
        "[641/3600] KSEA 2009-1\r"
       ]
      },
      {
       "output_type": "stream",
       "stream": "stdout",
       "text": [
        "                      \r",
        "[642/3600] KSFO 2009-1\r"
       ]
      },
      {
       "output_type": "stream",
       "stream": "stdout",
       "text": [
        "                      \r",
        "[643/3600] KSJC 2009-1\r"
       ]
      },
      {
       "output_type": "stream",
       "stream": "stdout",
       "text": [
        "                      \r",
        "[644/3600] KSLC 2009-1\r"
       ]
      },
      {
       "output_type": "stream",
       "stream": "stdout",
       "text": [
        "                      \r",
        "[645/3600] KSMF 2009-1\r"
       ]
      },
      {
       "output_type": "stream",
       "stream": "stdout",
       "text": [
        "                      \r",
        "[646/3600] KSNA 2009-1\r"
       ]
      },
      {
       "output_type": "stream",
       "stream": "stdout",
       "text": [
        "                      \r",
        "[647/3600] KSTL 2009-1\r"
       ]
      },
      {
       "output_type": "stream",
       "stream": "stdout",
       "text": [
        "                      \r",
        "[648/3600] KTPA 2009-1\r"
       ]
      },
      {
       "output_type": "stream",
       "stream": "stdout",
       "text": [
        "                      \r",
        "[649/3600] PHNL 2009-1\r"
       ]
      },
      {
       "output_type": "stream",
       "stream": "stdout",
       "text": [
        "                      \r",
        "[650/3600] TJSJ 2009-1\r"
       ]
      },
      {
       "output_type": "stream",
       "stream": "stdout",
       "text": [
        "                      \r",
        "[651/3600] KATL 2009-2\r"
       ]
      },
      {
       "output_type": "stream",
       "stream": "stdout",
       "text": [
        "                      \r",
        "[652/3600] KAUS 2009-2\r"
       ]
      },
      {
       "output_type": "stream",
       "stream": "stdout",
       "text": [
        "                      \r",
        "[653/3600] KBNA 2009-2\r"
       ]
      },
      {
       "output_type": "stream",
       "stream": "stdout",
       "text": [
        "                      \r",
        "[654/3600] KBOS 2009-2\r"
       ]
      },
      {
       "output_type": "stream",
       "stream": "stdout",
       "text": [
        "                      \r",
        "[655/3600] KBWI 2009-2\r"
       ]
      },
      {
       "output_type": "stream",
       "stream": "stdout",
       "text": [
        "                      \r",
        "[656/3600] KCLE 2009-2\r"
       ]
      },
      {
       "output_type": "stream",
       "stream": "stdout",
       "text": [
        "                      \r",
        "[657/3600] KCLT 2009-2\r"
       ]
      },
      {
       "output_type": "stream",
       "stream": "stdout",
       "text": [
        "                      \r",
        "[658/3600] KCVG 2009-2\r"
       ]
      },
      {
       "output_type": "stream",
       "stream": "stdout",
       "text": [
        "                      \r",
        "[659/3600] KDAL 2009-2\r"
       ]
      },
      {
       "output_type": "stream",
       "stream": "stdout",
       "text": [
        "                      \r",
        "[660/3600] KDCA 2009-2\r"
       ]
      },
      {
       "output_type": "stream",
       "stream": "stdout",
       "text": [
        "                      \r",
        "[661/3600] KDEN 2009-2\r"
       ]
      },
      {
       "output_type": "stream",
       "stream": "stdout",
       "text": [
        "                      \r",
        "[662/3600] KDFW 2009-2\r"
       ]
      },
      {
       "output_type": "stream",
       "stream": "stdout",
       "text": [
        "                      \r",
        "[663/3600] KDTW 2009-2\r"
       ]
      },
      {
       "output_type": "stream",
       "stream": "stdout",
       "text": [
        "                      \r",
        "[664/3600] KEWR 2009-2\r"
       ]
      },
      {
       "output_type": "stream",
       "stream": "stdout",
       "text": [
        "                      \r",
        "[665/3600] KFLL 2009-2\r"
       ]
      },
      {
       "output_type": "stream",
       "stream": "stdout",
       "text": [
        "                      \r",
        "[666/3600] KHOU 2009-2\r"
       ]
      },
      {
       "output_type": "stream",
       "stream": "stdout",
       "text": [
        "                      \r",
        "[667/3600] KIAD 2009-2\r"
       ]
      },
      {
       "output_type": "stream",
       "stream": "stdout",
       "text": [
        "                      \r",
        "[668/3600] KIAH 2009-2\r"
       ]
      },
      {
       "output_type": "stream",
       "stream": "stdout",
       "text": [
        "                      \r",
        "[669/3600] KIND 2009-2\r"
       ]
      },
      {
       "output_type": "stream",
       "stream": "stdout",
       "text": [
        "                      \r",
        "[670/3600] KJFK 2009-2\r"
       ]
      },
      {
       "output_type": "stream",
       "stream": "stdout",
       "text": [
        "                      \r",
        "[671/3600] KLAS 2009-2\r"
       ]
      },
      {
       "output_type": "stream",
       "stream": "stdout",
       "text": [
        "                      \r",
        "[672/3600] KLAX 2009-2\r"
       ]
      },
      {
       "output_type": "stream",
       "stream": "stdout",
       "text": [
        "                      \r",
        "[673/3600] KLGA 2009-2\r"
       ]
      },
      {
       "output_type": "stream",
       "stream": "stdout",
       "text": [
        "                      \r",
        "[674/3600] KMCI 2009-2\r"
       ]
      },
      {
       "output_type": "stream",
       "stream": "stdout",
       "text": [
        "                      \r",
        "[675/3600] KMCO 2009-2\r"
       ]
      },
      {
       "output_type": "stream",
       "stream": "stdout",
       "text": [
        "                      \r",
        "[676/3600] KMDW 2009-2\r"
       ]
      },
      {
       "output_type": "stream",
       "stream": "stdout",
       "text": [
        "                      \r",
        "[677/3600] KMEM 2009-2\r"
       ]
      },
      {
       "output_type": "stream",
       "stream": "stdout",
       "text": [
        "                      \r",
        "[678/3600] KMIA 2009-2\r"
       ]
      },
      {
       "output_type": "stream",
       "stream": "stdout",
       "text": [
        "                      \r",
        "[679/3600] KMKE 2009-2\r"
       ]
      },
      {
       "output_type": "stream",
       "stream": "stdout",
       "text": [
        "                      \r",
        "[680/3600] KMSP 2009-2\r"
       ]
      },
      {
       "output_type": "stream",
       "stream": "stdout",
       "text": [
        "                      \r",
        "[681/3600] KMSY 2009-2\r"
       ]
      },
      {
       "output_type": "stream",
       "stream": "stdout",
       "text": [
        "                      \r",
        "[682/3600] KOAK 2009-2\r"
       ]
      },
      {
       "output_type": "stream",
       "stream": "stdout",
       "text": [
        "                      \r",
        "[683/3600] KORD 2009-2\r"
       ]
      },
      {
       "output_type": "stream",
       "stream": "stdout",
       "text": [
        "                      \r",
        "[684/3600] KPDX 2009-2\r"
       ]
      },
      {
       "output_type": "stream",
       "stream": "stdout",
       "text": [
        "                      \r",
        "[685/3600] KPHL 2009-2\r"
       ]
      },
      {
       "output_type": "stream",
       "stream": "stdout",
       "text": [
        "                      \r",
        "[686/3600] KPHX 2009-2\r"
       ]
      },
      {
       "output_type": "stream",
       "stream": "stdout",
       "text": [
        "                      \r",
        "[687/3600] KPIT 2009-2\r"
       ]
      },
      {
       "output_type": "stream",
       "stream": "stdout",
       "text": [
        "                      \r",
        "[688/3600] KRDU 2009-2\r"
       ]
      },
      {
       "output_type": "stream",
       "stream": "stdout",
       "text": [
        "                      \r",
        "[689/3600] KSAN 2009-2\r"
       ]
      },
      {
       "output_type": "stream",
       "stream": "stdout",
       "text": [
        "                      \r",
        "[690/3600] KSAT 2009-2\r"
       ]
      },
      {
       "output_type": "stream",
       "stream": "stdout",
       "text": [
        "                      \r",
        "[691/3600] KSEA 2009-2\r"
       ]
      },
      {
       "output_type": "stream",
       "stream": "stdout",
       "text": [
        "                      \r",
        "[692/3600] KSFO 2009-2\r"
       ]
      },
      {
       "output_type": "stream",
       "stream": "stdout",
       "text": [
        "                      \r",
        "[693/3600] KSJC 2009-2\r"
       ]
      },
      {
       "output_type": "stream",
       "stream": "stdout",
       "text": [
        "                      \r",
        "[694/3600] KSLC 2009-2\r"
       ]
      },
      {
       "output_type": "stream",
       "stream": "stdout",
       "text": [
        "                      \r",
        "[695/3600] KSMF 2009-2\r"
       ]
      },
      {
       "output_type": "stream",
       "stream": "stdout",
       "text": [
        "                      \r",
        "[696/3600] KSNA 2009-2\r"
       ]
      },
      {
       "output_type": "stream",
       "stream": "stdout",
       "text": [
        "                      \r",
        "[697/3600] KSTL 2009-2\r"
       ]
      },
      {
       "output_type": "stream",
       "stream": "stdout",
       "text": [
        "                      \r",
        "[698/3600] KTPA 2009-2\r"
       ]
      },
      {
       "output_type": "stream",
       "stream": "stdout",
       "text": [
        "                      \r",
        "[699/3600] PHNL 2009-2\r"
       ]
      },
      {
       "output_type": "stream",
       "stream": "stdout",
       "text": [
        "                      \r",
        "[700/3600] TJSJ 2009-2\r"
       ]
      },
      {
       "output_type": "stream",
       "stream": "stdout",
       "text": [
        "                      \r",
        "[701/3600] KATL 2009-3\r"
       ]
      },
      {
       "output_type": "stream",
       "stream": "stdout",
       "text": [
        "                      \r",
        "[702/3600] KAUS 2009-3\r"
       ]
      },
      {
       "output_type": "stream",
       "stream": "stdout",
       "text": [
        "                      \r",
        "[703/3600] KBNA 2009-3\r"
       ]
      },
      {
       "output_type": "stream",
       "stream": "stdout",
       "text": [
        "                      \r",
        "[704/3600] KBOS 2009-3\r"
       ]
      },
      {
       "output_type": "stream",
       "stream": "stdout",
       "text": [
        "                      \r",
        "[705/3600] KBWI 2009-3\r"
       ]
      },
      {
       "output_type": "stream",
       "stream": "stdout",
       "text": [
        "                      \r",
        "[706/3600] KCLE 2009-3\r"
       ]
      },
      {
       "output_type": "stream",
       "stream": "stdout",
       "text": [
        "                      \r",
        "[707/3600] KCLT 2009-3\r"
       ]
      },
      {
       "output_type": "stream",
       "stream": "stdout",
       "text": [
        "                      \r",
        "[708/3600] KCVG 2009-3\r"
       ]
      },
      {
       "output_type": "stream",
       "stream": "stdout",
       "text": [
        "                      \r",
        "[709/3600] KDAL 2009-3\r"
       ]
      },
      {
       "output_type": "stream",
       "stream": "stdout",
       "text": [
        "                      \r",
        "[710/3600] KDCA 2009-3\r"
       ]
      },
      {
       "output_type": "stream",
       "stream": "stdout",
       "text": [
        "                      \r",
        "[711/3600] KDEN 2009-3\r"
       ]
      },
      {
       "output_type": "stream",
       "stream": "stdout",
       "text": [
        "                      \r",
        "[712/3600] KDFW 2009-3\r"
       ]
      },
      {
       "output_type": "stream",
       "stream": "stdout",
       "text": [
        "                      \r",
        "[713/3600] KDTW 2009-3\r"
       ]
      },
      {
       "output_type": "stream",
       "stream": "stdout",
       "text": [
        "                      \r",
        "[714/3600] KEWR 2009-3\r"
       ]
      },
      {
       "output_type": "stream",
       "stream": "stdout",
       "text": [
        "                      \r",
        "[715/3600] KFLL 2009-3\r"
       ]
      },
      {
       "output_type": "stream",
       "stream": "stdout",
       "text": [
        "                      \r",
        "[716/3600] KHOU 2009-3\r"
       ]
      },
      {
       "output_type": "stream",
       "stream": "stdout",
       "text": [
        "                      \r",
        "[717/3600] KIAD 2009-3\r"
       ]
      },
      {
       "output_type": "stream",
       "stream": "stdout",
       "text": [
        "                      \r",
        "[718/3600] KIAH 2009-3\r"
       ]
      },
      {
       "output_type": "stream",
       "stream": "stdout",
       "text": [
        "                      \r",
        "[719/3600] KIND 2009-3\r"
       ]
      },
      {
       "output_type": "stream",
       "stream": "stdout",
       "text": [
        "                      \r",
        "[720/3600] KJFK 2009-3\r"
       ]
      },
      {
       "output_type": "stream",
       "stream": "stdout",
       "text": [
        "                      \r",
        "[721/3600] KLAS 2009-3\r"
       ]
      },
      {
       "output_type": "stream",
       "stream": "stdout",
       "text": [
        "                      \r",
        "[722/3600] KLAX 2009-3\r"
       ]
      },
      {
       "output_type": "stream",
       "stream": "stdout",
       "text": [
        "                      \r",
        "[723/3600] KLGA 2009-3\r"
       ]
      },
      {
       "output_type": "stream",
       "stream": "stdout",
       "text": [
        "                      \r",
        "[724/3600] KMCI 2009-3\r"
       ]
      },
      {
       "output_type": "stream",
       "stream": "stdout",
       "text": [
        "                      \r",
        "[725/3600] KMCO 2009-3\r"
       ]
      },
      {
       "output_type": "stream",
       "stream": "stdout",
       "text": [
        "                      \r",
        "[726/3600] KMDW 2009-3\r"
       ]
      },
      {
       "output_type": "stream",
       "stream": "stdout",
       "text": [
        "                      \r",
        "[727/3600] KMEM 2009-3\r"
       ]
      },
      {
       "output_type": "stream",
       "stream": "stdout",
       "text": [
        "                      \r",
        "[728/3600] KMIA 2009-3\r"
       ]
      },
      {
       "output_type": "stream",
       "stream": "stdout",
       "text": [
        "                      \r",
        "[729/3600] KMKE 2009-3\r"
       ]
      },
      {
       "output_type": "stream",
       "stream": "stdout",
       "text": [
        "                      \r",
        "[730/3600] KMSP 2009-3\r"
       ]
      },
      {
       "output_type": "stream",
       "stream": "stdout",
       "text": [
        "                      \r",
        "[731/3600] KMSY 2009-3\r"
       ]
      },
      {
       "output_type": "stream",
       "stream": "stdout",
       "text": [
        "                      \r",
        "[732/3600] KOAK 2009-3\r"
       ]
      },
      {
       "output_type": "stream",
       "stream": "stdout",
       "text": [
        "                      \r",
        "[733/3600] KORD 2009-3\r"
       ]
      },
      {
       "output_type": "stream",
       "stream": "stdout",
       "text": [
        "                      \r",
        "[734/3600] KPDX 2009-3\r"
       ]
      },
      {
       "output_type": "stream",
       "stream": "stdout",
       "text": [
        "                      \r",
        "[735/3600] KPHL 2009-3\r"
       ]
      },
      {
       "output_type": "stream",
       "stream": "stdout",
       "text": [
        "                      \r",
        "[736/3600] KPHX 2009-3\r"
       ]
      },
      {
       "output_type": "stream",
       "stream": "stdout",
       "text": [
        "                      \r",
        "[737/3600] KPIT 2009-3\r"
       ]
      },
      {
       "output_type": "stream",
       "stream": "stdout",
       "text": [
        "                      \r",
        "[738/3600] KRDU 2009-3\r"
       ]
      },
      {
       "output_type": "stream",
       "stream": "stdout",
       "text": [
        "                      \r",
        "[739/3600] KSAN 2009-3\r"
       ]
      },
      {
       "output_type": "stream",
       "stream": "stdout",
       "text": [
        "                      \r",
        "[740/3600] KSAT 2009-3\r"
       ]
      },
      {
       "output_type": "stream",
       "stream": "stdout",
       "text": [
        "                      \r",
        "[741/3600] KSEA 2009-3\r"
       ]
      },
      {
       "output_type": "stream",
       "stream": "stdout",
       "text": [
        "                      \r",
        "[742/3600] KSFO 2009-3\r"
       ]
      },
      {
       "output_type": "stream",
       "stream": "stdout",
       "text": [
        "                      \r",
        "[743/3600] KSJC 2009-3\r"
       ]
      },
      {
       "output_type": "stream",
       "stream": "stdout",
       "text": [
        "                      \r",
        "[744/3600] KSLC 2009-3\r"
       ]
      },
      {
       "output_type": "stream",
       "stream": "stdout",
       "text": [
        "                      \r",
        "[745/3600] KSMF 2009-3\r"
       ]
      },
      {
       "output_type": "stream",
       "stream": "stdout",
       "text": [
        "                      \r",
        "[746/3600] KSNA 2009-3\r"
       ]
      },
      {
       "output_type": "stream",
       "stream": "stdout",
       "text": [
        "                      \r",
        "[747/3600] KSTL 2009-3\r"
       ]
      },
      {
       "output_type": "stream",
       "stream": "stdout",
       "text": [
        "                      \r",
        "[748/3600] KTPA 2009-3\r"
       ]
      },
      {
       "output_type": "stream",
       "stream": "stdout",
       "text": [
        "                      \r",
        "[749/3600] PHNL 2009-3\r"
       ]
      },
      {
       "output_type": "stream",
       "stream": "stdout",
       "text": [
        "                      \r",
        "[750/3600] TJSJ 2009-3\r"
       ]
      },
      {
       "output_type": "stream",
       "stream": "stdout",
       "text": [
        "                      \r",
        "[751/3600] KATL 2009-4\r"
       ]
      },
      {
       "output_type": "stream",
       "stream": "stdout",
       "text": [
        "                      \r",
        "[752/3600] KAUS 2009-4\r"
       ]
      },
      {
       "output_type": "stream",
       "stream": "stdout",
       "text": [
        "                      \r",
        "[753/3600] KBNA 2009-4\r"
       ]
      },
      {
       "output_type": "stream",
       "stream": "stdout",
       "text": [
        "                      \r",
        "[754/3600] KBOS 2009-4\r"
       ]
      },
      {
       "output_type": "stream",
       "stream": "stdout",
       "text": [
        "                      \r",
        "[755/3600] KBWI 2009-4\r"
       ]
      },
      {
       "output_type": "stream",
       "stream": "stdout",
       "text": [
        "                      \r",
        "[756/3600] KCLE 2009-4\r"
       ]
      },
      {
       "output_type": "stream",
       "stream": "stdout",
       "text": [
        "                      \r",
        "[757/3600] KCLT 2009-4\r"
       ]
      },
      {
       "output_type": "stream",
       "stream": "stdout",
       "text": [
        "                      \r",
        "[758/3600] KCVG 2009-4\r"
       ]
      },
      {
       "output_type": "stream",
       "stream": "stdout",
       "text": [
        "                      \r",
        "[759/3600] KDAL 2009-4\r"
       ]
      },
      {
       "output_type": "stream",
       "stream": "stdout",
       "text": [
        "                      \r",
        "[760/3600] KDCA 2009-4\r"
       ]
      },
      {
       "output_type": "stream",
       "stream": "stdout",
       "text": [
        "                      \r",
        "[761/3600] KDEN 2009-4\r"
       ]
      },
      {
       "output_type": "stream",
       "stream": "stdout",
       "text": [
        "                      \r",
        "[762/3600] KDFW 2009-4\r"
       ]
      },
      {
       "output_type": "stream",
       "stream": "stdout",
       "text": [
        "                      \r",
        "[763/3600] KDTW 2009-4\r"
       ]
      },
      {
       "output_type": "stream",
       "stream": "stdout",
       "text": [
        "                      \r",
        "[764/3600] KEWR 2009-4\r"
       ]
      },
      {
       "output_type": "stream",
       "stream": "stdout",
       "text": [
        "                      \r",
        "[765/3600] KFLL 2009-4\r"
       ]
      },
      {
       "output_type": "stream",
       "stream": "stdout",
       "text": [
        "                      \r",
        "[766/3600] KHOU 2009-4\r"
       ]
      },
      {
       "output_type": "stream",
       "stream": "stdout",
       "text": [
        "                      \r",
        "[767/3600] KIAD 2009-4\r"
       ]
      },
      {
       "output_type": "stream",
       "stream": "stdout",
       "text": [
        "                      \r",
        "[768/3600] KIAH 2009-4\r"
       ]
      },
      {
       "output_type": "stream",
       "stream": "stdout",
       "text": [
        "                      \r",
        "[769/3600] KIND 2009-4\r"
       ]
      },
      {
       "output_type": "stream",
       "stream": "stdout",
       "text": [
        "                      \r",
        "[770/3600] KJFK 2009-4\r"
       ]
      },
      {
       "output_type": "stream",
       "stream": "stdout",
       "text": [
        "                      \r",
        "[771/3600] KLAS 2009-4\r"
       ]
      },
      {
       "output_type": "stream",
       "stream": "stdout",
       "text": [
        "                      \r",
        "[772/3600] KLAX 2009-4\r"
       ]
      },
      {
       "output_type": "stream",
       "stream": "stdout",
       "text": [
        "                      \r",
        "[773/3600] KLGA 2009-4\r"
       ]
      },
      {
       "output_type": "stream",
       "stream": "stdout",
       "text": [
        "                      \r",
        "[774/3600] KMCI 2009-4\r"
       ]
      },
      {
       "output_type": "stream",
       "stream": "stdout",
       "text": [
        "                      \r",
        "[775/3600] KMCO 2009-4\r"
       ]
      },
      {
       "output_type": "stream",
       "stream": "stdout",
       "text": [
        "                      \r",
        "[776/3600] KMDW 2009-4\r"
       ]
      },
      {
       "output_type": "stream",
       "stream": "stdout",
       "text": [
        "                      \r",
        "[777/3600] KMEM 2009-4\r"
       ]
      },
      {
       "output_type": "stream",
       "stream": "stdout",
       "text": [
        "                      \r",
        "[778/3600] KMIA 2009-4\r"
       ]
      },
      {
       "output_type": "stream",
       "stream": "stdout",
       "text": [
        "                      \r",
        "[779/3600] KMKE 2009-4\r"
       ]
      },
      {
       "output_type": "stream",
       "stream": "stdout",
       "text": [
        "                      \r",
        "[780/3600] KMSP 2009-4\r"
       ]
      },
      {
       "output_type": "stream",
       "stream": "stdout",
       "text": [
        "                      \r",
        "[781/3600] KMSY 2009-4\r"
       ]
      },
      {
       "output_type": "stream",
       "stream": "stdout",
       "text": [
        "                      \r",
        "[782/3600] KOAK 2009-4\r"
       ]
      },
      {
       "output_type": "stream",
       "stream": "stdout",
       "text": [
        "                      \r",
        "[783/3600] KORD 2009-4\r"
       ]
      },
      {
       "output_type": "stream",
       "stream": "stdout",
       "text": [
        "                      \r",
        "[784/3600] KPDX 2009-4\r"
       ]
      },
      {
       "output_type": "stream",
       "stream": "stdout",
       "text": [
        "                      \r",
        "[785/3600] KPHL 2009-4\r"
       ]
      },
      {
       "output_type": "stream",
       "stream": "stdout",
       "text": [
        "                      \r",
        "[786/3600] KPHX 2009-4\r"
       ]
      },
      {
       "output_type": "stream",
       "stream": "stdout",
       "text": [
        "                      \r",
        "[787/3600] KPIT 2009-4\r"
       ]
      },
      {
       "output_type": "stream",
       "stream": "stdout",
       "text": [
        "                      \r",
        "[788/3600] KRDU 2009-4\r"
       ]
      },
      {
       "output_type": "stream",
       "stream": "stdout",
       "text": [
        "                      \r",
        "[789/3600] KSAN 2009-4\r"
       ]
      },
      {
       "output_type": "stream",
       "stream": "stdout",
       "text": [
        "                      \r",
        "[790/3600] KSAT 2009-4\r"
       ]
      },
      {
       "output_type": "stream",
       "stream": "stdout",
       "text": [
        "                      \r",
        "[791/3600] KSEA 2009-4\r"
       ]
      },
      {
       "output_type": "stream",
       "stream": "stdout",
       "text": [
        "                      \r",
        "[792/3600] KSFO 2009-4\r"
       ]
      },
      {
       "output_type": "stream",
       "stream": "stdout",
       "text": [
        "                      \r",
        "[793/3600] KSJC 2009-4\r"
       ]
      },
      {
       "output_type": "stream",
       "stream": "stdout",
       "text": [
        "                      \r",
        "[794/3600] KSLC 2009-4\r"
       ]
      },
      {
       "output_type": "stream",
       "stream": "stdout",
       "text": [
        "                      \r",
        "[795/3600] KSMF 2009-4\r"
       ]
      },
      {
       "output_type": "stream",
       "stream": "stdout",
       "text": [
        "                      \r",
        "[796/3600] KSNA 2009-4\r"
       ]
      },
      {
       "output_type": "stream",
       "stream": "stdout",
       "text": [
        "                      \r",
        "[797/3600] KSTL 2009-4\r"
       ]
      },
      {
       "output_type": "stream",
       "stream": "stdout",
       "text": [
        "                      \r",
        "[798/3600] KTPA 2009-4\r"
       ]
      },
      {
       "output_type": "stream",
       "stream": "stdout",
       "text": [
        "                      \r",
        "[799/3600] PHNL 2009-4\r"
       ]
      },
      {
       "output_type": "stream",
       "stream": "stdout",
       "text": [
        "                      \r",
        "[800/3600] TJSJ 2009-4\r"
       ]
      },
      {
       "output_type": "stream",
       "stream": "stdout",
       "text": [
        "                      \r",
        "[801/3600] KATL 2009-5\r"
       ]
      },
      {
       "output_type": "stream",
       "stream": "stdout",
       "text": [
        "                      \r",
        "[802/3600] KAUS 2009-5\r"
       ]
      },
      {
       "output_type": "stream",
       "stream": "stdout",
       "text": [
        "                      \r",
        "[803/3600] KBNA 2009-5\r"
       ]
      },
      {
       "output_type": "stream",
       "stream": "stdout",
       "text": [
        "                      \r",
        "[804/3600] KBOS 2009-5\r"
       ]
      },
      {
       "output_type": "stream",
       "stream": "stdout",
       "text": [
        "                      \r",
        "[805/3600] KBWI 2009-5\r"
       ]
      },
      {
       "output_type": "stream",
       "stream": "stdout",
       "text": [
        "                      \r",
        "[806/3600] KCLE 2009-5\r"
       ]
      },
      {
       "output_type": "stream",
       "stream": "stdout",
       "text": [
        "                      \r",
        "[807/3600] KCLT 2009-5\r"
       ]
      },
      {
       "output_type": "stream",
       "stream": "stdout",
       "text": [
        "                      \r",
        "[808/3600] KCVG 2009-5\r"
       ]
      },
      {
       "output_type": "stream",
       "stream": "stdout",
       "text": [
        "                      \r",
        "[809/3600] KDAL 2009-5\r"
       ]
      },
      {
       "output_type": "stream",
       "stream": "stdout",
       "text": [
        "                      \r",
        "[810/3600] KDCA 2009-5\r"
       ]
      },
      {
       "output_type": "stream",
       "stream": "stdout",
       "text": [
        "                      \r",
        "[811/3600] KDEN 2009-5\r"
       ]
      },
      {
       "output_type": "stream",
       "stream": "stdout",
       "text": [
        "                      \r",
        "[812/3600] KDFW 2009-5\r"
       ]
      },
      {
       "output_type": "stream",
       "stream": "stdout",
       "text": [
        "                      \r",
        "[813/3600] KDTW 2009-5\r"
       ]
      },
      {
       "output_type": "stream",
       "stream": "stdout",
       "text": [
        "                      \r",
        "[814/3600] KEWR 2009-5\r"
       ]
      },
      {
       "output_type": "stream",
       "stream": "stdout",
       "text": [
        "                      \r",
        "[815/3600] KFLL 2009-5\r"
       ]
      },
      {
       "output_type": "stream",
       "stream": "stdout",
       "text": [
        "                      \r",
        "[816/3600] KHOU 2009-5\r"
       ]
      },
      {
       "output_type": "stream",
       "stream": "stdout",
       "text": [
        "                      \r",
        "[817/3600] KIAD 2009-5\r"
       ]
      },
      {
       "output_type": "stream",
       "stream": "stdout",
       "text": [
        "                      \r",
        "[818/3600] KIAH 2009-5\r"
       ]
      },
      {
       "output_type": "stream",
       "stream": "stdout",
       "text": [
        "                      \r",
        "[819/3600] KIND 2009-5\r"
       ]
      },
      {
       "output_type": "stream",
       "stream": "stdout",
       "text": [
        "                      \r",
        "[820/3600] KJFK 2009-5\r"
       ]
      },
      {
       "output_type": "stream",
       "stream": "stdout",
       "text": [
        "                      \r",
        "[821/3600] KLAS 2009-5\r"
       ]
      },
      {
       "output_type": "stream",
       "stream": "stdout",
       "text": [
        "                      \r",
        "[822/3600] KLAX 2009-5\r"
       ]
      },
      {
       "output_type": "stream",
       "stream": "stdout",
       "text": [
        "                      \r",
        "[823/3600] KLGA 2009-5\r"
       ]
      },
      {
       "output_type": "stream",
       "stream": "stdout",
       "text": [
        "                      \r",
        "[824/3600] KMCI 2009-5\r"
       ]
      },
      {
       "output_type": "stream",
       "stream": "stdout",
       "text": [
        "                      \r",
        "[825/3600] KMCO 2009-5\r"
       ]
      },
      {
       "output_type": "stream",
       "stream": "stdout",
       "text": [
        "                      \r",
        "[826/3600] KMDW 2009-5\r"
       ]
      },
      {
       "output_type": "stream",
       "stream": "stdout",
       "text": [
        "                      \r",
        "[827/3600] KMEM 2009-5\r"
       ]
      },
      {
       "output_type": "stream",
       "stream": "stdout",
       "text": [
        "                      \r",
        "[828/3600] KMIA 2009-5\r"
       ]
      },
      {
       "output_type": "stream",
       "stream": "stdout",
       "text": [
        "                      \r",
        "[829/3600] KMKE 2009-5\r"
       ]
      },
      {
       "output_type": "stream",
       "stream": "stdout",
       "text": [
        "                      \r",
        "[830/3600] KMSP 2009-5\r"
       ]
      },
      {
       "output_type": "stream",
       "stream": "stdout",
       "text": [
        "                      \r",
        "[831/3600] KMSY 2009-5\r"
       ]
      },
      {
       "output_type": "stream",
       "stream": "stdout",
       "text": [
        "                      \r",
        "[832/3600] KOAK 2009-5\r"
       ]
      },
      {
       "output_type": "stream",
       "stream": "stdout",
       "text": [
        "                      \r",
        "[833/3600] KORD 2009-5\r"
       ]
      },
      {
       "output_type": "stream",
       "stream": "stdout",
       "text": [
        "                      \r",
        "[834/3600] KPDX 2009-5\r"
       ]
      },
      {
       "output_type": "stream",
       "stream": "stdout",
       "text": [
        "                      \r",
        "[835/3600] KPHL 2009-5\r"
       ]
      },
      {
       "output_type": "stream",
       "stream": "stdout",
       "text": [
        "                      \r",
        "[836/3600] KPHX 2009-5\r"
       ]
      },
      {
       "output_type": "stream",
       "stream": "stdout",
       "text": [
        "                      \r",
        "[837/3600] KPIT 2009-5\r"
       ]
      },
      {
       "output_type": "stream",
       "stream": "stdout",
       "text": [
        "                      \r",
        "[838/3600] KRDU 2009-5\r"
       ]
      },
      {
       "output_type": "stream",
       "stream": "stdout",
       "text": [
        "                      \r",
        "[839/3600] KSAN 2009-5\r"
       ]
      },
      {
       "output_type": "stream",
       "stream": "stdout",
       "text": [
        "                      \r",
        "[840/3600] KSAT 2009-5\r"
       ]
      },
      {
       "output_type": "stream",
       "stream": "stdout",
       "text": [
        "                      \r",
        "[841/3600] KSEA 2009-5\r"
       ]
      },
      {
       "output_type": "stream",
       "stream": "stdout",
       "text": [
        "                      \r",
        "[842/3600] KSFO 2009-5\r"
       ]
      },
      {
       "output_type": "stream",
       "stream": "stdout",
       "text": [
        "                      \r",
        "[843/3600] KSJC 2009-5\r"
       ]
      },
      {
       "output_type": "stream",
       "stream": "stdout",
       "text": [
        "                      \r",
        "[844/3600] KSLC 2009-5\r"
       ]
      },
      {
       "output_type": "stream",
       "stream": "stdout",
       "text": [
        "                      \r",
        "[845/3600] KSMF 2009-5\r"
       ]
      },
      {
       "output_type": "stream",
       "stream": "stdout",
       "text": [
        "                      \r",
        "[846/3600] KSNA 2009-5\r"
       ]
      },
      {
       "output_type": "stream",
       "stream": "stdout",
       "text": [
        "                      \r",
        "[847/3600] KSTL 2009-5\r"
       ]
      },
      {
       "output_type": "stream",
       "stream": "stdout",
       "text": [
        "                      \r",
        "[848/3600] KTPA 2009-5\r"
       ]
      },
      {
       "output_type": "stream",
       "stream": "stdout",
       "text": [
        "                      \r",
        "[849/3600] PHNL 2009-5\r"
       ]
      },
      {
       "output_type": "stream",
       "stream": "stdout",
       "text": [
        "                      \r",
        "[850/3600] TJSJ 2009-5\r"
       ]
      },
      {
       "output_type": "stream",
       "stream": "stdout",
       "text": [
        "                      \r",
        "[851/3600] KATL 2009-6\r"
       ]
      },
      {
       "output_type": "stream",
       "stream": "stdout",
       "text": [
        "                      \r",
        "[852/3600] KAUS 2009-6\r"
       ]
      },
      {
       "output_type": "stream",
       "stream": "stdout",
       "text": [
        "                      \r",
        "[853/3600] KBNA 2009-6\r"
       ]
      },
      {
       "output_type": "stream",
       "stream": "stdout",
       "text": [
        "                      \r",
        "[854/3600] KBOS 2009-6\r"
       ]
      },
      {
       "output_type": "stream",
       "stream": "stdout",
       "text": [
        "                      \r",
        "[855/3600] KBWI 2009-6\r"
       ]
      },
      {
       "output_type": "stream",
       "stream": "stdout",
       "text": [
        "                      \r",
        "[856/3600] KCLE 2009-6\r"
       ]
      },
      {
       "output_type": "stream",
       "stream": "stdout",
       "text": [
        "                      \r",
        "[857/3600] KCLT 2009-6\r"
       ]
      },
      {
       "output_type": "stream",
       "stream": "stdout",
       "text": [
        "                      \r",
        "[858/3600] KCVG 2009-6\r"
       ]
      },
      {
       "output_type": "stream",
       "stream": "stdout",
       "text": [
        "                      \r",
        "[859/3600] KDAL 2009-6\r"
       ]
      },
      {
       "output_type": "stream",
       "stream": "stdout",
       "text": [
        "                      \r",
        "[860/3600] KDCA 2009-6\r"
       ]
      },
      {
       "output_type": "stream",
       "stream": "stdout",
       "text": [
        "                      \r",
        "[861/3600] KDEN 2009-6\r"
       ]
      },
      {
       "output_type": "stream",
       "stream": "stdout",
       "text": [
        "                      \r",
        "[862/3600] KDFW 2009-6\r"
       ]
      },
      {
       "output_type": "stream",
       "stream": "stdout",
       "text": [
        "                      \r",
        "[863/3600] KDTW 2009-6\r"
       ]
      },
      {
       "output_type": "stream",
       "stream": "stdout",
       "text": [
        "                      \r",
        "[864/3600] KEWR 2009-6\r"
       ]
      },
      {
       "output_type": "stream",
       "stream": "stdout",
       "text": [
        "                      \r",
        "[865/3600] KFLL 2009-6\r"
       ]
      },
      {
       "output_type": "stream",
       "stream": "stdout",
       "text": [
        "                      \r",
        "[866/3600] KHOU 2009-6\r"
       ]
      },
      {
       "output_type": "stream",
       "stream": "stdout",
       "text": [
        "                      \r",
        "[867/3600] KIAD 2009-6\r"
       ]
      },
      {
       "output_type": "stream",
       "stream": "stdout",
       "text": [
        "                      \r",
        "[868/3600] KIAH 2009-6\r"
       ]
      },
      {
       "output_type": "stream",
       "stream": "stdout",
       "text": [
        "                      \r",
        "[869/3600] KIND 2009-6\r"
       ]
      },
      {
       "output_type": "stream",
       "stream": "stdout",
       "text": [
        "                      \r",
        "[870/3600] KJFK 2009-6\r"
       ]
      },
      {
       "output_type": "stream",
       "stream": "stdout",
       "text": [
        "                      \r",
        "[871/3600] KLAS 2009-6\r"
       ]
      },
      {
       "output_type": "stream",
       "stream": "stdout",
       "text": [
        "                      \r",
        "[872/3600] KLAX 2009-6\r"
       ]
      },
      {
       "output_type": "stream",
       "stream": "stdout",
       "text": [
        "                      \r",
        "[873/3600] KLGA 2009-6\r"
       ]
      },
      {
       "output_type": "stream",
       "stream": "stdout",
       "text": [
        "                      \r",
        "[874/3600] KMCI 2009-6\r"
       ]
      },
      {
       "output_type": "stream",
       "stream": "stdout",
       "text": [
        "                      \r",
        "[875/3600] KMCO 2009-6\r"
       ]
      },
      {
       "output_type": "stream",
       "stream": "stdout",
       "text": [
        "                      \r",
        "[876/3600] KMDW 2009-6\r"
       ]
      },
      {
       "output_type": "stream",
       "stream": "stdout",
       "text": [
        "                      \r",
        "[877/3600] KMEM 2009-6\r"
       ]
      },
      {
       "output_type": "stream",
       "stream": "stdout",
       "text": [
        "                      \r",
        "[878/3600] KMIA 2009-6\r"
       ]
      },
      {
       "output_type": "stream",
       "stream": "stdout",
       "text": [
        "                      \r",
        "[879/3600] KMKE 2009-6\r"
       ]
      },
      {
       "output_type": "stream",
       "stream": "stdout",
       "text": [
        "                      \r",
        "[880/3600] KMSP 2009-6\r"
       ]
      },
      {
       "output_type": "stream",
       "stream": "stdout",
       "text": [
        "                      \r",
        "[881/3600] KMSY 2009-6\r"
       ]
      },
      {
       "output_type": "stream",
       "stream": "stdout",
       "text": [
        "                      \r",
        "[882/3600] KOAK 2009-6\r"
       ]
      },
      {
       "output_type": "stream",
       "stream": "stdout",
       "text": [
        "                      \r",
        "[883/3600] KORD 2009-6\r"
       ]
      },
      {
       "output_type": "stream",
       "stream": "stdout",
       "text": [
        "                      \r",
        "[884/3600] KPDX 2009-6\r"
       ]
      },
      {
       "output_type": "stream",
       "stream": "stdout",
       "text": [
        "                      \r",
        "[885/3600] KPHL 2009-6\r"
       ]
      },
      {
       "output_type": "stream",
       "stream": "stdout",
       "text": [
        "                      \r",
        "[886/3600] KPHX 2009-6\r"
       ]
      },
      {
       "output_type": "stream",
       "stream": "stdout",
       "text": [
        "                      \r",
        "[887/3600] KPIT 2009-6\r"
       ]
      },
      {
       "output_type": "stream",
       "stream": "stdout",
       "text": [
        "                      \r",
        "[888/3600] KRDU 2009-6\r"
       ]
      },
      {
       "output_type": "stream",
       "stream": "stdout",
       "text": [
        "                      \r",
        "[889/3600] KSAN 2009-6\r"
       ]
      },
      {
       "output_type": "stream",
       "stream": "stdout",
       "text": [
        "                      \r",
        "[890/3600] KSAT 2009-6\r"
       ]
      },
      {
       "output_type": "stream",
       "stream": "stdout",
       "text": [
        "                      \r",
        "[891/3600] KSEA 2009-6\r"
       ]
      },
      {
       "output_type": "stream",
       "stream": "stdout",
       "text": [
        "                      \r",
        "[892/3600] KSFO 2009-6\r"
       ]
      },
      {
       "output_type": "stream",
       "stream": "stdout",
       "text": [
        "                      \r",
        "[893/3600] KSJC 2009-6\r"
       ]
      },
      {
       "output_type": "stream",
       "stream": "stdout",
       "text": [
        "                      \r",
        "[894/3600] KSLC 2009-6\r"
       ]
      },
      {
       "output_type": "stream",
       "stream": "stdout",
       "text": [
        "                      \r",
        "[895/3600] KSMF 2009-6\r"
       ]
      },
      {
       "output_type": "stream",
       "stream": "stdout",
       "text": [
        "                      \r",
        "[896/3600] KSNA 2009-6\r"
       ]
      },
      {
       "output_type": "stream",
       "stream": "stdout",
       "text": [
        "                      \r",
        "[897/3600] KSTL 2009-6\r"
       ]
      },
      {
       "output_type": "stream",
       "stream": "stdout",
       "text": [
        "                      \r",
        "[898/3600] KTPA 2009-6\r"
       ]
      },
      {
       "output_type": "stream",
       "stream": "stdout",
       "text": [
        "                      \r",
        "[899/3600] PHNL 2009-6\r"
       ]
      },
      {
       "output_type": "stream",
       "stream": "stdout",
       "text": [
        "                      \r",
        "[900/3600] TJSJ 2009-6\r"
       ]
      },
      {
       "output_type": "stream",
       "stream": "stdout",
       "text": [
        "                      \r",
        "[901/3600] KATL 2009-7\r"
       ]
      },
      {
       "output_type": "stream",
       "stream": "stdout",
       "text": [
        "                      \r",
        "[902/3600] KAUS 2009-7\r"
       ]
      },
      {
       "output_type": "stream",
       "stream": "stdout",
       "text": [
        "                      \r",
        "[903/3600] KBNA 2009-7\r"
       ]
      },
      {
       "output_type": "stream",
       "stream": "stdout",
       "text": [
        "                      \r",
        "[904/3600] KBOS 2009-7\r"
       ]
      },
      {
       "output_type": "stream",
       "stream": "stdout",
       "text": [
        "                      \r",
        "[905/3600] KBWI 2009-7\r"
       ]
      },
      {
       "output_type": "stream",
       "stream": "stdout",
       "text": [
        "                      \r",
        "[906/3600] KCLE 2009-7\r"
       ]
      },
      {
       "output_type": "stream",
       "stream": "stdout",
       "text": [
        "                      \r",
        "[907/3600] KCLT 2009-7\r"
       ]
      },
      {
       "output_type": "stream",
       "stream": "stdout",
       "text": [
        "                      \r",
        "[908/3600] KCVG 2009-7\r"
       ]
      },
      {
       "output_type": "stream",
       "stream": "stdout",
       "text": [
        "                      \r",
        "[909/3600] KDAL 2009-7\r"
       ]
      },
      {
       "output_type": "stream",
       "stream": "stdout",
       "text": [
        "                      \r",
        "[910/3600] KDCA 2009-7\r"
       ]
      },
      {
       "output_type": "stream",
       "stream": "stdout",
       "text": [
        "                      \r",
        "[911/3600] KDEN 2009-7\r"
       ]
      },
      {
       "output_type": "stream",
       "stream": "stdout",
       "text": [
        "                      \r",
        "[912/3600] KDFW 2009-7\r"
       ]
      },
      {
       "output_type": "stream",
       "stream": "stdout",
       "text": [
        "                      \r",
        "[913/3600] KDTW 2009-7\r"
       ]
      },
      {
       "output_type": "stream",
       "stream": "stdout",
       "text": [
        "                      \r",
        "[914/3600] KEWR 2009-7\r"
       ]
      },
      {
       "output_type": "stream",
       "stream": "stdout",
       "text": [
        "                      \r",
        "[915/3600] KFLL 2009-7\r"
       ]
      },
      {
       "output_type": "stream",
       "stream": "stdout",
       "text": [
        "                      \r",
        "[916/3600] KHOU 2009-7\r"
       ]
      },
      {
       "output_type": "stream",
       "stream": "stdout",
       "text": [
        "                      \r",
        "[917/3600] KIAD 2009-7\r"
       ]
      },
      {
       "output_type": "stream",
       "stream": "stdout",
       "text": [
        "                      \r",
        "[918/3600] KIAH 2009-7\r"
       ]
      },
      {
       "output_type": "stream",
       "stream": "stdout",
       "text": [
        "                      \r",
        "[919/3600] KIND 2009-7\r"
       ]
      },
      {
       "output_type": "stream",
       "stream": "stdout",
       "text": [
        "                      \r",
        "[920/3600] KJFK 2009-7\r"
       ]
      },
      {
       "output_type": "stream",
       "stream": "stdout",
       "text": [
        "                      \r",
        "[921/3600] KLAS 2009-7\r"
       ]
      },
      {
       "output_type": "stream",
       "stream": "stdout",
       "text": [
        "                      \r",
        "[922/3600] KLAX 2009-7\r"
       ]
      },
      {
       "output_type": "stream",
       "stream": "stdout",
       "text": [
        "                      \r",
        "[923/3600] KLGA 2009-7\r"
       ]
      },
      {
       "output_type": "stream",
       "stream": "stdout",
       "text": [
        "                      \r",
        "[924/3600] KMCI 2009-7\r"
       ]
      },
      {
       "output_type": "stream",
       "stream": "stdout",
       "text": [
        "                      \r",
        "[925/3600] KMCO 2009-7\r"
       ]
      },
      {
       "output_type": "stream",
       "stream": "stdout",
       "text": [
        "                      \r",
        "[926/3600] KMDW 2009-7\r"
       ]
      },
      {
       "output_type": "stream",
       "stream": "stdout",
       "text": [
        "                      \r",
        "[927/3600] KMEM 2009-7\r"
       ]
      },
      {
       "output_type": "stream",
       "stream": "stdout",
       "text": [
        "                      \r",
        "[928/3600] KMIA 2009-7\r"
       ]
      },
      {
       "output_type": "stream",
       "stream": "stdout",
       "text": [
        "                      \r",
        "[929/3600] KMKE 2009-7\r"
       ]
      },
      {
       "output_type": "stream",
       "stream": "stdout",
       "text": [
        "                      \r",
        "[930/3600] KMSP 2009-7\r"
       ]
      },
      {
       "output_type": "stream",
       "stream": "stdout",
       "text": [
        "                      \r",
        "[931/3600] KMSY 2009-7\r"
       ]
      },
      {
       "output_type": "stream",
       "stream": "stdout",
       "text": [
        "                      \r",
        "[932/3600] KOAK 2009-7\r"
       ]
      },
      {
       "output_type": "stream",
       "stream": "stdout",
       "text": [
        "                      \r",
        "[933/3600] KORD 2009-7\r"
       ]
      },
      {
       "output_type": "stream",
       "stream": "stdout",
       "text": [
        "                      \r",
        "[934/3600] KPDX 2009-7\r"
       ]
      },
      {
       "output_type": "stream",
       "stream": "stdout",
       "text": [
        "                      \r",
        "[935/3600] KPHL 2009-7\r"
       ]
      },
      {
       "output_type": "stream",
       "stream": "stdout",
       "text": [
        "                      \r",
        "[936/3600] KPHX 2009-7\r"
       ]
      },
      {
       "output_type": "stream",
       "stream": "stdout",
       "text": [
        "                      \r",
        "[937/3600] KPIT 2009-7\r"
       ]
      },
      {
       "output_type": "stream",
       "stream": "stdout",
       "text": [
        "                      \r",
        "[938/3600] KRDU 2009-7\r"
       ]
      },
      {
       "output_type": "stream",
       "stream": "stdout",
       "text": [
        "                      \r",
        "[939/3600] KSAN 2009-7\r"
       ]
      },
      {
       "output_type": "stream",
       "stream": "stdout",
       "text": [
        "                      \r",
        "[940/3600] KSAT 2009-7\r"
       ]
      },
      {
       "output_type": "stream",
       "stream": "stdout",
       "text": [
        "                      \r",
        "[941/3600] KSEA 2009-7\r"
       ]
      },
      {
       "output_type": "stream",
       "stream": "stdout",
       "text": [
        "                      \r",
        "[942/3600] KSFO 2009-7\r"
       ]
      },
      {
       "output_type": "stream",
       "stream": "stdout",
       "text": [
        "                      \r",
        "[943/3600] KSJC 2009-7\r"
       ]
      },
      {
       "output_type": "stream",
       "stream": "stdout",
       "text": [
        "                      \r",
        "[944/3600] KSLC 2009-7\r"
       ]
      },
      {
       "output_type": "stream",
       "stream": "stdout",
       "text": [
        "                      \r",
        "[945/3600] KSMF 2009-7\r"
       ]
      },
      {
       "output_type": "stream",
       "stream": "stdout",
       "text": [
        "                      \r",
        "[946/3600] KSNA 2009-7\r"
       ]
      },
      {
       "output_type": "stream",
       "stream": "stdout",
       "text": [
        "                      \r",
        "[947/3600] KSTL 2009-7\r"
       ]
      },
      {
       "output_type": "stream",
       "stream": "stdout",
       "text": [
        "                      \r",
        "[948/3600] KTPA 2009-7\r"
       ]
      },
      {
       "output_type": "stream",
       "stream": "stdout",
       "text": [
        "                      \r",
        "[949/3600] PHNL 2009-7\r"
       ]
      },
      {
       "output_type": "stream",
       "stream": "stdout",
       "text": [
        "                      \r",
        "[950/3600] TJSJ 2009-7\r"
       ]
      },
      {
       "output_type": "stream",
       "stream": "stdout",
       "text": [
        "                      \r",
        "[951/3600] KATL 2009-8\r"
       ]
      },
      {
       "output_type": "stream",
       "stream": "stdout",
       "text": [
        "                      \r",
        "[952/3600] KAUS 2009-8\r"
       ]
      },
      {
       "output_type": "stream",
       "stream": "stdout",
       "text": [
        "                      \r",
        "[953/3600] KBNA 2009-8\r"
       ]
      },
      {
       "output_type": "stream",
       "stream": "stdout",
       "text": [
        "                      \r",
        "[954/3600] KBOS 2009-8\r"
       ]
      },
      {
       "output_type": "stream",
       "stream": "stdout",
       "text": [
        "                      \r",
        "[955/3600] KBWI 2009-8\r"
       ]
      },
      {
       "output_type": "stream",
       "stream": "stdout",
       "text": [
        "                      \r",
        "[956/3600] KCLE 2009-8\r"
       ]
      },
      {
       "output_type": "stream",
       "stream": "stdout",
       "text": [
        "                      \r",
        "[957/3600] KCLT 2009-8\r"
       ]
      },
      {
       "output_type": "stream",
       "stream": "stdout",
       "text": [
        "                      \r",
        "[958/3600] KCVG 2009-8\r"
       ]
      },
      {
       "output_type": "stream",
       "stream": "stdout",
       "text": [
        "                      \r",
        "[959/3600] KDAL 2009-8\r"
       ]
      },
      {
       "output_type": "stream",
       "stream": "stdout",
       "text": [
        "                      \r",
        "[960/3600] KDCA 2009-8\r"
       ]
      },
      {
       "output_type": "stream",
       "stream": "stdout",
       "text": [
        "                      \r",
        "[961/3600] KDEN 2009-8\r"
       ]
      },
      {
       "output_type": "stream",
       "stream": "stdout",
       "text": [
        "                      \r",
        "[962/3600] KDFW 2009-8\r"
       ]
      },
      {
       "output_type": "stream",
       "stream": "stdout",
       "text": [
        "                      \r",
        "[963/3600] KDTW 2009-8\r"
       ]
      },
      {
       "output_type": "stream",
       "stream": "stdout",
       "text": [
        "                      \r",
        "[964/3600] KEWR 2009-8\r"
       ]
      },
      {
       "output_type": "stream",
       "stream": "stdout",
       "text": [
        "                      \r",
        "[965/3600] KFLL 2009-8\r"
       ]
      },
      {
       "output_type": "stream",
       "stream": "stdout",
       "text": [
        "                      \r",
        "[966/3600] KHOU 2009-8\r"
       ]
      },
      {
       "output_type": "stream",
       "stream": "stdout",
       "text": [
        "                      \r",
        "[967/3600] KIAD 2009-8\r"
       ]
      },
      {
       "output_type": "stream",
       "stream": "stdout",
       "text": [
        "                      \r",
        "[968/3600] KIAH 2009-8\r"
       ]
      },
      {
       "output_type": "stream",
       "stream": "stdout",
       "text": [
        "                      \r",
        "[969/3600] KIND 2009-8\r"
       ]
      },
      {
       "output_type": "stream",
       "stream": "stdout",
       "text": [
        "                      \r",
        "[970/3600] KJFK 2009-8\r"
       ]
      },
      {
       "output_type": "stream",
       "stream": "stdout",
       "text": [
        "                      \r",
        "[971/3600] KLAS 2009-8\r"
       ]
      },
      {
       "output_type": "stream",
       "stream": "stdout",
       "text": [
        "                      \r",
        "[972/3600] KLAX 2009-8\r"
       ]
      },
      {
       "output_type": "stream",
       "stream": "stdout",
       "text": [
        "                      \r",
        "[973/3600] KLGA 2009-8\r"
       ]
      },
      {
       "output_type": "stream",
       "stream": "stdout",
       "text": [
        "                      \r",
        "[974/3600] KMCI 2009-8\r"
       ]
      },
      {
       "output_type": "stream",
       "stream": "stdout",
       "text": [
        "                      \r",
        "[975/3600] KMCO 2009-8\r"
       ]
      },
      {
       "output_type": "stream",
       "stream": "stdout",
       "text": [
        "                      \r",
        "[976/3600] KMDW 2009-8\r"
       ]
      },
      {
       "output_type": "stream",
       "stream": "stdout",
       "text": [
        "                      \r",
        "[977/3600] KMEM 2009-8\r"
       ]
      },
      {
       "output_type": "stream",
       "stream": "stdout",
       "text": [
        "                      \r",
        "[978/3600] KMIA 2009-8\r"
       ]
      },
      {
       "output_type": "stream",
       "stream": "stdout",
       "text": [
        "                      \r",
        "[979/3600] KMKE 2009-8\r"
       ]
      },
      {
       "output_type": "stream",
       "stream": "stdout",
       "text": [
        "                      \r",
        "[980/3600] KMSP 2009-8\r"
       ]
      },
      {
       "output_type": "stream",
       "stream": "stdout",
       "text": [
        "                      \r",
        "[981/3600] KMSY 2009-8\r"
       ]
      },
      {
       "output_type": "stream",
       "stream": "stdout",
       "text": [
        "                      \r",
        "[982/3600] KOAK 2009-8\r"
       ]
      },
      {
       "output_type": "stream",
       "stream": "stdout",
       "text": [
        "                      \r",
        "[983/3600] KORD 2009-8\r"
       ]
      },
      {
       "output_type": "stream",
       "stream": "stdout",
       "text": [
        "                      \r",
        "[984/3600] KPDX 2009-8\r"
       ]
      },
      {
       "output_type": "stream",
       "stream": "stdout",
       "text": [
        "                      \r",
        "[985/3600] KPHL 2009-8\r"
       ]
      },
      {
       "output_type": "stream",
       "stream": "stdout",
       "text": [
        "                      \r",
        "[986/3600] KPHX 2009-8\r"
       ]
      },
      {
       "output_type": "stream",
       "stream": "stdout",
       "text": [
        "                      \r",
        "[987/3600] KPIT 2009-8\r"
       ]
      },
      {
       "output_type": "stream",
       "stream": "stdout",
       "text": [
        "                      \r",
        "[988/3600] KRDU 2009-8\r"
       ]
      },
      {
       "output_type": "stream",
       "stream": "stdout",
       "text": [
        "                      \r",
        "[989/3600] KSAN 2009-8\r"
       ]
      },
      {
       "output_type": "stream",
       "stream": "stdout",
       "text": [
        "                      \r",
        "[990/3600] KSAT 2009-8\r"
       ]
      },
      {
       "output_type": "stream",
       "stream": "stdout",
       "text": [
        "                      \r",
        "[991/3600] KSEA 2009-8\r"
       ]
      },
      {
       "output_type": "stream",
       "stream": "stdout",
       "text": [
        "                      \r",
        "[992/3600] KSFO 2009-8\r"
       ]
      },
      {
       "output_type": "stream",
       "stream": "stdout",
       "text": [
        "                      \r",
        "[993/3600] KSJC 2009-8\r"
       ]
      },
      {
       "output_type": "stream",
       "stream": "stdout",
       "text": [
        "                      \r",
        "[994/3600] KSLC 2009-8\r"
       ]
      },
      {
       "output_type": "stream",
       "stream": "stdout",
       "text": [
        "                      \r",
        "[995/3600] KSMF 2009-8\r"
       ]
      },
      {
       "output_type": "stream",
       "stream": "stdout",
       "text": [
        "                      \r",
        "[996/3600] KSNA 2009-8\r"
       ]
      },
      {
       "output_type": "stream",
       "stream": "stdout",
       "text": [
        "                      \r",
        "[997/3600] KSTL 2009-8\r"
       ]
      },
      {
       "output_type": "stream",
       "stream": "stdout",
       "text": [
        "                      \r",
        "[998/3600] KTPA 2009-8\r"
       ]
      },
      {
       "output_type": "stream",
       "stream": "stdout",
       "text": [
        "                      \r",
        "[999/3600] PHNL 2009-8\r"
       ]
      },
      {
       "output_type": "stream",
       "stream": "stdout",
       "text": [
        "                      \r",
        "[1000/3600] TJSJ 2009-8\r"
       ]
      },
      {
       "output_type": "stream",
       "stream": "stdout",
       "text": [
        "                       \r",
        "[1001/3600] KATL 2009-9\r"
       ]
      },
      {
       "output_type": "stream",
       "stream": "stdout",
       "text": [
        "                       \r",
        "[1002/3600] KAUS 2009-9\r"
       ]
      },
      {
       "output_type": "stream",
       "stream": "stdout",
       "text": [
        "                       \r",
        "[1003/3600] KBNA 2009-9\r"
       ]
      },
      {
       "output_type": "stream",
       "stream": "stdout",
       "text": [
        "                       \r",
        "[1004/3600] KBOS 2009-9\r"
       ]
      },
      {
       "output_type": "stream",
       "stream": "stdout",
       "text": [
        "                       \r",
        "[1005/3600] KBWI 2009-9\r"
       ]
      },
      {
       "output_type": "stream",
       "stream": "stdout",
       "text": [
        "                       \r",
        "[1006/3600] KCLE 2009-9\r"
       ]
      },
      {
       "output_type": "stream",
       "stream": "stdout",
       "text": [
        "                       \r",
        "[1007/3600] KCLT 2009-9\r"
       ]
      },
      {
       "output_type": "stream",
       "stream": "stdout",
       "text": [
        "                       \r",
        "[1008/3600] KCVG 2009-9\r"
       ]
      },
      {
       "output_type": "stream",
       "stream": "stdout",
       "text": [
        "                       \r",
        "[1009/3600] KDAL 2009-9\r"
       ]
      },
      {
       "output_type": "stream",
       "stream": "stdout",
       "text": [
        "                       \r",
        "[1010/3600] KDCA 2009-9\r"
       ]
      },
      {
       "output_type": "stream",
       "stream": "stdout",
       "text": [
        "                       \r",
        "[1011/3600] KDEN 2009-9\r"
       ]
      },
      {
       "output_type": "stream",
       "stream": "stdout",
       "text": [
        "                       \r",
        "[1012/3600] KDFW 2009-9\r"
       ]
      },
      {
       "output_type": "stream",
       "stream": "stdout",
       "text": [
        "                       \r",
        "[1013/3600] KDTW 2009-9\r"
       ]
      },
      {
       "output_type": "stream",
       "stream": "stdout",
       "text": [
        "                       \r",
        "[1014/3600] KEWR 2009-9\r"
       ]
      },
      {
       "output_type": "stream",
       "stream": "stdout",
       "text": [
        "                       \r",
        "[1015/3600] KFLL 2009-9\r"
       ]
      },
      {
       "output_type": "stream",
       "stream": "stdout",
       "text": [
        "                       \r",
        "[1016/3600] KHOU 2009-9\r"
       ]
      },
      {
       "output_type": "stream",
       "stream": "stdout",
       "text": [
        "                       \r",
        "[1017/3600] KIAD 2009-9\r"
       ]
      },
      {
       "output_type": "stream",
       "stream": "stdout",
       "text": [
        "                       \r",
        "[1018/3600] KIAH 2009-9\r"
       ]
      },
      {
       "output_type": "stream",
       "stream": "stdout",
       "text": [
        "                       \r",
        "[1019/3600] KIND 2009-9\r"
       ]
      },
      {
       "output_type": "stream",
       "stream": "stdout",
       "text": [
        "                       \r",
        "[1020/3600] KJFK 2009-9\r"
       ]
      },
      {
       "output_type": "stream",
       "stream": "stdout",
       "text": [
        "                       \r",
        "[1021/3600] KLAS 2009-9\r"
       ]
      },
      {
       "output_type": "stream",
       "stream": "stdout",
       "text": [
        "                       \r",
        "[1022/3600] KLAX 2009-9\r"
       ]
      },
      {
       "output_type": "stream",
       "stream": "stdout",
       "text": [
        "                       \r",
        "[1023/3600] KLGA 2009-9\r"
       ]
      },
      {
       "output_type": "stream",
       "stream": "stdout",
       "text": [
        "                       \r",
        "[1024/3600] KMCI 2009-9\r"
       ]
      },
      {
       "output_type": "stream",
       "stream": "stdout",
       "text": [
        "                       \r",
        "[1025/3600] KMCO 2009-9\r"
       ]
      },
      {
       "output_type": "stream",
       "stream": "stdout",
       "text": [
        "                       \r",
        "[1026/3600] KMDW 2009-9\r"
       ]
      },
      {
       "output_type": "stream",
       "stream": "stdout",
       "text": [
        "                       \r",
        "[1027/3600] KMEM 2009-9\r"
       ]
      },
      {
       "output_type": "stream",
       "stream": "stdout",
       "text": [
        "                       \r",
        "[1028/3600] KMIA 2009-9\r"
       ]
      },
      {
       "output_type": "stream",
       "stream": "stdout",
       "text": [
        "                       \r",
        "[1029/3600] KMKE 2009-9\r"
       ]
      },
      {
       "output_type": "stream",
       "stream": "stdout",
       "text": [
        "                       \r",
        "[1030/3600] KMSP 2009-9\r"
       ]
      },
      {
       "output_type": "stream",
       "stream": "stdout",
       "text": [
        "                       \r",
        "[1031/3600] KMSY 2009-9\r"
       ]
      },
      {
       "output_type": "stream",
       "stream": "stdout",
       "text": [
        "                       \r",
        "[1032/3600] KOAK 2009-9\r"
       ]
      },
      {
       "output_type": "stream",
       "stream": "stdout",
       "text": [
        "                       \r",
        "[1033/3600] KORD 2009-9\r"
       ]
      },
      {
       "output_type": "stream",
       "stream": "stdout",
       "text": [
        "                       \r",
        "[1034/3600] KPDX 2009-9\r"
       ]
      },
      {
       "output_type": "stream",
       "stream": "stdout",
       "text": [
        "                       \r",
        "[1035/3600] KPHL 2009-9\r"
       ]
      },
      {
       "output_type": "stream",
       "stream": "stdout",
       "text": [
        "                       \r",
        "[1036/3600] KPHX 2009-9\r"
       ]
      },
      {
       "output_type": "stream",
       "stream": "stdout",
       "text": [
        "                       \r",
        "[1037/3600] KPIT 2009-9\r"
       ]
      },
      {
       "output_type": "stream",
       "stream": "stdout",
       "text": [
        "                       \r",
        "[1038/3600] KRDU 2009-9\r"
       ]
      },
      {
       "output_type": "stream",
       "stream": "stdout",
       "text": [
        "                       \r",
        "[1039/3600] KSAN 2009-9\r"
       ]
      },
      {
       "output_type": "stream",
       "stream": "stdout",
       "text": [
        "                       \r",
        "[1040/3600] KSAT 2009-9\r"
       ]
      },
      {
       "output_type": "stream",
       "stream": "stdout",
       "text": [
        "                       \r",
        "[1041/3600] KSEA 2009-9\r"
       ]
      },
      {
       "output_type": "stream",
       "stream": "stdout",
       "text": [
        "                       \r",
        "[1042/3600] KSFO 2009-9\r"
       ]
      },
      {
       "output_type": "stream",
       "stream": "stdout",
       "text": [
        "                       \r",
        "[1043/3600] KSJC 2009-9\r"
       ]
      },
      {
       "output_type": "stream",
       "stream": "stdout",
       "text": [
        "                       \r",
        "[1044/3600] KSLC 2009-9\r"
       ]
      },
      {
       "output_type": "stream",
       "stream": "stdout",
       "text": [
        "                       \r",
        "[1045/3600] KSMF 2009-9\r"
       ]
      },
      {
       "output_type": "stream",
       "stream": "stdout",
       "text": [
        "                       \r",
        "[1046/3600] KSNA 2009-9\r"
       ]
      },
      {
       "output_type": "stream",
       "stream": "stdout",
       "text": [
        "                       \r",
        "[1047/3600] KSTL 2009-9\r"
       ]
      },
      {
       "output_type": "stream",
       "stream": "stdout",
       "text": [
        "                       \r",
        "[1048/3600] KTPA 2009-9\r"
       ]
      },
      {
       "output_type": "stream",
       "stream": "stdout",
       "text": [
        "                       \r",
        "[1049/3600] PHNL 2009-9\r"
       ]
      },
      {
       "output_type": "stream",
       "stream": "stdout",
       "text": [
        "                       \r",
        "[1050/3600] TJSJ 2009-9\r"
       ]
      },
      {
       "output_type": "stream",
       "stream": "stdout",
       "text": [
        "                       \r",
        "[1051/3600] KATL 2009-10\r"
       ]
      },
      {
       "output_type": "stream",
       "stream": "stdout",
       "text": [
        "                        \r",
        "[1052/3600] KAUS 2009-10\r"
       ]
      },
      {
       "output_type": "stream",
       "stream": "stdout",
       "text": [
        "                        \r",
        "[1053/3600] KBNA 2009-10\r"
       ]
      },
      {
       "output_type": "stream",
       "stream": "stdout",
       "text": [
        "                        \r",
        "[1054/3600] KBOS 2009-10\r"
       ]
      },
      {
       "output_type": "stream",
       "stream": "stdout",
       "text": [
        "                        \r",
        "[1055/3600] KBWI 2009-10\r"
       ]
      },
      {
       "output_type": "stream",
       "stream": "stdout",
       "text": [
        "                        \r",
        "[1056/3600] KCLE 2009-10\r"
       ]
      },
      {
       "output_type": "stream",
       "stream": "stdout",
       "text": [
        "                        \r",
        "[1057/3600] KCLT 2009-10\r"
       ]
      },
      {
       "output_type": "stream",
       "stream": "stdout",
       "text": [
        "                        \r",
        "[1058/3600] KCVG 2009-10\r"
       ]
      },
      {
       "output_type": "stream",
       "stream": "stdout",
       "text": [
        "                        \r",
        "[1059/3600] KDAL 2009-10\r"
       ]
      },
      {
       "output_type": "stream",
       "stream": "stdout",
       "text": [
        "                        \r",
        "[1060/3600] KDCA 2009-10\r"
       ]
      },
      {
       "output_type": "stream",
       "stream": "stdout",
       "text": [
        "                        \r",
        "[1061/3600] KDEN 2009-10\r"
       ]
      },
      {
       "output_type": "stream",
       "stream": "stdout",
       "text": [
        "                        \r",
        "[1062/3600] KDFW 2009-10\r"
       ]
      },
      {
       "output_type": "stream",
       "stream": "stdout",
       "text": [
        "                        \r",
        "[1063/3600] KDTW 2009-10\r"
       ]
      },
      {
       "output_type": "stream",
       "stream": "stdout",
       "text": [
        "                        \r",
        "[1064/3600] KEWR 2009-10\r"
       ]
      },
      {
       "output_type": "stream",
       "stream": "stdout",
       "text": [
        "                        \r",
        "[1065/3600] KFLL 2009-10\r"
       ]
      },
      {
       "output_type": "stream",
       "stream": "stdout",
       "text": [
        "                        \r",
        "[1066/3600] KHOU 2009-10\r"
       ]
      },
      {
       "output_type": "stream",
       "stream": "stdout",
       "text": [
        "                        \r",
        "[1067/3600] KIAD 2009-10\r"
       ]
      },
      {
       "output_type": "stream",
       "stream": "stdout",
       "text": [
        "                        \r",
        "[1068/3600] KIAH 2009-10\r"
       ]
      },
      {
       "output_type": "stream",
       "stream": "stdout",
       "text": [
        "                        \r",
        "[1069/3600] KIND 2009-10\r"
       ]
      },
      {
       "output_type": "stream",
       "stream": "stdout",
       "text": [
        "                        \r",
        "[1070/3600] KJFK 2009-10\r"
       ]
      },
      {
       "output_type": "stream",
       "stream": "stdout",
       "text": [
        "                        \r",
        "[1071/3600] KLAS 2009-10\r"
       ]
      },
      {
       "output_type": "stream",
       "stream": "stdout",
       "text": [
        "                        \r",
        "[1072/3600] KLAX 2009-10\r"
       ]
      },
      {
       "output_type": "stream",
       "stream": "stdout",
       "text": [
        "                        \r",
        "[1073/3600] KLGA 2009-10\r"
       ]
      },
      {
       "output_type": "stream",
       "stream": "stdout",
       "text": [
        "                        \r",
        "[1074/3600] KMCI 2009-10\r"
       ]
      },
      {
       "output_type": "stream",
       "stream": "stdout",
       "text": [
        "                        \r",
        "[1075/3600] KMCO 2009-10\r"
       ]
      },
      {
       "output_type": "stream",
       "stream": "stdout",
       "text": [
        "                        \r",
        "[1076/3600] KMDW 2009-10\r"
       ]
      },
      {
       "output_type": "stream",
       "stream": "stdout",
       "text": [
        "                        \r",
        "[1077/3600] KMEM 2009-10\r"
       ]
      },
      {
       "output_type": "stream",
       "stream": "stdout",
       "text": [
        "                        \r",
        "[1078/3600] KMIA 2009-10\r"
       ]
      },
      {
       "output_type": "stream",
       "stream": "stdout",
       "text": [
        "                        \r",
        "[1079/3600] KMKE 2009-10\r"
       ]
      },
      {
       "output_type": "stream",
       "stream": "stdout",
       "text": [
        "                        \r",
        "[1080/3600] KMSP 2009-10\r"
       ]
      },
      {
       "output_type": "stream",
       "stream": "stdout",
       "text": [
        "                        \r",
        "[1081/3600] KMSY 2009-10\r"
       ]
      },
      {
       "output_type": "stream",
       "stream": "stdout",
       "text": [
        "                        \r",
        "[1082/3600] KOAK 2009-10\r"
       ]
      },
      {
       "output_type": "stream",
       "stream": "stdout",
       "text": [
        "                        \r",
        "[1083/3600] KORD 2009-10\r"
       ]
      },
      {
       "output_type": "stream",
       "stream": "stdout",
       "text": [
        "                        \r",
        "[1084/3600] KPDX 2009-10\r"
       ]
      },
      {
       "output_type": "stream",
       "stream": "stdout",
       "text": [
        "                        \r",
        "[1085/3600] KPHL 2009-10\r"
       ]
      },
      {
       "output_type": "stream",
       "stream": "stdout",
       "text": [
        "                        \r",
        "[1086/3600] KPHX 2009-10\r"
       ]
      },
      {
       "output_type": "stream",
       "stream": "stdout",
       "text": [
        "                        \r",
        "[1087/3600] KPIT 2009-10\r"
       ]
      },
      {
       "output_type": "stream",
       "stream": "stdout",
       "text": [
        "                        \r",
        "[1088/3600] KRDU 2009-10\r"
       ]
      },
      {
       "output_type": "stream",
       "stream": "stdout",
       "text": [
        "                        \r",
        "[1089/3600] KSAN 2009-10\r"
       ]
      },
      {
       "output_type": "stream",
       "stream": "stdout",
       "text": [
        "                        \r",
        "[1090/3600] KSAT 2009-10\r"
       ]
      },
      {
       "output_type": "stream",
       "stream": "stdout",
       "text": [
        "                        \r",
        "[1091/3600] KSEA 2009-10\r"
       ]
      },
      {
       "output_type": "stream",
       "stream": "stdout",
       "text": [
        "                        \r",
        "[1092/3600] KSFO 2009-10\r"
       ]
      },
      {
       "output_type": "stream",
       "stream": "stdout",
       "text": [
        "                        \r",
        "[1093/3600] KSJC 2009-10\r"
       ]
      },
      {
       "output_type": "stream",
       "stream": "stdout",
       "text": [
        "                        \r",
        "[1094/3600] KSLC 2009-10\r"
       ]
      },
      {
       "output_type": "stream",
       "stream": "stdout",
       "text": [
        "                        \r",
        "[1095/3600] KSMF 2009-10\r"
       ]
      },
      {
       "output_type": "stream",
       "stream": "stdout",
       "text": [
        "                        \r",
        "[1096/3600] KSNA 2009-10\r"
       ]
      },
      {
       "output_type": "stream",
       "stream": "stdout",
       "text": [
        "                        \r",
        "[1097/3600] KSTL 2009-10\r"
       ]
      },
      {
       "output_type": "stream",
       "stream": "stdout",
       "text": [
        "                        \r",
        "[1098/3600] KTPA 2009-10\r"
       ]
      },
      {
       "output_type": "stream",
       "stream": "stdout",
       "text": [
        "                        \r",
        "[1099/3600] PHNL 2009-10\r"
       ]
      },
      {
       "output_type": "stream",
       "stream": "stdout",
       "text": [
        "                        \r",
        "[1100/3600] TJSJ 2009-10\r"
       ]
      },
      {
       "output_type": "stream",
       "stream": "stdout",
       "text": [
        "                        \r",
        "[1101/3600] KATL 2009-11\r"
       ]
      },
      {
       "output_type": "stream",
       "stream": "stdout",
       "text": [
        "                        \r",
        "[1102/3600] KAUS 2009-11\r"
       ]
      },
      {
       "output_type": "stream",
       "stream": "stdout",
       "text": [
        "                        \r",
        "[1103/3600] KBNA 2009-11\r"
       ]
      },
      {
       "output_type": "stream",
       "stream": "stdout",
       "text": [
        "                        \r",
        "[1104/3600] KBOS 2009-11\r"
       ]
      },
      {
       "output_type": "stream",
       "stream": "stdout",
       "text": [
        "                        \r",
        "[1105/3600] KBWI 2009-11\r"
       ]
      },
      {
       "output_type": "stream",
       "stream": "stdout",
       "text": [
        "                        \r",
        "[1106/3600] KCLE 2009-11\r"
       ]
      },
      {
       "output_type": "stream",
       "stream": "stdout",
       "text": [
        "                        \r",
        "[1107/3600] KCLT 2009-11\r"
       ]
      },
      {
       "output_type": "stream",
       "stream": "stdout",
       "text": [
        "                        \r",
        "[1108/3600] KCVG 2009-11\r"
       ]
      },
      {
       "output_type": "stream",
       "stream": "stdout",
       "text": [
        "                        \r",
        "[1109/3600] KDAL 2009-11\r"
       ]
      },
      {
       "output_type": "stream",
       "stream": "stdout",
       "text": [
        "                        \r",
        "[1110/3600] KDCA 2009-11\r"
       ]
      },
      {
       "output_type": "stream",
       "stream": "stdout",
       "text": [
        "                        \r",
        "[1111/3600] KDEN 2009-11\r"
       ]
      },
      {
       "output_type": "stream",
       "stream": "stdout",
       "text": [
        "                        \r",
        "[1112/3600] KDFW 2009-11\r"
       ]
      },
      {
       "output_type": "stream",
       "stream": "stdout",
       "text": [
        "                        \r",
        "[1113/3600] KDTW 2009-11\r"
       ]
      },
      {
       "output_type": "stream",
       "stream": "stdout",
       "text": [
        "                        \r",
        "[1114/3600] KEWR 2009-11\r"
       ]
      },
      {
       "output_type": "stream",
       "stream": "stdout",
       "text": [
        "                        \r",
        "[1115/3600] KFLL 2009-11\r"
       ]
      },
      {
       "output_type": "stream",
       "stream": "stdout",
       "text": [
        "                        \r",
        "[1116/3600] KHOU 2009-11\r"
       ]
      },
      {
       "output_type": "stream",
       "stream": "stdout",
       "text": [
        "                        \r",
        "[1117/3600] KIAD 2009-11\r"
       ]
      },
      {
       "output_type": "stream",
       "stream": "stdout",
       "text": [
        "                        \r",
        "[1118/3600] KIAH 2009-11\r"
       ]
      },
      {
       "output_type": "stream",
       "stream": "stdout",
       "text": [
        "                        \r",
        "[1119/3600] KIND 2009-11\r"
       ]
      },
      {
       "output_type": "stream",
       "stream": "stdout",
       "text": [
        "                        \r",
        "[1120/3600] KJFK 2009-11\r"
       ]
      },
      {
       "output_type": "stream",
       "stream": "stdout",
       "text": [
        "                        \r",
        "[1121/3600] KLAS 2009-11\r"
       ]
      },
      {
       "output_type": "stream",
       "stream": "stdout",
       "text": [
        "                        \r",
        "[1122/3600] KLAX 2009-11\r"
       ]
      },
      {
       "output_type": "stream",
       "stream": "stdout",
       "text": [
        "                        \r",
        "[1123/3600] KLGA 2009-11\r"
       ]
      },
      {
       "output_type": "stream",
       "stream": "stdout",
       "text": [
        "                        \r",
        "[1124/3600] KMCI 2009-11\r"
       ]
      },
      {
       "output_type": "stream",
       "stream": "stdout",
       "text": [
        "                        \r",
        "[1125/3600] KMCO 2009-11\r"
       ]
      },
      {
       "output_type": "stream",
       "stream": "stdout",
       "text": [
        "                        \r",
        "[1126/3600] KMDW 2009-11\r"
       ]
      },
      {
       "output_type": "stream",
       "stream": "stdout",
       "text": [
        "                        \r",
        "[1127/3600] KMEM 2009-11\r"
       ]
      },
      {
       "output_type": "stream",
       "stream": "stdout",
       "text": [
        "                        \r",
        "[1128/3600] KMIA 2009-11\r"
       ]
      },
      {
       "output_type": "stream",
       "stream": "stdout",
       "text": [
        "                        \r",
        "[1129/3600] KMKE 2009-11\r"
       ]
      },
      {
       "output_type": "stream",
       "stream": "stdout",
       "text": [
        "                        \r",
        "[1130/3600] KMSP 2009-11\r"
       ]
      },
      {
       "output_type": "stream",
       "stream": "stdout",
       "text": [
        "                        \r",
        "[1131/3600] KMSY 2009-11\r"
       ]
      },
      {
       "output_type": "stream",
       "stream": "stdout",
       "text": [
        "                        \r",
        "[1132/3600] KOAK 2009-11\r"
       ]
      },
      {
       "output_type": "stream",
       "stream": "stdout",
       "text": [
        "                        \r",
        "[1133/3600] KORD 2009-11\r"
       ]
      },
      {
       "output_type": "stream",
       "stream": "stdout",
       "text": [
        "                        \r",
        "[1134/3600] KPDX 2009-11\r"
       ]
      },
      {
       "output_type": "stream",
       "stream": "stdout",
       "text": [
        "                        \r",
        "[1135/3600] KPHL 2009-11\r"
       ]
      },
      {
       "output_type": "stream",
       "stream": "stdout",
       "text": [
        "                        \r",
        "[1136/3600] KPHX 2009-11\r"
       ]
      },
      {
       "output_type": "stream",
       "stream": "stdout",
       "text": [
        "                        \r",
        "[1137/3600] KPIT 2009-11\r"
       ]
      },
      {
       "output_type": "stream",
       "stream": "stdout",
       "text": [
        "                        \r",
        "[1138/3600] KRDU 2009-11\r"
       ]
      },
      {
       "output_type": "stream",
       "stream": "stdout",
       "text": [
        "                        \r",
        "[1139/3600] KSAN 2009-11\r"
       ]
      },
      {
       "output_type": "stream",
       "stream": "stdout",
       "text": [
        "                        \r",
        "[1140/3600] KSAT 2009-11\r"
       ]
      },
      {
       "output_type": "stream",
       "stream": "stdout",
       "text": [
        "                        \r",
        "[1141/3600] KSEA 2009-11\r"
       ]
      },
      {
       "output_type": "stream",
       "stream": "stdout",
       "text": [
        "                        \r",
        "[1142/3600] KSFO 2009-11\r"
       ]
      },
      {
       "output_type": "stream",
       "stream": "stdout",
       "text": [
        "                        \r",
        "[1143/3600] KSJC 2009-11\r"
       ]
      },
      {
       "output_type": "stream",
       "stream": "stdout",
       "text": [
        "                        \r",
        "[1144/3600] KSLC 2009-11\r"
       ]
      },
      {
       "output_type": "stream",
       "stream": "stdout",
       "text": [
        "                        \r",
        "[1145/3600] KSMF 2009-11\r"
       ]
      },
      {
       "output_type": "stream",
       "stream": "stdout",
       "text": [
        "                        \r",
        "[1146/3600] KSNA 2009-11\r"
       ]
      },
      {
       "output_type": "stream",
       "stream": "stdout",
       "text": [
        "                        \r",
        "[1147/3600] KSTL 2009-11\r"
       ]
      },
      {
       "output_type": "stream",
       "stream": "stdout",
       "text": [
        "                        \r",
        "[1148/3600] KTPA 2009-11\r"
       ]
      },
      {
       "output_type": "stream",
       "stream": "stdout",
       "text": [
        "                        \r",
        "[1149/3600] PHNL 2009-11\r"
       ]
      },
      {
       "output_type": "stream",
       "stream": "stdout",
       "text": [
        "                        \r",
        "[1150/3600] TJSJ 2009-11\r"
       ]
      },
      {
       "output_type": "stream",
       "stream": "stdout",
       "text": [
        "                        \r",
        "[1151/3600] KATL 2009-12\r"
       ]
      },
      {
       "output_type": "stream",
       "stream": "stdout",
       "text": [
        "                        \r",
        "[1152/3600] KAUS 2009-12\r"
       ]
      },
      {
       "output_type": "stream",
       "stream": "stdout",
       "text": [
        "                        \r",
        "[1153/3600] KBNA 2009-12\r"
       ]
      },
      {
       "output_type": "stream",
       "stream": "stdout",
       "text": [
        "                        \r",
        "[1154/3600] KBOS 2009-12\r"
       ]
      },
      {
       "output_type": "stream",
       "stream": "stdout",
       "text": [
        "                        \r",
        "[1155/3600] KBWI 2009-12\r"
       ]
      },
      {
       "output_type": "stream",
       "stream": "stdout",
       "text": [
        "                        \r",
        "[1156/3600] KCLE 2009-12\r"
       ]
      },
      {
       "output_type": "stream",
       "stream": "stdout",
       "text": [
        "                        \r",
        "[1157/3600] KCLT 2009-12\r"
       ]
      },
      {
       "output_type": "stream",
       "stream": "stdout",
       "text": [
        "                        \r",
        "[1158/3600] KCVG 2009-12\r"
       ]
      },
      {
       "output_type": "stream",
       "stream": "stdout",
       "text": [
        "                        \r",
        "[1159/3600] KDAL 2009-12\r"
       ]
      },
      {
       "output_type": "stream",
       "stream": "stdout",
       "text": [
        "                        \r",
        "[1160/3600] KDCA 2009-12\r"
       ]
      },
      {
       "output_type": "stream",
       "stream": "stdout",
       "text": [
        "                        \r",
        "[1161/3600] KDEN 2009-12\r"
       ]
      },
      {
       "output_type": "stream",
       "stream": "stdout",
       "text": [
        "                        \r",
        "[1162/3600] KDFW 2009-12\r"
       ]
      },
      {
       "output_type": "stream",
       "stream": "stdout",
       "text": [
        "                        \r",
        "[1163/3600] KDTW 2009-12\r"
       ]
      },
      {
       "output_type": "stream",
       "stream": "stdout",
       "text": [
        "                        \r",
        "[1164/3600] KEWR 2009-12\r"
       ]
      },
      {
       "output_type": "stream",
       "stream": "stdout",
       "text": [
        "                        \r",
        "[1165/3600] KFLL 2009-12\r"
       ]
      },
      {
       "output_type": "stream",
       "stream": "stdout",
       "text": [
        "                        \r",
        "[1166/3600] KHOU 2009-12\r"
       ]
      },
      {
       "output_type": "stream",
       "stream": "stdout",
       "text": [
        "                        \r",
        "[1167/3600] KIAD 2009-12\r"
       ]
      },
      {
       "output_type": "stream",
       "stream": "stdout",
       "text": [
        "                        \r",
        "[1168/3600] KIAH 2009-12\r"
       ]
      },
      {
       "output_type": "stream",
       "stream": "stdout",
       "text": [
        "                        \r",
        "[1169/3600] KIND 2009-12\r"
       ]
      },
      {
       "output_type": "stream",
       "stream": "stdout",
       "text": [
        "                        \r",
        "[1170/3600] KJFK 2009-12\r"
       ]
      },
      {
       "output_type": "stream",
       "stream": "stdout",
       "text": [
        "                        \r",
        "[1171/3600] KLAS 2009-12\r"
       ]
      },
      {
       "output_type": "stream",
       "stream": "stdout",
       "text": [
        "                        \r",
        "[1172/3600] KLAX 2009-12\r"
       ]
      },
      {
       "output_type": "stream",
       "stream": "stdout",
       "text": [
        "                        \r",
        "[1173/3600] KLGA 2009-12\r"
       ]
      },
      {
       "output_type": "stream",
       "stream": "stdout",
       "text": [
        "                        \r",
        "[1174/3600] KMCI 2009-12\r"
       ]
      },
      {
       "output_type": "stream",
       "stream": "stdout",
       "text": [
        "                        \r",
        "[1175/3600] KMCO 2009-12\r"
       ]
      },
      {
       "output_type": "stream",
       "stream": "stdout",
       "text": [
        "                        \r",
        "[1176/3600] KMDW 2009-12\r"
       ]
      },
      {
       "output_type": "stream",
       "stream": "stdout",
       "text": [
        "                        \r",
        "[1177/3600] KMEM 2009-12\r"
       ]
      },
      {
       "output_type": "stream",
       "stream": "stdout",
       "text": [
        "                        \r",
        "[1178/3600] KMIA 2009-12\r"
       ]
      },
      {
       "output_type": "stream",
       "stream": "stdout",
       "text": [
        "                        \r",
        "[1179/3600] KMKE 2009-12\r"
       ]
      },
      {
       "output_type": "stream",
       "stream": "stdout",
       "text": [
        "                        \r",
        "[1180/3600] KMSP 2009-12\r"
       ]
      },
      {
       "output_type": "stream",
       "stream": "stdout",
       "text": [
        "                        \r",
        "[1181/3600] KMSY 2009-12\r"
       ]
      },
      {
       "output_type": "stream",
       "stream": "stdout",
       "text": [
        "                        \r",
        "[1182/3600] KOAK 2009-12\r"
       ]
      },
      {
       "output_type": "stream",
       "stream": "stdout",
       "text": [
        "                        \r",
        "[1183/3600] KORD 2009-12\r"
       ]
      },
      {
       "output_type": "stream",
       "stream": "stdout",
       "text": [
        "                        \r",
        "[1184/3600] KPDX 2009-12\r"
       ]
      },
      {
       "output_type": "stream",
       "stream": "stdout",
       "text": [
        "                        \r",
        "[1185/3600] KPHL 2009-12\r"
       ]
      },
      {
       "output_type": "stream",
       "stream": "stdout",
       "text": [
        "                        \r",
        "[1186/3600] KPHX 2009-12\r"
       ]
      },
      {
       "output_type": "stream",
       "stream": "stdout",
       "text": [
        "                        \r",
        "[1187/3600] KPIT 2009-12\r"
       ]
      },
      {
       "output_type": "stream",
       "stream": "stdout",
       "text": [
        "                        \r",
        "[1188/3600] KRDU 2009-12\r"
       ]
      },
      {
       "output_type": "stream",
       "stream": "stdout",
       "text": [
        "                        \r",
        "[1189/3600] KSAN 2009-12\r"
       ]
      },
      {
       "output_type": "stream",
       "stream": "stdout",
       "text": [
        "                        \r",
        "[1190/3600] KSAT 2009-12\r"
       ]
      },
      {
       "output_type": "stream",
       "stream": "stdout",
       "text": [
        "                        \r",
        "[1191/3600] KSEA 2009-12\r"
       ]
      },
      {
       "output_type": "stream",
       "stream": "stdout",
       "text": [
        "                        \r",
        "[1192/3600] KSFO 2009-12\r"
       ]
      },
      {
       "output_type": "stream",
       "stream": "stdout",
       "text": [
        "                        \r",
        "[1193/3600] KSJC 2009-12\r"
       ]
      },
      {
       "output_type": "stream",
       "stream": "stdout",
       "text": [
        "                        \r",
        "[1194/3600] KSLC 2009-12\r"
       ]
      },
      {
       "output_type": "stream",
       "stream": "stdout",
       "text": [
        "                        \r",
        "[1195/3600] KSMF 2009-12\r"
       ]
      },
      {
       "output_type": "stream",
       "stream": "stdout",
       "text": [
        "                        \r",
        "[1196/3600] KSNA 2009-12\r"
       ]
      },
      {
       "output_type": "stream",
       "stream": "stdout",
       "text": [
        "                        \r",
        "[1197/3600] KSTL 2009-12\r"
       ]
      },
      {
       "output_type": "stream",
       "stream": "stdout",
       "text": [
        "                        \r",
        "[1198/3600] KTPA 2009-12\r"
       ]
      },
      {
       "output_type": "stream",
       "stream": "stdout",
       "text": [
        "                        \r",
        "[1199/3600] PHNL 2009-12\r"
       ]
      },
      {
       "output_type": "stream",
       "stream": "stdout",
       "text": [
        "                        \r",
        "[1200/3600] TJSJ 2009-12\r"
       ]
      },
      {
       "output_type": "stream",
       "stream": "stdout",
       "text": [
        "                        \r",
        "[1201/3600] KATL 2010-1\r"
       ]
      },
      {
       "output_type": "stream",
       "stream": "stdout",
       "text": [
        "                       \r",
        "[1202/3600] KAUS 2010-1\r"
       ]
      },
      {
       "output_type": "stream",
       "stream": "stdout",
       "text": [
        "                       \r",
        "[1203/3600] KBNA 2010-1\r"
       ]
      },
      {
       "output_type": "stream",
       "stream": "stdout",
       "text": [
        "                       \r",
        "[1204/3600] KBOS 2010-1\r"
       ]
      },
      {
       "output_type": "stream",
       "stream": "stdout",
       "text": [
        "                       \r",
        "[1205/3600] KBWI 2010-1\r"
       ]
      },
      {
       "output_type": "stream",
       "stream": "stdout",
       "text": [
        "                       \r",
        "[1206/3600] KCLE 2010-1\r"
       ]
      },
      {
       "output_type": "stream",
       "stream": "stdout",
       "text": [
        "                       \r",
        "[1207/3600] KCLT 2010-1\r"
       ]
      },
      {
       "output_type": "stream",
       "stream": "stdout",
       "text": [
        "                       \r",
        "[1208/3600] KCVG 2010-1\r"
       ]
      },
      {
       "output_type": "stream",
       "stream": "stdout",
       "text": [
        "                       \r",
        "[1209/3600] KDAL 2010-1\r"
       ]
      },
      {
       "output_type": "stream",
       "stream": "stdout",
       "text": [
        "                       \r",
        "[1210/3600] KDCA 2010-1\r"
       ]
      },
      {
       "output_type": "stream",
       "stream": "stdout",
       "text": [
        "                       \r",
        "[1211/3600] KDEN 2010-1\r"
       ]
      },
      {
       "output_type": "stream",
       "stream": "stdout",
       "text": [
        "                       \r",
        "[1212/3600] KDFW 2010-1\r"
       ]
      },
      {
       "output_type": "stream",
       "stream": "stdout",
       "text": [
        "                       \r",
        "[1213/3600] KDTW 2010-1\r"
       ]
      },
      {
       "output_type": "stream",
       "stream": "stdout",
       "text": [
        "                       \r",
        "[1214/3600] KEWR 2010-1\r"
       ]
      },
      {
       "output_type": "stream",
       "stream": "stdout",
       "text": [
        "                       \r",
        "[1215/3600] KFLL 2010-1\r"
       ]
      },
      {
       "output_type": "stream",
       "stream": "stdout",
       "text": [
        "                       \r",
        "[1216/3600] KHOU 2010-1\r"
       ]
      },
      {
       "output_type": "stream",
       "stream": "stdout",
       "text": [
        "                       \r",
        "[1217/3600] KIAD 2010-1\r"
       ]
      },
      {
       "output_type": "stream",
       "stream": "stdout",
       "text": [
        "                       \r",
        "[1218/3600] KIAH 2010-1\r"
       ]
      },
      {
       "output_type": "stream",
       "stream": "stdout",
       "text": [
        "                       \r",
        "[1219/3600] KIND 2010-1\r"
       ]
      },
      {
       "output_type": "stream",
       "stream": "stdout",
       "text": [
        "                       \r",
        "[1220/3600] KJFK 2010-1\r"
       ]
      },
      {
       "output_type": "stream",
       "stream": "stdout",
       "text": [
        "                       \r",
        "[1221/3600] KLAS 2010-1\r"
       ]
      },
      {
       "output_type": "stream",
       "stream": "stdout",
       "text": [
        "                       \r",
        "[1222/3600] KLAX 2010-1\r"
       ]
      },
      {
       "output_type": "stream",
       "stream": "stdout",
       "text": [
        "                       \r",
        "[1223/3600] KLGA 2010-1\r"
       ]
      },
      {
       "output_type": "stream",
       "stream": "stdout",
       "text": [
        "                       \r",
        "[1224/3600] KMCI 2010-1\r"
       ]
      },
      {
       "output_type": "stream",
       "stream": "stdout",
       "text": [
        "                       \r",
        "[1225/3600] KMCO 2010-1\r"
       ]
      },
      {
       "output_type": "stream",
       "stream": "stdout",
       "text": [
        "                       \r",
        "[1226/3600] KMDW 2010-1\r"
       ]
      },
      {
       "output_type": "stream",
       "stream": "stdout",
       "text": [
        "                       \r",
        "[1227/3600] KMEM 2010-1\r"
       ]
      },
      {
       "output_type": "stream",
       "stream": "stdout",
       "text": [
        "                       \r",
        "[1228/3600] KMIA 2010-1\r"
       ]
      },
      {
       "output_type": "stream",
       "stream": "stdout",
       "text": [
        "                       \r",
        "[1229/3600] KMKE 2010-1\r"
       ]
      },
      {
       "output_type": "stream",
       "stream": "stdout",
       "text": [
        "                       \r",
        "[1230/3600] KMSP 2010-1\r"
       ]
      },
      {
       "output_type": "stream",
       "stream": "stdout",
       "text": [
        "                       \r",
        "[1231/3600] KMSY 2010-1\r"
       ]
      },
      {
       "output_type": "stream",
       "stream": "stdout",
       "text": [
        "                       \r",
        "[1232/3600] KOAK 2010-1\r"
       ]
      },
      {
       "output_type": "stream",
       "stream": "stdout",
       "text": [
        "                       \r",
        "[1233/3600] KORD 2010-1\r"
       ]
      },
      {
       "output_type": "stream",
       "stream": "stdout",
       "text": [
        "                       \r",
        "[1234/3600] KPDX 2010-1\r"
       ]
      },
      {
       "output_type": "stream",
       "stream": "stdout",
       "text": [
        "                       \r",
        "[1235/3600] KPHL 2010-1\r"
       ]
      },
      {
       "output_type": "stream",
       "stream": "stdout",
       "text": [
        "                       \r",
        "[1236/3600] KPHX 2010-1\r"
       ]
      },
      {
       "output_type": "stream",
       "stream": "stdout",
       "text": [
        "                       \r",
        "[1237/3600] KPIT 2010-1\r"
       ]
      },
      {
       "output_type": "stream",
       "stream": "stdout",
       "text": [
        "                       \r",
        "[1238/3600] KRDU 2010-1\r"
       ]
      },
      {
       "output_type": "stream",
       "stream": "stdout",
       "text": [
        "                       \r",
        "[1239/3600] KSAN 2010-1\r"
       ]
      },
      {
       "output_type": "stream",
       "stream": "stdout",
       "text": [
        "                       \r",
        "[1240/3600] KSAT 2010-1\r"
       ]
      },
      {
       "output_type": "stream",
       "stream": "stdout",
       "text": [
        "                       \r",
        "[1241/3600] KSEA 2010-1\r"
       ]
      },
      {
       "output_type": "stream",
       "stream": "stdout",
       "text": [
        "                       \r",
        "[1242/3600] KSFO 2010-1\r"
       ]
      },
      {
       "output_type": "stream",
       "stream": "stdout",
       "text": [
        "                       \r",
        "[1243/3600] KSJC 2010-1\r"
       ]
      },
      {
       "output_type": "stream",
       "stream": "stdout",
       "text": [
        "                       \r",
        "[1244/3600] KSLC 2010-1\r"
       ]
      },
      {
       "output_type": "stream",
       "stream": "stdout",
       "text": [
        "                       \r",
        "[1245/3600] KSMF 2010-1\r"
       ]
      },
      {
       "output_type": "stream",
       "stream": "stdout",
       "text": [
        "                       \r",
        "[1246/3600] KSNA 2010-1\r"
       ]
      },
      {
       "output_type": "stream",
       "stream": "stdout",
       "text": [
        "                       \r",
        "[1247/3600] KSTL 2010-1\r"
       ]
      },
      {
       "output_type": "stream",
       "stream": "stdout",
       "text": [
        "                       \r",
        "[1248/3600] KTPA 2010-1\r"
       ]
      },
      {
       "output_type": "stream",
       "stream": "stdout",
       "text": [
        "                       \r",
        "[1249/3600] PHNL 2010-1\r"
       ]
      },
      {
       "output_type": "stream",
       "stream": "stdout",
       "text": [
        "                       \r",
        "[1250/3600] TJSJ 2010-1\r"
       ]
      },
      {
       "output_type": "stream",
       "stream": "stdout",
       "text": [
        "                       \r",
        "[1251/3600] KATL 2010-2\r"
       ]
      },
      {
       "output_type": "stream",
       "stream": "stdout",
       "text": [
        "                       \r",
        "[1252/3600] KAUS 2010-2\r"
       ]
      },
      {
       "output_type": "stream",
       "stream": "stdout",
       "text": [
        "                       \r",
        "[1253/3600] KBNA 2010-2\r"
       ]
      },
      {
       "output_type": "stream",
       "stream": "stdout",
       "text": [
        "                       \r",
        "[1254/3600] KBOS 2010-2\r"
       ]
      },
      {
       "output_type": "stream",
       "stream": "stdout",
       "text": [
        "                       \r",
        "[1255/3600] KBWI 2010-2\r"
       ]
      },
      {
       "output_type": "stream",
       "stream": "stdout",
       "text": [
        "                       \r",
        "[1256/3600] KCLE 2010-2\r"
       ]
      },
      {
       "output_type": "stream",
       "stream": "stdout",
       "text": [
        "                       \r",
        "[1257/3600] KCLT 2010-2\r"
       ]
      },
      {
       "output_type": "stream",
       "stream": "stdout",
       "text": [
        "                       \r",
        "[1258/3600] KCVG 2010-2\r"
       ]
      },
      {
       "output_type": "stream",
       "stream": "stdout",
       "text": [
        "                       \r",
        "[1259/3600] KDAL 2010-2\r"
       ]
      },
      {
       "output_type": "stream",
       "stream": "stdout",
       "text": [
        "                       \r",
        "[1260/3600] KDCA 2010-2\r"
       ]
      },
      {
       "output_type": "stream",
       "stream": "stdout",
       "text": [
        "                       \r",
        "[1261/3600] KDEN 2010-2\r"
       ]
      },
      {
       "output_type": "stream",
       "stream": "stdout",
       "text": [
        "                       \r",
        "[1262/3600] KDFW 2010-2\r"
       ]
      },
      {
       "output_type": "stream",
       "stream": "stdout",
       "text": [
        "                       \r",
        "[1263/3600] KDTW 2010-2\r"
       ]
      },
      {
       "output_type": "stream",
       "stream": "stdout",
       "text": [
        "                       \r",
        "[1264/3600] KEWR 2010-2\r"
       ]
      },
      {
       "output_type": "stream",
       "stream": "stdout",
       "text": [
        "                       \r",
        "[1265/3600] KFLL 2010-2\r"
       ]
      },
      {
       "output_type": "stream",
       "stream": "stdout",
       "text": [
        "                       \r",
        "[1266/3600] KHOU 2010-2\r"
       ]
      },
      {
       "output_type": "stream",
       "stream": "stdout",
       "text": [
        "                       \r",
        "[1267/3600] KIAD 2010-2\r"
       ]
      },
      {
       "output_type": "stream",
       "stream": "stdout",
       "text": [
        "                       \r",
        "[1268/3600] KIAH 2010-2\r"
       ]
      },
      {
       "output_type": "stream",
       "stream": "stdout",
       "text": [
        "                       \r",
        "[1269/3600] KIND 2010-2\r"
       ]
      },
      {
       "output_type": "stream",
       "stream": "stdout",
       "text": [
        "                       \r",
        "[1270/3600] KJFK 2010-2\r"
       ]
      },
      {
       "output_type": "stream",
       "stream": "stdout",
       "text": [
        "                       \r",
        "[1271/3600] KLAS 2010-2\r"
       ]
      },
      {
       "output_type": "stream",
       "stream": "stdout",
       "text": [
        "                       \r",
        "[1272/3600] KLAX 2010-2\r"
       ]
      },
      {
       "output_type": "stream",
       "stream": "stdout",
       "text": [
        "                       \r",
        "[1273/3600] KLGA 2010-2\r"
       ]
      },
      {
       "output_type": "stream",
       "stream": "stdout",
       "text": [
        "                       \r",
        "[1274/3600] KMCI 2010-2\r"
       ]
      },
      {
       "output_type": "stream",
       "stream": "stdout",
       "text": [
        "                       \r",
        "[1275/3600] KMCO 2010-2\r"
       ]
      },
      {
       "output_type": "stream",
       "stream": "stdout",
       "text": [
        "                       \r",
        "[1276/3600] KMDW 2010-2\r"
       ]
      },
      {
       "output_type": "stream",
       "stream": "stdout",
       "text": [
        "                       \r",
        "[1277/3600] KMEM 2010-2\r"
       ]
      },
      {
       "output_type": "stream",
       "stream": "stdout",
       "text": [
        "                       \r",
        "[1278/3600] KMIA 2010-2\r"
       ]
      },
      {
       "output_type": "stream",
       "stream": "stdout",
       "text": [
        "                       \r",
        "[1279/3600] KMKE 2010-2\r"
       ]
      },
      {
       "output_type": "stream",
       "stream": "stdout",
       "text": [
        "                       \r",
        "[1280/3600] KMSP 2010-2\r"
       ]
      },
      {
       "output_type": "stream",
       "stream": "stdout",
       "text": [
        "                       \r",
        "[1281/3600] KMSY 2010-2\r"
       ]
      },
      {
       "output_type": "stream",
       "stream": "stdout",
       "text": [
        "                       \r",
        "[1282/3600] KOAK 2010-2\r"
       ]
      },
      {
       "output_type": "stream",
       "stream": "stdout",
       "text": [
        "                       \r",
        "[1283/3600] KORD 2010-2\r"
       ]
      },
      {
       "output_type": "stream",
       "stream": "stdout",
       "text": [
        "                       \r",
        "[1284/3600] KPDX 2010-2\r"
       ]
      },
      {
       "output_type": "stream",
       "stream": "stdout",
       "text": [
        "                       \r",
        "[1285/3600] KPHL 2010-2\r"
       ]
      },
      {
       "output_type": "stream",
       "stream": "stdout",
       "text": [
        "                       \r",
        "[1286/3600] KPHX 2010-2\r"
       ]
      },
      {
       "output_type": "stream",
       "stream": "stdout",
       "text": [
        "                       \r",
        "[1287/3600] KPIT 2010-2\r"
       ]
      },
      {
       "output_type": "stream",
       "stream": "stdout",
       "text": [
        "                       \r",
        "[1288/3600] KRDU 2010-2\r"
       ]
      },
      {
       "output_type": "stream",
       "stream": "stdout",
       "text": [
        "                       \r",
        "[1289/3600] KSAN 2010-2\r"
       ]
      },
      {
       "output_type": "stream",
       "stream": "stdout",
       "text": [
        "                       \r",
        "[1290/3600] KSAT 2010-2\r"
       ]
      },
      {
       "output_type": "stream",
       "stream": "stdout",
       "text": [
        "                       \r",
        "[1291/3600] KSEA 2010-2\r"
       ]
      },
      {
       "output_type": "stream",
       "stream": "stdout",
       "text": [
        "                       \r",
        "[1292/3600] KSFO 2010-2\r"
       ]
      },
      {
       "output_type": "stream",
       "stream": "stdout",
       "text": [
        "                       \r",
        "[1293/3600] KSJC 2010-2\r"
       ]
      },
      {
       "output_type": "stream",
       "stream": "stdout",
       "text": [
        "                       \r",
        "[1294/3600] KSLC 2010-2\r"
       ]
      },
      {
       "output_type": "stream",
       "stream": "stdout",
       "text": [
        "                       \r",
        "[1295/3600] KSMF 2010-2\r"
       ]
      },
      {
       "output_type": "stream",
       "stream": "stdout",
       "text": [
        "                       \r",
        "[1296/3600] KSNA 2010-2\r"
       ]
      },
      {
       "output_type": "stream",
       "stream": "stdout",
       "text": [
        "                       \r",
        "[1297/3600] KSTL 2010-2\r"
       ]
      },
      {
       "output_type": "stream",
       "stream": "stdout",
       "text": [
        "                       \r",
        "[1298/3600] KTPA 2010-2\r"
       ]
      },
      {
       "output_type": "stream",
       "stream": "stdout",
       "text": [
        "                       \r",
        "[1299/3600] PHNL 2010-2\r"
       ]
      },
      {
       "output_type": "stream",
       "stream": "stdout",
       "text": [
        "                       \r",
        "[1300/3600] TJSJ 2010-2\r"
       ]
      },
      {
       "output_type": "stream",
       "stream": "stdout",
       "text": [
        "                       \r",
        "[1301/3600] KATL 2010-3\r"
       ]
      },
      {
       "output_type": "stream",
       "stream": "stdout",
       "text": [
        "                       \r",
        "[1302/3600] KAUS 2010-3\r"
       ]
      },
      {
       "output_type": "stream",
       "stream": "stdout",
       "text": [
        "                       \r",
        "[1303/3600] KBNA 2010-3\r"
       ]
      },
      {
       "output_type": "stream",
       "stream": "stdout",
       "text": [
        "                       \r",
        "[1304/3600] KBOS 2010-3\r"
       ]
      },
      {
       "output_type": "stream",
       "stream": "stdout",
       "text": [
        "                       \r",
        "[1305/3600] KBWI 2010-3\r"
       ]
      },
      {
       "output_type": "stream",
       "stream": "stdout",
       "text": [
        "                       \r",
        "[1306/3600] KCLE 2010-3\r"
       ]
      },
      {
       "output_type": "stream",
       "stream": "stdout",
       "text": [
        "                       \r",
        "[1307/3600] KCLT 2010-3\r"
       ]
      },
      {
       "output_type": "stream",
       "stream": "stdout",
       "text": [
        "                       \r",
        "[1308/3600] KCVG 2010-3\r"
       ]
      },
      {
       "output_type": "stream",
       "stream": "stdout",
       "text": [
        "                       \r",
        "[1309/3600] KDAL 2010-3\r"
       ]
      },
      {
       "output_type": "stream",
       "stream": "stdout",
       "text": [
        "                       \r",
        "[1310/3600] KDCA 2010-3\r"
       ]
      },
      {
       "output_type": "stream",
       "stream": "stdout",
       "text": [
        "                       \r",
        "[1311/3600] KDEN 2010-3\r"
       ]
      },
      {
       "output_type": "stream",
       "stream": "stdout",
       "text": [
        "                       \r",
        "[1312/3600] KDFW 2010-3\r"
       ]
      },
      {
       "output_type": "stream",
       "stream": "stdout",
       "text": [
        "                       \r",
        "[1313/3600] KDTW 2010-3\r"
       ]
      },
      {
       "output_type": "stream",
       "stream": "stdout",
       "text": [
        "                       \r",
        "[1314/3600] KEWR 2010-3\r"
       ]
      },
      {
       "output_type": "stream",
       "stream": "stdout",
       "text": [
        "                       \r",
        "[1315/3600] KFLL 2010-3\r"
       ]
      },
      {
       "output_type": "stream",
       "stream": "stdout",
       "text": [
        "                       \r",
        "[1316/3600] KHOU 2010-3\r"
       ]
      },
      {
       "output_type": "stream",
       "stream": "stdout",
       "text": [
        "                       \r",
        "[1317/3600] KIAD 2010-3\r"
       ]
      },
      {
       "output_type": "stream",
       "stream": "stdout",
       "text": [
        "                       \r",
        "[1318/3600] KIAH 2010-3\r"
       ]
      },
      {
       "output_type": "stream",
       "stream": "stdout",
       "text": [
        "                       \r",
        "[1319/3600] KIND 2010-3\r"
       ]
      },
      {
       "output_type": "stream",
       "stream": "stdout",
       "text": [
        "                       \r",
        "[1320/3600] KJFK 2010-3\r"
       ]
      },
      {
       "output_type": "stream",
       "stream": "stdout",
       "text": [
        "                       \r",
        "[1321/3600] KLAS 2010-3\r"
       ]
      },
      {
       "output_type": "stream",
       "stream": "stdout",
       "text": [
        "                       \r",
        "[1322/3600] KLAX 2010-3\r"
       ]
      },
      {
       "output_type": "stream",
       "stream": "stdout",
       "text": [
        "                       \r",
        "[1323/3600] KLGA 2010-3\r"
       ]
      },
      {
       "output_type": "stream",
       "stream": "stdout",
       "text": [
        "                       \r",
        "[1324/3600] KMCI 2010-3\r"
       ]
      },
      {
       "output_type": "stream",
       "stream": "stdout",
       "text": [
        "                       \r",
        "[1325/3600] KMCO 2010-3\r"
       ]
      },
      {
       "output_type": "stream",
       "stream": "stdout",
       "text": [
        "                       \r",
        "[1326/3600] KMDW 2010-3\r"
       ]
      },
      {
       "output_type": "stream",
       "stream": "stdout",
       "text": [
        "                       \r",
        "[1327/3600] KMEM 2010-3\r"
       ]
      },
      {
       "output_type": "stream",
       "stream": "stdout",
       "text": [
        "                       \r",
        "[1328/3600] KMIA 2010-3\r"
       ]
      },
      {
       "output_type": "stream",
       "stream": "stdout",
       "text": [
        "                       \r",
        "[1329/3600] KMKE 2010-3\r"
       ]
      },
      {
       "output_type": "stream",
       "stream": "stdout",
       "text": [
        "                       \r",
        "[1330/3600] KMSP 2010-3\r"
       ]
      },
      {
       "output_type": "stream",
       "stream": "stdout",
       "text": [
        "                       \r",
        "[1331/3600] KMSY 2010-3\r"
       ]
      },
      {
       "output_type": "stream",
       "stream": "stdout",
       "text": [
        "                       \r",
        "[1332/3600] KOAK 2010-3\r"
       ]
      },
      {
       "output_type": "stream",
       "stream": "stdout",
       "text": [
        "                       \r",
        "[1333/3600] KORD 2010-3\r"
       ]
      },
      {
       "output_type": "stream",
       "stream": "stdout",
       "text": [
        "                       \r",
        "[1334/3600] KPDX 2010-3\r"
       ]
      },
      {
       "output_type": "stream",
       "stream": "stdout",
       "text": [
        "                       \r",
        "[1335/3600] KPHL 2010-3\r"
       ]
      },
      {
       "output_type": "stream",
       "stream": "stdout",
       "text": [
        "                       \r",
        "[1336/3600] KPHX 2010-3\r"
       ]
      },
      {
       "output_type": "stream",
       "stream": "stdout",
       "text": [
        "                       \r",
        "[1337/3600] KPIT 2010-3\r"
       ]
      },
      {
       "output_type": "stream",
       "stream": "stdout",
       "text": [
        "                       \r",
        "[1338/3600] KRDU 2010-3\r"
       ]
      },
      {
       "output_type": "stream",
       "stream": "stdout",
       "text": [
        "                       \r",
        "[1339/3600] KSAN 2010-3\r"
       ]
      },
      {
       "output_type": "stream",
       "stream": "stdout",
       "text": [
        "                       \r",
        "[1340/3600] KSAT 2010-3\r"
       ]
      },
      {
       "output_type": "stream",
       "stream": "stdout",
       "text": [
        "                       \r",
        "[1341/3600] KSEA 2010-3\r"
       ]
      },
      {
       "output_type": "stream",
       "stream": "stdout",
       "text": [
        "                       \r",
        "[1342/3600] KSFO 2010-3\r"
       ]
      },
      {
       "output_type": "stream",
       "stream": "stdout",
       "text": [
        "                       \r",
        "[1343/3600] KSJC 2010-3\r"
       ]
      },
      {
       "output_type": "stream",
       "stream": "stdout",
       "text": [
        "                       \r",
        "[1344/3600] KSLC 2010-3\r"
       ]
      },
      {
       "output_type": "stream",
       "stream": "stdout",
       "text": [
        "                       \r",
        "[1345/3600] KSMF 2010-3\r"
       ]
      },
      {
       "output_type": "stream",
       "stream": "stdout",
       "text": [
        "                       \r",
        "[1346/3600] KSNA 2010-3\r"
       ]
      },
      {
       "output_type": "stream",
       "stream": "stdout",
       "text": [
        "                       \r",
        "[1347/3600] KSTL 2010-3\r"
       ]
      },
      {
       "output_type": "stream",
       "stream": "stdout",
       "text": [
        "                       \r",
        "[1348/3600] KTPA 2010-3\r"
       ]
      },
      {
       "output_type": "stream",
       "stream": "stdout",
       "text": [
        "                       \r",
        "[1349/3600] PHNL 2010-3\r"
       ]
      },
      {
       "output_type": "stream",
       "stream": "stdout",
       "text": [
        "                       \r",
        "[1350/3600] TJSJ 2010-3\r"
       ]
      },
      {
       "output_type": "stream",
       "stream": "stdout",
       "text": [
        "                       \r",
        "[1351/3600] KATL 2010-4\r"
       ]
      },
      {
       "output_type": "stream",
       "stream": "stdout",
       "text": [
        "                       \r",
        "[1352/3600] KAUS 2010-4\r"
       ]
      },
      {
       "output_type": "stream",
       "stream": "stdout",
       "text": [
        "                       \r",
        "[1353/3600] KBNA 2010-4\r"
       ]
      },
      {
       "output_type": "stream",
       "stream": "stdout",
       "text": [
        "                       \r",
        "[1354/3600] KBOS 2010-4\r"
       ]
      },
      {
       "output_type": "stream",
       "stream": "stdout",
       "text": [
        "                       \r",
        "[1355/3600] KBWI 2010-4\r"
       ]
      },
      {
       "output_type": "stream",
       "stream": "stdout",
       "text": [
        "                       \r",
        "[1356/3600] KCLE 2010-4\r"
       ]
      },
      {
       "output_type": "stream",
       "stream": "stdout",
       "text": [
        "                       \r",
        "[1357/3600] KCLT 2010-4\r"
       ]
      },
      {
       "output_type": "stream",
       "stream": "stdout",
       "text": [
        "                       \r",
        "[1358/3600] KCVG 2010-4\r"
       ]
      },
      {
       "output_type": "stream",
       "stream": "stdout",
       "text": [
        "                       \r",
        "[1359/3600] KDAL 2010-4\r"
       ]
      },
      {
       "output_type": "stream",
       "stream": "stdout",
       "text": [
        "                       \r",
        "[1360/3600] KDCA 2010-4\r"
       ]
      },
      {
       "output_type": "stream",
       "stream": "stdout",
       "text": [
        "                       \r",
        "[1361/3600] KDEN 2010-4\r"
       ]
      },
      {
       "output_type": "stream",
       "stream": "stdout",
       "text": [
        "                       \r",
        "[1362/3600] KDFW 2010-4\r"
       ]
      },
      {
       "output_type": "stream",
       "stream": "stdout",
       "text": [
        "                       \r",
        "[1363/3600] KDTW 2010-4\r"
       ]
      },
      {
       "output_type": "stream",
       "stream": "stdout",
       "text": [
        "                       \r",
        "[1364/3600] KEWR 2010-4\r"
       ]
      },
      {
       "output_type": "stream",
       "stream": "stdout",
       "text": [
        "                       \r",
        "[1365/3600] KFLL 2010-4\r"
       ]
      },
      {
       "output_type": "stream",
       "stream": "stdout",
       "text": [
        "                       \r",
        "[1366/3600] KHOU 2010-4\r"
       ]
      },
      {
       "output_type": "stream",
       "stream": "stdout",
       "text": [
        "                       \r",
        "[1367/3600] KIAD 2010-4\r"
       ]
      },
      {
       "output_type": "stream",
       "stream": "stdout",
       "text": [
        "                       \r",
        "[1368/3600] KIAH 2010-4\r"
       ]
      },
      {
       "output_type": "stream",
       "stream": "stdout",
       "text": [
        "                       \r",
        "[1369/3600] KIND 2010-4\r"
       ]
      },
      {
       "output_type": "stream",
       "stream": "stdout",
       "text": [
        "                       \r",
        "[1370/3600] KJFK 2010-4\r"
       ]
      },
      {
       "output_type": "stream",
       "stream": "stdout",
       "text": [
        "                       \r",
        "[1371/3600] KLAS 2010-4\r"
       ]
      },
      {
       "output_type": "stream",
       "stream": "stdout",
       "text": [
        "                       \r",
        "[1372/3600] KLAX 2010-4\r"
       ]
      },
      {
       "output_type": "stream",
       "stream": "stdout",
       "text": [
        "                       \r",
        "[1373/3600] KLGA 2010-4\r"
       ]
      },
      {
       "output_type": "stream",
       "stream": "stdout",
       "text": [
        "                       \r",
        "[1374/3600] KMCI 2010-4\r"
       ]
      },
      {
       "output_type": "stream",
       "stream": "stdout",
       "text": [
        "                       \r",
        "[1375/3600] KMCO 2010-4\r"
       ]
      },
      {
       "output_type": "stream",
       "stream": "stdout",
       "text": [
        "                       \r",
        "[1376/3600] KMDW 2010-4\r"
       ]
      },
      {
       "output_type": "stream",
       "stream": "stdout",
       "text": [
        "                       \r",
        "[1377/3600] KMEM 2010-4\r"
       ]
      },
      {
       "output_type": "stream",
       "stream": "stdout",
       "text": [
        "                       \r",
        "[1378/3600] KMIA 2010-4\r"
       ]
      },
      {
       "output_type": "stream",
       "stream": "stdout",
       "text": [
        "                       \r",
        "[1379/3600] KMKE 2010-4\r"
       ]
      },
      {
       "output_type": "stream",
       "stream": "stdout",
       "text": [
        "                       \r",
        "[1380/3600] KMSP 2010-4\r"
       ]
      },
      {
       "output_type": "stream",
       "stream": "stdout",
       "text": [
        "                       \r",
        "[1381/3600] KMSY 2010-4\r"
       ]
      },
      {
       "output_type": "stream",
       "stream": "stdout",
       "text": [
        "                       \r",
        "[1382/3600] KOAK 2010-4\r"
       ]
      },
      {
       "output_type": "stream",
       "stream": "stdout",
       "text": [
        "                       \r",
        "[1383/3600] KORD 2010-4\r"
       ]
      },
      {
       "output_type": "stream",
       "stream": "stdout",
       "text": [
        "                       \r",
        "[1384/3600] KPDX 2010-4\r"
       ]
      },
      {
       "output_type": "stream",
       "stream": "stdout",
       "text": [
        "                       \r",
        "[1385/3600] KPHL 2010-4\r"
       ]
      },
      {
       "output_type": "stream",
       "stream": "stdout",
       "text": [
        "                       \r",
        "[1386/3600] KPHX 2010-4\r"
       ]
      },
      {
       "output_type": "stream",
       "stream": "stdout",
       "text": [
        "                       \r",
        "[1387/3600] KPIT 2010-4\r"
       ]
      },
      {
       "output_type": "stream",
       "stream": "stdout",
       "text": [
        "                       \r",
        "[1388/3600] KRDU 2010-4\r"
       ]
      },
      {
       "output_type": "stream",
       "stream": "stdout",
       "text": [
        "                       \r",
        "[1389/3600] KSAN 2010-4\r"
       ]
      },
      {
       "output_type": "stream",
       "stream": "stdout",
       "text": [
        "                       \r",
        "[1390/3600] KSAT 2010-4\r"
       ]
      },
      {
       "output_type": "stream",
       "stream": "stdout",
       "text": [
        "                       \r",
        "[1391/3600] KSEA 2010-4\r"
       ]
      },
      {
       "output_type": "stream",
       "stream": "stdout",
       "text": [
        "                       \r",
        "[1392/3600] KSFO 2010-4\r"
       ]
      },
      {
       "output_type": "stream",
       "stream": "stdout",
       "text": [
        "                       \r",
        "[1393/3600] KSJC 2010-4\r"
       ]
      },
      {
       "output_type": "stream",
       "stream": "stdout",
       "text": [
        "                       \r",
        "[1394/3600] KSLC 2010-4\r"
       ]
      },
      {
       "output_type": "stream",
       "stream": "stdout",
       "text": [
        "                       \r",
        "[1395/3600] KSMF 2010-4\r"
       ]
      },
      {
       "output_type": "stream",
       "stream": "stdout",
       "text": [
        "                       \r",
        "[1396/3600] KSNA 2010-4\r"
       ]
      },
      {
       "output_type": "stream",
       "stream": "stdout",
       "text": [
        "                       \r",
        "[1397/3600] KSTL 2010-4\r"
       ]
      },
      {
       "output_type": "stream",
       "stream": "stdout",
       "text": [
        "                       \r",
        "[1398/3600] KTPA 2010-4\r"
       ]
      },
      {
       "output_type": "stream",
       "stream": "stdout",
       "text": [
        "                       \r",
        "[1399/3600] PHNL 2010-4\r"
       ]
      },
      {
       "output_type": "stream",
       "stream": "stdout",
       "text": [
        "                       \r",
        "[1400/3600] TJSJ 2010-4\r"
       ]
      },
      {
       "output_type": "stream",
       "stream": "stdout",
       "text": [
        "                       \r",
        "[1401/3600] KATL 2010-5\r"
       ]
      },
      {
       "output_type": "stream",
       "stream": "stdout",
       "text": [
        "                       \r",
        "[1402/3600] KAUS 2010-5\r"
       ]
      },
      {
       "output_type": "stream",
       "stream": "stdout",
       "text": [
        "                       \r",
        "[1403/3600] KBNA 2010-5\r"
       ]
      },
      {
       "output_type": "stream",
       "stream": "stdout",
       "text": [
        "                       \r",
        "[1404/3600] KBOS 2010-5\r"
       ]
      },
      {
       "output_type": "stream",
       "stream": "stdout",
       "text": [
        "                       \r",
        "[1405/3600] KBWI 2010-5\r"
       ]
      },
      {
       "output_type": "stream",
       "stream": "stdout",
       "text": [
        "                       \r",
        "[1406/3600] KCLE 2010-5\r"
       ]
      },
      {
       "output_type": "stream",
       "stream": "stdout",
       "text": [
        "                       \r",
        "[1407/3600] KCLT 2010-5\r"
       ]
      },
      {
       "output_type": "stream",
       "stream": "stdout",
       "text": [
        "                       \r",
        "[1408/3600] KCVG 2010-5\r"
       ]
      },
      {
       "output_type": "stream",
       "stream": "stdout",
       "text": [
        "                       \r",
        "[1409/3600] KDAL 2010-5\r"
       ]
      },
      {
       "output_type": "stream",
       "stream": "stdout",
       "text": [
        "                       \r",
        "[1410/3600] KDCA 2010-5\r"
       ]
      },
      {
       "output_type": "stream",
       "stream": "stdout",
       "text": [
        "                       \r",
        "[1411/3600] KDEN 2010-5\r"
       ]
      },
      {
       "output_type": "stream",
       "stream": "stdout",
       "text": [
        "                       \r",
        "[1412/3600] KDFW 2010-5\r"
       ]
      },
      {
       "output_type": "stream",
       "stream": "stdout",
       "text": [
        "                       \r",
        "[1413/3600] KDTW 2010-5\r"
       ]
      },
      {
       "output_type": "stream",
       "stream": "stdout",
       "text": [
        "                       \r",
        "[1414/3600] KEWR 2010-5\r"
       ]
      },
      {
       "output_type": "stream",
       "stream": "stdout",
       "text": [
        "                       \r",
        "[1415/3600] KFLL 2010-5\r"
       ]
      },
      {
       "output_type": "stream",
       "stream": "stdout",
       "text": [
        "                       \r",
        "[1416/3600] KHOU 2010-5\r"
       ]
      },
      {
       "output_type": "stream",
       "stream": "stdout",
       "text": [
        "                       \r",
        "[1417/3600] KIAD 2010-5\r"
       ]
      },
      {
       "output_type": "stream",
       "stream": "stdout",
       "text": [
        "                       \r",
        "[1418/3600] KIAH 2010-5\r"
       ]
      },
      {
       "output_type": "stream",
       "stream": "stdout",
       "text": [
        "                       \r",
        "[1419/3600] KIND 2010-5\r"
       ]
      },
      {
       "output_type": "stream",
       "stream": "stdout",
       "text": [
        "                       \r",
        "[1420/3600] KJFK 2010-5\r"
       ]
      },
      {
       "output_type": "stream",
       "stream": "stdout",
       "text": [
        "                       \r",
        "[1421/3600] KLAS 2010-5\r"
       ]
      },
      {
       "output_type": "stream",
       "stream": "stdout",
       "text": [
        "                       \r",
        "[1422/3600] KLAX 2010-5\r"
       ]
      },
      {
       "output_type": "stream",
       "stream": "stdout",
       "text": [
        "                       \r",
        "[1423/3600] KLGA 2010-5\r"
       ]
      },
      {
       "output_type": "stream",
       "stream": "stdout",
       "text": [
        "                       \r",
        "[1424/3600] KMCI 2010-5\r"
       ]
      },
      {
       "output_type": "stream",
       "stream": "stdout",
       "text": [
        "                       \r",
        "[1425/3600] KMCO 2010-5\r"
       ]
      },
      {
       "output_type": "stream",
       "stream": "stdout",
       "text": [
        "                       \r",
        "[1426/3600] KMDW 2010-5\r"
       ]
      },
      {
       "output_type": "stream",
       "stream": "stdout",
       "text": [
        "                       \r",
        "[1427/3600] KMEM 2010-5\r"
       ]
      },
      {
       "output_type": "stream",
       "stream": "stdout",
       "text": [
        "                       \r",
        "[1428/3600] KMIA 2010-5\r"
       ]
      },
      {
       "output_type": "stream",
       "stream": "stdout",
       "text": [
        "                       \r",
        "[1429/3600] KMKE 2010-5\r"
       ]
      },
      {
       "output_type": "stream",
       "stream": "stdout",
       "text": [
        "                       \r",
        "[1430/3600] KMSP 2010-5\r"
       ]
      },
      {
       "output_type": "stream",
       "stream": "stdout",
       "text": [
        "                       \r",
        "[1431/3600] KMSY 2010-5\r"
       ]
      },
      {
       "output_type": "stream",
       "stream": "stdout",
       "text": [
        "                       \r",
        "[1432/3600] KOAK 2010-5\r"
       ]
      },
      {
       "output_type": "stream",
       "stream": "stdout",
       "text": [
        "                       \r",
        "[1433/3600] KORD 2010-5\r"
       ]
      },
      {
       "output_type": "stream",
       "stream": "stdout",
       "text": [
        "                       \r",
        "[1434/3600] KPDX 2010-5\r"
       ]
      },
      {
       "output_type": "stream",
       "stream": "stdout",
       "text": [
        "                       \r",
        "[1435/3600] KPHL 2010-5\r"
       ]
      },
      {
       "output_type": "stream",
       "stream": "stdout",
       "text": [
        "                       \r",
        "[1436/3600] KPHX 2010-5\r"
       ]
      },
      {
       "output_type": "stream",
       "stream": "stdout",
       "text": [
        "                       \r",
        "[1437/3600] KPIT 2010-5\r"
       ]
      },
      {
       "output_type": "stream",
       "stream": "stdout",
       "text": [
        "                       \r",
        "[1438/3600] KRDU 2010-5\r"
       ]
      },
      {
       "output_type": "stream",
       "stream": "stdout",
       "text": [
        "                       \r",
        "[1439/3600] KSAN 2010-5\r"
       ]
      },
      {
       "output_type": "stream",
       "stream": "stdout",
       "text": [
        "                       \r",
        "[1440/3600] KSAT 2010-5\r"
       ]
      },
      {
       "output_type": "stream",
       "stream": "stdout",
       "text": [
        "                       \r",
        "[1441/3600] KSEA 2010-5\r"
       ]
      },
      {
       "output_type": "stream",
       "stream": "stdout",
       "text": [
        "                       \r",
        "[1442/3600] KSFO 2010-5\r"
       ]
      },
      {
       "output_type": "stream",
       "stream": "stdout",
       "text": [
        "                       \r",
        "[1443/3600] KSJC 2010-5\r"
       ]
      },
      {
       "output_type": "stream",
       "stream": "stdout",
       "text": [
        "                       \r",
        "[1444/3600] KSLC 2010-5\r"
       ]
      },
      {
       "output_type": "stream",
       "stream": "stdout",
       "text": [
        "                       \r",
        "[1445/3600] KSMF 2010-5\r"
       ]
      },
      {
       "output_type": "stream",
       "stream": "stdout",
       "text": [
        "                       \r",
        "[1446/3600] KSNA 2010-5\r"
       ]
      },
      {
       "output_type": "stream",
       "stream": "stdout",
       "text": [
        "                       \r",
        "[1447/3600] KSTL 2010-5\r"
       ]
      },
      {
       "output_type": "stream",
       "stream": "stdout",
       "text": [
        "                       \r",
        "[1448/3600] KTPA 2010-5\r"
       ]
      },
      {
       "output_type": "stream",
       "stream": "stdout",
       "text": [
        "                       \r",
        "[1449/3600] PHNL 2010-5\r"
       ]
      },
      {
       "output_type": "stream",
       "stream": "stdout",
       "text": [
        "                       \r",
        "[1450/3600] TJSJ 2010-5\r"
       ]
      },
      {
       "output_type": "stream",
       "stream": "stdout",
       "text": [
        "                       \r",
        "[1451/3600] KATL 2010-6\r"
       ]
      },
      {
       "output_type": "stream",
       "stream": "stdout",
       "text": [
        "                       \r",
        "[1452/3600] KAUS 2010-6\r"
       ]
      },
      {
       "output_type": "stream",
       "stream": "stdout",
       "text": [
        "                       \r",
        "[1453/3600] KBNA 2010-6\r"
       ]
      },
      {
       "output_type": "stream",
       "stream": "stdout",
       "text": [
        "                       \r",
        "[1454/3600] KBOS 2010-6\r"
       ]
      },
      {
       "output_type": "stream",
       "stream": "stdout",
       "text": [
        "                       \r",
        "[1455/3600] KBWI 2010-6\r"
       ]
      },
      {
       "output_type": "stream",
       "stream": "stdout",
       "text": [
        "                       \r",
        "[1456/3600] KCLE 2010-6\r"
       ]
      },
      {
       "output_type": "stream",
       "stream": "stdout",
       "text": [
        "                       \r",
        "[1457/3600] KCLT 2010-6\r"
       ]
      },
      {
       "output_type": "stream",
       "stream": "stdout",
       "text": [
        "                       \r",
        "[1458/3600] KCVG 2010-6\r"
       ]
      },
      {
       "output_type": "stream",
       "stream": "stdout",
       "text": [
        "                       \r",
        "[1459/3600] KDAL 2010-6\r"
       ]
      },
      {
       "output_type": "stream",
       "stream": "stdout",
       "text": [
        "                       \r",
        "[1460/3600] KDCA 2010-6\r"
       ]
      },
      {
       "output_type": "stream",
       "stream": "stdout",
       "text": [
        "                       \r",
        "[1461/3600] KDEN 2010-6\r"
       ]
      },
      {
       "output_type": "stream",
       "stream": "stdout",
       "text": [
        "                       \r",
        "[1462/3600] KDFW 2010-6\r"
       ]
      },
      {
       "output_type": "stream",
       "stream": "stdout",
       "text": [
        "                       \r",
        "[1463/3600] KDTW 2010-6\r"
       ]
      },
      {
       "output_type": "stream",
       "stream": "stdout",
       "text": [
        "                       \r",
        "[1464/3600] KEWR 2010-6\r"
       ]
      },
      {
       "output_type": "stream",
       "stream": "stdout",
       "text": [
        "                       \r",
        "[1465/3600] KFLL 2010-6\r"
       ]
      },
      {
       "output_type": "stream",
       "stream": "stdout",
       "text": [
        "                       \r",
        "[1466/3600] KHOU 2010-6\r"
       ]
      },
      {
       "output_type": "stream",
       "stream": "stdout",
       "text": [
        "                       \r",
        "[1467/3600] KIAD 2010-6\r"
       ]
      },
      {
       "output_type": "stream",
       "stream": "stdout",
       "text": [
        "                       \r",
        "[1468/3600] KIAH 2010-6\r"
       ]
      },
      {
       "output_type": "stream",
       "stream": "stdout",
       "text": [
        "                       \r",
        "[1469/3600] KIND 2010-6\r"
       ]
      },
      {
       "output_type": "stream",
       "stream": "stdout",
       "text": [
        "                       \r",
        "[1470/3600] KJFK 2010-6\r"
       ]
      },
      {
       "output_type": "stream",
       "stream": "stdout",
       "text": [
        "                       \r",
        "[1471/3600] KLAS 2010-6\r"
       ]
      },
      {
       "output_type": "stream",
       "stream": "stdout",
       "text": [
        "                       \r",
        "[1472/3600] KLAX 2010-6\r"
       ]
      },
      {
       "output_type": "stream",
       "stream": "stdout",
       "text": [
        "                       \r",
        "[1473/3600] KLGA 2010-6\r"
       ]
      },
      {
       "output_type": "stream",
       "stream": "stdout",
       "text": [
        "                       \r",
        "[1474/3600] KMCI 2010-6\r"
       ]
      },
      {
       "output_type": "stream",
       "stream": "stdout",
       "text": [
        "                       \r",
        "[1475/3600] KMCO 2010-6\r"
       ]
      },
      {
       "output_type": "stream",
       "stream": "stdout",
       "text": [
        "                       \r",
        "[1476/3600] KMDW 2010-6\r"
       ]
      },
      {
       "output_type": "stream",
       "stream": "stdout",
       "text": [
        "                       \r",
        "[1477/3600] KMEM 2010-6\r"
       ]
      },
      {
       "output_type": "stream",
       "stream": "stdout",
       "text": [
        "                       \r",
        "[1478/3600] KMIA 2010-6\r"
       ]
      },
      {
       "output_type": "stream",
       "stream": "stdout",
       "text": [
        "                       \r",
        "[1479/3600] KMKE 2010-6\r"
       ]
      },
      {
       "output_type": "stream",
       "stream": "stdout",
       "text": [
        "                       \r",
        "[1480/3600] KMSP 2010-6\r"
       ]
      },
      {
       "output_type": "stream",
       "stream": "stdout",
       "text": [
        "                       \r",
        "[1481/3600] KMSY 2010-6\r"
       ]
      },
      {
       "output_type": "stream",
       "stream": "stdout",
       "text": [
        "                       \r",
        "[1482/3600] KOAK 2010-6\r"
       ]
      },
      {
       "output_type": "stream",
       "stream": "stdout",
       "text": [
        "                       \r",
        "[1483/3600] KORD 2010-6\r"
       ]
      },
      {
       "output_type": "stream",
       "stream": "stdout",
       "text": [
        "                       \r",
        "[1484/3600] KPDX 2010-6\r"
       ]
      },
      {
       "output_type": "stream",
       "stream": "stdout",
       "text": [
        "                       \r",
        "[1485/3600] KPHL 2010-6\r"
       ]
      },
      {
       "output_type": "stream",
       "stream": "stdout",
       "text": [
        "                       \r",
        "[1486/3600] KPHX 2010-6\r"
       ]
      },
      {
       "output_type": "stream",
       "stream": "stdout",
       "text": [
        "                       \r",
        "[1487/3600] KPIT 2010-6\r"
       ]
      },
      {
       "output_type": "stream",
       "stream": "stdout",
       "text": [
        "                       \r",
        "[1488/3600] KRDU 2010-6\r"
       ]
      },
      {
       "output_type": "stream",
       "stream": "stdout",
       "text": [
        "                       \r",
        "[1489/3600] KSAN 2010-6\r"
       ]
      },
      {
       "output_type": "stream",
       "stream": "stdout",
       "text": [
        "                       \r",
        "[1490/3600] KSAT 2010-6\r"
       ]
      },
      {
       "output_type": "stream",
       "stream": "stdout",
       "text": [
        "                       \r",
        "[1491/3600] KSEA 2010-6\r"
       ]
      },
      {
       "output_type": "stream",
       "stream": "stdout",
       "text": [
        "                       \r",
        "[1492/3600] KSFO 2010-6\r"
       ]
      },
      {
       "output_type": "stream",
       "stream": "stdout",
       "text": [
        "                       \r",
        "[1493/3600] KSJC 2010-6\r"
       ]
      },
      {
       "output_type": "stream",
       "stream": "stdout",
       "text": [
        "                       \r",
        "[1494/3600] KSLC 2010-6\r"
       ]
      },
      {
       "output_type": "stream",
       "stream": "stdout",
       "text": [
        "                       \r",
        "[1495/3600] KSMF 2010-6\r"
       ]
      },
      {
       "output_type": "stream",
       "stream": "stdout",
       "text": [
        "                       \r",
        "[1496/3600] KSNA 2010-6\r"
       ]
      },
      {
       "output_type": "stream",
       "stream": "stdout",
       "text": [
        "                       \r",
        "[1497/3600] KSTL 2010-6\r"
       ]
      },
      {
       "output_type": "stream",
       "stream": "stdout",
       "text": [
        "                       \r",
        "[1498/3600] KTPA 2010-6\r"
       ]
      },
      {
       "output_type": "stream",
       "stream": "stdout",
       "text": [
        "                       \r",
        "[1499/3600] PHNL 2010-6\r"
       ]
      },
      {
       "output_type": "stream",
       "stream": "stdout",
       "text": [
        "                       \r",
        "[1500/3600] TJSJ 2010-6\r"
       ]
      },
      {
       "output_type": "stream",
       "stream": "stdout",
       "text": [
        "                       \r",
        "[1501/3600] KATL 2010-7\r"
       ]
      },
      {
       "output_type": "stream",
       "stream": "stdout",
       "text": [
        "                       \r",
        "[1502/3600] KAUS 2010-7\r"
       ]
      },
      {
       "output_type": "stream",
       "stream": "stdout",
       "text": [
        "                       \r",
        "[1503/3600] KBNA 2010-7\r"
       ]
      },
      {
       "output_type": "stream",
       "stream": "stdout",
       "text": [
        "                       \r",
        "[1504/3600] KBOS 2010-7\r"
       ]
      },
      {
       "output_type": "stream",
       "stream": "stdout",
       "text": [
        "                       \r",
        "[1505/3600] KBWI 2010-7\r"
       ]
      },
      {
       "output_type": "stream",
       "stream": "stdout",
       "text": [
        "                       \r",
        "[1506/3600] KCLE 2010-7\r"
       ]
      },
      {
       "output_type": "stream",
       "stream": "stdout",
       "text": [
        "                       \r",
        "[1507/3600] KCLT 2010-7\r"
       ]
      },
      {
       "output_type": "stream",
       "stream": "stdout",
       "text": [
        "                       \r",
        "[1508/3600] KCVG 2010-7\r"
       ]
      },
      {
       "output_type": "stream",
       "stream": "stdout",
       "text": [
        "                       \r",
        "[1509/3600] KDAL 2010-7\r"
       ]
      },
      {
       "output_type": "stream",
       "stream": "stdout",
       "text": [
        "                       \r",
        "[1510/3600] KDCA 2010-7\r"
       ]
      },
      {
       "output_type": "stream",
       "stream": "stdout",
       "text": [
        "                       \r",
        "[1511/3600] KDEN 2010-7\r"
       ]
      },
      {
       "output_type": "stream",
       "stream": "stdout",
       "text": [
        "                       \r",
        "[1512/3600] KDFW 2010-7\r"
       ]
      },
      {
       "output_type": "stream",
       "stream": "stdout",
       "text": [
        "                       \r",
        "[1513/3600] KDTW 2010-7\r"
       ]
      },
      {
       "output_type": "stream",
       "stream": "stdout",
       "text": [
        "                       \r",
        "[1514/3600] KEWR 2010-7\r"
       ]
      },
      {
       "output_type": "stream",
       "stream": "stdout",
       "text": [
        "                       \r",
        "[1515/3600] KFLL 2010-7\r"
       ]
      },
      {
       "output_type": "stream",
       "stream": "stdout",
       "text": [
        "                       \r",
        "[1516/3600] KHOU 2010-7\r"
       ]
      },
      {
       "output_type": "stream",
       "stream": "stdout",
       "text": [
        "                       \r",
        "[1517/3600] KIAD 2010-7\r"
       ]
      },
      {
       "output_type": "stream",
       "stream": "stdout",
       "text": [
        "                       \r",
        "[1518/3600] KIAH 2010-7\r"
       ]
      },
      {
       "output_type": "stream",
       "stream": "stdout",
       "text": [
        "                       \r",
        "[1519/3600] KIND 2010-7\r"
       ]
      },
      {
       "output_type": "stream",
       "stream": "stdout",
       "text": [
        "                       \r",
        "[1520/3600] KJFK 2010-7\r"
       ]
      },
      {
       "output_type": "stream",
       "stream": "stdout",
       "text": [
        "                       \r",
        "[1521/3600] KLAS 2010-7\r"
       ]
      },
      {
       "output_type": "stream",
       "stream": "stdout",
       "text": [
        "                       \r",
        "[1522/3600] KLAX 2010-7\r"
       ]
      },
      {
       "output_type": "stream",
       "stream": "stdout",
       "text": [
        "                       \r",
        "[1523/3600] KLGA 2010-7\r"
       ]
      },
      {
       "output_type": "stream",
       "stream": "stdout",
       "text": [
        "                       \r",
        "[1524/3600] KMCI 2010-7\r"
       ]
      },
      {
       "output_type": "stream",
       "stream": "stdout",
       "text": [
        "                       \r",
        "[1525/3600] KMCO 2010-7\r"
       ]
      },
      {
       "output_type": "stream",
       "stream": "stdout",
       "text": [
        "                       \r",
        "[1526/3600] KMDW 2010-7\r"
       ]
      },
      {
       "output_type": "stream",
       "stream": "stdout",
       "text": [
        "                       \r",
        "[1527/3600] KMEM 2010-7\r"
       ]
      },
      {
       "output_type": "stream",
       "stream": "stdout",
       "text": [
        "                       \r",
        "[1528/3600] KMIA 2010-7\r"
       ]
      },
      {
       "output_type": "stream",
       "stream": "stdout",
       "text": [
        "                       \r",
        "[1529/3600] KMKE 2010-7\r"
       ]
      },
      {
       "output_type": "stream",
       "stream": "stdout",
       "text": [
        "                       \r",
        "[1530/3600] KMSP 2010-7\r"
       ]
      },
      {
       "output_type": "stream",
       "stream": "stdout",
       "text": [
        "                       \r",
        "[1531/3600] KMSY 2010-7\r"
       ]
      },
      {
       "output_type": "stream",
       "stream": "stdout",
       "text": [
        "                       \r",
        "[1532/3600] KOAK 2010-7\r"
       ]
      },
      {
       "output_type": "stream",
       "stream": "stdout",
       "text": [
        "                       \r",
        "[1533/3600] KORD 2010-7\r"
       ]
      },
      {
       "output_type": "stream",
       "stream": "stdout",
       "text": [
        "                       \r",
        "[1534/3600] KPDX 2010-7\r"
       ]
      },
      {
       "output_type": "stream",
       "stream": "stdout",
       "text": [
        "                       \r",
        "[1535/3600] KPHL 2010-7\r"
       ]
      },
      {
       "output_type": "stream",
       "stream": "stdout",
       "text": [
        "                       \r",
        "[1536/3600] KPHX 2010-7\r"
       ]
      },
      {
       "output_type": "stream",
       "stream": "stdout",
       "text": [
        "                       \r",
        "[1537/3600] KPIT 2010-7\r"
       ]
      },
      {
       "output_type": "stream",
       "stream": "stdout",
       "text": [
        "                       \r",
        "[1538/3600] KRDU 2010-7\r"
       ]
      },
      {
       "output_type": "stream",
       "stream": "stdout",
       "text": [
        "                       \r",
        "[1539/3600] KSAN 2010-7\r"
       ]
      },
      {
       "output_type": "stream",
       "stream": "stdout",
       "text": [
        "                       \r",
        "[1540/3600] KSAT 2010-7\r"
       ]
      },
      {
       "output_type": "stream",
       "stream": "stdout",
       "text": [
        "                       \r",
        "[1541/3600] KSEA 2010-7\r"
       ]
      },
      {
       "output_type": "stream",
       "stream": "stdout",
       "text": [
        "                       \r",
        "[1542/3600] KSFO 2010-7\r"
       ]
      },
      {
       "output_type": "stream",
       "stream": "stdout",
       "text": [
        "                       \r",
        "[1543/3600] KSJC 2010-7\r"
       ]
      },
      {
       "output_type": "stream",
       "stream": "stdout",
       "text": [
        "                       \r",
        "[1544/3600] KSLC 2010-7\r"
       ]
      },
      {
       "output_type": "stream",
       "stream": "stdout",
       "text": [
        "                       \r",
        "[1545/3600] KSMF 2010-7\r"
       ]
      },
      {
       "output_type": "stream",
       "stream": "stdout",
       "text": [
        "                       \r",
        "[1546/3600] KSNA 2010-7\r"
       ]
      },
      {
       "output_type": "stream",
       "stream": "stdout",
       "text": [
        "                       \r",
        "[1547/3600] KSTL 2010-7\r"
       ]
      },
      {
       "output_type": "stream",
       "stream": "stdout",
       "text": [
        "                       \r",
        "[1548/3600] KTPA 2010-7\r"
       ]
      },
      {
       "output_type": "stream",
       "stream": "stdout",
       "text": [
        "                       \r",
        "[1549/3600] PHNL 2010-7\r"
       ]
      },
      {
       "output_type": "stream",
       "stream": "stdout",
       "text": [
        "                       \r",
        "[1550/3600] TJSJ 2010-7\r"
       ]
      },
      {
       "output_type": "stream",
       "stream": "stdout",
       "text": [
        "                       \r",
        "[1551/3600] KATL 2010-8\r"
       ]
      },
      {
       "output_type": "stream",
       "stream": "stdout",
       "text": [
        "                       \r",
        "[1552/3600] KAUS 2010-8\r"
       ]
      },
      {
       "output_type": "stream",
       "stream": "stdout",
       "text": [
        "                       \r",
        "[1553/3600] KBNA 2010-8\r"
       ]
      },
      {
       "output_type": "stream",
       "stream": "stdout",
       "text": [
        "                       \r",
        "[1554/3600] KBOS 2010-8\r"
       ]
      },
      {
       "output_type": "stream",
       "stream": "stdout",
       "text": [
        "                       \r",
        "[1555/3600] KBWI 2010-8\r"
       ]
      },
      {
       "output_type": "stream",
       "stream": "stdout",
       "text": [
        "                       \r",
        "[1556/3600] KCLE 2010-8\r"
       ]
      },
      {
       "output_type": "stream",
       "stream": "stdout",
       "text": [
        "                       \r",
        "[1557/3600] KCLT 2010-8\r"
       ]
      },
      {
       "output_type": "stream",
       "stream": "stdout",
       "text": [
        "                       \r",
        "[1558/3600] KCVG 2010-8\r"
       ]
      },
      {
       "output_type": "stream",
       "stream": "stdout",
       "text": [
        "                       \r",
        "[1559/3600] KDAL 2010-8\r"
       ]
      },
      {
       "output_type": "stream",
       "stream": "stdout",
       "text": [
        "                       \r",
        "[1560/3600] KDCA 2010-8\r"
       ]
      },
      {
       "output_type": "stream",
       "stream": "stdout",
       "text": [
        "                       \r",
        "[1561/3600] KDEN 2010-8\r"
       ]
      },
      {
       "output_type": "stream",
       "stream": "stdout",
       "text": [
        "                       \r",
        "[1562/3600] KDFW 2010-8\r"
       ]
      },
      {
       "output_type": "stream",
       "stream": "stdout",
       "text": [
        "                       \r",
        "[1563/3600] KDTW 2010-8\r"
       ]
      },
      {
       "output_type": "stream",
       "stream": "stdout",
       "text": [
        "                       \r",
        "[1564/3600] KEWR 2010-8\r"
       ]
      },
      {
       "output_type": "stream",
       "stream": "stdout",
       "text": [
        "                       \r",
        "[1565/3600] KFLL 2010-8\r"
       ]
      },
      {
       "output_type": "stream",
       "stream": "stdout",
       "text": [
        "                       \r",
        "[1566/3600] KHOU 2010-8\r"
       ]
      },
      {
       "output_type": "stream",
       "stream": "stdout",
       "text": [
        "                       \r",
        "[1567/3600] KIAD 2010-8\r"
       ]
      },
      {
       "output_type": "stream",
       "stream": "stdout",
       "text": [
        "                       \r",
        "[1568/3600] KIAH 2010-8\r"
       ]
      },
      {
       "output_type": "stream",
       "stream": "stdout",
       "text": [
        "                       \r",
        "[1569/3600] KIND 2010-8\r"
       ]
      },
      {
       "output_type": "stream",
       "stream": "stdout",
       "text": [
        "                       \r",
        "[1570/3600] KJFK 2010-8\r"
       ]
      },
      {
       "output_type": "stream",
       "stream": "stdout",
       "text": [
        "                       \r",
        "[1571/3600] KLAS 2010-8\r"
       ]
      },
      {
       "output_type": "stream",
       "stream": "stdout",
       "text": [
        "                       \r",
        "[1572/3600] KLAX 2010-8\r"
       ]
      },
      {
       "output_type": "stream",
       "stream": "stdout",
       "text": [
        "                       \r",
        "[1573/3600] KLGA 2010-8\r"
       ]
      },
      {
       "output_type": "stream",
       "stream": "stdout",
       "text": [
        "                       \r",
        "[1574/3600] KMCI 2010-8\r"
       ]
      },
      {
       "output_type": "stream",
       "stream": "stdout",
       "text": [
        "                       \r",
        "[1575/3600] KMCO 2010-8\r"
       ]
      },
      {
       "output_type": "stream",
       "stream": "stdout",
       "text": [
        "                       \r",
        "[1576/3600] KMDW 2010-8\r"
       ]
      },
      {
       "output_type": "stream",
       "stream": "stdout",
       "text": [
        "                       \r",
        "[1577/3600] KMEM 2010-8\r"
       ]
      },
      {
       "output_type": "stream",
       "stream": "stdout",
       "text": [
        "                       \r",
        "[1578/3600] KMIA 2010-8\r"
       ]
      },
      {
       "output_type": "stream",
       "stream": "stdout",
       "text": [
        "                       \r",
        "[1579/3600] KMKE 2010-8\r"
       ]
      },
      {
       "output_type": "stream",
       "stream": "stdout",
       "text": [
        "                       \r",
        "[1580/3600] KMSP 2010-8\r"
       ]
      },
      {
       "output_type": "stream",
       "stream": "stdout",
       "text": [
        "                       \r",
        "[1581/3600] KMSY 2010-8\r"
       ]
      },
      {
       "output_type": "stream",
       "stream": "stdout",
       "text": [
        "                       \r",
        "[1582/3600] KOAK 2010-8\r"
       ]
      },
      {
       "output_type": "stream",
       "stream": "stdout",
       "text": [
        "                       \r",
        "[1583/3600] KORD 2010-8\r"
       ]
      },
      {
       "output_type": "stream",
       "stream": "stdout",
       "text": [
        "                       \r",
        "[1584/3600] KPDX 2010-8\r"
       ]
      },
      {
       "output_type": "stream",
       "stream": "stdout",
       "text": [
        "                       \r",
        "[1585/3600] KPHL 2010-8\r"
       ]
      },
      {
       "output_type": "stream",
       "stream": "stdout",
       "text": [
        "                       \r",
        "[1586/3600] KPHX 2010-8\r"
       ]
      },
      {
       "output_type": "stream",
       "stream": "stdout",
       "text": [
        "                       \r",
        "[1587/3600] KPIT 2010-8\r"
       ]
      },
      {
       "output_type": "stream",
       "stream": "stdout",
       "text": [
        "                       \r",
        "[1588/3600] KRDU 2010-8\r"
       ]
      },
      {
       "output_type": "stream",
       "stream": "stdout",
       "text": [
        "                       \r",
        "[1589/3600] KSAN 2010-8\r"
       ]
      },
      {
       "output_type": "stream",
       "stream": "stdout",
       "text": [
        "                       \r",
        "[1590/3600] KSAT 2010-8\r"
       ]
      },
      {
       "output_type": "stream",
       "stream": "stdout",
       "text": [
        "                       \r",
        "[1591/3600] KSEA 2010-8\r"
       ]
      },
      {
       "output_type": "stream",
       "stream": "stdout",
       "text": [
        "                       \r",
        "[1592/3600] KSFO 2010-8\r"
       ]
      },
      {
       "output_type": "stream",
       "stream": "stdout",
       "text": [
        "                       \r",
        "[1593/3600] KSJC 2010-8\r"
       ]
      },
      {
       "output_type": "stream",
       "stream": "stdout",
       "text": [
        "                       \r",
        "[1594/3600] KSLC 2010-8\r"
       ]
      },
      {
       "output_type": "stream",
       "stream": "stdout",
       "text": [
        "                       \r",
        "[1595/3600] KSMF 2010-8\r"
       ]
      },
      {
       "output_type": "stream",
       "stream": "stdout",
       "text": [
        "                       \r",
        "[1596/3600] KSNA 2010-8\r"
       ]
      },
      {
       "output_type": "stream",
       "stream": "stdout",
       "text": [
        "                       \r",
        "[1597/3600] KSTL 2010-8\r"
       ]
      },
      {
       "output_type": "stream",
       "stream": "stdout",
       "text": [
        "                       \r",
        "[1598/3600] KTPA 2010-8\r"
       ]
      },
      {
       "output_type": "stream",
       "stream": "stdout",
       "text": [
        "                       \r",
        "[1599/3600] PHNL 2010-8\r"
       ]
      },
      {
       "output_type": "stream",
       "stream": "stdout",
       "text": [
        "                       \r",
        "[1600/3600] TJSJ 2010-8\r"
       ]
      },
      {
       "output_type": "stream",
       "stream": "stdout",
       "text": [
        "                       \r",
        "[1601/3600] KATL 2010-9\r"
       ]
      },
      {
       "output_type": "stream",
       "stream": "stdout",
       "text": [
        "                       \r",
        "[1602/3600] KAUS 2010-9\r"
       ]
      },
      {
       "output_type": "stream",
       "stream": "stdout",
       "text": [
        "                       \r",
        "[1603/3600] KBNA 2010-9\r"
       ]
      },
      {
       "output_type": "stream",
       "stream": "stdout",
       "text": [
        "                       \r",
        "[1604/3600] KBOS 2010-9\r"
       ]
      },
      {
       "output_type": "stream",
       "stream": "stdout",
       "text": [
        "                       \r",
        "[1605/3600] KBWI 2010-9\r"
       ]
      },
      {
       "output_type": "stream",
       "stream": "stdout",
       "text": [
        "                       \r",
        "[1606/3600] KCLE 2010-9\r"
       ]
      },
      {
       "output_type": "stream",
       "stream": "stdout",
       "text": [
        "                       \r",
        "[1607/3600] KCLT 2010-9\r"
       ]
      },
      {
       "output_type": "stream",
       "stream": "stdout",
       "text": [
        "                       \r",
        "[1608/3600] KCVG 2010-9\r"
       ]
      },
      {
       "output_type": "stream",
       "stream": "stdout",
       "text": [
        "                       \r",
        "[1609/3600] KDAL 2010-9\r"
       ]
      },
      {
       "output_type": "stream",
       "stream": "stdout",
       "text": [
        "                       \r",
        "[1610/3600] KDCA 2010-9\r"
       ]
      },
      {
       "output_type": "stream",
       "stream": "stdout",
       "text": [
        "                       \r",
        "[1611/3600] KDEN 2010-9\r"
       ]
      },
      {
       "output_type": "stream",
       "stream": "stdout",
       "text": [
        "                       \r",
        "[1612/3600] KDFW 2010-9\r"
       ]
      },
      {
       "output_type": "stream",
       "stream": "stdout",
       "text": [
        "                       \r",
        "[1613/3600] KDTW 2010-9\r"
       ]
      },
      {
       "output_type": "stream",
       "stream": "stdout",
       "text": [
        "                       \r",
        "[1614/3600] KEWR 2010-9\r"
       ]
      },
      {
       "output_type": "stream",
       "stream": "stdout",
       "text": [
        "                       \r",
        "[1615/3600] KFLL 2010-9\r"
       ]
      },
      {
       "output_type": "stream",
       "stream": "stdout",
       "text": [
        "                       \r",
        "[1616/3600] KHOU 2010-9\r"
       ]
      },
      {
       "output_type": "stream",
       "stream": "stdout",
       "text": [
        "                       \r",
        "[1617/3600] KIAD 2010-9\r"
       ]
      },
      {
       "output_type": "stream",
       "stream": "stdout",
       "text": [
        "                       \r",
        "[1618/3600] KIAH 2010-9\r"
       ]
      },
      {
       "output_type": "stream",
       "stream": "stdout",
       "text": [
        "                       \r",
        "[1619/3600] KIND 2010-9\r"
       ]
      },
      {
       "output_type": "stream",
       "stream": "stdout",
       "text": [
        "                       \r",
        "[1620/3600] KJFK 2010-9\r"
       ]
      },
      {
       "output_type": "stream",
       "stream": "stdout",
       "text": [
        "                       \r",
        "[1621/3600] KLAS 2010-9\r"
       ]
      },
      {
       "output_type": "stream",
       "stream": "stdout",
       "text": [
        "                       \r",
        "[1622/3600] KLAX 2010-9\r"
       ]
      },
      {
       "output_type": "stream",
       "stream": "stdout",
       "text": [
        "                       \r",
        "[1623/3600] KLGA 2010-9\r"
       ]
      },
      {
       "output_type": "stream",
       "stream": "stdout",
       "text": [
        "                       \r",
        "[1624/3600] KMCI 2010-9\r"
       ]
      },
      {
       "output_type": "stream",
       "stream": "stdout",
       "text": [
        "                       \r",
        "[1625/3600] KMCO 2010-9\r"
       ]
      },
      {
       "output_type": "stream",
       "stream": "stdout",
       "text": [
        "                       \r",
        "[1626/3600] KMDW 2010-9\r"
       ]
      },
      {
       "output_type": "stream",
       "stream": "stdout",
       "text": [
        "                       \r",
        "[1627/3600] KMEM 2010-9\r"
       ]
      },
      {
       "output_type": "stream",
       "stream": "stdout",
       "text": [
        "                       \r",
        "[1628/3600] KMIA 2010-9\r"
       ]
      },
      {
       "output_type": "stream",
       "stream": "stdout",
       "text": [
        "                       \r",
        "[1629/3600] KMKE 2010-9\r"
       ]
      },
      {
       "output_type": "stream",
       "stream": "stdout",
       "text": [
        "                       \r",
        "[1630/3600] KMSP 2010-9\r"
       ]
      },
      {
       "output_type": "stream",
       "stream": "stdout",
       "text": [
        "                       \r",
        "[1631/3600] KMSY 2010-9\r"
       ]
      },
      {
       "output_type": "stream",
       "stream": "stdout",
       "text": [
        "                       \r",
        "[1632/3600] KOAK 2010-9\r"
       ]
      },
      {
       "output_type": "stream",
       "stream": "stdout",
       "text": [
        "                       \r",
        "[1633/3600] KORD 2010-9\r"
       ]
      },
      {
       "output_type": "stream",
       "stream": "stdout",
       "text": [
        "                       \r",
        "[1634/3600] KPDX 2010-9\r"
       ]
      },
      {
       "output_type": "stream",
       "stream": "stdout",
       "text": [
        "                       \r",
        "[1635/3600] KPHL 2010-9\r"
       ]
      },
      {
       "output_type": "stream",
       "stream": "stdout",
       "text": [
        "                       \r",
        "[1636/3600] KPHX 2010-9\r"
       ]
      },
      {
       "output_type": "stream",
       "stream": "stdout",
       "text": [
        "                       \r",
        "[1637/3600] KPIT 2010-9\r"
       ]
      },
      {
       "output_type": "stream",
       "stream": "stdout",
       "text": [
        "                       \r",
        "[1638/3600] KRDU 2010-9\r"
       ]
      },
      {
       "output_type": "stream",
       "stream": "stdout",
       "text": [
        "                       \r",
        "[1639/3600] KSAN 2010-9\r"
       ]
      },
      {
       "output_type": "stream",
       "stream": "stdout",
       "text": [
        "                       \r",
        "[1640/3600] KSAT 2010-9\r"
       ]
      },
      {
       "output_type": "stream",
       "stream": "stdout",
       "text": [
        "                       \r",
        "[1641/3600] KSEA 2010-9\r"
       ]
      },
      {
       "output_type": "stream",
       "stream": "stdout",
       "text": [
        "                       \r",
        "[1642/3600] KSFO 2010-9\r"
       ]
      },
      {
       "output_type": "stream",
       "stream": "stdout",
       "text": [
        "                       \r",
        "[1643/3600] KSJC 2010-9\r"
       ]
      },
      {
       "output_type": "stream",
       "stream": "stdout",
       "text": [
        "                       \r",
        "[1644/3600] KSLC 2010-9\r"
       ]
      },
      {
       "output_type": "stream",
       "stream": "stdout",
       "text": [
        "                       \r",
        "[1645/3600] KSMF 2010-9\r"
       ]
      },
      {
       "output_type": "stream",
       "stream": "stdout",
       "text": [
        "                       \r",
        "[1646/3600] KSNA 2010-9\r"
       ]
      },
      {
       "output_type": "stream",
       "stream": "stdout",
       "text": [
        "                       \r",
        "[1647/3600] KSTL 2010-9\r"
       ]
      },
      {
       "output_type": "stream",
       "stream": "stdout",
       "text": [
        "                       \r",
        "[1648/3600] KTPA 2010-9\r"
       ]
      },
      {
       "output_type": "stream",
       "stream": "stdout",
       "text": [
        "                       \r",
        "[1649/3600] PHNL 2010-9\r"
       ]
      },
      {
       "output_type": "stream",
       "stream": "stdout",
       "text": [
        "                       \r",
        "[1650/3600] TJSJ 2010-9\r"
       ]
      },
      {
       "output_type": "stream",
       "stream": "stdout",
       "text": [
        "                       \r",
        "[1651/3600] KATL 2010-10\r"
       ]
      },
      {
       "output_type": "stream",
       "stream": "stdout",
       "text": [
        "                        \r",
        "[1652/3600] KAUS 2010-10\r"
       ]
      },
      {
       "output_type": "stream",
       "stream": "stdout",
       "text": [
        "                        \r",
        "[1653/3600] KBNA 2010-10\r"
       ]
      },
      {
       "output_type": "stream",
       "stream": "stdout",
       "text": [
        "                        \r",
        "[1654/3600] KBOS 2010-10\r"
       ]
      },
      {
       "output_type": "stream",
       "stream": "stdout",
       "text": [
        "                        \r",
        "[1655/3600] KBWI 2010-10\r"
       ]
      },
      {
       "output_type": "stream",
       "stream": "stdout",
       "text": [
        "                        \r",
        "[1656/3600] KCLE 2010-10\r"
       ]
      },
      {
       "output_type": "stream",
       "stream": "stdout",
       "text": [
        "                        \r",
        "[1657/3600] KCLT 2010-10\r"
       ]
      },
      {
       "output_type": "stream",
       "stream": "stdout",
       "text": [
        "                        \r",
        "[1658/3600] KCVG 2010-10\r"
       ]
      },
      {
       "output_type": "stream",
       "stream": "stdout",
       "text": [
        "                        \r",
        "[1659/3600] KDAL 2010-10\r"
       ]
      },
      {
       "output_type": "stream",
       "stream": "stdout",
       "text": [
        "                        \r",
        "[1660/3600] KDCA 2010-10\r"
       ]
      },
      {
       "output_type": "stream",
       "stream": "stdout",
       "text": [
        "                        \r",
        "[1661/3600] KDEN 2010-10\r"
       ]
      },
      {
       "output_type": "stream",
       "stream": "stdout",
       "text": [
        "                        \r",
        "[1662/3600] KDFW 2010-10\r"
       ]
      },
      {
       "output_type": "stream",
       "stream": "stdout",
       "text": [
        "                        \r",
        "[1663/3600] KDTW 2010-10\r"
       ]
      },
      {
       "output_type": "stream",
       "stream": "stdout",
       "text": [
        "                        \r",
        "[1664/3600] KEWR 2010-10\r"
       ]
      },
      {
       "output_type": "stream",
       "stream": "stdout",
       "text": [
        "                        \r",
        "[1665/3600] KFLL 2010-10\r"
       ]
      },
      {
       "output_type": "stream",
       "stream": "stdout",
       "text": [
        "                        \r",
        "[1666/3600] KHOU 2010-10\r"
       ]
      },
      {
       "output_type": "stream",
       "stream": "stdout",
       "text": [
        "                        \r",
        "[1667/3600] KIAD 2010-10\r"
       ]
      },
      {
       "output_type": "stream",
       "stream": "stdout",
       "text": [
        "                        \r",
        "[1668/3600] KIAH 2010-10\r"
       ]
      },
      {
       "output_type": "stream",
       "stream": "stdout",
       "text": [
        "                        \r",
        "[1669/3600] KIND 2010-10\r"
       ]
      },
      {
       "output_type": "stream",
       "stream": "stdout",
       "text": [
        "                        \r",
        "[1670/3600] KJFK 2010-10\r"
       ]
      },
      {
       "output_type": "stream",
       "stream": "stdout",
       "text": [
        "                        \r",
        "[1671/3600] KLAS 2010-10\r"
       ]
      },
      {
       "output_type": "stream",
       "stream": "stdout",
       "text": [
        "                        \r",
        "[1672/3600] KLAX 2010-10\r"
       ]
      },
      {
       "output_type": "stream",
       "stream": "stdout",
       "text": [
        "                        \r",
        "[1673/3600] KLGA 2010-10\r"
       ]
      },
      {
       "output_type": "stream",
       "stream": "stdout",
       "text": [
        "                        \r",
        "[1674/3600] KMCI 2010-10\r"
       ]
      },
      {
       "output_type": "stream",
       "stream": "stdout",
       "text": [
        "                        \r",
        "[1675/3600] KMCO 2010-10\r"
       ]
      },
      {
       "output_type": "stream",
       "stream": "stdout",
       "text": [
        "                        \r",
        "[1676/3600] KMDW 2010-10\r"
       ]
      },
      {
       "output_type": "stream",
       "stream": "stdout",
       "text": [
        "                        \r",
        "[1677/3600] KMEM 2010-10\r"
       ]
      },
      {
       "output_type": "stream",
       "stream": "stdout",
       "text": [
        "                        \r",
        "[1678/3600] KMIA 2010-10\r"
       ]
      },
      {
       "output_type": "stream",
       "stream": "stdout",
       "text": [
        "                        \r",
        "[1679/3600] KMKE 2010-10\r"
       ]
      },
      {
       "output_type": "stream",
       "stream": "stdout",
       "text": [
        "                        \r",
        "[1680/3600] KMSP 2010-10\r"
       ]
      },
      {
       "output_type": "stream",
       "stream": "stdout",
       "text": [
        "                        \r",
        "[1681/3600] KMSY 2010-10\r"
       ]
      },
      {
       "output_type": "stream",
       "stream": "stdout",
       "text": [
        "                        \r",
        "[1682/3600] KOAK 2010-10\r"
       ]
      },
      {
       "output_type": "stream",
       "stream": "stdout",
       "text": [
        "                        \r",
        "[1683/3600] KORD 2010-10\r"
       ]
      },
      {
       "output_type": "stream",
       "stream": "stdout",
       "text": [
        "                        \r",
        "[1684/3600] KPDX 2010-10\r"
       ]
      },
      {
       "output_type": "stream",
       "stream": "stdout",
       "text": [
        "                        \r",
        "[1685/3600] KPHL 2010-10\r"
       ]
      },
      {
       "output_type": "stream",
       "stream": "stdout",
       "text": [
        "                        \r",
        "[1686/3600] KPHX 2010-10\r"
       ]
      },
      {
       "output_type": "stream",
       "stream": "stdout",
       "text": [
        "                        \r",
        "[1687/3600] KPIT 2010-10\r"
       ]
      },
      {
       "output_type": "stream",
       "stream": "stdout",
       "text": [
        "                        \r",
        "[1688/3600] KRDU 2010-10\r"
       ]
      },
      {
       "output_type": "stream",
       "stream": "stdout",
       "text": [
        "                        \r",
        "[1689/3600] KSAN 2010-10\r"
       ]
      },
      {
       "output_type": "stream",
       "stream": "stdout",
       "text": [
        "                        \r",
        "[1690/3600] KSAT 2010-10\r"
       ]
      },
      {
       "output_type": "stream",
       "stream": "stdout",
       "text": [
        "                        \r",
        "[1691/3600] KSEA 2010-10\r"
       ]
      },
      {
       "output_type": "stream",
       "stream": "stdout",
       "text": [
        "                        \r",
        "[1692/3600] KSFO 2010-10\r"
       ]
      },
      {
       "output_type": "stream",
       "stream": "stdout",
       "text": [
        "                        \r",
        "[1693/3600] KSJC 2010-10\r"
       ]
      },
      {
       "output_type": "stream",
       "stream": "stdout",
       "text": [
        "                        \r",
        "[1694/3600] KSLC 2010-10\r"
       ]
      },
      {
       "output_type": "stream",
       "stream": "stdout",
       "text": [
        "                        \r",
        "[1695/3600] KSMF 2010-10\r"
       ]
      },
      {
       "output_type": "stream",
       "stream": "stdout",
       "text": [
        "                        \r",
        "[1696/3600] KSNA 2010-10\r"
       ]
      },
      {
       "output_type": "stream",
       "stream": "stdout",
       "text": [
        "                        \r",
        "[1697/3600] KSTL 2010-10\r"
       ]
      },
      {
       "output_type": "stream",
       "stream": "stdout",
       "text": [
        "                        \r",
        "[1698/3600] KTPA 2010-10\r"
       ]
      },
      {
       "output_type": "stream",
       "stream": "stdout",
       "text": [
        "                        \r",
        "[1699/3600] PHNL 2010-10\r"
       ]
      },
      {
       "output_type": "stream",
       "stream": "stdout",
       "text": [
        "                        \r",
        "[1700/3600] TJSJ 2010-10\r"
       ]
      },
      {
       "output_type": "stream",
       "stream": "stdout",
       "text": [
        "                        \r",
        "[1701/3600] KATL 2010-11\r"
       ]
      },
      {
       "output_type": "stream",
       "stream": "stdout",
       "text": [
        "                        \r",
        "[1702/3600] KAUS 2010-11\r"
       ]
      },
      {
       "output_type": "stream",
       "stream": "stdout",
       "text": [
        "                        \r",
        "[1703/3600] KBNA 2010-11\r"
       ]
      },
      {
       "output_type": "stream",
       "stream": "stdout",
       "text": [
        "                        \r",
        "[1704/3600] KBOS 2010-11\r"
       ]
      },
      {
       "output_type": "stream",
       "stream": "stdout",
       "text": [
        "                        \r",
        "[1705/3600] KBWI 2010-11\r"
       ]
      },
      {
       "output_type": "stream",
       "stream": "stdout",
       "text": [
        "                        \r",
        "[1706/3600] KCLE 2010-11\r"
       ]
      },
      {
       "output_type": "stream",
       "stream": "stdout",
       "text": [
        "                        \r",
        "[1707/3600] KCLT 2010-11\r"
       ]
      },
      {
       "output_type": "stream",
       "stream": "stdout",
       "text": [
        "                        \r",
        "[1708/3600] KCVG 2010-11\r"
       ]
      },
      {
       "output_type": "stream",
       "stream": "stdout",
       "text": [
        "                        \r",
        "[1709/3600] KDAL 2010-11\r"
       ]
      },
      {
       "output_type": "stream",
       "stream": "stdout",
       "text": [
        "                        \r",
        "[1710/3600] KDCA 2010-11\r"
       ]
      },
      {
       "output_type": "stream",
       "stream": "stdout",
       "text": [
        "                        \r",
        "[1711/3600] KDEN 2010-11\r"
       ]
      },
      {
       "output_type": "stream",
       "stream": "stdout",
       "text": [
        "                        \r",
        "[1712/3600] KDFW 2010-11\r"
       ]
      },
      {
       "output_type": "stream",
       "stream": "stdout",
       "text": [
        "                        \r",
        "[1713/3600] KDTW 2010-11\r"
       ]
      },
      {
       "output_type": "stream",
       "stream": "stdout",
       "text": [
        "                        \r",
        "[1714/3600] KEWR 2010-11\r"
       ]
      },
      {
       "output_type": "stream",
       "stream": "stdout",
       "text": [
        "                        \r",
        "[1715/3600] KFLL 2010-11\r"
       ]
      },
      {
       "output_type": "stream",
       "stream": "stdout",
       "text": [
        "                        \r",
        "[1716/3600] KHOU 2010-11\r"
       ]
      },
      {
       "output_type": "stream",
       "stream": "stdout",
       "text": [
        "                        \r",
        "[1717/3600] KIAD 2010-11\r"
       ]
      },
      {
       "output_type": "stream",
       "stream": "stdout",
       "text": [
        "                        \r",
        "[1718/3600] KIAH 2010-11\r"
       ]
      },
      {
       "output_type": "stream",
       "stream": "stdout",
       "text": [
        "                        \r",
        "[1719/3600] KIND 2010-11\r"
       ]
      },
      {
       "output_type": "stream",
       "stream": "stdout",
       "text": [
        "                        \r",
        "[1720/3600] KJFK 2010-11\r"
       ]
      },
      {
       "output_type": "stream",
       "stream": "stdout",
       "text": [
        "                        \r",
        "[1721/3600] KLAS 2010-11\r"
       ]
      },
      {
       "output_type": "stream",
       "stream": "stdout",
       "text": [
        "                        \r",
        "[1722/3600] KLAX 2010-11\r"
       ]
      },
      {
       "output_type": "stream",
       "stream": "stdout",
       "text": [
        "                        \r",
        "[1723/3600] KLGA 2010-11\r"
       ]
      },
      {
       "output_type": "stream",
       "stream": "stdout",
       "text": [
        "                        \r",
        "[1724/3600] KMCI 2010-11\r"
       ]
      },
      {
       "output_type": "stream",
       "stream": "stdout",
       "text": [
        "                        \r",
        "[1725/3600] KMCO 2010-11\r"
       ]
      },
      {
       "output_type": "stream",
       "stream": "stdout",
       "text": [
        "                        \r",
        "[1726/3600] KMDW 2010-11\r"
       ]
      },
      {
       "output_type": "stream",
       "stream": "stdout",
       "text": [
        "                        \r",
        "[1727/3600] KMEM 2010-11\r"
       ]
      },
      {
       "output_type": "stream",
       "stream": "stdout",
       "text": [
        "                        \r",
        "[1728/3600] KMIA 2010-11\r"
       ]
      },
      {
       "output_type": "stream",
       "stream": "stdout",
       "text": [
        "                        \r",
        "[1729/3600] KMKE 2010-11\r"
       ]
      },
      {
       "output_type": "stream",
       "stream": "stdout",
       "text": [
        "                        \r",
        "[1730/3600] KMSP 2010-11\r"
       ]
      },
      {
       "output_type": "stream",
       "stream": "stdout",
       "text": [
        "                        \r",
        "[1731/3600] KMSY 2010-11\r"
       ]
      },
      {
       "output_type": "stream",
       "stream": "stdout",
       "text": [
        "                        \r",
        "[1732/3600] KOAK 2010-11\r"
       ]
      },
      {
       "output_type": "stream",
       "stream": "stdout",
       "text": [
        "                        \r",
        "[1733/3600] KORD 2010-11\r"
       ]
      },
      {
       "output_type": "stream",
       "stream": "stdout",
       "text": [
        "                        \r",
        "[1734/3600] KPDX 2010-11\r"
       ]
      },
      {
       "output_type": "stream",
       "stream": "stdout",
       "text": [
        "                        \r",
        "[1735/3600] KPHL 2010-11\r"
       ]
      },
      {
       "output_type": "stream",
       "stream": "stdout",
       "text": [
        "                        \r",
        "[1736/3600] KPHX 2010-11\r"
       ]
      },
      {
       "output_type": "stream",
       "stream": "stdout",
       "text": [
        "                        \r",
        "[1737/3600] KPIT 2010-11\r"
       ]
      },
      {
       "output_type": "stream",
       "stream": "stdout",
       "text": [
        "                        \r",
        "[1738/3600] KRDU 2010-11\r"
       ]
      },
      {
       "output_type": "stream",
       "stream": "stdout",
       "text": [
        "                        \r",
        "[1739/3600] KSAN 2010-11\r"
       ]
      },
      {
       "output_type": "stream",
       "stream": "stdout",
       "text": [
        "                        \r",
        "[1740/3600] KSAT 2010-11\r"
       ]
      },
      {
       "output_type": "stream",
       "stream": "stdout",
       "text": [
        "                        \r",
        "[1741/3600] KSEA 2010-11\r"
       ]
      },
      {
       "output_type": "stream",
       "stream": "stdout",
       "text": [
        "                        \r",
        "[1742/3600] KSFO 2010-11\r"
       ]
      },
      {
       "output_type": "stream",
       "stream": "stdout",
       "text": [
        "                        \r",
        "[1743/3600] KSJC 2010-11\r"
       ]
      },
      {
       "output_type": "stream",
       "stream": "stdout",
       "text": [
        "                        \r",
        "[1744/3600] KSLC 2010-11\r"
       ]
      },
      {
       "output_type": "stream",
       "stream": "stdout",
       "text": [
        "                        \r",
        "[1745/3600] KSMF 2010-11\r"
       ]
      },
      {
       "output_type": "stream",
       "stream": "stdout",
       "text": [
        "                        \r",
        "[1746/3600] KSNA 2010-11\r"
       ]
      },
      {
       "output_type": "stream",
       "stream": "stdout",
       "text": [
        "                        \r",
        "[1747/3600] KSTL 2010-11\r"
       ]
      },
      {
       "output_type": "stream",
       "stream": "stdout",
       "text": [
        "                        \r",
        "[1748/3600] KTPA 2010-11\r"
       ]
      },
      {
       "output_type": "stream",
       "stream": "stdout",
       "text": [
        "                        \r",
        "[1749/3600] PHNL 2010-11\r"
       ]
      },
      {
       "output_type": "stream",
       "stream": "stdout",
       "text": [
        "                        \r",
        "[1750/3600] TJSJ 2010-11\r"
       ]
      },
      {
       "output_type": "stream",
       "stream": "stdout",
       "text": [
        "                        \r",
        "[1751/3600] KATL 2010-12\r"
       ]
      },
      {
       "output_type": "stream",
       "stream": "stdout",
       "text": [
        "                        \r",
        "[1752/3600] KAUS 2010-12\r"
       ]
      },
      {
       "output_type": "stream",
       "stream": "stdout",
       "text": [
        "                        \r",
        "[1753/3600] KBNA 2010-12\r"
       ]
      },
      {
       "output_type": "stream",
       "stream": "stdout",
       "text": [
        "                        \r",
        "[1754/3600] KBOS 2010-12\r"
       ]
      },
      {
       "output_type": "stream",
       "stream": "stdout",
       "text": [
        "                        \r",
        "[1755/3600] KBWI 2010-12\r"
       ]
      },
      {
       "output_type": "stream",
       "stream": "stdout",
       "text": [
        "                        \r",
        "[1756/3600] KCLE 2010-12\r"
       ]
      },
      {
       "output_type": "stream",
       "stream": "stdout",
       "text": [
        "                        \r",
        "[1757/3600] KCLT 2010-12\r"
       ]
      },
      {
       "output_type": "stream",
       "stream": "stdout",
       "text": [
        "                        \r",
        "[1758/3600] KCVG 2010-12\r"
       ]
      },
      {
       "output_type": "stream",
       "stream": "stdout",
       "text": [
        "                        \r",
        "[1759/3600] KDAL 2010-12\r"
       ]
      },
      {
       "output_type": "stream",
       "stream": "stdout",
       "text": [
        "                        \r",
        "[1760/3600] KDCA 2010-12\r"
       ]
      },
      {
       "output_type": "stream",
       "stream": "stdout",
       "text": [
        "                        \r",
        "[1761/3600] KDEN 2010-12\r"
       ]
      },
      {
       "output_type": "stream",
       "stream": "stdout",
       "text": [
        "                        \r",
        "[1762/3600] KDFW 2010-12\r"
       ]
      },
      {
       "output_type": "stream",
       "stream": "stdout",
       "text": [
        "                        \r",
        "[1763/3600] KDTW 2010-12\r"
       ]
      },
      {
       "output_type": "stream",
       "stream": "stdout",
       "text": [
        "                        \r",
        "[1764/3600] KEWR 2010-12\r"
       ]
      },
      {
       "output_type": "stream",
       "stream": "stdout",
       "text": [
        "                        \r",
        "[1765/3600] KFLL 2010-12\r"
       ]
      },
      {
       "output_type": "stream",
       "stream": "stdout",
       "text": [
        "                        \r",
        "[1766/3600] KHOU 2010-12\r"
       ]
      },
      {
       "output_type": "stream",
       "stream": "stdout",
       "text": [
        "                        \r",
        "[1767/3600] KIAD 2010-12\r"
       ]
      },
      {
       "output_type": "stream",
       "stream": "stdout",
       "text": [
        "                        \r",
        "[1768/3600] KIAH 2010-12\r"
       ]
      },
      {
       "output_type": "stream",
       "stream": "stdout",
       "text": [
        "                        \r",
        "[1769/3600] KIND 2010-12\r"
       ]
      },
      {
       "output_type": "stream",
       "stream": "stdout",
       "text": [
        "                        \r",
        "[1770/3600] KJFK 2010-12\r"
       ]
      },
      {
       "output_type": "stream",
       "stream": "stdout",
       "text": [
        "                        \r",
        "[1771/3600] KLAS 2010-12\r"
       ]
      },
      {
       "output_type": "stream",
       "stream": "stdout",
       "text": [
        "                        \r",
        "[1772/3600] KLAX 2010-12\r"
       ]
      },
      {
       "output_type": "stream",
       "stream": "stdout",
       "text": [
        "                        \r",
        "[1773/3600] KLGA 2010-12\r"
       ]
      },
      {
       "output_type": "stream",
       "stream": "stdout",
       "text": [
        "                        \r",
        "[1774/3600] KMCI 2010-12\r"
       ]
      },
      {
       "output_type": "stream",
       "stream": "stdout",
       "text": [
        "                        \r",
        "[1775/3600] KMCO 2010-12\r"
       ]
      },
      {
       "output_type": "stream",
       "stream": "stdout",
       "text": [
        "                        \r",
        "[1776/3600] KMDW 2010-12\r"
       ]
      },
      {
       "output_type": "stream",
       "stream": "stdout",
       "text": [
        "                        \r",
        "[1777/3600] KMEM 2010-12\r"
       ]
      },
      {
       "output_type": "stream",
       "stream": "stdout",
       "text": [
        "                        \r",
        "[1778/3600] KMIA 2010-12\r"
       ]
      },
      {
       "output_type": "stream",
       "stream": "stdout",
       "text": [
        "                        \r",
        "[1779/3600] KMKE 2010-12\r"
       ]
      },
      {
       "output_type": "stream",
       "stream": "stdout",
       "text": [
        "                        \r",
        "[1780/3600] KMSP 2010-12\r"
       ]
      },
      {
       "output_type": "stream",
       "stream": "stdout",
       "text": [
        "                        \r",
        "[1781/3600] KMSY 2010-12\r"
       ]
      },
      {
       "output_type": "stream",
       "stream": "stdout",
       "text": [
        "                        \r",
        "[1782/3600] KOAK 2010-12\r"
       ]
      },
      {
       "output_type": "stream",
       "stream": "stdout",
       "text": [
        "                        \r",
        "[1783/3600] KORD 2010-12\r"
       ]
      },
      {
       "output_type": "stream",
       "stream": "stdout",
       "text": [
        "                        \r",
        "[1784/3600] KPDX 2010-12\r"
       ]
      },
      {
       "output_type": "stream",
       "stream": "stdout",
       "text": [
        "                        \r",
        "[1785/3600] KPHL 2010-12\r"
       ]
      },
      {
       "output_type": "stream",
       "stream": "stdout",
       "text": [
        "                        \r",
        "[1786/3600] KPHX 2010-12\r"
       ]
      },
      {
       "output_type": "stream",
       "stream": "stdout",
       "text": [
        "                        \r",
        "[1787/3600] KPIT 2010-12\r"
       ]
      },
      {
       "output_type": "stream",
       "stream": "stdout",
       "text": [
        "                        \r",
        "[1788/3600] KRDU 2010-12\r"
       ]
      },
      {
       "output_type": "stream",
       "stream": "stdout",
       "text": [
        "                        \r",
        "[1789/3600] KSAN 2010-12\r"
       ]
      },
      {
       "output_type": "stream",
       "stream": "stdout",
       "text": [
        "                        \r",
        "[1790/3600] KSAT 2010-12\r"
       ]
      },
      {
       "output_type": "stream",
       "stream": "stdout",
       "text": [
        "                        \r",
        "[1791/3600] KSEA 2010-12\r"
       ]
      },
      {
       "output_type": "stream",
       "stream": "stdout",
       "text": [
        "                        \r",
        "[1792/3600] KSFO 2010-12\r"
       ]
      },
      {
       "output_type": "stream",
       "stream": "stdout",
       "text": [
        "                        \r",
        "[1793/3600] KSJC 2010-12\r"
       ]
      },
      {
       "output_type": "stream",
       "stream": "stdout",
       "text": [
        "                        \r",
        "[1794/3600] KSLC 2010-12\r"
       ]
      },
      {
       "output_type": "stream",
       "stream": "stdout",
       "text": [
        "                        \r",
        "[1795/3600] KSMF 2010-12\r"
       ]
      },
      {
       "output_type": "stream",
       "stream": "stdout",
       "text": [
        "                        \r",
        "[1796/3600] KSNA 2010-12\r"
       ]
      },
      {
       "output_type": "stream",
       "stream": "stdout",
       "text": [
        "                        \r",
        "[1797/3600] KSTL 2010-12\r"
       ]
      },
      {
       "output_type": "stream",
       "stream": "stdout",
       "text": [
        "                        \r",
        "[1798/3600] KTPA 2010-12\r"
       ]
      },
      {
       "output_type": "stream",
       "stream": "stdout",
       "text": [
        "                        \r",
        "[1799/3600] PHNL 2010-12\r"
       ]
      },
      {
       "output_type": "stream",
       "stream": "stdout",
       "text": [
        "                        \r",
        "[1800/3600] TJSJ 2010-12\r"
       ]
      },
      {
       "output_type": "stream",
       "stream": "stdout",
       "text": [
        "                        \r",
        "[1801/3600] KATL 2011-1\r"
       ]
      },
      {
       "output_type": "stream",
       "stream": "stdout",
       "text": [
        "                       \r",
        "[1802/3600] KAUS 2011-1\r"
       ]
      },
      {
       "output_type": "stream",
       "stream": "stdout",
       "text": [
        "                       \r",
        "[1803/3600] KBNA 2011-1\r"
       ]
      },
      {
       "output_type": "stream",
       "stream": "stdout",
       "text": [
        "                       \r",
        "[1804/3600] KBOS 2011-1\r"
       ]
      },
      {
       "output_type": "stream",
       "stream": "stdout",
       "text": [
        "                       \r",
        "[1805/3600] KBWI 2011-1\r"
       ]
      },
      {
       "output_type": "stream",
       "stream": "stdout",
       "text": [
        "                       \r",
        "[1806/3600] KCLE 2011-1\r"
       ]
      },
      {
       "output_type": "stream",
       "stream": "stdout",
       "text": [
        "                       \r",
        "[1807/3600] KCLT 2011-1\r"
       ]
      },
      {
       "output_type": "stream",
       "stream": "stdout",
       "text": [
        "                       \r",
        "[1808/3600] KCVG 2011-1\r"
       ]
      },
      {
       "output_type": "stream",
       "stream": "stdout",
       "text": [
        "                       \r",
        "[1809/3600] KDAL 2011-1\r"
       ]
      },
      {
       "output_type": "stream",
       "stream": "stdout",
       "text": [
        "                       \r",
        "[1810/3600] KDCA 2011-1\r"
       ]
      },
      {
       "output_type": "stream",
       "stream": "stdout",
       "text": [
        "                       \r",
        "[1811/3600] KDEN 2011-1\r"
       ]
      },
      {
       "output_type": "stream",
       "stream": "stdout",
       "text": [
        "                       \r",
        "[1812/3600] KDFW 2011-1\r"
       ]
      },
      {
       "output_type": "stream",
       "stream": "stdout",
       "text": [
        "                       \r",
        "[1813/3600] KDTW 2011-1\r"
       ]
      },
      {
       "output_type": "stream",
       "stream": "stdout",
       "text": [
        "                       \r",
        "[1814/3600] KEWR 2011-1\r"
       ]
      },
      {
       "output_type": "stream",
       "stream": "stdout",
       "text": [
        "                       \r",
        "[1815/3600] KFLL 2011-1\r"
       ]
      },
      {
       "output_type": "stream",
       "stream": "stdout",
       "text": [
        "                       \r",
        "[1816/3600] KHOU 2011-1\r"
       ]
      },
      {
       "output_type": "stream",
       "stream": "stdout",
       "text": [
        "                       \r",
        "[1817/3600] KIAD 2011-1\r"
       ]
      },
      {
       "output_type": "stream",
       "stream": "stdout",
       "text": [
        "                       \r",
        "[1818/3600] KIAH 2011-1\r"
       ]
      },
      {
       "output_type": "stream",
       "stream": "stdout",
       "text": [
        "                       \r",
        "[1819/3600] KIND 2011-1\r"
       ]
      },
      {
       "output_type": "stream",
       "stream": "stdout",
       "text": [
        "                       \r",
        "[1820/3600] KJFK 2011-1\r"
       ]
      },
      {
       "output_type": "stream",
       "stream": "stdout",
       "text": [
        "                       \r",
        "[1821/3600] KLAS 2011-1\r"
       ]
      },
      {
       "output_type": "stream",
       "stream": "stdout",
       "text": [
        "                       \r",
        "[1822/3600] KLAX 2011-1\r"
       ]
      },
      {
       "output_type": "stream",
       "stream": "stdout",
       "text": [
        "                       \r",
        "[1823/3600] KLGA 2011-1\r"
       ]
      },
      {
       "output_type": "stream",
       "stream": "stdout",
       "text": [
        "                       \r",
        "[1824/3600] KMCI 2011-1\r"
       ]
      },
      {
       "output_type": "stream",
       "stream": "stdout",
       "text": [
        "                       \r",
        "[1825/3600] KMCO 2011-1\r"
       ]
      },
      {
       "output_type": "stream",
       "stream": "stdout",
       "text": [
        "                       \r",
        "[1826/3600] KMDW 2011-1\r"
       ]
      },
      {
       "output_type": "stream",
       "stream": "stdout",
       "text": [
        "                       \r",
        "[1827/3600] KMEM 2011-1\r"
       ]
      },
      {
       "output_type": "stream",
       "stream": "stdout",
       "text": [
        "                       \r",
        "[1828/3600] KMIA 2011-1\r"
       ]
      },
      {
       "output_type": "stream",
       "stream": "stdout",
       "text": [
        "                       \r",
        "[1829/3600] KMKE 2011-1\r"
       ]
      },
      {
       "output_type": "stream",
       "stream": "stdout",
       "text": [
        "                       \r",
        "[1830/3600] KMSP 2011-1\r"
       ]
      },
      {
       "output_type": "stream",
       "stream": "stdout",
       "text": [
        "                       \r",
        "[1831/3600] KMSY 2011-1\r"
       ]
      },
      {
       "output_type": "stream",
       "stream": "stdout",
       "text": [
        "                       \r",
        "[1832/3600] KOAK 2011-1\r"
       ]
      },
      {
       "output_type": "stream",
       "stream": "stdout",
       "text": [
        "                       \r",
        "[1833/3600] KORD 2011-1\r"
       ]
      },
      {
       "output_type": "stream",
       "stream": "stdout",
       "text": [
        "                       \r",
        "[1834/3600] KPDX 2011-1\r"
       ]
      },
      {
       "output_type": "stream",
       "stream": "stdout",
       "text": [
        "                       \r",
        "[1835/3600] KPHL 2011-1\r"
       ]
      },
      {
       "output_type": "stream",
       "stream": "stdout",
       "text": [
        "                       \r",
        "[1836/3600] KPHX 2011-1\r"
       ]
      },
      {
       "output_type": "stream",
       "stream": "stdout",
       "text": [
        "                       \r",
        "[1837/3600] KPIT 2011-1\r"
       ]
      },
      {
       "output_type": "stream",
       "stream": "stdout",
       "text": [
        "                       \r",
        "[1838/3600] KRDU 2011-1\r"
       ]
      },
      {
       "output_type": "stream",
       "stream": "stdout",
       "text": [
        "                       \r",
        "[1839/3600] KSAN 2011-1\r"
       ]
      },
      {
       "output_type": "stream",
       "stream": "stdout",
       "text": [
        "                       \r",
        "[1840/3600] KSAT 2011-1\r"
       ]
      },
      {
       "output_type": "stream",
       "stream": "stdout",
       "text": [
        "                       \r",
        "[1841/3600] KSEA 2011-1\r"
       ]
      },
      {
       "output_type": "stream",
       "stream": "stdout",
       "text": [
        "                       \r",
        "[1842/3600] KSFO 2011-1\r"
       ]
      },
      {
       "output_type": "stream",
       "stream": "stdout",
       "text": [
        "                       \r",
        "[1843/3600] KSJC 2011-1\r"
       ]
      },
      {
       "output_type": "stream",
       "stream": "stdout",
       "text": [
        "                       \r",
        "[1844/3600] KSLC 2011-1\r"
       ]
      },
      {
       "output_type": "stream",
       "stream": "stdout",
       "text": [
        "                       \r",
        "[1845/3600] KSMF 2011-1\r"
       ]
      },
      {
       "output_type": "stream",
       "stream": "stdout",
       "text": [
        "                       \r",
        "[1846/3600] KSNA 2011-1\r"
       ]
      },
      {
       "output_type": "stream",
       "stream": "stdout",
       "text": [
        "                       \r",
        "[1847/3600] KSTL 2011-1\r"
       ]
      },
      {
       "output_type": "stream",
       "stream": "stdout",
       "text": [
        "                       \r",
        "[1848/3600] KTPA 2011-1\r"
       ]
      },
      {
       "output_type": "stream",
       "stream": "stdout",
       "text": [
        "                       \r",
        "[1849/3600] PHNL 2011-1\r"
       ]
      },
      {
       "output_type": "stream",
       "stream": "stdout",
       "text": [
        "                       \r",
        "[1850/3600] TJSJ 2011-1\r"
       ]
      },
      {
       "output_type": "stream",
       "stream": "stdout",
       "text": [
        "                       \r",
        "[1851/3600] KATL 2011-2\r"
       ]
      },
      {
       "output_type": "stream",
       "stream": "stdout",
       "text": [
        "                       \r",
        "[1852/3600] KAUS 2011-2\r"
       ]
      },
      {
       "output_type": "stream",
       "stream": "stdout",
       "text": [
        "                       \r",
        "[1853/3600] KBNA 2011-2\r"
       ]
      },
      {
       "output_type": "stream",
       "stream": "stdout",
       "text": [
        "                       \r",
        "[1854/3600] KBOS 2011-2\r"
       ]
      },
      {
       "output_type": "stream",
       "stream": "stdout",
       "text": [
        "                       \r",
        "[1855/3600] KBWI 2011-2\r"
       ]
      },
      {
       "output_type": "stream",
       "stream": "stdout",
       "text": [
        "                       \r",
        "[1856/3600] KCLE 2011-2\r"
       ]
      },
      {
       "output_type": "stream",
       "stream": "stdout",
       "text": [
        "                       \r",
        "[1857/3600] KCLT 2011-2\r"
       ]
      },
      {
       "output_type": "stream",
       "stream": "stdout",
       "text": [
        "                       \r",
        "[1858/3600] KCVG 2011-2\r"
       ]
      },
      {
       "output_type": "stream",
       "stream": "stdout",
       "text": [
        "                       \r",
        "[1859/3600] KDAL 2011-2\r"
       ]
      },
      {
       "output_type": "stream",
       "stream": "stdout",
       "text": [
        "                       \r",
        "[1860/3600] KDCA 2011-2\r"
       ]
      },
      {
       "output_type": "stream",
       "stream": "stdout",
       "text": [
        "                       \r",
        "[1861/3600] KDEN 2011-2\r"
       ]
      },
      {
       "output_type": "stream",
       "stream": "stdout",
       "text": [
        "                       \r",
        "[1862/3600] KDFW 2011-2\r"
       ]
      },
      {
       "output_type": "stream",
       "stream": "stdout",
       "text": [
        "                       \r",
        "[1863/3600] KDTW 2011-2\r"
       ]
      },
      {
       "output_type": "stream",
       "stream": "stdout",
       "text": [
        "                       \r",
        "[1864/3600] KEWR 2011-2\r"
       ]
      },
      {
       "output_type": "stream",
       "stream": "stdout",
       "text": [
        "                       \r",
        "[1865/3600] KFLL 2011-2\r"
       ]
      },
      {
       "output_type": "stream",
       "stream": "stdout",
       "text": [
        "                       \r",
        "[1866/3600] KHOU 2011-2\r"
       ]
      },
      {
       "output_type": "stream",
       "stream": "stdout",
       "text": [
        "                       \r",
        "[1867/3600] KIAD 2011-2\r"
       ]
      },
      {
       "output_type": "stream",
       "stream": "stdout",
       "text": [
        "                       \r",
        "[1868/3600] KIAH 2011-2\r"
       ]
      },
      {
       "output_type": "stream",
       "stream": "stdout",
       "text": [
        "                       \r",
        "[1869/3600] KIND 2011-2\r"
       ]
      },
      {
       "output_type": "stream",
       "stream": "stdout",
       "text": [
        "                       \r",
        "[1870/3600] KJFK 2011-2\r"
       ]
      },
      {
       "output_type": "stream",
       "stream": "stdout",
       "text": [
        "                       \r",
        "[1871/3600] KLAS 2011-2\r"
       ]
      },
      {
       "output_type": "stream",
       "stream": "stdout",
       "text": [
        "                       \r",
        "[1872/3600] KLAX 2011-2\r"
       ]
      },
      {
       "output_type": "stream",
       "stream": "stdout",
       "text": [
        "                       \r",
        "[1873/3600] KLGA 2011-2\r"
       ]
      },
      {
       "output_type": "stream",
       "stream": "stdout",
       "text": [
        "                       \r",
        "[1874/3600] KMCI 2011-2\r"
       ]
      },
      {
       "output_type": "stream",
       "stream": "stdout",
       "text": [
        "                       \r",
        "[1875/3600] KMCO 2011-2\r"
       ]
      },
      {
       "output_type": "stream",
       "stream": "stdout",
       "text": [
        "                       \r",
        "[1876/3600] KMDW 2011-2\r"
       ]
      },
      {
       "output_type": "stream",
       "stream": "stdout",
       "text": [
        "                       \r",
        "[1877/3600] KMEM 2011-2\r"
       ]
      },
      {
       "output_type": "stream",
       "stream": "stdout",
       "text": [
        "                       \r",
        "[1878/3600] KMIA 2011-2\r"
       ]
      },
      {
       "output_type": "stream",
       "stream": "stdout",
       "text": [
        "                       \r",
        "[1879/3600] KMKE 2011-2\r"
       ]
      },
      {
       "output_type": "stream",
       "stream": "stdout",
       "text": [
        "                       \r",
        "[1880/3600] KMSP 2011-2\r"
       ]
      },
      {
       "output_type": "stream",
       "stream": "stdout",
       "text": [
        "                       \r",
        "[1881/3600] KMSY 2011-2\r"
       ]
      },
      {
       "output_type": "stream",
       "stream": "stdout",
       "text": [
        "                       \r",
        "[1882/3600] KOAK 2011-2\r"
       ]
      },
      {
       "output_type": "stream",
       "stream": "stdout",
       "text": [
        "                       \r",
        "[1883/3600] KORD 2011-2\r"
       ]
      },
      {
       "output_type": "stream",
       "stream": "stdout",
       "text": [
        "                       \r",
        "[1884/3600] KPDX 2011-2\r"
       ]
      },
      {
       "output_type": "stream",
       "stream": "stdout",
       "text": [
        "                       \r",
        "[1885/3600] KPHL 2011-2\r"
       ]
      },
      {
       "output_type": "stream",
       "stream": "stdout",
       "text": [
        "                       \r",
        "[1886/3600] KPHX 2011-2\r"
       ]
      },
      {
       "output_type": "stream",
       "stream": "stdout",
       "text": [
        "                       \r",
        "[1887/3600] KPIT 2011-2\r"
       ]
      },
      {
       "output_type": "stream",
       "stream": "stdout",
       "text": [
        "                       \r",
        "[1888/3600] KRDU 2011-2\r"
       ]
      },
      {
       "output_type": "stream",
       "stream": "stdout",
       "text": [
        "                       \r",
        "[1889/3600] KSAN 2011-2\r"
       ]
      },
      {
       "output_type": "stream",
       "stream": "stdout",
       "text": [
        "                       \r",
        "[1890/3600] KSAT 2011-2\r"
       ]
      },
      {
       "output_type": "stream",
       "stream": "stdout",
       "text": [
        "                       \r",
        "[1891/3600] KSEA 2011-2\r"
       ]
      },
      {
       "output_type": "stream",
       "stream": "stdout",
       "text": [
        "                       \r",
        "[1892/3600] KSFO 2011-2\r"
       ]
      },
      {
       "output_type": "stream",
       "stream": "stdout",
       "text": [
        "                       \r",
        "[1893/3600] KSJC 2011-2\r"
       ]
      },
      {
       "output_type": "stream",
       "stream": "stdout",
       "text": [
        "                       \r",
        "[1894/3600] KSLC 2011-2\r"
       ]
      },
      {
       "output_type": "stream",
       "stream": "stdout",
       "text": [
        "                       \r",
        "[1895/3600] KSMF 2011-2\r"
       ]
      },
      {
       "output_type": "stream",
       "stream": "stdout",
       "text": [
        "                       \r",
        "[1896/3600] KSNA 2011-2\r"
       ]
      },
      {
       "output_type": "stream",
       "stream": "stdout",
       "text": [
        "                       \r",
        "[1897/3600] KSTL 2011-2\r"
       ]
      },
      {
       "output_type": "stream",
       "stream": "stdout",
       "text": [
        "                       \r",
        "[1898/3600] KTPA 2011-2\r"
       ]
      },
      {
       "output_type": "stream",
       "stream": "stdout",
       "text": [
        "                       \r",
        "[1899/3600] PHNL 2011-2\r"
       ]
      },
      {
       "output_type": "stream",
       "stream": "stdout",
       "text": [
        "                       \r",
        "[1900/3600] TJSJ 2011-2\r"
       ]
      },
      {
       "output_type": "stream",
       "stream": "stdout",
       "text": [
        "                       \r",
        "[1901/3600] KATL 2011-3\r"
       ]
      },
      {
       "output_type": "stream",
       "stream": "stdout",
       "text": [
        "                       \r",
        "[1902/3600] KAUS 2011-3\r"
       ]
      },
      {
       "output_type": "stream",
       "stream": "stdout",
       "text": [
        "                       \r",
        "[1903/3600] KBNA 2011-3\r"
       ]
      },
      {
       "output_type": "stream",
       "stream": "stdout",
       "text": [
        "                       \r",
        "[1904/3600] KBOS 2011-3\r"
       ]
      },
      {
       "output_type": "stream",
       "stream": "stdout",
       "text": [
        "                       \r",
        "[1905/3600] KBWI 2011-3\r"
       ]
      },
      {
       "output_type": "stream",
       "stream": "stdout",
       "text": [
        "                       \r",
        "[1906/3600] KCLE 2011-3\r"
       ]
      },
      {
       "output_type": "stream",
       "stream": "stdout",
       "text": [
        "                       \r",
        "[1907/3600] KCLT 2011-3\r"
       ]
      },
      {
       "output_type": "stream",
       "stream": "stdout",
       "text": [
        "                       \r",
        "[1908/3600] KCVG 2011-3\r"
       ]
      },
      {
       "output_type": "stream",
       "stream": "stdout",
       "text": [
        "                       \r",
        "[1909/3600] KDAL 2011-3\r"
       ]
      },
      {
       "output_type": "stream",
       "stream": "stdout",
       "text": [
        "                       \r",
        "[1910/3600] KDCA 2011-3\r"
       ]
      },
      {
       "output_type": "stream",
       "stream": "stdout",
       "text": [
        "                       \r",
        "[1911/3600] KDEN 2011-3\r"
       ]
      },
      {
       "output_type": "stream",
       "stream": "stdout",
       "text": [
        "                       \r",
        "[1912/3600] KDFW 2011-3\r"
       ]
      },
      {
       "output_type": "stream",
       "stream": "stdout",
       "text": [
        "                       \r",
        "[1913/3600] KDTW 2011-3\r"
       ]
      },
      {
       "output_type": "stream",
       "stream": "stdout",
       "text": [
        "                       \r",
        "[1914/3600] KEWR 2011-3\r"
       ]
      },
      {
       "output_type": "stream",
       "stream": "stdout",
       "text": [
        "                       \r",
        "[1915/3600] KFLL 2011-3\r"
       ]
      },
      {
       "output_type": "stream",
       "stream": "stdout",
       "text": [
        "                       \r",
        "[1916/3600] KHOU 2011-3\r"
       ]
      },
      {
       "output_type": "stream",
       "stream": "stdout",
       "text": [
        "                       \r",
        "[1917/3600] KIAD 2011-3\r"
       ]
      },
      {
       "output_type": "stream",
       "stream": "stdout",
       "text": [
        "                       \r",
        "[1918/3600] KIAH 2011-3\r"
       ]
      },
      {
       "output_type": "stream",
       "stream": "stdout",
       "text": [
        "                       \r",
        "[1919/3600] KIND 2011-3\r"
       ]
      },
      {
       "output_type": "stream",
       "stream": "stdout",
       "text": [
        "                       \r",
        "[1920/3600] KJFK 2011-3\r"
       ]
      },
      {
       "output_type": "stream",
       "stream": "stdout",
       "text": [
        "                       \r",
        "[1921/3600] KLAS 2011-3\r"
       ]
      },
      {
       "output_type": "stream",
       "stream": "stdout",
       "text": [
        "                       \r",
        "[1922/3600] KLAX 2011-3\r"
       ]
      },
      {
       "output_type": "stream",
       "stream": "stdout",
       "text": [
        "                       \r",
        "[1923/3600] KLGA 2011-3\r"
       ]
      },
      {
       "output_type": "stream",
       "stream": "stdout",
       "text": [
        "                       \r",
        "[1924/3600] KMCI 2011-3\r"
       ]
      },
      {
       "output_type": "stream",
       "stream": "stdout",
       "text": [
        "                       \r",
        "[1925/3600] KMCO 2011-3\r"
       ]
      },
      {
       "output_type": "stream",
       "stream": "stdout",
       "text": [
        "                       \r",
        "[1926/3600] KMDW 2011-3\r"
       ]
      },
      {
       "output_type": "stream",
       "stream": "stdout",
       "text": [
        "                       \r",
        "[1927/3600] KMEM 2011-3\r"
       ]
      },
      {
       "output_type": "stream",
       "stream": "stdout",
       "text": [
        "                       \r",
        "[1928/3600] KMIA 2011-3\r"
       ]
      },
      {
       "output_type": "stream",
       "stream": "stdout",
       "text": [
        "                       \r",
        "[1929/3600] KMKE 2011-3\r"
       ]
      },
      {
       "output_type": "stream",
       "stream": "stdout",
       "text": [
        "                       \r",
        "[1930/3600] KMSP 2011-3\r"
       ]
      },
      {
       "output_type": "stream",
       "stream": "stdout",
       "text": [
        "                       \r",
        "[1931/3600] KMSY 2011-3\r"
       ]
      },
      {
       "output_type": "stream",
       "stream": "stdout",
       "text": [
        "                       \r",
        "[1932/3600] KOAK 2011-3\r"
       ]
      },
      {
       "output_type": "stream",
       "stream": "stdout",
       "text": [
        "                       \r",
        "[1933/3600] KORD 2011-3\r"
       ]
      },
      {
       "output_type": "stream",
       "stream": "stdout",
       "text": [
        "                       \r",
        "[1934/3600] KPDX 2011-3\r"
       ]
      },
      {
       "output_type": "stream",
       "stream": "stdout",
       "text": [
        "                       \r",
        "[1935/3600] KPHL 2011-3\r"
       ]
      },
      {
       "output_type": "stream",
       "stream": "stdout",
       "text": [
        "                       \r",
        "[1936/3600] KPHX 2011-3\r"
       ]
      },
      {
       "output_type": "stream",
       "stream": "stdout",
       "text": [
        "                       \r",
        "[1937/3600] KPIT 2011-3\r"
       ]
      },
      {
       "output_type": "stream",
       "stream": "stdout",
       "text": [
        "                       \r",
        "[1938/3600] KRDU 2011-3\r"
       ]
      },
      {
       "output_type": "stream",
       "stream": "stdout",
       "text": [
        "                       \r",
        "[1939/3600] KSAN 2011-3\r"
       ]
      },
      {
       "output_type": "stream",
       "stream": "stdout",
       "text": [
        "                       \r",
        "[1940/3600] KSAT 2011-3\r"
       ]
      },
      {
       "output_type": "stream",
       "stream": "stdout",
       "text": [
        "                       \r",
        "[1941/3600] KSEA 2011-3\r"
       ]
      },
      {
       "output_type": "stream",
       "stream": "stdout",
       "text": [
        "                       \r",
        "[1942/3600] KSFO 2011-3\r"
       ]
      },
      {
       "output_type": "stream",
       "stream": "stdout",
       "text": [
        "                       \r",
        "[1943/3600] KSJC 2011-3\r"
       ]
      },
      {
       "output_type": "stream",
       "stream": "stdout",
       "text": [
        "                       \r",
        "[1944/3600] KSLC 2011-3\r"
       ]
      },
      {
       "output_type": "stream",
       "stream": "stdout",
       "text": [
        "                       \r",
        "[1945/3600] KSMF 2011-3\r"
       ]
      },
      {
       "output_type": "stream",
       "stream": "stdout",
       "text": [
        "                       \r",
        "[1946/3600] KSNA 2011-3\r"
       ]
      },
      {
       "output_type": "stream",
       "stream": "stdout",
       "text": [
        "                       \r",
        "[1947/3600] KSTL 2011-3\r"
       ]
      },
      {
       "output_type": "stream",
       "stream": "stdout",
       "text": [
        "                       \r",
        "[1948/3600] KTPA 2011-3\r"
       ]
      },
      {
       "output_type": "stream",
       "stream": "stdout",
       "text": [
        "                       \r",
        "[1949/3600] PHNL 2011-3\r"
       ]
      },
      {
       "output_type": "stream",
       "stream": "stdout",
       "text": [
        "                       \r",
        "[1950/3600] TJSJ 2011-3\r"
       ]
      },
      {
       "output_type": "stream",
       "stream": "stdout",
       "text": [
        "                       \r",
        "[1951/3600] KATL 2011-4\r"
       ]
      },
      {
       "output_type": "stream",
       "stream": "stdout",
       "text": [
        "                       \r",
        "[1952/3600] KAUS 2011-4\r"
       ]
      },
      {
       "output_type": "stream",
       "stream": "stdout",
       "text": [
        "                       \r",
        "[1953/3600] KBNA 2011-4\r"
       ]
      },
      {
       "output_type": "stream",
       "stream": "stdout",
       "text": [
        "                       \r",
        "[1954/3600] KBOS 2011-4\r"
       ]
      },
      {
       "output_type": "stream",
       "stream": "stdout",
       "text": [
        "                       \r",
        "[1955/3600] KBWI 2011-4\r"
       ]
      },
      {
       "output_type": "stream",
       "stream": "stdout",
       "text": [
        "                       \r",
        "[1956/3600] KCLE 2011-4\r"
       ]
      },
      {
       "output_type": "stream",
       "stream": "stdout",
       "text": [
        "                       \r",
        "[1957/3600] KCLT 2011-4\r"
       ]
      },
      {
       "output_type": "stream",
       "stream": "stdout",
       "text": [
        "                       \r",
        "[1958/3600] KCVG 2011-4\r"
       ]
      },
      {
       "output_type": "stream",
       "stream": "stdout",
       "text": [
        "                       \r",
        "[1959/3600] KDAL 2011-4\r"
       ]
      },
      {
       "output_type": "stream",
       "stream": "stdout",
       "text": [
        "                       \r",
        "[1960/3600] KDCA 2011-4\r"
       ]
      },
      {
       "output_type": "stream",
       "stream": "stdout",
       "text": [
        "                       \r",
        "[1961/3600] KDEN 2011-4\r"
       ]
      },
      {
       "output_type": "stream",
       "stream": "stdout",
       "text": [
        "                       \r",
        "[1962/3600] KDFW 2011-4\r"
       ]
      },
      {
       "output_type": "stream",
       "stream": "stdout",
       "text": [
        "                       \r",
        "[1963/3600] KDTW 2011-4\r"
       ]
      },
      {
       "output_type": "stream",
       "stream": "stdout",
       "text": [
        "                       \r",
        "[1964/3600] KEWR 2011-4\r"
       ]
      },
      {
       "output_type": "stream",
       "stream": "stdout",
       "text": [
        "                       \r",
        "[1965/3600] KFLL 2011-4\r"
       ]
      },
      {
       "output_type": "stream",
       "stream": "stdout",
       "text": [
        "                       \r",
        "[1966/3600] KHOU 2011-4\r"
       ]
      },
      {
       "output_type": "stream",
       "stream": "stdout",
       "text": [
        "                       \r",
        "[1967/3600] KIAD 2011-4\r"
       ]
      },
      {
       "output_type": "stream",
       "stream": "stdout",
       "text": [
        "                       \r",
        "[1968/3600] KIAH 2011-4\r"
       ]
      },
      {
       "output_type": "stream",
       "stream": "stdout",
       "text": [
        "                       \r",
        "[1969/3600] KIND 2011-4\r"
       ]
      },
      {
       "output_type": "stream",
       "stream": "stdout",
       "text": [
        "                       \r",
        "[1970/3600] KJFK 2011-4\r"
       ]
      },
      {
       "output_type": "stream",
       "stream": "stdout",
       "text": [
        "                       \r",
        "[1971/3600] KLAS 2011-4\r"
       ]
      },
      {
       "output_type": "stream",
       "stream": "stdout",
       "text": [
        "                       \r",
        "[1972/3600] KLAX 2011-4\r"
       ]
      },
      {
       "output_type": "stream",
       "stream": "stdout",
       "text": [
        "                       \r",
        "[1973/3600] KLGA 2011-4\r"
       ]
      },
      {
       "output_type": "stream",
       "stream": "stdout",
       "text": [
        "                       \r",
        "[1974/3600] KMCI 2011-4\r"
       ]
      },
      {
       "output_type": "stream",
       "stream": "stdout",
       "text": [
        "                       \r",
        "[1975/3600] KMCO 2011-4\r"
       ]
      },
      {
       "output_type": "stream",
       "stream": "stdout",
       "text": [
        "                       \r",
        "[1976/3600] KMDW 2011-4\r"
       ]
      },
      {
       "output_type": "stream",
       "stream": "stdout",
       "text": [
        "                       \r",
        "[1977/3600] KMEM 2011-4\r"
       ]
      },
      {
       "output_type": "stream",
       "stream": "stdout",
       "text": [
        "                       \r",
        "[1978/3600] KMIA 2011-4\r"
       ]
      },
      {
       "output_type": "stream",
       "stream": "stdout",
       "text": [
        "                       \r",
        "[1979/3600] KMKE 2011-4\r"
       ]
      },
      {
       "output_type": "stream",
       "stream": "stdout",
       "text": [
        "                       \r",
        "[1980/3600] KMSP 2011-4\r"
       ]
      },
      {
       "output_type": "stream",
       "stream": "stdout",
       "text": [
        "                       \r",
        "[1981/3600] KMSY 2011-4\r"
       ]
      },
      {
       "output_type": "stream",
       "stream": "stdout",
       "text": [
        "                       \r",
        "[1982/3600] KOAK 2011-4\r"
       ]
      },
      {
       "output_type": "stream",
       "stream": "stdout",
       "text": [
        "                       \r",
        "[1983/3600] KORD 2011-4\r"
       ]
      },
      {
       "output_type": "stream",
       "stream": "stdout",
       "text": [
        "                       \r",
        "[1984/3600] KPDX 2011-4\r"
       ]
      },
      {
       "output_type": "stream",
       "stream": "stdout",
       "text": [
        "                       \r",
        "[1985/3600] KPHL 2011-4\r"
       ]
      },
      {
       "output_type": "stream",
       "stream": "stdout",
       "text": [
        "                       \r",
        "[1986/3600] KPHX 2011-4\r"
       ]
      },
      {
       "output_type": "stream",
       "stream": "stdout",
       "text": [
        "                       \r",
        "[1987/3600] KPIT 2011-4\r"
       ]
      },
      {
       "output_type": "stream",
       "stream": "stdout",
       "text": [
        "                       \r",
        "[1988/3600] KRDU 2011-4\r"
       ]
      },
      {
       "output_type": "stream",
       "stream": "stdout",
       "text": [
        "                       \r",
        "[1989/3600] KSAN 2011-4\r"
       ]
      },
      {
       "output_type": "stream",
       "stream": "stdout",
       "text": [
        "                       \r",
        "[1990/3600] KSAT 2011-4\r"
       ]
      },
      {
       "output_type": "stream",
       "stream": "stdout",
       "text": [
        "                       \r",
        "[1991/3600] KSEA 2011-4\r"
       ]
      },
      {
       "output_type": "stream",
       "stream": "stdout",
       "text": [
        "                       \r",
        "[1992/3600] KSFO 2011-4\r"
       ]
      },
      {
       "output_type": "stream",
       "stream": "stdout",
       "text": [
        "                       \r",
        "[1993/3600] KSJC 2011-4\r"
       ]
      },
      {
       "output_type": "stream",
       "stream": "stdout",
       "text": [
        "                       \r",
        "[1994/3600] KSLC 2011-4\r"
       ]
      },
      {
       "output_type": "stream",
       "stream": "stdout",
       "text": [
        "                       \r",
        "[1995/3600] KSMF 2011-4\r"
       ]
      },
      {
       "output_type": "stream",
       "stream": "stdout",
       "text": [
        "                       \r",
        "[1996/3600] KSNA 2011-4\r"
       ]
      },
      {
       "output_type": "stream",
       "stream": "stdout",
       "text": [
        "                       \r",
        "[1997/3600] KSTL 2011-4\r"
       ]
      },
      {
       "output_type": "stream",
       "stream": "stdout",
       "text": [
        "                       \r",
        "[1998/3600] KTPA 2011-4\r"
       ]
      },
      {
       "output_type": "stream",
       "stream": "stdout",
       "text": [
        "                       \r",
        "[1999/3600] PHNL 2011-4\r"
       ]
      },
      {
       "output_type": "stream",
       "stream": "stdout",
       "text": [
        "                       \r",
        "[2000/3600] TJSJ 2011-4\r"
       ]
      },
      {
       "output_type": "stream",
       "stream": "stdout",
       "text": [
        "                       \r",
        "[2001/3600] KATL 2011-5\r"
       ]
      },
      {
       "output_type": "stream",
       "stream": "stdout",
       "text": [
        "                       \r",
        "[2002/3600] KAUS 2011-5\r"
       ]
      },
      {
       "output_type": "stream",
       "stream": "stdout",
       "text": [
        "                       \r",
        "[2003/3600] KBNA 2011-5\r"
       ]
      },
      {
       "output_type": "stream",
       "stream": "stdout",
       "text": [
        "                       \r",
        "[2004/3600] KBOS 2011-5\r"
       ]
      },
      {
       "output_type": "stream",
       "stream": "stdout",
       "text": [
        "                       \r",
        "[2005/3600] KBWI 2011-5\r"
       ]
      },
      {
       "output_type": "stream",
       "stream": "stdout",
       "text": [
        "                       \r",
        "[2006/3600] KCLE 2011-5\r"
       ]
      },
      {
       "output_type": "stream",
       "stream": "stdout",
       "text": [
        "                       \r",
        "[2007/3600] KCLT 2011-5\r"
       ]
      },
      {
       "output_type": "stream",
       "stream": "stdout",
       "text": [
        "                       \r",
        "[2008/3600] KCVG 2011-5\r"
       ]
      },
      {
       "output_type": "stream",
       "stream": "stdout",
       "text": [
        "                       \r",
        "[2009/3600] KDAL 2011-5\r"
       ]
      },
      {
       "output_type": "stream",
       "stream": "stdout",
       "text": [
        "                       \r",
        "[2010/3600] KDCA 2011-5\r"
       ]
      },
      {
       "output_type": "stream",
       "stream": "stdout",
       "text": [
        "                       \r",
        "[2011/3600] KDEN 2011-5\r"
       ]
      },
      {
       "output_type": "stream",
       "stream": "stdout",
       "text": [
        "                       \r",
        "[2012/3600] KDFW 2011-5\r"
       ]
      },
      {
       "output_type": "stream",
       "stream": "stdout",
       "text": [
        "                       \r",
        "[2013/3600] KDTW 2011-5\r"
       ]
      },
      {
       "output_type": "stream",
       "stream": "stdout",
       "text": [
        "                       \r",
        "[2014/3600] KEWR 2011-5\r"
       ]
      },
      {
       "output_type": "stream",
       "stream": "stdout",
       "text": [
        "                       \r",
        "[2015/3600] KFLL 2011-5\r"
       ]
      },
      {
       "output_type": "stream",
       "stream": "stdout",
       "text": [
        "                       \r",
        "[2016/3600] KHOU 2011-5\r"
       ]
      },
      {
       "output_type": "stream",
       "stream": "stdout",
       "text": [
        "                       \r",
        "[2017/3600] KIAD 2011-5\r"
       ]
      },
      {
       "output_type": "stream",
       "stream": "stdout",
       "text": [
        "                       \r",
        "[2018/3600] KIAH 2011-5\r"
       ]
      },
      {
       "output_type": "stream",
       "stream": "stdout",
       "text": [
        "                       \r",
        "[2019/3600] KIND 2011-5\r"
       ]
      },
      {
       "output_type": "stream",
       "stream": "stdout",
       "text": [
        "                       \r",
        "[2020/3600] KJFK 2011-5\r"
       ]
      },
      {
       "output_type": "stream",
       "stream": "stdout",
       "text": [
        "                       \r",
        "[2021/3600] KLAS 2011-5\r"
       ]
      },
      {
       "output_type": "stream",
       "stream": "stdout",
       "text": [
        "                       \r",
        "[2022/3600] KLAX 2011-5\r"
       ]
      },
      {
       "output_type": "stream",
       "stream": "stdout",
       "text": [
        "                       \r",
        "[2023/3600] KLGA 2011-5\r"
       ]
      },
      {
       "output_type": "stream",
       "stream": "stdout",
       "text": [
        "                       \r",
        "[2024/3600] KMCI 2011-5\r"
       ]
      },
      {
       "output_type": "stream",
       "stream": "stdout",
       "text": [
        "                       \r",
        "[2025/3600] KMCO 2011-5\r"
       ]
      },
      {
       "output_type": "stream",
       "stream": "stdout",
       "text": [
        "                       \r",
        "[2026/3600] KMDW 2011-5\r"
       ]
      },
      {
       "output_type": "stream",
       "stream": "stdout",
       "text": [
        "                       \r",
        "[2027/3600] KMEM 2011-5\r"
       ]
      },
      {
       "output_type": "stream",
       "stream": "stdout",
       "text": [
        "                       \r",
        "[2028/3600] KMIA 2011-5\r"
       ]
      },
      {
       "output_type": "stream",
       "stream": "stdout",
       "text": [
        "                       \r",
        "[2029/3600] KMKE 2011-5\r"
       ]
      },
      {
       "output_type": "stream",
       "stream": "stdout",
       "text": [
        "                       \r",
        "[2030/3600] KMSP 2011-5\r"
       ]
      },
      {
       "output_type": "stream",
       "stream": "stdout",
       "text": [
        "                       \r",
        "[2031/3600] KMSY 2011-5\r"
       ]
      },
      {
       "output_type": "stream",
       "stream": "stdout",
       "text": [
        "                       \r",
        "[2032/3600] KOAK 2011-5\r"
       ]
      },
      {
       "output_type": "stream",
       "stream": "stdout",
       "text": [
        "                       \r",
        "[2033/3600] KORD 2011-5\r"
       ]
      },
      {
       "output_type": "stream",
       "stream": "stdout",
       "text": [
        "                       \r",
        "[2034/3600] KPDX 2011-5\r"
       ]
      },
      {
       "output_type": "stream",
       "stream": "stdout",
       "text": [
        "                       \r",
        "[2035/3600] KPHL 2011-5\r"
       ]
      },
      {
       "output_type": "stream",
       "stream": "stdout",
       "text": [
        "                       \r",
        "[2036/3600] KPHX 2011-5\r"
       ]
      },
      {
       "output_type": "stream",
       "stream": "stdout",
       "text": [
        "                       \r",
        "[2037/3600] KPIT 2011-5\r"
       ]
      },
      {
       "output_type": "stream",
       "stream": "stdout",
       "text": [
        "                       \r",
        "[2038/3600] KRDU 2011-5\r"
       ]
      },
      {
       "output_type": "stream",
       "stream": "stdout",
       "text": [
        "                       \r",
        "[2039/3600] KSAN 2011-5\r"
       ]
      },
      {
       "output_type": "stream",
       "stream": "stdout",
       "text": [
        "                       \r",
        "[2040/3600] KSAT 2011-5\r"
       ]
      },
      {
       "output_type": "stream",
       "stream": "stdout",
       "text": [
        "                       \r",
        "[2041/3600] KSEA 2011-5\r"
       ]
      },
      {
       "output_type": "stream",
       "stream": "stdout",
       "text": [
        "                       \r",
        "[2042/3600] KSFO 2011-5\r"
       ]
      },
      {
       "output_type": "stream",
       "stream": "stdout",
       "text": [
        "                       \r",
        "[2043/3600] KSJC 2011-5\r"
       ]
      },
      {
       "output_type": "stream",
       "stream": "stdout",
       "text": [
        "                       \r",
        "[2044/3600] KSLC 2011-5\r"
       ]
      },
      {
       "output_type": "stream",
       "stream": "stdout",
       "text": [
        "                       \r",
        "[2045/3600] KSMF 2011-5\r"
       ]
      },
      {
       "output_type": "stream",
       "stream": "stdout",
       "text": [
        "                       \r",
        "[2046/3600] KSNA 2011-5\r"
       ]
      },
      {
       "output_type": "stream",
       "stream": "stdout",
       "text": [
        "                       \r",
        "[2047/3600] KSTL 2011-5\r"
       ]
      },
      {
       "output_type": "stream",
       "stream": "stdout",
       "text": [
        "                       \r",
        "[2048/3600] KTPA 2011-5\r"
       ]
      },
      {
       "output_type": "stream",
       "stream": "stdout",
       "text": [
        "                       \r",
        "[2049/3600] PHNL 2011-5\r"
       ]
      },
      {
       "output_type": "stream",
       "stream": "stdout",
       "text": [
        "                       \r",
        "[2050/3600] TJSJ 2011-5\r"
       ]
      },
      {
       "output_type": "stream",
       "stream": "stdout",
       "text": [
        "                       \r",
        "[2051/3600] KATL 2011-6\r"
       ]
      },
      {
       "output_type": "stream",
       "stream": "stdout",
       "text": [
        "                       \r",
        "[2052/3600] KAUS 2011-6\r"
       ]
      },
      {
       "output_type": "stream",
       "stream": "stdout",
       "text": [
        "                       \r",
        "[2053/3600] KBNA 2011-6\r"
       ]
      },
      {
       "output_type": "stream",
       "stream": "stdout",
       "text": [
        "                       \r",
        "[2054/3600] KBOS 2011-6\r"
       ]
      },
      {
       "output_type": "stream",
       "stream": "stdout",
       "text": [
        "                       \r",
        "[2055/3600] KBWI 2011-6\r"
       ]
      },
      {
       "output_type": "stream",
       "stream": "stdout",
       "text": [
        "                       \r",
        "[2056/3600] KCLE 2011-6\r"
       ]
      },
      {
       "output_type": "stream",
       "stream": "stdout",
       "text": [
        "                       \r",
        "[2057/3600] KCLT 2011-6\r"
       ]
      },
      {
       "output_type": "stream",
       "stream": "stdout",
       "text": [
        "                       \r",
        "[2058/3600] KCVG 2011-6\r"
       ]
      },
      {
       "output_type": "stream",
       "stream": "stdout",
       "text": [
        "                       \r",
        "[2059/3600] KDAL 2011-6\r"
       ]
      },
      {
       "output_type": "stream",
       "stream": "stdout",
       "text": [
        "                       \r",
        "[2060/3600] KDCA 2011-6\r"
       ]
      },
      {
       "output_type": "stream",
       "stream": "stdout",
       "text": [
        "                       \r",
        "[2061/3600] KDEN 2011-6\r"
       ]
      },
      {
       "output_type": "stream",
       "stream": "stdout",
       "text": [
        "                       \r",
        "[2062/3600] KDFW 2011-6\r"
       ]
      },
      {
       "output_type": "stream",
       "stream": "stdout",
       "text": [
        "                       \r",
        "[2063/3600] KDTW 2011-6\r"
       ]
      },
      {
       "output_type": "stream",
       "stream": "stdout",
       "text": [
        "                       \r",
        "[2064/3600] KEWR 2011-6\r"
       ]
      },
      {
       "output_type": "stream",
       "stream": "stdout",
       "text": [
        "                       \r",
        "[2065/3600] KFLL 2011-6\r"
       ]
      },
      {
       "output_type": "stream",
       "stream": "stdout",
       "text": [
        "                       \r",
        "[2066/3600] KHOU 2011-6\r"
       ]
      },
      {
       "output_type": "stream",
       "stream": "stdout",
       "text": [
        "                       \r",
        "[2067/3600] KIAD 2011-6\r"
       ]
      },
      {
       "output_type": "stream",
       "stream": "stdout",
       "text": [
        "                       \r",
        "[2068/3600] KIAH 2011-6\r"
       ]
      },
      {
       "output_type": "stream",
       "stream": "stdout",
       "text": [
        "                       \r",
        "[2069/3600] KIND 2011-6\r"
       ]
      },
      {
       "output_type": "stream",
       "stream": "stdout",
       "text": [
        "                       \r",
        "[2070/3600] KJFK 2011-6\r"
       ]
      },
      {
       "output_type": "stream",
       "stream": "stdout",
       "text": [
        "                       \r",
        "[2071/3600] KLAS 2011-6\r"
       ]
      },
      {
       "output_type": "stream",
       "stream": "stdout",
       "text": [
        "                       \r",
        "[2072/3600] KLAX 2011-6\r"
       ]
      },
      {
       "output_type": "stream",
       "stream": "stdout",
       "text": [
        "                       \r",
        "[2073/3600] KLGA 2011-6\r"
       ]
      },
      {
       "output_type": "stream",
       "stream": "stdout",
       "text": [
        "                       \r",
        "[2074/3600] KMCI 2011-6\r"
       ]
      },
      {
       "output_type": "stream",
       "stream": "stdout",
       "text": [
        "                       \r",
        "[2075/3600] KMCO 2011-6\r"
       ]
      },
      {
       "output_type": "stream",
       "stream": "stdout",
       "text": [
        "                       \r",
        "[2076/3600] KMDW 2011-6\r"
       ]
      },
      {
       "output_type": "stream",
       "stream": "stdout",
       "text": [
        "                       \r",
        "[2077/3600] KMEM 2011-6\r"
       ]
      },
      {
       "output_type": "stream",
       "stream": "stdout",
       "text": [
        "                       \r",
        "[2078/3600] KMIA 2011-6\r"
       ]
      },
      {
       "output_type": "stream",
       "stream": "stdout",
       "text": [
        "                       \r",
        "[2079/3600] KMKE 2011-6\r"
       ]
      },
      {
       "output_type": "stream",
       "stream": "stdout",
       "text": [
        "                       \r",
        "[2080/3600] KMSP 2011-6\r"
       ]
      },
      {
       "output_type": "stream",
       "stream": "stdout",
       "text": [
        "                       \r",
        "[2081/3600] KMSY 2011-6\r"
       ]
      },
      {
       "output_type": "stream",
       "stream": "stdout",
       "text": [
        "                       \r",
        "[2082/3600] KOAK 2011-6\r"
       ]
      },
      {
       "output_type": "stream",
       "stream": "stdout",
       "text": [
        "                       \r",
        "[2083/3600] KORD 2011-6\r"
       ]
      },
      {
       "output_type": "stream",
       "stream": "stdout",
       "text": [
        "                       \r",
        "[2084/3600] KPDX 2011-6\r"
       ]
      },
      {
       "output_type": "stream",
       "stream": "stdout",
       "text": [
        "                       \r",
        "[2085/3600] KPHL 2011-6\r"
       ]
      },
      {
       "output_type": "stream",
       "stream": "stdout",
       "text": [
        "                       \r",
        "[2086/3600] KPHX 2011-6\r"
       ]
      },
      {
       "output_type": "stream",
       "stream": "stdout",
       "text": [
        "                       \r",
        "[2087/3600] KPIT 2011-6\r"
       ]
      },
      {
       "output_type": "stream",
       "stream": "stdout",
       "text": [
        "                       \r",
        "[2088/3600] KRDU 2011-6\r"
       ]
      },
      {
       "output_type": "stream",
       "stream": "stdout",
       "text": [
        "                       \r",
        "[2089/3600] KSAN 2011-6\r"
       ]
      },
      {
       "output_type": "stream",
       "stream": "stdout",
       "text": [
        "                       \r",
        "[2090/3600] KSAT 2011-6\r"
       ]
      },
      {
       "output_type": "stream",
       "stream": "stdout",
       "text": [
        "                       \r",
        "[2091/3600] KSEA 2011-6\r"
       ]
      },
      {
       "output_type": "stream",
       "stream": "stdout",
       "text": [
        "                       \r",
        "[2092/3600] KSFO 2011-6\r"
       ]
      },
      {
       "output_type": "stream",
       "stream": "stdout",
       "text": [
        "                       \r",
        "[2093/3600] KSJC 2011-6\r"
       ]
      },
      {
       "output_type": "stream",
       "stream": "stdout",
       "text": [
        "                       \r",
        "[2094/3600] KSLC 2011-6\r"
       ]
      },
      {
       "output_type": "stream",
       "stream": "stdout",
       "text": [
        "                       \r",
        "[2095/3600] KSMF 2011-6\r"
       ]
      },
      {
       "output_type": "stream",
       "stream": "stdout",
       "text": [
        "                       \r",
        "[2096/3600] KSNA 2011-6\r"
       ]
      },
      {
       "output_type": "stream",
       "stream": "stdout",
       "text": [
        "                       \r",
        "[2097/3600] KSTL 2011-6\r"
       ]
      },
      {
       "output_type": "stream",
       "stream": "stdout",
       "text": [
        "                       \r",
        "[2098/3600] KTPA 2011-6\r"
       ]
      },
      {
       "output_type": "stream",
       "stream": "stdout",
       "text": [
        "                       \r",
        "[2099/3600] PHNL 2011-6\r"
       ]
      },
      {
       "output_type": "stream",
       "stream": "stdout",
       "text": [
        "                       \r",
        "[2100/3600] TJSJ 2011-6\r"
       ]
      },
      {
       "output_type": "stream",
       "stream": "stdout",
       "text": [
        "                       \r",
        "[2101/3600] KATL 2011-7\r"
       ]
      },
      {
       "output_type": "stream",
       "stream": "stdout",
       "text": [
        "                       \r",
        "[2102/3600] KAUS 2011-7\r"
       ]
      },
      {
       "output_type": "stream",
       "stream": "stdout",
       "text": [
        "                       \r",
        "[2103/3600] KBNA 2011-7\r"
       ]
      },
      {
       "output_type": "stream",
       "stream": "stdout",
       "text": [
        "                       \r",
        "[2104/3600] KBOS 2011-7\r"
       ]
      },
      {
       "output_type": "stream",
       "stream": "stdout",
       "text": [
        "                       \r",
        "[2105/3600] KBWI 2011-7\r"
       ]
      },
      {
       "output_type": "stream",
       "stream": "stdout",
       "text": [
        "                       \r",
        "[2106/3600] KCLE 2011-7\r"
       ]
      },
      {
       "output_type": "stream",
       "stream": "stdout",
       "text": [
        "                       \r",
        "[2107/3600] KCLT 2011-7\r"
       ]
      },
      {
       "output_type": "stream",
       "stream": "stdout",
       "text": [
        "                       \r",
        "[2108/3600] KCVG 2011-7\r"
       ]
      },
      {
       "output_type": "stream",
       "stream": "stdout",
       "text": [
        "                       \r",
        "[2109/3600] KDAL 2011-7\r"
       ]
      },
      {
       "output_type": "stream",
       "stream": "stdout",
       "text": [
        "                       \r",
        "[2110/3600] KDCA 2011-7\r"
       ]
      },
      {
       "output_type": "stream",
       "stream": "stdout",
       "text": [
        "                       \r",
        "[2111/3600] KDEN 2011-7\r"
       ]
      },
      {
       "output_type": "stream",
       "stream": "stdout",
       "text": [
        "                       \r",
        "[2112/3600] KDFW 2011-7\r"
       ]
      },
      {
       "output_type": "stream",
       "stream": "stdout",
       "text": [
        "                       \r",
        "[2113/3600] KDTW 2011-7\r"
       ]
      },
      {
       "output_type": "stream",
       "stream": "stdout",
       "text": [
        "                       \r",
        "[2114/3600] KEWR 2011-7\r"
       ]
      },
      {
       "output_type": "stream",
       "stream": "stdout",
       "text": [
        "                       \r",
        "[2115/3600] KFLL 2011-7\r"
       ]
      },
      {
       "output_type": "stream",
       "stream": "stdout",
       "text": [
        "                       \r",
        "[2116/3600] KHOU 2011-7\r"
       ]
      },
      {
       "output_type": "stream",
       "stream": "stdout",
       "text": [
        "                       \r",
        "[2117/3600] KIAD 2011-7\r"
       ]
      },
      {
       "output_type": "stream",
       "stream": "stdout",
       "text": [
        "                       \r",
        "[2118/3600] KIAH 2011-7\r"
       ]
      },
      {
       "output_type": "stream",
       "stream": "stdout",
       "text": [
        "                       \r",
        "[2119/3600] KIND 2011-7\r"
       ]
      },
      {
       "output_type": "stream",
       "stream": "stdout",
       "text": [
        "                       \r",
        "[2120/3600] KJFK 2011-7\r"
       ]
      },
      {
       "output_type": "stream",
       "stream": "stdout",
       "text": [
        "                       \r",
        "[2121/3600] KLAS 2011-7\r"
       ]
      },
      {
       "output_type": "stream",
       "stream": "stdout",
       "text": [
        "                       \r",
        "[2122/3600] KLAX 2011-7\r"
       ]
      },
      {
       "output_type": "stream",
       "stream": "stdout",
       "text": [
        "                       \r",
        "[2123/3600] KLGA 2011-7\r"
       ]
      },
      {
       "output_type": "stream",
       "stream": "stdout",
       "text": [
        "                       \r",
        "[2124/3600] KMCI 2011-7\r"
       ]
      },
      {
       "output_type": "stream",
       "stream": "stdout",
       "text": [
        "                       \r",
        "[2125/3600] KMCO 2011-7\r"
       ]
      },
      {
       "output_type": "stream",
       "stream": "stdout",
       "text": [
        "                       \r",
        "[2126/3600] KMDW 2011-7\r"
       ]
      },
      {
       "output_type": "stream",
       "stream": "stdout",
       "text": [
        "                       \r",
        "[2127/3600] KMEM 2011-7\r"
       ]
      },
      {
       "output_type": "stream",
       "stream": "stdout",
       "text": [
        "                       \r",
        "[2128/3600] KMIA 2011-7\r"
       ]
      },
      {
       "output_type": "stream",
       "stream": "stdout",
       "text": [
        "                       \r",
        "[2129/3600] KMKE 2011-7\r"
       ]
      },
      {
       "output_type": "stream",
       "stream": "stdout",
       "text": [
        "                       \r",
        "[2130/3600] KMSP 2011-7\r"
       ]
      },
      {
       "output_type": "stream",
       "stream": "stdout",
       "text": [
        "                       \r",
        "[2131/3600] KMSY 2011-7\r"
       ]
      },
      {
       "output_type": "stream",
       "stream": "stdout",
       "text": [
        "                       \r",
        "[2132/3600] KOAK 2011-7\r"
       ]
      },
      {
       "output_type": "stream",
       "stream": "stdout",
       "text": [
        "                       \r",
        "[2133/3600] KORD 2011-7\r"
       ]
      },
      {
       "output_type": "stream",
       "stream": "stdout",
       "text": [
        "                       \r",
        "[2134/3600] KPDX 2011-7\r"
       ]
      },
      {
       "output_type": "stream",
       "stream": "stdout",
       "text": [
        "                       \r",
        "[2135/3600] KPHL 2011-7\r"
       ]
      },
      {
       "output_type": "stream",
       "stream": "stdout",
       "text": [
        "                       \r",
        "[2136/3600] KPHX 2011-7\r"
       ]
      },
      {
       "output_type": "stream",
       "stream": "stdout",
       "text": [
        "                       \r",
        "[2137/3600] KPIT 2011-7\r"
       ]
      },
      {
       "output_type": "stream",
       "stream": "stdout",
       "text": [
        "                       \r",
        "[2138/3600] KRDU 2011-7\r"
       ]
      },
      {
       "output_type": "stream",
       "stream": "stdout",
       "text": [
        "                       \r",
        "[2139/3600] KSAN 2011-7\r"
       ]
      },
      {
       "output_type": "stream",
       "stream": "stdout",
       "text": [
        "                       \r",
        "[2140/3600] KSAT 2011-7\r"
       ]
      },
      {
       "output_type": "stream",
       "stream": "stdout",
       "text": [
        "                       \r",
        "[2141/3600] KSEA 2011-7\r"
       ]
      },
      {
       "output_type": "stream",
       "stream": "stdout",
       "text": [
        "                       \r",
        "[2142/3600] KSFO 2011-7\r"
       ]
      },
      {
       "output_type": "stream",
       "stream": "stdout",
       "text": [
        "                       \r",
        "[2143/3600] KSJC 2011-7\r"
       ]
      },
      {
       "output_type": "stream",
       "stream": "stdout",
       "text": [
        "                       \r",
        "[2144/3600] KSLC 2011-7\r"
       ]
      },
      {
       "output_type": "stream",
       "stream": "stdout",
       "text": [
        "                       \r",
        "[2145/3600] KSMF 2011-7\r"
       ]
      },
      {
       "output_type": "stream",
       "stream": "stdout",
       "text": [
        "                       \r",
        "[2146/3600] KSNA 2011-7\r"
       ]
      },
      {
       "output_type": "stream",
       "stream": "stdout",
       "text": [
        "                       \r",
        "[2147/3600] KSTL 2011-7\r"
       ]
      },
      {
       "output_type": "stream",
       "stream": "stdout",
       "text": [
        "                       \r",
        "[2148/3600] KTPA 2011-7\r"
       ]
      },
      {
       "output_type": "stream",
       "stream": "stdout",
       "text": [
        "                       \r",
        "[2149/3600] PHNL 2011-7\r"
       ]
      },
      {
       "output_type": "stream",
       "stream": "stdout",
       "text": [
        "                       \r",
        "[2150/3600] TJSJ 2011-7\r"
       ]
      },
      {
       "output_type": "stream",
       "stream": "stdout",
       "text": [
        "                       \r",
        "[2151/3600] KATL 2011-8\r"
       ]
      },
      {
       "output_type": "stream",
       "stream": "stdout",
       "text": [
        "                       \r",
        "[2152/3600] KAUS 2011-8\r"
       ]
      },
      {
       "output_type": "stream",
       "stream": "stdout",
       "text": [
        "                       \r",
        "[2153/3600] KBNA 2011-8\r"
       ]
      },
      {
       "output_type": "stream",
       "stream": "stdout",
       "text": [
        "                       \r",
        "[2154/3600] KBOS 2011-8\r"
       ]
      },
      {
       "output_type": "stream",
       "stream": "stdout",
       "text": [
        "                       \r",
        "[2155/3600] KBWI 2011-8\r"
       ]
      },
      {
       "output_type": "stream",
       "stream": "stdout",
       "text": [
        "                       \r",
        "[2156/3600] KCLE 2011-8\r"
       ]
      },
      {
       "output_type": "stream",
       "stream": "stdout",
       "text": [
        "                       \r",
        "[2157/3600] KCLT 2011-8\r"
       ]
      },
      {
       "output_type": "stream",
       "stream": "stdout",
       "text": [
        "                       \r",
        "[2158/3600] KCVG 2011-8\r"
       ]
      },
      {
       "output_type": "stream",
       "stream": "stdout",
       "text": [
        "                       \r",
        "[2159/3600] KDAL 2011-8\r"
       ]
      },
      {
       "output_type": "stream",
       "stream": "stdout",
       "text": [
        "                       \r",
        "[2160/3600] KDCA 2011-8\r"
       ]
      },
      {
       "output_type": "stream",
       "stream": "stdout",
       "text": [
        "                       \r",
        "[2161/3600] KDEN 2011-8\r"
       ]
      },
      {
       "output_type": "stream",
       "stream": "stdout",
       "text": [
        "                       \r",
        "[2162/3600] KDFW 2011-8\r"
       ]
      },
      {
       "output_type": "stream",
       "stream": "stdout",
       "text": [
        "                       \r",
        "[2163/3600] KDTW 2011-8\r"
       ]
      },
      {
       "output_type": "stream",
       "stream": "stdout",
       "text": [
        "                       \r",
        "[2164/3600] KEWR 2011-8\r"
       ]
      },
      {
       "output_type": "stream",
       "stream": "stdout",
       "text": [
        "                       \r",
        "[2165/3600] KFLL 2011-8\r"
       ]
      },
      {
       "output_type": "stream",
       "stream": "stdout",
       "text": [
        "                       \r",
        "[2166/3600] KHOU 2011-8\r"
       ]
      },
      {
       "output_type": "stream",
       "stream": "stdout",
       "text": [
        "                       \r",
        "[2167/3600] KIAD 2011-8\r"
       ]
      },
      {
       "output_type": "stream",
       "stream": "stdout",
       "text": [
        "                       \r",
        "[2168/3600] KIAH 2011-8\r"
       ]
      },
      {
       "output_type": "stream",
       "stream": "stdout",
       "text": [
        "                       \r",
        "[2169/3600] KIND 2011-8\r"
       ]
      },
      {
       "output_type": "stream",
       "stream": "stdout",
       "text": [
        "                       \r",
        "[2170/3600] KJFK 2011-8\r"
       ]
      },
      {
       "output_type": "stream",
       "stream": "stdout",
       "text": [
        "                       \r",
        "[2171/3600] KLAS 2011-8\r"
       ]
      },
      {
       "output_type": "stream",
       "stream": "stdout",
       "text": [
        "                       \r",
        "[2172/3600] KLAX 2011-8\r"
       ]
      },
      {
       "output_type": "stream",
       "stream": "stdout",
       "text": [
        "                       \r",
        "[2173/3600] KLGA 2011-8\r"
       ]
      },
      {
       "output_type": "stream",
       "stream": "stdout",
       "text": [
        "                       \r",
        "[2174/3600] KMCI 2011-8\r"
       ]
      },
      {
       "output_type": "stream",
       "stream": "stdout",
       "text": [
        "                       \r",
        "[2175/3600] KMCO 2011-8\r"
       ]
      },
      {
       "output_type": "stream",
       "stream": "stdout",
       "text": [
        "                       \r",
        "[2176/3600] KMDW 2011-8\r"
       ]
      },
      {
       "output_type": "stream",
       "stream": "stdout",
       "text": [
        "                       \r",
        "[2177/3600] KMEM 2011-8\r"
       ]
      },
      {
       "output_type": "stream",
       "stream": "stdout",
       "text": [
        "                       \r",
        "[2178/3600] KMIA 2011-8\r"
       ]
      },
      {
       "output_type": "stream",
       "stream": "stdout",
       "text": [
        "                       \r",
        "[2179/3600] KMKE 2011-8\r"
       ]
      },
      {
       "output_type": "stream",
       "stream": "stdout",
       "text": [
        "                       \r",
        "[2180/3600] KMSP 2011-8\r"
       ]
      },
      {
       "output_type": "stream",
       "stream": "stdout",
       "text": [
        "                       \r",
        "[2181/3600] KMSY 2011-8\r"
       ]
      },
      {
       "output_type": "stream",
       "stream": "stdout",
       "text": [
        "                       \r",
        "[2182/3600] KOAK 2011-8\r"
       ]
      },
      {
       "output_type": "stream",
       "stream": "stdout",
       "text": [
        "                       \r",
        "[2183/3600] KORD 2011-8\r"
       ]
      },
      {
       "output_type": "stream",
       "stream": "stdout",
       "text": [
        "                       \r",
        "[2184/3600] KPDX 2011-8\r"
       ]
      },
      {
       "output_type": "stream",
       "stream": "stdout",
       "text": [
        "                       \r",
        "[2185/3600] KPHL 2011-8\r"
       ]
      },
      {
       "output_type": "stream",
       "stream": "stdout",
       "text": [
        "                       \r",
        "[2186/3600] KPHX 2011-8\r"
       ]
      },
      {
       "output_type": "stream",
       "stream": "stdout",
       "text": [
        "                       \r",
        "[2187/3600] KPIT 2011-8\r"
       ]
      },
      {
       "output_type": "stream",
       "stream": "stdout",
       "text": [
        "                       \r",
        "[2188/3600] KRDU 2011-8\r"
       ]
      },
      {
       "output_type": "stream",
       "stream": "stdout",
       "text": [
        "                       \r",
        "[2189/3600] KSAN 2011-8\r"
       ]
      },
      {
       "output_type": "stream",
       "stream": "stdout",
       "text": [
        "                       \r",
        "[2190/3600] KSAT 2011-8\r"
       ]
      },
      {
       "output_type": "stream",
       "stream": "stdout",
       "text": [
        "                       \r",
        "[2191/3600] KSEA 2011-8\r"
       ]
      },
      {
       "output_type": "stream",
       "stream": "stdout",
       "text": [
        "                       \r",
        "[2192/3600] KSFO 2011-8\r"
       ]
      },
      {
       "output_type": "stream",
       "stream": "stdout",
       "text": [
        "                       \r",
        "[2193/3600] KSJC 2011-8\r"
       ]
      },
      {
       "output_type": "stream",
       "stream": "stdout",
       "text": [
        "                       \r",
        "[2194/3600] KSLC 2011-8\r"
       ]
      },
      {
       "output_type": "stream",
       "stream": "stdout",
       "text": [
        "                       \r",
        "[2195/3600] KSMF 2011-8\r"
       ]
      },
      {
       "output_type": "stream",
       "stream": "stdout",
       "text": [
        "                       \r",
        "[2196/3600] KSNA 2011-8\r"
       ]
      },
      {
       "output_type": "stream",
       "stream": "stdout",
       "text": [
        "                       \r",
        "[2197/3600] KSTL 2011-8\r"
       ]
      },
      {
       "output_type": "stream",
       "stream": "stdout",
       "text": [
        "                       \r",
        "[2198/3600] KTPA 2011-8\r"
       ]
      },
      {
       "output_type": "stream",
       "stream": "stdout",
       "text": [
        "                       \r",
        "[2199/3600] PHNL 2011-8\r"
       ]
      },
      {
       "output_type": "stream",
       "stream": "stdout",
       "text": [
        "                       \r",
        "[2200/3600] TJSJ 2011-8\r"
       ]
      },
      {
       "output_type": "stream",
       "stream": "stdout",
       "text": [
        "                       \r",
        "[2201/3600] KATL 2011-9\r"
       ]
      },
      {
       "output_type": "stream",
       "stream": "stdout",
       "text": [
        "                       \r",
        "[2202/3600] KAUS 2011-9\r"
       ]
      },
      {
       "output_type": "stream",
       "stream": "stdout",
       "text": [
        "                       \r",
        "[2203/3600] KBNA 2011-9\r"
       ]
      },
      {
       "output_type": "stream",
       "stream": "stdout",
       "text": [
        "                       \r",
        "[2204/3600] KBOS 2011-9\r"
       ]
      },
      {
       "output_type": "stream",
       "stream": "stdout",
       "text": [
        "                       \r",
        "[2205/3600] KBWI 2011-9\r"
       ]
      },
      {
       "output_type": "stream",
       "stream": "stdout",
       "text": [
        "                       \r",
        "[2206/3600] KCLE 2011-9\r"
       ]
      },
      {
       "output_type": "stream",
       "stream": "stdout",
       "text": [
        "                       \r",
        "[2207/3600] KCLT 2011-9\r"
       ]
      },
      {
       "output_type": "stream",
       "stream": "stdout",
       "text": [
        "                       \r",
        "[2208/3600] KCVG 2011-9\r"
       ]
      },
      {
       "output_type": "stream",
       "stream": "stdout",
       "text": [
        "                       \r",
        "[2209/3600] KDAL 2011-9\r"
       ]
      },
      {
       "output_type": "stream",
       "stream": "stdout",
       "text": [
        "                       \r",
        "[2210/3600] KDCA 2011-9\r"
       ]
      },
      {
       "output_type": "stream",
       "stream": "stdout",
       "text": [
        "                       \r",
        "[2211/3600] KDEN 2011-9\r"
       ]
      },
      {
       "output_type": "stream",
       "stream": "stdout",
       "text": [
        "                       \r",
        "[2212/3600] KDFW 2011-9\r"
       ]
      },
      {
       "output_type": "stream",
       "stream": "stdout",
       "text": [
        "                       \r",
        "[2213/3600] KDTW 2011-9\r"
       ]
      },
      {
       "output_type": "stream",
       "stream": "stdout",
       "text": [
        "                       \r",
        "[2214/3600] KEWR 2011-9\r"
       ]
      },
      {
       "output_type": "stream",
       "stream": "stdout",
       "text": [
        "                       \r",
        "[2215/3600] KFLL 2011-9\r"
       ]
      },
      {
       "output_type": "stream",
       "stream": "stdout",
       "text": [
        "                       \r",
        "[2216/3600] KHOU 2011-9\r"
       ]
      },
      {
       "output_type": "stream",
       "stream": "stdout",
       "text": [
        "                       \r",
        "[2217/3600] KIAD 2011-9\r"
       ]
      },
      {
       "output_type": "stream",
       "stream": "stdout",
       "text": [
        "                       \r",
        "[2218/3600] KIAH 2011-9\r"
       ]
      },
      {
       "output_type": "stream",
       "stream": "stdout",
       "text": [
        "                       \r",
        "[2219/3600] KIND 2011-9\r"
       ]
      },
      {
       "output_type": "stream",
       "stream": "stdout",
       "text": [
        "                       \r",
        "[2220/3600] KJFK 2011-9\r"
       ]
      },
      {
       "output_type": "stream",
       "stream": "stdout",
       "text": [
        "                       \r",
        "[2221/3600] KLAS 2011-9\r"
       ]
      },
      {
       "output_type": "stream",
       "stream": "stdout",
       "text": [
        "                       \r",
        "[2222/3600] KLAX 2011-9\r"
       ]
      },
      {
       "output_type": "stream",
       "stream": "stdout",
       "text": [
        "                       \r",
        "[2223/3600] KLGA 2011-9\r"
       ]
      },
      {
       "output_type": "stream",
       "stream": "stdout",
       "text": [
        "                       \r",
        "[2224/3600] KMCI 2011-9\r"
       ]
      },
      {
       "output_type": "stream",
       "stream": "stdout",
       "text": [
        "                       \r",
        "[2225/3600] KMCO 2011-9\r"
       ]
      },
      {
       "output_type": "stream",
       "stream": "stdout",
       "text": [
        "                       \r",
        "[2226/3600] KMDW 2011-9\r"
       ]
      },
      {
       "output_type": "stream",
       "stream": "stdout",
       "text": [
        "                       \r",
        "[2227/3600] KMEM 2011-9\r"
       ]
      },
      {
       "output_type": "stream",
       "stream": "stdout",
       "text": [
        "                       \r",
        "[2228/3600] KMIA 2011-9\r"
       ]
      },
      {
       "output_type": "stream",
       "stream": "stdout",
       "text": [
        "                       \r",
        "[2229/3600] KMKE 2011-9\r"
       ]
      },
      {
       "output_type": "stream",
       "stream": "stdout",
       "text": [
        "                       \r",
        "[2230/3600] KMSP 2011-9\r"
       ]
      },
      {
       "output_type": "stream",
       "stream": "stdout",
       "text": [
        "                       \r",
        "[2231/3600] KMSY 2011-9\r"
       ]
      },
      {
       "output_type": "stream",
       "stream": "stdout",
       "text": [
        "                       \r",
        "[2232/3600] KOAK 2011-9\r"
       ]
      },
      {
       "output_type": "stream",
       "stream": "stdout",
       "text": [
        "                       \r",
        "[2233/3600] KORD 2011-9\r"
       ]
      },
      {
       "output_type": "stream",
       "stream": "stdout",
       "text": [
        "                       \r",
        "[2234/3600] KPDX 2011-9\r"
       ]
      },
      {
       "output_type": "stream",
       "stream": "stdout",
       "text": [
        "                       \r",
        "[2235/3600] KPHL 2011-9\r"
       ]
      },
      {
       "output_type": "stream",
       "stream": "stdout",
       "text": [
        "                       \r",
        "[2236/3600] KPHX 2011-9\r"
       ]
      },
      {
       "output_type": "stream",
       "stream": "stdout",
       "text": [
        "                       \r",
        "[2237/3600] KPIT 2011-9\r"
       ]
      },
      {
       "output_type": "stream",
       "stream": "stdout",
       "text": [
        "                       \r",
        "[2238/3600] KRDU 2011-9\r"
       ]
      },
      {
       "output_type": "stream",
       "stream": "stdout",
       "text": [
        "                       \r",
        "[2239/3600] KSAN 2011-9\r"
       ]
      },
      {
       "output_type": "stream",
       "stream": "stdout",
       "text": [
        "                       \r",
        "[2240/3600] KSAT 2011-9\r"
       ]
      },
      {
       "output_type": "stream",
       "stream": "stdout",
       "text": [
        "                       \r",
        "[2241/3600] KSEA 2011-9\r"
       ]
      },
      {
       "output_type": "stream",
       "stream": "stdout",
       "text": [
        "                       \r",
        "[2242/3600] KSFO 2011-9\r"
       ]
      },
      {
       "output_type": "stream",
       "stream": "stdout",
       "text": [
        "                       \r",
        "[2243/3600] KSJC 2011-9\r"
       ]
      },
      {
       "output_type": "stream",
       "stream": "stdout",
       "text": [
        "                       \r",
        "[2244/3600] KSLC 2011-9\r"
       ]
      },
      {
       "output_type": "stream",
       "stream": "stdout",
       "text": [
        "                       \r",
        "[2245/3600] KSMF 2011-9\r"
       ]
      },
      {
       "output_type": "stream",
       "stream": "stdout",
       "text": [
        "                       \r",
        "[2246/3600] KSNA 2011-9\r"
       ]
      },
      {
       "output_type": "stream",
       "stream": "stdout",
       "text": [
        "                       \r",
        "[2247/3600] KSTL 2011-9\r"
       ]
      },
      {
       "output_type": "stream",
       "stream": "stdout",
       "text": [
        "                       \r",
        "[2248/3600] KTPA 2011-9\r"
       ]
      },
      {
       "output_type": "stream",
       "stream": "stdout",
       "text": [
        "                       \r",
        "[2249/3600] PHNL 2011-9\r"
       ]
      },
      {
       "output_type": "stream",
       "stream": "stdout",
       "text": [
        "                       \r",
        "[2250/3600] TJSJ 2011-9\r"
       ]
      },
      {
       "output_type": "stream",
       "stream": "stdout",
       "text": [
        "                       \r",
        "[2251/3600] KATL 2011-10\r"
       ]
      },
      {
       "output_type": "stream",
       "stream": "stdout",
       "text": [
        "                        \r",
        "[2252/3600] KAUS 2011-10\r"
       ]
      },
      {
       "output_type": "stream",
       "stream": "stdout",
       "text": [
        "                        \r",
        "[2253/3600] KBNA 2011-10\r"
       ]
      },
      {
       "output_type": "stream",
       "stream": "stdout",
       "text": [
        "                        \r",
        "[2254/3600] KBOS 2011-10\r"
       ]
      },
      {
       "output_type": "stream",
       "stream": "stdout",
       "text": [
        "                        \r",
        "[2255/3600] KBWI 2011-10\r"
       ]
      },
      {
       "output_type": "stream",
       "stream": "stdout",
       "text": [
        "                        \r",
        "[2256/3600] KCLE 2011-10\r"
       ]
      },
      {
       "output_type": "stream",
       "stream": "stdout",
       "text": [
        "                        \r",
        "[2257/3600] KCLT 2011-10\r"
       ]
      },
      {
       "output_type": "stream",
       "stream": "stdout",
       "text": [
        "                        \r",
        "[2258/3600] KCVG 2011-10\r"
       ]
      },
      {
       "output_type": "stream",
       "stream": "stdout",
       "text": [
        "                        \r",
        "[2259/3600] KDAL 2011-10\r"
       ]
      },
      {
       "output_type": "stream",
       "stream": "stdout",
       "text": [
        "                        \r",
        "[2260/3600] KDCA 2011-10\r"
       ]
      },
      {
       "output_type": "stream",
       "stream": "stdout",
       "text": [
        "                        \r",
        "[2261/3600] KDEN 2011-10\r"
       ]
      },
      {
       "output_type": "stream",
       "stream": "stdout",
       "text": [
        "                        \r",
        "[2262/3600] KDFW 2011-10\r"
       ]
      },
      {
       "output_type": "stream",
       "stream": "stdout",
       "text": [
        "                        \r",
        "[2263/3600] KDTW 2011-10\r"
       ]
      },
      {
       "output_type": "stream",
       "stream": "stdout",
       "text": [
        "                        \r",
        "[2264/3600] KEWR 2011-10\r"
       ]
      },
      {
       "output_type": "stream",
       "stream": "stdout",
       "text": [
        "                        \r",
        "[2265/3600] KFLL 2011-10\r"
       ]
      },
      {
       "output_type": "stream",
       "stream": "stdout",
       "text": [
        "                        \r",
        "[2266/3600] KHOU 2011-10\r"
       ]
      },
      {
       "output_type": "stream",
       "stream": "stdout",
       "text": [
        "                        \r",
        "[2267/3600] KIAD 2011-10\r"
       ]
      },
      {
       "output_type": "stream",
       "stream": "stdout",
       "text": [
        "                        \r",
        "[2268/3600] KIAH 2011-10\r"
       ]
      },
      {
       "output_type": "stream",
       "stream": "stdout",
       "text": [
        "                        \r",
        "[2269/3600] KIND 2011-10\r"
       ]
      },
      {
       "output_type": "stream",
       "stream": "stdout",
       "text": [
        "                        \r",
        "[2270/3600] KJFK 2011-10\r"
       ]
      },
      {
       "output_type": "stream",
       "stream": "stdout",
       "text": [
        "                        \r",
        "[2271/3600] KLAS 2011-10\r"
       ]
      },
      {
       "output_type": "stream",
       "stream": "stdout",
       "text": [
        "                        \r",
        "[2272/3600] KLAX 2011-10\r"
       ]
      },
      {
       "output_type": "stream",
       "stream": "stdout",
       "text": [
        "                        \r",
        "[2273/3600] KLGA 2011-10\r"
       ]
      },
      {
       "output_type": "stream",
       "stream": "stdout",
       "text": [
        "                        \r",
        "[2274/3600] KMCI 2011-10\r"
       ]
      },
      {
       "output_type": "stream",
       "stream": "stdout",
       "text": [
        "                        \r",
        "[2275/3600] KMCO 2011-10\r"
       ]
      },
      {
       "output_type": "stream",
       "stream": "stdout",
       "text": [
        "                        \r",
        "[2276/3600] KMDW 2011-10\r"
       ]
      },
      {
       "output_type": "stream",
       "stream": "stdout",
       "text": [
        "                        \r",
        "[2277/3600] KMEM 2011-10\r"
       ]
      },
      {
       "output_type": "stream",
       "stream": "stdout",
       "text": [
        "                        \r",
        "[2278/3600] KMIA 2011-10\r"
       ]
      },
      {
       "output_type": "stream",
       "stream": "stdout",
       "text": [
        "                        \r",
        "[2279/3600] KMKE 2011-10\r"
       ]
      },
      {
       "output_type": "stream",
       "stream": "stdout",
       "text": [
        "                        \r",
        "[2280/3600] KMSP 2011-10\r"
       ]
      },
      {
       "output_type": "stream",
       "stream": "stdout",
       "text": [
        "                        \r",
        "[2281/3600] KMSY 2011-10\r"
       ]
      },
      {
       "output_type": "stream",
       "stream": "stdout",
       "text": [
        "                        \r",
        "[2282/3600] KOAK 2011-10\r"
       ]
      },
      {
       "output_type": "stream",
       "stream": "stdout",
       "text": [
        "                        \r",
        "[2283/3600] KORD 2011-10\r"
       ]
      },
      {
       "output_type": "stream",
       "stream": "stdout",
       "text": [
        "                        \r",
        "[2284/3600] KPDX 2011-10\r"
       ]
      },
      {
       "output_type": "stream",
       "stream": "stdout",
       "text": [
        "                        \r",
        "[2285/3600] KPHL 2011-10\r"
       ]
      },
      {
       "output_type": "stream",
       "stream": "stdout",
       "text": [
        "                        \r",
        "[2286/3600] KPHX 2011-10\r"
       ]
      },
      {
       "output_type": "stream",
       "stream": "stdout",
       "text": [
        "                        \r",
        "[2287/3600] KPIT 2011-10\r"
       ]
      },
      {
       "output_type": "stream",
       "stream": "stdout",
       "text": [
        "                        \r",
        "[2288/3600] KRDU 2011-10\r"
       ]
      },
      {
       "output_type": "stream",
       "stream": "stdout",
       "text": [
        "                        \r",
        "[2289/3600] KSAN 2011-10\r"
       ]
      },
      {
       "output_type": "stream",
       "stream": "stdout",
       "text": [
        "                        \r",
        "[2290/3600] KSAT 2011-10\r"
       ]
      },
      {
       "output_type": "stream",
       "stream": "stdout",
       "text": [
        "                        \r",
        "[2291/3600] KSEA 2011-10\r"
       ]
      },
      {
       "output_type": "stream",
       "stream": "stdout",
       "text": [
        "                        \r",
        "[2292/3600] KSFO 2011-10\r"
       ]
      },
      {
       "output_type": "stream",
       "stream": "stdout",
       "text": [
        "                        \r",
        "[2293/3600] KSJC 2011-10\r"
       ]
      },
      {
       "output_type": "stream",
       "stream": "stdout",
       "text": [
        "                        \r",
        "[2294/3600] KSLC 2011-10\r"
       ]
      },
      {
       "output_type": "stream",
       "stream": "stdout",
       "text": [
        "                        \r",
        "[2295/3600] KSMF 2011-10\r"
       ]
      },
      {
       "output_type": "stream",
       "stream": "stdout",
       "text": [
        "                        \r",
        "[2296/3600] KSNA 2011-10\r"
       ]
      },
      {
       "output_type": "stream",
       "stream": "stdout",
       "text": [
        "                        \r",
        "[2297/3600] KSTL 2011-10\r"
       ]
      },
      {
       "output_type": "stream",
       "stream": "stdout",
       "text": [
        "                        \r",
        "[2298/3600] KTPA 2011-10\r"
       ]
      },
      {
       "output_type": "stream",
       "stream": "stdout",
       "text": [
        "                        \r",
        "[2299/3600] PHNL 2011-10\r"
       ]
      },
      {
       "output_type": "stream",
       "stream": "stdout",
       "text": [
        "                        \r",
        "[2300/3600] TJSJ 2011-10\r"
       ]
      },
      {
       "output_type": "stream",
       "stream": "stdout",
       "text": [
        "                        \r",
        "[2301/3600] KATL 2011-11\r"
       ]
      },
      {
       "output_type": "stream",
       "stream": "stdout",
       "text": [
        "                        \r",
        "[2302/3600] KAUS 2011-11\r"
       ]
      },
      {
       "output_type": "stream",
       "stream": "stdout",
       "text": [
        "                        \r",
        "[2303/3600] KBNA 2011-11\r"
       ]
      },
      {
       "output_type": "stream",
       "stream": "stdout",
       "text": [
        "                        \r",
        "[2304/3600] KBOS 2011-11\r"
       ]
      },
      {
       "output_type": "stream",
       "stream": "stdout",
       "text": [
        "                        \r",
        "[2305/3600] KBWI 2011-11\r"
       ]
      },
      {
       "output_type": "stream",
       "stream": "stdout",
       "text": [
        "                        \r",
        "[2306/3600] KCLE 2011-11\r"
       ]
      },
      {
       "output_type": "stream",
       "stream": "stdout",
       "text": [
        "                        \r",
        "[2307/3600] KCLT 2011-11\r"
       ]
      },
      {
       "output_type": "stream",
       "stream": "stdout",
       "text": [
        "                        \r",
        "[2308/3600] KCVG 2011-11\r"
       ]
      },
      {
       "output_type": "stream",
       "stream": "stdout",
       "text": [
        "                        \r",
        "[2309/3600] KDAL 2011-11\r"
       ]
      },
      {
       "output_type": "stream",
       "stream": "stdout",
       "text": [
        "                        \r",
        "[2310/3600] KDCA 2011-11\r"
       ]
      },
      {
       "output_type": "stream",
       "stream": "stdout",
       "text": [
        "                        \r",
        "[2311/3600] KDEN 2011-11\r"
       ]
      },
      {
       "output_type": "stream",
       "stream": "stdout",
       "text": [
        "                        \r",
        "[2312/3600] KDFW 2011-11\r"
       ]
      },
      {
       "output_type": "stream",
       "stream": "stdout",
       "text": [
        "                        \r",
        "[2313/3600] KDTW 2011-11\r"
       ]
      },
      {
       "output_type": "stream",
       "stream": "stdout",
       "text": [
        "                        \r",
        "[2314/3600] KEWR 2011-11\r"
       ]
      },
      {
       "output_type": "stream",
       "stream": "stdout",
       "text": [
        "                        \r",
        "[2315/3600] KFLL 2011-11\r"
       ]
      },
      {
       "output_type": "stream",
       "stream": "stdout",
       "text": [
        "                        \r",
        "[2316/3600] KHOU 2011-11\r"
       ]
      },
      {
       "output_type": "stream",
       "stream": "stdout",
       "text": [
        "                        \r",
        "[2317/3600] KIAD 2011-11\r"
       ]
      },
      {
       "output_type": "stream",
       "stream": "stdout",
       "text": [
        "                        \r",
        "[2318/3600] KIAH 2011-11\r"
       ]
      },
      {
       "output_type": "stream",
       "stream": "stdout",
       "text": [
        "                        \r",
        "[2319/3600] KIND 2011-11\r"
       ]
      },
      {
       "output_type": "stream",
       "stream": "stdout",
       "text": [
        "                        \r",
        "[2320/3600] KJFK 2011-11\r"
       ]
      },
      {
       "output_type": "stream",
       "stream": "stdout",
       "text": [
        "                        \r",
        "[2321/3600] KLAS 2011-11\r"
       ]
      },
      {
       "output_type": "stream",
       "stream": "stdout",
       "text": [
        "                        \r",
        "[2322/3600] KLAX 2011-11\r"
       ]
      },
      {
       "output_type": "stream",
       "stream": "stdout",
       "text": [
        "                        \r",
        "[2323/3600] KLGA 2011-11\r"
       ]
      },
      {
       "output_type": "stream",
       "stream": "stdout",
       "text": [
        "                        \r",
        "[2324/3600] KMCI 2011-11\r"
       ]
      },
      {
       "output_type": "stream",
       "stream": "stdout",
       "text": [
        "                        \r",
        "[2325/3600] KMCO 2011-11\r"
       ]
      },
      {
       "output_type": "stream",
       "stream": "stdout",
       "text": [
        "                        \r",
        "[2326/3600] KMDW 2011-11\r"
       ]
      },
      {
       "output_type": "stream",
       "stream": "stdout",
       "text": [
        "                        \r",
        "[2327/3600] KMEM 2011-11\r"
       ]
      },
      {
       "output_type": "stream",
       "stream": "stdout",
       "text": [
        "                        \r",
        "[2328/3600] KMIA 2011-11\r"
       ]
      },
      {
       "output_type": "stream",
       "stream": "stdout",
       "text": [
        "                        \r",
        "[2329/3600] KMKE 2011-11\r"
       ]
      },
      {
       "output_type": "stream",
       "stream": "stdout",
       "text": [
        "                        \r",
        "[2330/3600] KMSP 2011-11\r"
       ]
      },
      {
       "output_type": "stream",
       "stream": "stdout",
       "text": [
        "                        \r",
        "[2331/3600] KMSY 2011-11\r"
       ]
      },
      {
       "output_type": "stream",
       "stream": "stdout",
       "text": [
        "                        \r",
        "[2332/3600] KOAK 2011-11\r"
       ]
      },
      {
       "output_type": "stream",
       "stream": "stdout",
       "text": [
        "                        \r",
        "[2333/3600] KORD 2011-11\r"
       ]
      },
      {
       "output_type": "stream",
       "stream": "stdout",
       "text": [
        "                        \r",
        "[2334/3600] KPDX 2011-11\r"
       ]
      },
      {
       "output_type": "stream",
       "stream": "stdout",
       "text": [
        "                        \r",
        "[2335/3600] KPHL 2011-11\r"
       ]
      },
      {
       "output_type": "stream",
       "stream": "stdout",
       "text": [
        "                        \r",
        "[2336/3600] KPHX 2011-11\r"
       ]
      },
      {
       "output_type": "stream",
       "stream": "stdout",
       "text": [
        "                        \r",
        "[2337/3600] KPIT 2011-11\r"
       ]
      },
      {
       "output_type": "stream",
       "stream": "stdout",
       "text": [
        "                        \r",
        "[2338/3600] KRDU 2011-11\r"
       ]
      },
      {
       "output_type": "stream",
       "stream": "stdout",
       "text": [
        "                        \r",
        "[2339/3600] KSAN 2011-11\r"
       ]
      },
      {
       "output_type": "stream",
       "stream": "stdout",
       "text": [
        "                        \r",
        "[2340/3600] KSAT 2011-11\r"
       ]
      },
      {
       "output_type": "stream",
       "stream": "stdout",
       "text": [
        "                        \r",
        "[2341/3600] KSEA 2011-11\r"
       ]
      },
      {
       "output_type": "stream",
       "stream": "stdout",
       "text": [
        "                        \r",
        "[2342/3600] KSFO 2011-11\r"
       ]
      },
      {
       "output_type": "stream",
       "stream": "stdout",
       "text": [
        "                        \r",
        "[2343/3600] KSJC 2011-11\r"
       ]
      },
      {
       "output_type": "stream",
       "stream": "stdout",
       "text": [
        "                        \r",
        "[2344/3600] KSLC 2011-11\r"
       ]
      },
      {
       "output_type": "stream",
       "stream": "stdout",
       "text": [
        "                        \r",
        "[2345/3600] KSMF 2011-11\r"
       ]
      },
      {
       "output_type": "stream",
       "stream": "stdout",
       "text": [
        "                        \r",
        "[2346/3600] KSNA 2011-11\r"
       ]
      },
      {
       "output_type": "stream",
       "stream": "stdout",
       "text": [
        "                        \r",
        "[2347/3600] KSTL 2011-11\r"
       ]
      },
      {
       "output_type": "stream",
       "stream": "stdout",
       "text": [
        "                        \r",
        "[2348/3600] KTPA 2011-11\r"
       ]
      },
      {
       "output_type": "stream",
       "stream": "stdout",
       "text": [
        "                        \r",
        "[2349/3600] PHNL 2011-11\r"
       ]
      },
      {
       "output_type": "stream",
       "stream": "stdout",
       "text": [
        "                        \r",
        "[2350/3600] TJSJ 2011-11\r"
       ]
      },
      {
       "output_type": "stream",
       "stream": "stdout",
       "text": [
        "                        \r",
        "[2351/3600] KATL 2011-12\r"
       ]
      },
      {
       "output_type": "stream",
       "stream": "stdout",
       "text": [
        "                        \r",
        "[2352/3600] KAUS 2011-12\r"
       ]
      },
      {
       "output_type": "stream",
       "stream": "stdout",
       "text": [
        "                        \r",
        "[2353/3600] KBNA 2011-12\r"
       ]
      },
      {
       "output_type": "stream",
       "stream": "stdout",
       "text": [
        "                        \r",
        "[2354/3600] KBOS 2011-12\r"
       ]
      },
      {
       "output_type": "stream",
       "stream": "stdout",
       "text": [
        "                        \r",
        "[2355/3600] KBWI 2011-12\r"
       ]
      },
      {
       "output_type": "stream",
       "stream": "stdout",
       "text": [
        "                        \r",
        "[2356/3600] KCLE 2011-12\r"
       ]
      },
      {
       "output_type": "stream",
       "stream": "stdout",
       "text": [
        "                        \r",
        "[2357/3600] KCLT 2011-12\r"
       ]
      },
      {
       "output_type": "stream",
       "stream": "stdout",
       "text": [
        "                        \r",
        "[2358/3600] KCVG 2011-12\r"
       ]
      },
      {
       "output_type": "stream",
       "stream": "stdout",
       "text": [
        "                        \r",
        "[2359/3600] KDAL 2011-12\r"
       ]
      },
      {
       "output_type": "stream",
       "stream": "stdout",
       "text": [
        "                        \r",
        "[2360/3600] KDCA 2011-12\r"
       ]
      },
      {
       "output_type": "stream",
       "stream": "stdout",
       "text": [
        "                        \r",
        "[2361/3600] KDEN 2011-12\r"
       ]
      },
      {
       "output_type": "stream",
       "stream": "stdout",
       "text": [
        "                        \r",
        "[2362/3600] KDFW 2011-12\r"
       ]
      },
      {
       "output_type": "stream",
       "stream": "stdout",
       "text": [
        "                        \r",
        "[2363/3600] KDTW 2011-12\r"
       ]
      },
      {
       "output_type": "stream",
       "stream": "stdout",
       "text": [
        "                        \r",
        "[2364/3600] KEWR 2011-12\r"
       ]
      },
      {
       "output_type": "stream",
       "stream": "stdout",
       "text": [
        "                        \r",
        "[2365/3600] KFLL 2011-12\r"
       ]
      },
      {
       "output_type": "stream",
       "stream": "stdout",
       "text": [
        "                        \r",
        "[2366/3600] KHOU 2011-12\r"
       ]
      },
      {
       "output_type": "stream",
       "stream": "stdout",
       "text": [
        "                        \r",
        "[2367/3600] KIAD 2011-12\r"
       ]
      },
      {
       "output_type": "stream",
       "stream": "stdout",
       "text": [
        "                        \r",
        "[2368/3600] KIAH 2011-12\r"
       ]
      },
      {
       "output_type": "stream",
       "stream": "stdout",
       "text": [
        "                        \r",
        "[2369/3600] KIND 2011-12\r"
       ]
      },
      {
       "output_type": "stream",
       "stream": "stdout",
       "text": [
        "                        \r",
        "[2370/3600] KJFK 2011-12\r"
       ]
      },
      {
       "output_type": "stream",
       "stream": "stdout",
       "text": [
        "                        \r",
        "[2371/3600] KLAS 2011-12\r"
       ]
      },
      {
       "output_type": "stream",
       "stream": "stdout",
       "text": [
        "                        \r",
        "[2372/3600] KLAX 2011-12\r"
       ]
      },
      {
       "output_type": "stream",
       "stream": "stdout",
       "text": [
        "                        \r",
        "[2373/3600] KLGA 2011-12\r"
       ]
      },
      {
       "output_type": "stream",
       "stream": "stdout",
       "text": [
        "                        \r",
        "[2374/3600] KMCI 2011-12\r"
       ]
      },
      {
       "output_type": "stream",
       "stream": "stdout",
       "text": [
        "                        \r",
        "[2375/3600] KMCO 2011-12\r"
       ]
      },
      {
       "output_type": "stream",
       "stream": "stdout",
       "text": [
        "                        \r",
        "[2376/3600] KMDW 2011-12\r"
       ]
      },
      {
       "output_type": "stream",
       "stream": "stdout",
       "text": [
        "                        \r",
        "[2377/3600] KMEM 2011-12\r"
       ]
      },
      {
       "output_type": "stream",
       "stream": "stdout",
       "text": [
        "                        \r",
        "[2378/3600] KMIA 2011-12\r"
       ]
      },
      {
       "output_type": "stream",
       "stream": "stdout",
       "text": [
        "                        \r",
        "[2379/3600] KMKE 2011-12\r"
       ]
      },
      {
       "output_type": "stream",
       "stream": "stdout",
       "text": [
        "                        \r",
        "[2380/3600] KMSP 2011-12\r"
       ]
      },
      {
       "output_type": "stream",
       "stream": "stdout",
       "text": [
        "                        \r",
        "[2381/3600] KMSY 2011-12\r"
       ]
      },
      {
       "output_type": "stream",
       "stream": "stdout",
       "text": [
        "                        \r",
        "[2382/3600] KOAK 2011-12\r"
       ]
      },
      {
       "output_type": "stream",
       "stream": "stdout",
       "text": [
        "                        \r",
        "[2383/3600] KORD 2011-12\r"
       ]
      },
      {
       "output_type": "stream",
       "stream": "stdout",
       "text": [
        "                        \r",
        "[2384/3600] KPDX 2011-12\r"
       ]
      },
      {
       "output_type": "stream",
       "stream": "stdout",
       "text": [
        "                        \r",
        "[2385/3600] KPHL 2011-12\r"
       ]
      },
      {
       "output_type": "stream",
       "stream": "stdout",
       "text": [
        "                        \r",
        "[2386/3600] KPHX 2011-12\r"
       ]
      },
      {
       "output_type": "stream",
       "stream": "stdout",
       "text": [
        "                        \r",
        "[2387/3600] KPIT 2011-12\r"
       ]
      },
      {
       "output_type": "stream",
       "stream": "stdout",
       "text": [
        "                        \r",
        "[2388/3600] KRDU 2011-12\r"
       ]
      },
      {
       "output_type": "stream",
       "stream": "stdout",
       "text": [
        "                        \r",
        "[2389/3600] KSAN 2011-12\r"
       ]
      },
      {
       "output_type": "stream",
       "stream": "stdout",
       "text": [
        "                        \r",
        "[2390/3600] KSAT 2011-12\r"
       ]
      },
      {
       "output_type": "stream",
       "stream": "stdout",
       "text": [
        "                        \r",
        "[2391/3600] KSEA 2011-12\r"
       ]
      },
      {
       "output_type": "stream",
       "stream": "stdout",
       "text": [
        "                        \r",
        "[2392/3600] KSFO 2011-12\r"
       ]
      },
      {
       "output_type": "stream",
       "stream": "stdout",
       "text": [
        "                        \r",
        "[2393/3600] KSJC 2011-12\r"
       ]
      },
      {
       "output_type": "stream",
       "stream": "stdout",
       "text": [
        "                        \r",
        "[2394/3600] KSLC 2011-12\r"
       ]
      },
      {
       "output_type": "stream",
       "stream": "stdout",
       "text": [
        "                        \r",
        "[2395/3600] KSMF 2011-12\r"
       ]
      },
      {
       "output_type": "stream",
       "stream": "stdout",
       "text": [
        "                        \r",
        "[2396/3600] KSNA 2011-12\r"
       ]
      },
      {
       "output_type": "stream",
       "stream": "stdout",
       "text": [
        "                        \r",
        "[2397/3600] KSTL 2011-12\r"
       ]
      },
      {
       "output_type": "stream",
       "stream": "stdout",
       "text": [
        "                        \r",
        "[2398/3600] KTPA 2011-12\r"
       ]
      },
      {
       "output_type": "stream",
       "stream": "stdout",
       "text": [
        "                        \r",
        "[2399/3600] PHNL 2011-12\r"
       ]
      },
      {
       "output_type": "stream",
       "stream": "stdout",
       "text": [
        "                        \r",
        "[2400/3600] TJSJ 2011-12\r"
       ]
      },
      {
       "output_type": "stream",
       "stream": "stdout",
       "text": [
        "                        \r",
        "[2401/3600] KATL 2012-1\r"
       ]
      },
      {
       "output_type": "stream",
       "stream": "stdout",
       "text": [
        "                       \r",
        "[2402/3600] KAUS 2012-1\r"
       ]
      },
      {
       "output_type": "stream",
       "stream": "stdout",
       "text": [
        "                       \r",
        "[2403/3600] KBNA 2012-1\r"
       ]
      },
      {
       "output_type": "stream",
       "stream": "stdout",
       "text": [
        "                       \r",
        "[2404/3600] KBOS 2012-1\r"
       ]
      },
      {
       "output_type": "stream",
       "stream": "stdout",
       "text": [
        "                       \r",
        "[2405/3600] KBWI 2012-1\r"
       ]
      },
      {
       "output_type": "stream",
       "stream": "stdout",
       "text": [
        "                       \r",
        "[2406/3600] KCLE 2012-1\r"
       ]
      },
      {
       "output_type": "stream",
       "stream": "stdout",
       "text": [
        "                       \r",
        "[2407/3600] KCLT 2012-1\r"
       ]
      },
      {
       "output_type": "stream",
       "stream": "stdout",
       "text": [
        "                       \r",
        "[2408/3600] KCVG 2012-1\r"
       ]
      },
      {
       "output_type": "stream",
       "stream": "stdout",
       "text": [
        "                       \r",
        "[2409/3600] KDAL 2012-1\r"
       ]
      },
      {
       "output_type": "stream",
       "stream": "stdout",
       "text": [
        "                       \r",
        "[2410/3600] KDCA 2012-1\r"
       ]
      },
      {
       "output_type": "stream",
       "stream": "stdout",
       "text": [
        "                       \r",
        "[2411/3600] KDEN 2012-1\r"
       ]
      },
      {
       "output_type": "stream",
       "stream": "stdout",
       "text": [
        "                       \r",
        "[2412/3600] KDFW 2012-1\r"
       ]
      },
      {
       "output_type": "stream",
       "stream": "stdout",
       "text": [
        "                       \r",
        "[2413/3600] KDTW 2012-1\r"
       ]
      },
      {
       "output_type": "stream",
       "stream": "stdout",
       "text": [
        "                       \r",
        "[2414/3600] KEWR 2012-1\r"
       ]
      },
      {
       "output_type": "stream",
       "stream": "stdout",
       "text": [
        "                       \r",
        "[2415/3600] KFLL 2012-1\r"
       ]
      },
      {
       "output_type": "stream",
       "stream": "stdout",
       "text": [
        "                       \r",
        "[2416/3600] KHOU 2012-1\r"
       ]
      },
      {
       "output_type": "stream",
       "stream": "stdout",
       "text": [
        "                       \r",
        "[2417/3600] KIAD 2012-1\r"
       ]
      },
      {
       "output_type": "stream",
       "stream": "stdout",
       "text": [
        "                       \r",
        "[2418/3600] KIAH 2012-1\r"
       ]
      },
      {
       "output_type": "stream",
       "stream": "stdout",
       "text": [
        "                       \r",
        "[2419/3600] KIND 2012-1\r"
       ]
      },
      {
       "output_type": "stream",
       "stream": "stdout",
       "text": [
        "                       \r",
        "[2420/3600] KJFK 2012-1\r"
       ]
      },
      {
       "output_type": "stream",
       "stream": "stdout",
       "text": [
        "                       \r",
        "[2421/3600] KLAS 2012-1\r"
       ]
      },
      {
       "output_type": "stream",
       "stream": "stdout",
       "text": [
        "                       \r",
        "[2422/3600] KLAX 2012-1\r"
       ]
      },
      {
       "output_type": "stream",
       "stream": "stdout",
       "text": [
        "                       \r",
        "[2423/3600] KLGA 2012-1\r"
       ]
      },
      {
       "output_type": "stream",
       "stream": "stdout",
       "text": [
        "                       \r",
        "[2424/3600] KMCI 2012-1\r"
       ]
      },
      {
       "output_type": "stream",
       "stream": "stdout",
       "text": [
        "                       \r",
        "[2425/3600] KMCO 2012-1\r"
       ]
      },
      {
       "output_type": "stream",
       "stream": "stdout",
       "text": [
        "                       \r",
        "[2426/3600] KMDW 2012-1\r"
       ]
      },
      {
       "output_type": "stream",
       "stream": "stdout",
       "text": [
        "                       \r",
        "[2427/3600] KMEM 2012-1\r"
       ]
      },
      {
       "output_type": "stream",
       "stream": "stdout",
       "text": [
        "                       \r",
        "[2428/3600] KMIA 2012-1\r"
       ]
      },
      {
       "output_type": "stream",
       "stream": "stdout",
       "text": [
        "                       \r",
        "[2429/3600] KMKE 2012-1\r"
       ]
      },
      {
       "output_type": "stream",
       "stream": "stdout",
       "text": [
        "                       \r",
        "[2430/3600] KMSP 2012-1\r"
       ]
      },
      {
       "output_type": "stream",
       "stream": "stdout",
       "text": [
        "                       \r",
        "[2431/3600] KMSY 2012-1\r"
       ]
      },
      {
       "output_type": "stream",
       "stream": "stdout",
       "text": [
        "                       \r",
        "[2432/3600] KOAK 2012-1\r"
       ]
      },
      {
       "output_type": "stream",
       "stream": "stdout",
       "text": [
        "                       \r",
        "[2433/3600] KORD 2012-1\r"
       ]
      },
      {
       "output_type": "stream",
       "stream": "stdout",
       "text": [
        "                       \r",
        "[2434/3600] KPDX 2012-1\r"
       ]
      },
      {
       "output_type": "stream",
       "stream": "stdout",
       "text": [
        "                       \r",
        "[2435/3600] KPHL 2012-1\r"
       ]
      },
      {
       "output_type": "stream",
       "stream": "stdout",
       "text": [
        "                       \r",
        "[2436/3600] KPHX 2012-1\r"
       ]
      },
      {
       "output_type": "stream",
       "stream": "stdout",
       "text": [
        "                       \r",
        "[2437/3600] KPIT 2012-1\r"
       ]
      },
      {
       "output_type": "stream",
       "stream": "stdout",
       "text": [
        "                       \r",
        "[2438/3600] KRDU 2012-1\r"
       ]
      },
      {
       "output_type": "stream",
       "stream": "stdout",
       "text": [
        "                       \r",
        "[2439/3600] KSAN 2012-1\r"
       ]
      },
      {
       "output_type": "stream",
       "stream": "stdout",
       "text": [
        "                       \r",
        "[2440/3600] KSAT 2012-1\r"
       ]
      },
      {
       "output_type": "stream",
       "stream": "stdout",
       "text": [
        "                       \r",
        "[2441/3600] KSEA 2012-1\r"
       ]
      },
      {
       "output_type": "stream",
       "stream": "stdout",
       "text": [
        "                       \r",
        "[2442/3600] KSFO 2012-1\r"
       ]
      },
      {
       "output_type": "stream",
       "stream": "stdout",
       "text": [
        "                       \r",
        "[2443/3600] KSJC 2012-1\r"
       ]
      },
      {
       "output_type": "stream",
       "stream": "stdout",
       "text": [
        "                       \r",
        "[2444/3600] KSLC 2012-1\r"
       ]
      },
      {
       "output_type": "stream",
       "stream": "stdout",
       "text": [
        "                       \r",
        "[2445/3600] KSMF 2012-1\r"
       ]
      },
      {
       "output_type": "stream",
       "stream": "stdout",
       "text": [
        "                       \r",
        "[2446/3600] KSNA 2012-1\r"
       ]
      },
      {
       "output_type": "stream",
       "stream": "stdout",
       "text": [
        "                       \r",
        "[2447/3600] KSTL 2012-1\r"
       ]
      },
      {
       "output_type": "stream",
       "stream": "stdout",
       "text": [
        "                       \r",
        "[2448/3600] KTPA 2012-1\r"
       ]
      },
      {
       "output_type": "stream",
       "stream": "stdout",
       "text": [
        "                       \r",
        "[2449/3600] PHNL 2012-1\r"
       ]
      },
      {
       "output_type": "stream",
       "stream": "stdout",
       "text": [
        "                       \r",
        "[2450/3600] TJSJ 2012-1\r"
       ]
      },
      {
       "output_type": "stream",
       "stream": "stdout",
       "text": [
        "                       \r",
        "[2451/3600] KATL 2012-2\r"
       ]
      },
      {
       "output_type": "stream",
       "stream": "stdout",
       "text": [
        "                       \r",
        "[2452/3600] KAUS 2012-2\r"
       ]
      },
      {
       "output_type": "stream",
       "stream": "stdout",
       "text": [
        "                       \r",
        "[2453/3600] KBNA 2012-2\r"
       ]
      },
      {
       "output_type": "stream",
       "stream": "stdout",
       "text": [
        "                       \r",
        "[2454/3600] KBOS 2012-2\r"
       ]
      },
      {
       "output_type": "stream",
       "stream": "stdout",
       "text": [
        "                       \r",
        "[2455/3600] KBWI 2012-2\r"
       ]
      },
      {
       "output_type": "stream",
       "stream": "stdout",
       "text": [
        "                       \r",
        "[2456/3600] KCLE 2012-2\r"
       ]
      },
      {
       "output_type": "stream",
       "stream": "stdout",
       "text": [
        "                       \r",
        "[2457/3600] KCLT 2012-2\r"
       ]
      },
      {
       "output_type": "stream",
       "stream": "stdout",
       "text": [
        "                       \r",
        "[2458/3600] KCVG 2012-2\r"
       ]
      },
      {
       "output_type": "stream",
       "stream": "stdout",
       "text": [
        "                       \r",
        "[2459/3600] KDAL 2012-2\r"
       ]
      },
      {
       "output_type": "stream",
       "stream": "stdout",
       "text": [
        "                       \r",
        "[2460/3600] KDCA 2012-2\r"
       ]
      },
      {
       "output_type": "stream",
       "stream": "stdout",
       "text": [
        "                       \r",
        "[2461/3600] KDEN 2012-2\r"
       ]
      },
      {
       "output_type": "stream",
       "stream": "stdout",
       "text": [
        "                       \r",
        "[2462/3600] KDFW 2012-2\r"
       ]
      },
      {
       "output_type": "stream",
       "stream": "stdout",
       "text": [
        "                       \r",
        "[2463/3600] KDTW 2012-2\r"
       ]
      },
      {
       "output_type": "stream",
       "stream": "stdout",
       "text": [
        "                       \r",
        "[2464/3600] KEWR 2012-2\r"
       ]
      },
      {
       "output_type": "stream",
       "stream": "stdout",
       "text": [
        "                       \r",
        "[2465/3600] KFLL 2012-2\r"
       ]
      },
      {
       "output_type": "stream",
       "stream": "stdout",
       "text": [
        "                       \r",
        "[2466/3600] KHOU 2012-2\r"
       ]
      },
      {
       "output_type": "stream",
       "stream": "stdout",
       "text": [
        "                       \r",
        "[2467/3600] KIAD 2012-2\r"
       ]
      },
      {
       "output_type": "stream",
       "stream": "stdout",
       "text": [
        "                       \r",
        "[2468/3600] KIAH 2012-2\r"
       ]
      },
      {
       "output_type": "stream",
       "stream": "stdout",
       "text": [
        "                       \r",
        "[2469/3600] KIND 2012-2\r"
       ]
      },
      {
       "output_type": "stream",
       "stream": "stdout",
       "text": [
        "                       \r",
        "[2470/3600] KJFK 2012-2\r"
       ]
      },
      {
       "output_type": "stream",
       "stream": "stdout",
       "text": [
        "                       \r",
        "[2471/3600] KLAS 2012-2\r"
       ]
      },
      {
       "output_type": "stream",
       "stream": "stdout",
       "text": [
        "                       \r",
        "[2472/3600] KLAX 2012-2\r"
       ]
      },
      {
       "output_type": "stream",
       "stream": "stdout",
       "text": [
        "                       \r",
        "[2473/3600] KLGA 2012-2\r"
       ]
      },
      {
       "output_type": "stream",
       "stream": "stdout",
       "text": [
        "                       \r",
        "[2474/3600] KMCI 2012-2\r"
       ]
      },
      {
       "output_type": "stream",
       "stream": "stdout",
       "text": [
        "                       \r",
        "[2475/3600] KMCO 2012-2\r"
       ]
      },
      {
       "output_type": "stream",
       "stream": "stdout",
       "text": [
        "                       \r",
        "[2476/3600] KMDW 2012-2\r"
       ]
      },
      {
       "output_type": "stream",
       "stream": "stdout",
       "text": [
        "                       \r",
        "[2477/3600] KMEM 2012-2\r"
       ]
      },
      {
       "output_type": "stream",
       "stream": "stdout",
       "text": [
        "                       \r",
        "[2478/3600] KMIA 2012-2\r"
       ]
      },
      {
       "output_type": "stream",
       "stream": "stdout",
       "text": [
        "                       \r",
        "[2479/3600] KMKE 2012-2\r"
       ]
      },
      {
       "output_type": "stream",
       "stream": "stdout",
       "text": [
        "                       \r",
        "[2480/3600] KMSP 2012-2\r"
       ]
      },
      {
       "output_type": "stream",
       "stream": "stdout",
       "text": [
        "                       \r",
        "[2481/3600] KMSY 2012-2\r"
       ]
      },
      {
       "output_type": "stream",
       "stream": "stdout",
       "text": [
        "                       \r",
        "[2482/3600] KOAK 2012-2\r"
       ]
      },
      {
       "output_type": "stream",
       "stream": "stdout",
       "text": [
        "                       \r",
        "[2483/3600] KORD 2012-2\r"
       ]
      },
      {
       "output_type": "stream",
       "stream": "stdout",
       "text": [
        "                       \r",
        "[2484/3600] KPDX 2012-2\r"
       ]
      },
      {
       "output_type": "stream",
       "stream": "stdout",
       "text": [
        "                       \r",
        "[2485/3600] KPHL 2012-2\r"
       ]
      },
      {
       "output_type": "stream",
       "stream": "stdout",
       "text": [
        "                       \r",
        "[2486/3600] KPHX 2012-2\r"
       ]
      },
      {
       "output_type": "stream",
       "stream": "stdout",
       "text": [
        "                       \r",
        "[2487/3600] KPIT 2012-2\r"
       ]
      },
      {
       "output_type": "stream",
       "stream": "stdout",
       "text": [
        "                       \r",
        "[2488/3600] KRDU 2012-2\r"
       ]
      },
      {
       "output_type": "stream",
       "stream": "stdout",
       "text": [
        "                       \r",
        "[2489/3600] KSAN 2012-2\r"
       ]
      },
      {
       "output_type": "stream",
       "stream": "stdout",
       "text": [
        "                       \r",
        "[2490/3600] KSAT 2012-2\r"
       ]
      },
      {
       "output_type": "stream",
       "stream": "stdout",
       "text": [
        "                       \r",
        "[2491/3600] KSEA 2012-2\r"
       ]
      },
      {
       "output_type": "stream",
       "stream": "stdout",
       "text": [
        "                       \r",
        "[2492/3600] KSFO 2012-2\r"
       ]
      },
      {
       "output_type": "stream",
       "stream": "stdout",
       "text": [
        "                       \r",
        "[2493/3600] KSJC 2012-2\r"
       ]
      },
      {
       "output_type": "stream",
       "stream": "stdout",
       "text": [
        "                       \r",
        "[2494/3600] KSLC 2012-2\r"
       ]
      },
      {
       "output_type": "stream",
       "stream": "stdout",
       "text": [
        "                       \r",
        "[2495/3600] KSMF 2012-2\r"
       ]
      },
      {
       "output_type": "stream",
       "stream": "stdout",
       "text": [
        "                       \r",
        "[2496/3600] KSNA 2012-2\r"
       ]
      },
      {
       "output_type": "stream",
       "stream": "stdout",
       "text": [
        "                       \r",
        "[2497/3600] KSTL 2012-2\r"
       ]
      },
      {
       "output_type": "stream",
       "stream": "stdout",
       "text": [
        "                       \r",
        "[2498/3600] KTPA 2012-2\r"
       ]
      },
      {
       "output_type": "stream",
       "stream": "stdout",
       "text": [
        "                       \r",
        "[2499/3600] PHNL 2012-2\r"
       ]
      },
      {
       "output_type": "stream",
       "stream": "stdout",
       "text": [
        "                       \r",
        "[2500/3600] TJSJ 2012-2\r"
       ]
      },
      {
       "output_type": "stream",
       "stream": "stdout",
       "text": [
        "                       \r",
        "[2501/3600] KATL 2012-3\r"
       ]
      },
      {
       "output_type": "stream",
       "stream": "stdout",
       "text": [
        "                       \r",
        "[2502/3600] KAUS 2012-3\r"
       ]
      },
      {
       "output_type": "stream",
       "stream": "stdout",
       "text": [
        "                       \r",
        "[2503/3600] KBNA 2012-3\r"
       ]
      },
      {
       "output_type": "stream",
       "stream": "stdout",
       "text": [
        "                       \r",
        "[2504/3600] KBOS 2012-3\r"
       ]
      },
      {
       "output_type": "stream",
       "stream": "stdout",
       "text": [
        "                       \r",
        "[2505/3600] KBWI 2012-3\r"
       ]
      },
      {
       "output_type": "stream",
       "stream": "stdout",
       "text": [
        "                       \r",
        "[2506/3600] KCLE 2012-3\r"
       ]
      },
      {
       "output_type": "stream",
       "stream": "stdout",
       "text": [
        "                       \r",
        "[2507/3600] KCLT 2012-3\r"
       ]
      },
      {
       "output_type": "stream",
       "stream": "stdout",
       "text": [
        "                       \r",
        "[2508/3600] KCVG 2012-3\r"
       ]
      },
      {
       "output_type": "stream",
       "stream": "stdout",
       "text": [
        "                       \r",
        "[2509/3600] KDAL 2012-3\r"
       ]
      },
      {
       "output_type": "stream",
       "stream": "stdout",
       "text": [
        "                       \r",
        "[2510/3600] KDCA 2012-3\r"
       ]
      },
      {
       "output_type": "stream",
       "stream": "stdout",
       "text": [
        "                       \r",
        "[2511/3600] KDEN 2012-3\r"
       ]
      },
      {
       "output_type": "stream",
       "stream": "stdout",
       "text": [
        "                       \r",
        "[2512/3600] KDFW 2012-3\r"
       ]
      },
      {
       "output_type": "stream",
       "stream": "stdout",
       "text": [
        "                       \r",
        "[2513/3600] KDTW 2012-3\r"
       ]
      },
      {
       "output_type": "stream",
       "stream": "stdout",
       "text": [
        "                       \r",
        "[2514/3600] KEWR 2012-3\r"
       ]
      },
      {
       "output_type": "stream",
       "stream": "stdout",
       "text": [
        "                       \r",
        "[2515/3600] KFLL 2012-3\r"
       ]
      },
      {
       "output_type": "stream",
       "stream": "stdout",
       "text": [
        "                       \r",
        "[2516/3600] KHOU 2012-3\r"
       ]
      },
      {
       "output_type": "stream",
       "stream": "stdout",
       "text": [
        "                       \r",
        "[2517/3600] KIAD 2012-3\r"
       ]
      },
      {
       "output_type": "stream",
       "stream": "stdout",
       "text": [
        "                       \r",
        "[2518/3600] KIAH 2012-3\r"
       ]
      },
      {
       "output_type": "stream",
       "stream": "stdout",
       "text": [
        "                       \r",
        "[2519/3600] KIND 2012-3\r"
       ]
      },
      {
       "output_type": "stream",
       "stream": "stdout",
       "text": [
        "                       \r",
        "[2520/3600] KJFK 2012-3\r"
       ]
      },
      {
       "output_type": "stream",
       "stream": "stdout",
       "text": [
        "                       \r",
        "[2521/3600] KLAS 2012-3\r"
       ]
      },
      {
       "output_type": "stream",
       "stream": "stdout",
       "text": [
        "                       \r",
        "[2522/3600] KLAX 2012-3\r"
       ]
      },
      {
       "output_type": "stream",
       "stream": "stdout",
       "text": [
        "                       \r",
        "[2523/3600] KLGA 2012-3\r"
       ]
      },
      {
       "output_type": "stream",
       "stream": "stdout",
       "text": [
        "                       \r",
        "[2524/3600] KMCI 2012-3\r"
       ]
      },
      {
       "output_type": "stream",
       "stream": "stdout",
       "text": [
        "                       \r",
        "[2525/3600] KMCO 2012-3\r"
       ]
      },
      {
       "output_type": "stream",
       "stream": "stdout",
       "text": [
        "                       \r",
        "[2526/3600] KMDW 2012-3\r"
       ]
      },
      {
       "output_type": "stream",
       "stream": "stdout",
       "text": [
        "                       \r",
        "[2527/3600] KMEM 2012-3\r"
       ]
      },
      {
       "output_type": "stream",
       "stream": "stdout",
       "text": [
        "                       \r",
        "[2528/3600] KMIA 2012-3\r"
       ]
      },
      {
       "output_type": "stream",
       "stream": "stdout",
       "text": [
        "                       \r",
        "[2529/3600] KMKE 2012-3\r"
       ]
      },
      {
       "output_type": "stream",
       "stream": "stdout",
       "text": [
        "                       \r",
        "[2530/3600] KMSP 2012-3\r"
       ]
      },
      {
       "output_type": "stream",
       "stream": "stdout",
       "text": [
        "                       \r",
        "[2531/3600] KMSY 2012-3\r"
       ]
      },
      {
       "output_type": "stream",
       "stream": "stdout",
       "text": [
        "                       \r",
        "[2532/3600] KOAK 2012-3\r"
       ]
      },
      {
       "output_type": "stream",
       "stream": "stdout",
       "text": [
        "                       \r",
        "[2533/3600] KORD 2012-3\r"
       ]
      },
      {
       "output_type": "stream",
       "stream": "stdout",
       "text": [
        "                       \r",
        "[2534/3600] KPDX 2012-3\r"
       ]
      },
      {
       "output_type": "stream",
       "stream": "stdout",
       "text": [
        "                       \r",
        "[2535/3600] KPHL 2012-3\r"
       ]
      },
      {
       "output_type": "stream",
       "stream": "stdout",
       "text": [
        "                       \r",
        "[2536/3600] KPHX 2012-3\r"
       ]
      },
      {
       "output_type": "stream",
       "stream": "stdout",
       "text": [
        "                       \r",
        "[2537/3600] KPIT 2012-3\r"
       ]
      },
      {
       "output_type": "stream",
       "stream": "stdout",
       "text": [
        "                       \r",
        "[2538/3600] KRDU 2012-3\r"
       ]
      },
      {
       "output_type": "stream",
       "stream": "stdout",
       "text": [
        "                       \r",
        "[2539/3600] KSAN 2012-3\r"
       ]
      },
      {
       "output_type": "stream",
       "stream": "stdout",
       "text": [
        "                       \r",
        "[2540/3600] KSAT 2012-3\r"
       ]
      },
      {
       "output_type": "stream",
       "stream": "stdout",
       "text": [
        "                       \r",
        "[2541/3600] KSEA 2012-3\r"
       ]
      },
      {
       "output_type": "stream",
       "stream": "stdout",
       "text": [
        "                       \r",
        "[2542/3600] KSFO 2012-3\r"
       ]
      },
      {
       "output_type": "stream",
       "stream": "stdout",
       "text": [
        "                       \r",
        "[2543/3600] KSJC 2012-3\r"
       ]
      },
      {
       "output_type": "stream",
       "stream": "stdout",
       "text": [
        "                       \r",
        "[2544/3600] KSLC 2012-3\r"
       ]
      },
      {
       "output_type": "stream",
       "stream": "stdout",
       "text": [
        "                       \r",
        "[2545/3600] KSMF 2012-3\r"
       ]
      },
      {
       "output_type": "stream",
       "stream": "stdout",
       "text": [
        "                       \r",
        "[2546/3600] KSNA 2012-3\r"
       ]
      },
      {
       "output_type": "stream",
       "stream": "stdout",
       "text": [
        "                       \r",
        "[2547/3600] KSTL 2012-3\r"
       ]
      },
      {
       "output_type": "stream",
       "stream": "stdout",
       "text": [
        "                       \r",
        "[2548/3600] KTPA 2012-3\r"
       ]
      },
      {
       "output_type": "stream",
       "stream": "stdout",
       "text": [
        "                       \r",
        "[2549/3600] PHNL 2012-3\r"
       ]
      },
      {
       "output_type": "stream",
       "stream": "stdout",
       "text": [
        "                       \r",
        "[2550/3600] TJSJ 2012-3\r"
       ]
      },
      {
       "output_type": "stream",
       "stream": "stdout",
       "text": [
        "                       \r",
        "[2551/3600] KATL 2012-4\r"
       ]
      },
      {
       "output_type": "stream",
       "stream": "stdout",
       "text": [
        "                       \r",
        "[2552/3600] KAUS 2012-4\r"
       ]
      },
      {
       "output_type": "stream",
       "stream": "stdout",
       "text": [
        "                       \r",
        "[2553/3600] KBNA 2012-4\r"
       ]
      },
      {
       "output_type": "stream",
       "stream": "stdout",
       "text": [
        "                       \r",
        "[2554/3600] KBOS 2012-4\r"
       ]
      },
      {
       "output_type": "stream",
       "stream": "stdout",
       "text": [
        "                       \r",
        "[2555/3600] KBWI 2012-4\r"
       ]
      },
      {
       "output_type": "stream",
       "stream": "stdout",
       "text": [
        "                       \r",
        "[2556/3600] KCLE 2012-4\r"
       ]
      },
      {
       "output_type": "stream",
       "stream": "stdout",
       "text": [
        "                       \r",
        "[2557/3600] KCLT 2012-4\r"
       ]
      },
      {
       "output_type": "stream",
       "stream": "stdout",
       "text": [
        "                       \r",
        "[2558/3600] KCVG 2012-4\r"
       ]
      },
      {
       "output_type": "stream",
       "stream": "stdout",
       "text": [
        "                       \r",
        "[2559/3600] KDAL 2012-4\r"
       ]
      },
      {
       "output_type": "stream",
       "stream": "stdout",
       "text": [
        "                       \r",
        "[2560/3600] KDCA 2012-4\r"
       ]
      },
      {
       "output_type": "stream",
       "stream": "stdout",
       "text": [
        "                       \r",
        "[2561/3600] KDEN 2012-4\r"
       ]
      },
      {
       "output_type": "stream",
       "stream": "stdout",
       "text": [
        "                       \r",
        "[2562/3600] KDFW 2012-4\r"
       ]
      },
      {
       "output_type": "stream",
       "stream": "stdout",
       "text": [
        "                       \r",
        "[2563/3600] KDTW 2012-4\r"
       ]
      },
      {
       "output_type": "stream",
       "stream": "stdout",
       "text": [
        "                       \r",
        "[2564/3600] KEWR 2012-4\r"
       ]
      },
      {
       "output_type": "stream",
       "stream": "stdout",
       "text": [
        "                       \r",
        "[2565/3600] KFLL 2012-4\r"
       ]
      },
      {
       "output_type": "stream",
       "stream": "stdout",
       "text": [
        "                       \r",
        "[2566/3600] KHOU 2012-4\r"
       ]
      },
      {
       "output_type": "stream",
       "stream": "stdout",
       "text": [
        "                       \r",
        "[2567/3600] KIAD 2012-4\r"
       ]
      },
      {
       "output_type": "stream",
       "stream": "stdout",
       "text": [
        "                       \r",
        "[2568/3600] KIAH 2012-4\r"
       ]
      },
      {
       "output_type": "stream",
       "stream": "stdout",
       "text": [
        "                       \r",
        "[2569/3600] KIND 2012-4\r"
       ]
      },
      {
       "output_type": "stream",
       "stream": "stdout",
       "text": [
        "                       \r",
        "[2570/3600] KJFK 2012-4\r"
       ]
      },
      {
       "output_type": "stream",
       "stream": "stdout",
       "text": [
        "                       \r",
        "[2571/3600] KLAS 2012-4\r"
       ]
      },
      {
       "output_type": "stream",
       "stream": "stdout",
       "text": [
        "                       \r",
        "[2572/3600] KLAX 2012-4\r"
       ]
      },
      {
       "output_type": "stream",
       "stream": "stdout",
       "text": [
        "                       \r",
        "[2573/3600] KLGA 2012-4\r"
       ]
      },
      {
       "output_type": "stream",
       "stream": "stdout",
       "text": [
        "                       \r",
        "[2574/3600] KMCI 2012-4\r"
       ]
      },
      {
       "output_type": "stream",
       "stream": "stdout",
       "text": [
        "                       \r",
        "[2575/3600] KMCO 2012-4\r"
       ]
      },
      {
       "output_type": "stream",
       "stream": "stdout",
       "text": [
        "                       \r",
        "[2576/3600] KMDW 2012-4\r"
       ]
      },
      {
       "output_type": "stream",
       "stream": "stdout",
       "text": [
        "                       \r",
        "[2577/3600] KMEM 2012-4\r"
       ]
      },
      {
       "output_type": "stream",
       "stream": "stdout",
       "text": [
        "                       \r",
        "[2578/3600] KMIA 2012-4\r"
       ]
      },
      {
       "output_type": "stream",
       "stream": "stdout",
       "text": [
        "                       \r",
        "[2579/3600] KMKE 2012-4\r"
       ]
      },
      {
       "output_type": "stream",
       "stream": "stdout",
       "text": [
        "                       \r",
        "[2580/3600] KMSP 2012-4\r"
       ]
      },
      {
       "output_type": "stream",
       "stream": "stdout",
       "text": [
        "                       \r",
        "[2581/3600] KMSY 2012-4\r"
       ]
      },
      {
       "output_type": "stream",
       "stream": "stdout",
       "text": [
        "                       \r",
        "[2582/3600] KOAK 2012-4\r"
       ]
      },
      {
       "output_type": "stream",
       "stream": "stdout",
       "text": [
        "                       \r",
        "[2583/3600] KORD 2012-4\r"
       ]
      },
      {
       "output_type": "stream",
       "stream": "stdout",
       "text": [
        "                       \r",
        "[2584/3600] KPDX 2012-4\r"
       ]
      },
      {
       "output_type": "stream",
       "stream": "stdout",
       "text": [
        "                       \r",
        "[2585/3600] KPHL 2012-4\r"
       ]
      },
      {
       "output_type": "stream",
       "stream": "stdout",
       "text": [
        "                       \r",
        "[2586/3600] KPHX 2012-4\r"
       ]
      },
      {
       "output_type": "stream",
       "stream": "stdout",
       "text": [
        "                       \r",
        "[2587/3600] KPIT 2012-4\r"
       ]
      },
      {
       "output_type": "stream",
       "stream": "stdout",
       "text": [
        "                       \r",
        "[2588/3600] KRDU 2012-4\r"
       ]
      },
      {
       "output_type": "stream",
       "stream": "stdout",
       "text": [
        "                       \r",
        "[2589/3600] KSAN 2012-4\r"
       ]
      },
      {
       "output_type": "stream",
       "stream": "stdout",
       "text": [
        "                       \r",
        "[2590/3600] KSAT 2012-4\r"
       ]
      },
      {
       "output_type": "stream",
       "stream": "stdout",
       "text": [
        "                       \r",
        "[2591/3600] KSEA 2012-4\r"
       ]
      },
      {
       "output_type": "stream",
       "stream": "stdout",
       "text": [
        "                       \r",
        "[2592/3600] KSFO 2012-4\r"
       ]
      },
      {
       "output_type": "stream",
       "stream": "stdout",
       "text": [
        "                       \r",
        "[2593/3600] KSJC 2012-4\r"
       ]
      },
      {
       "output_type": "stream",
       "stream": "stdout",
       "text": [
        "                       \r",
        "[2594/3600] KSLC 2012-4\r"
       ]
      },
      {
       "output_type": "stream",
       "stream": "stdout",
       "text": [
        "                       \r",
        "[2595/3600] KSMF 2012-4\r"
       ]
      },
      {
       "output_type": "stream",
       "stream": "stdout",
       "text": [
        "                       \r",
        "[2596/3600] KSNA 2012-4\r"
       ]
      },
      {
       "output_type": "stream",
       "stream": "stdout",
       "text": [
        "                       \r",
        "[2597/3600] KSTL 2012-4\r"
       ]
      },
      {
       "output_type": "stream",
       "stream": "stdout",
       "text": [
        "                       \r",
        "[2598/3600] KTPA 2012-4\r"
       ]
      },
      {
       "output_type": "stream",
       "stream": "stdout",
       "text": [
        "                       \r",
        "[2599/3600] PHNL 2012-4\r"
       ]
      },
      {
       "output_type": "stream",
       "stream": "stdout",
       "text": [
        "                       \r",
        "[2600/3600] TJSJ 2012-4\r"
       ]
      },
      {
       "output_type": "stream",
       "stream": "stdout",
       "text": [
        "                       \r",
        "[2601/3600] KATL 2012-5\r"
       ]
      },
      {
       "output_type": "stream",
       "stream": "stdout",
       "text": [
        "                       \r",
        "[2602/3600] KAUS 2012-5\r"
       ]
      },
      {
       "output_type": "stream",
       "stream": "stdout",
       "text": [
        "                       \r",
        "[2603/3600] KBNA 2012-5\r"
       ]
      },
      {
       "output_type": "stream",
       "stream": "stdout",
       "text": [
        "                       \r",
        "[2604/3600] KBOS 2012-5\r"
       ]
      },
      {
       "output_type": "stream",
       "stream": "stdout",
       "text": [
        "                       \r",
        "[2605/3600] KBWI 2012-5\r"
       ]
      },
      {
       "output_type": "stream",
       "stream": "stdout",
       "text": [
        "                       \r",
        "[2606/3600] KCLE 2012-5\r"
       ]
      },
      {
       "output_type": "stream",
       "stream": "stdout",
       "text": [
        "                       \r",
        "[2607/3600] KCLT 2012-5\r"
       ]
      },
      {
       "output_type": "stream",
       "stream": "stdout",
       "text": [
        "                       \r",
        "[2608/3600] KCVG 2012-5\r"
       ]
      },
      {
       "output_type": "stream",
       "stream": "stdout",
       "text": [
        "                       \r",
        "[2609/3600] KDAL 2012-5\r"
       ]
      },
      {
       "output_type": "stream",
       "stream": "stdout",
       "text": [
        "                       \r",
        "[2610/3600] KDCA 2012-5\r"
       ]
      },
      {
       "output_type": "stream",
       "stream": "stdout",
       "text": [
        "                       \r",
        "[2611/3600] KDEN 2012-5\r"
       ]
      },
      {
       "output_type": "stream",
       "stream": "stdout",
       "text": [
        "                       \r",
        "[2612/3600] KDFW 2012-5\r"
       ]
      },
      {
       "output_type": "stream",
       "stream": "stdout",
       "text": [
        "                       \r",
        "[2613/3600] KDTW 2012-5\r"
       ]
      },
      {
       "output_type": "stream",
       "stream": "stdout",
       "text": [
        "                       \r",
        "[2614/3600] KEWR 2012-5\r"
       ]
      },
      {
       "output_type": "stream",
       "stream": "stdout",
       "text": [
        "                       \r",
        "[2615/3600] KFLL 2012-5\r"
       ]
      },
      {
       "output_type": "stream",
       "stream": "stdout",
       "text": [
        "                       \r",
        "[2616/3600] KHOU 2012-5\r"
       ]
      },
      {
       "output_type": "stream",
       "stream": "stdout",
       "text": [
        "                       \r",
        "[2617/3600] KIAD 2012-5\r"
       ]
      },
      {
       "output_type": "stream",
       "stream": "stdout",
       "text": [
        "                       \r",
        "[2618/3600] KIAH 2012-5\r"
       ]
      },
      {
       "output_type": "stream",
       "stream": "stdout",
       "text": [
        "                       \r",
        "[2619/3600] KIND 2012-5\r"
       ]
      },
      {
       "output_type": "stream",
       "stream": "stdout",
       "text": [
        "                       \r",
        "[2620/3600] KJFK 2012-5\r"
       ]
      },
      {
       "output_type": "stream",
       "stream": "stdout",
       "text": [
        "                       \r",
        "[2621/3600] KLAS 2012-5\r"
       ]
      },
      {
       "output_type": "stream",
       "stream": "stdout",
       "text": [
        "                       \r",
        "[2622/3600] KLAX 2012-5\r"
       ]
      },
      {
       "output_type": "stream",
       "stream": "stdout",
       "text": [
        "                       \r",
        "[2623/3600] KLGA 2012-5\r"
       ]
      },
      {
       "output_type": "stream",
       "stream": "stdout",
       "text": [
        "                       \r",
        "[2624/3600] KMCI 2012-5\r"
       ]
      },
      {
       "output_type": "stream",
       "stream": "stdout",
       "text": [
        "                       \r",
        "[2625/3600] KMCO 2012-5\r"
       ]
      },
      {
       "output_type": "stream",
       "stream": "stdout",
       "text": [
        "                       \r",
        "[2626/3600] KMDW 2012-5\r"
       ]
      },
      {
       "output_type": "stream",
       "stream": "stdout",
       "text": [
        "                       \r",
        "[2627/3600] KMEM 2012-5\r"
       ]
      },
      {
       "output_type": "stream",
       "stream": "stdout",
       "text": [
        "                       \r",
        "[2628/3600] KMIA 2012-5\r"
       ]
      },
      {
       "output_type": "stream",
       "stream": "stdout",
       "text": [
        "                       \r",
        "[2629/3600] KMKE 2012-5\r"
       ]
      },
      {
       "output_type": "stream",
       "stream": "stdout",
       "text": [
        "                       \r",
        "[2630/3600] KMSP 2012-5\r"
       ]
      },
      {
       "output_type": "stream",
       "stream": "stdout",
       "text": [
        "                       \r",
        "[2631/3600] KMSY 2012-5\r"
       ]
      },
      {
       "output_type": "stream",
       "stream": "stdout",
       "text": [
        "                       \r",
        "[2632/3600] KOAK 2012-5\r"
       ]
      },
      {
       "output_type": "stream",
       "stream": "stdout",
       "text": [
        "                       \r",
        "[2633/3600] KORD 2012-5\r"
       ]
      },
      {
       "output_type": "stream",
       "stream": "stdout",
       "text": [
        "                       \r",
        "[2634/3600] KPDX 2012-5\r"
       ]
      },
      {
       "output_type": "stream",
       "stream": "stdout",
       "text": [
        "                       \r",
        "[2635/3600] KPHL 2012-5\r"
       ]
      },
      {
       "output_type": "stream",
       "stream": "stdout",
       "text": [
        "                       \r",
        "[2636/3600] KPHX 2012-5\r"
       ]
      },
      {
       "output_type": "stream",
       "stream": "stdout",
       "text": [
        "                       \r",
        "[2637/3600] KPIT 2012-5\r"
       ]
      },
      {
       "output_type": "stream",
       "stream": "stdout",
       "text": [
        "                       \r",
        "[2638/3600] KRDU 2012-5\r"
       ]
      },
      {
       "output_type": "stream",
       "stream": "stdout",
       "text": [
        "                       \r",
        "[2639/3600] KSAN 2012-5\r"
       ]
      },
      {
       "output_type": "stream",
       "stream": "stdout",
       "text": [
        "                       \r",
        "[2640/3600] KSAT 2012-5\r"
       ]
      },
      {
       "output_type": "stream",
       "stream": "stdout",
       "text": [
        "                       \r",
        "[2641/3600] KSEA 2012-5\r"
       ]
      },
      {
       "output_type": "stream",
       "stream": "stdout",
       "text": [
        "                       \r",
        "[2642/3600] KSFO 2012-5\r"
       ]
      },
      {
       "output_type": "stream",
       "stream": "stdout",
       "text": [
        "                       \r",
        "[2643/3600] KSJC 2012-5\r"
       ]
      },
      {
       "output_type": "stream",
       "stream": "stdout",
       "text": [
        "                       \r",
        "[2644/3600] KSLC 2012-5\r"
       ]
      },
      {
       "output_type": "stream",
       "stream": "stdout",
       "text": [
        "                       \r",
        "[2645/3600] KSMF 2012-5\r"
       ]
      },
      {
       "output_type": "stream",
       "stream": "stdout",
       "text": [
        "                       \r",
        "[2646/3600] KSNA 2012-5\r"
       ]
      },
      {
       "output_type": "stream",
       "stream": "stdout",
       "text": [
        "                       \r",
        "[2647/3600] KSTL 2012-5\r"
       ]
      },
      {
       "output_type": "stream",
       "stream": "stdout",
       "text": [
        "                       \r",
        "[2648/3600] KTPA 2012-5\r"
       ]
      },
      {
       "output_type": "stream",
       "stream": "stdout",
       "text": [
        "                       \r",
        "[2649/3600] PHNL 2012-5\r"
       ]
      },
      {
       "output_type": "stream",
       "stream": "stdout",
       "text": [
        "                       \r",
        "[2650/3600] TJSJ 2012-5\r"
       ]
      },
      {
       "output_type": "stream",
       "stream": "stdout",
       "text": [
        "                       \r",
        "[2651/3600] KATL 2012-6\r"
       ]
      },
      {
       "output_type": "stream",
       "stream": "stdout",
       "text": [
        "                       \r",
        "[2652/3600] KAUS 2012-6\r"
       ]
      },
      {
       "output_type": "stream",
       "stream": "stdout",
       "text": [
        "                       \r",
        "[2653/3600] KBNA 2012-6\r"
       ]
      },
      {
       "output_type": "stream",
       "stream": "stdout",
       "text": [
        "                       \r",
        "[2654/3600] KBOS 2012-6\r"
       ]
      },
      {
       "output_type": "stream",
       "stream": "stdout",
       "text": [
        "                       \r",
        "[2655/3600] KBWI 2012-6\r"
       ]
      },
      {
       "output_type": "stream",
       "stream": "stdout",
       "text": [
        "                       \r",
        "[2656/3600] KCLE 2012-6\r"
       ]
      },
      {
       "output_type": "stream",
       "stream": "stdout",
       "text": [
        "                       \r",
        "[2657/3600] KCLT 2012-6\r"
       ]
      },
      {
       "output_type": "stream",
       "stream": "stdout",
       "text": [
        "                       \r",
        "[2658/3600] KCVG 2012-6\r"
       ]
      },
      {
       "output_type": "stream",
       "stream": "stdout",
       "text": [
        "                       \r",
        "[2659/3600] KDAL 2012-6\r"
       ]
      },
      {
       "output_type": "stream",
       "stream": "stdout",
       "text": [
        "                       \r",
        "[2660/3600] KDCA 2012-6\r"
       ]
      },
      {
       "output_type": "stream",
       "stream": "stdout",
       "text": [
        "                       \r",
        "[2661/3600] KDEN 2012-6\r"
       ]
      },
      {
       "output_type": "stream",
       "stream": "stdout",
       "text": [
        "                       \r",
        "[2662/3600] KDFW 2012-6\r"
       ]
      },
      {
       "output_type": "stream",
       "stream": "stdout",
       "text": [
        "                       \r",
        "[2663/3600] KDTW 2012-6\r"
       ]
      },
      {
       "output_type": "stream",
       "stream": "stdout",
       "text": [
        "                       \r",
        "[2664/3600] KEWR 2012-6\r"
       ]
      },
      {
       "output_type": "stream",
       "stream": "stdout",
       "text": [
        "                       \r",
        "[2665/3600] KFLL 2012-6\r"
       ]
      },
      {
       "output_type": "stream",
       "stream": "stdout",
       "text": [
        "                       \r",
        "[2666/3600] KHOU 2012-6\r"
       ]
      },
      {
       "output_type": "stream",
       "stream": "stdout",
       "text": [
        "                       \r",
        "[2667/3600] KIAD 2012-6\r"
       ]
      },
      {
       "output_type": "stream",
       "stream": "stdout",
       "text": [
        "                       \r",
        "[2668/3600] KIAH 2012-6\r"
       ]
      },
      {
       "output_type": "stream",
       "stream": "stdout",
       "text": [
        "                       \r",
        "[2669/3600] KIND 2012-6\r"
       ]
      },
      {
       "output_type": "stream",
       "stream": "stdout",
       "text": [
        "                       \r",
        "[2670/3600] KJFK 2012-6\r"
       ]
      },
      {
       "output_type": "stream",
       "stream": "stdout",
       "text": [
        "                       \r",
        "[2671/3600] KLAS 2012-6\r"
       ]
      },
      {
       "output_type": "stream",
       "stream": "stdout",
       "text": [
        "                       \r",
        "[2672/3600] KLAX 2012-6\r"
       ]
      },
      {
       "output_type": "stream",
       "stream": "stdout",
       "text": [
        "                       \r",
        "[2673/3600] KLGA 2012-6\r"
       ]
      },
      {
       "output_type": "stream",
       "stream": "stdout",
       "text": [
        "                       \r",
        "[2674/3600] KMCI 2012-6\r"
       ]
      },
      {
       "output_type": "stream",
       "stream": "stdout",
       "text": [
        "                       \r",
        "[2675/3600] KMCO 2012-6\r"
       ]
      },
      {
       "output_type": "stream",
       "stream": "stdout",
       "text": [
        "                       \r",
        "[2676/3600] KMDW 2012-6\r"
       ]
      },
      {
       "output_type": "stream",
       "stream": "stdout",
       "text": [
        "                       \r",
        "[2677/3600] KMEM 2012-6\r"
       ]
      },
      {
       "output_type": "stream",
       "stream": "stdout",
       "text": [
        "                       \r",
        "[2678/3600] KMIA 2012-6\r"
       ]
      },
      {
       "output_type": "stream",
       "stream": "stdout",
       "text": [
        "                       \r",
        "[2679/3600] KMKE 2012-6\r"
       ]
      },
      {
       "output_type": "stream",
       "stream": "stdout",
       "text": [
        "                       \r",
        "[2680/3600] KMSP 2012-6\r"
       ]
      },
      {
       "output_type": "stream",
       "stream": "stdout",
       "text": [
        "                       \r",
        "[2681/3600] KMSY 2012-6\r"
       ]
      },
      {
       "output_type": "stream",
       "stream": "stdout",
       "text": [
        "                       \r",
        "[2682/3600] KOAK 2012-6\r"
       ]
      },
      {
       "output_type": "stream",
       "stream": "stdout",
       "text": [
        "                       \r",
        "[2683/3600] KORD 2012-6\r"
       ]
      },
      {
       "output_type": "stream",
       "stream": "stdout",
       "text": [
        "                       \r",
        "[2684/3600] KPDX 2012-6\r"
       ]
      },
      {
       "output_type": "stream",
       "stream": "stdout",
       "text": [
        "                       \r",
        "[2685/3600] KPHL 2012-6\r"
       ]
      },
      {
       "output_type": "stream",
       "stream": "stdout",
       "text": [
        "                       \r",
        "[2686/3600] KPHX 2012-6\r"
       ]
      },
      {
       "output_type": "stream",
       "stream": "stdout",
       "text": [
        "                       \r",
        "[2687/3600] KPIT 2012-6\r"
       ]
      },
      {
       "output_type": "stream",
       "stream": "stdout",
       "text": [
        "                       \r",
        "[2688/3600] KRDU 2012-6\r"
       ]
      },
      {
       "output_type": "stream",
       "stream": "stdout",
       "text": [
        "                       \r",
        "[2689/3600] KSAN 2012-6\r"
       ]
      },
      {
       "output_type": "stream",
       "stream": "stdout",
       "text": [
        "                       \r",
        "[2690/3600] KSAT 2012-6\r"
       ]
      },
      {
       "output_type": "stream",
       "stream": "stdout",
       "text": [
        "                       \r",
        "[2691/3600] KSEA 2012-6\r"
       ]
      },
      {
       "output_type": "stream",
       "stream": "stdout",
       "text": [
        "                       \r",
        "[2692/3600] KSFO 2012-6\r"
       ]
      },
      {
       "output_type": "stream",
       "stream": "stdout",
       "text": [
        "                       \r",
        "[2693/3600] KSJC 2012-6\r"
       ]
      },
      {
       "output_type": "stream",
       "stream": "stdout",
       "text": [
        "                       \r",
        "[2694/3600] KSLC 2012-6\r"
       ]
      },
      {
       "output_type": "stream",
       "stream": "stdout",
       "text": [
        "                       \r",
        "[2695/3600] KSMF 2012-6\r"
       ]
      },
      {
       "output_type": "stream",
       "stream": "stdout",
       "text": [
        "                       \r",
        "[2696/3600] KSNA 2012-6\r"
       ]
      },
      {
       "output_type": "stream",
       "stream": "stdout",
       "text": [
        "                       \r",
        "[2697/3600] KSTL 2012-6\r"
       ]
      },
      {
       "output_type": "stream",
       "stream": "stdout",
       "text": [
        "                       \r",
        "[2698/3600] KTPA 2012-6\r"
       ]
      },
      {
       "output_type": "stream",
       "stream": "stdout",
       "text": [
        "                       \r",
        "[2699/3600] PHNL 2012-6\r"
       ]
      },
      {
       "output_type": "stream",
       "stream": "stdout",
       "text": [
        "                       \r",
        "[2700/3600] TJSJ 2012-6\r"
       ]
      },
      {
       "output_type": "stream",
       "stream": "stdout",
       "text": [
        "                       \r",
        "[2701/3600] KATL 2012-7\r"
       ]
      },
      {
       "output_type": "stream",
       "stream": "stdout",
       "text": [
        "                       \r",
        "[2702/3600] KAUS 2012-7\r"
       ]
      },
      {
       "output_type": "stream",
       "stream": "stdout",
       "text": [
        "                       \r",
        "[2703/3600] KBNA 2012-7\r"
       ]
      },
      {
       "output_type": "stream",
       "stream": "stdout",
       "text": [
        "                       \r",
        "[2704/3600] KBOS 2012-7\r"
       ]
      },
      {
       "output_type": "stream",
       "stream": "stdout",
       "text": [
        "                       \r",
        "[2705/3600] KBWI 2012-7\r"
       ]
      },
      {
       "output_type": "stream",
       "stream": "stdout",
       "text": [
        "                       \r",
        "[2706/3600] KCLE 2012-7\r"
       ]
      },
      {
       "output_type": "stream",
       "stream": "stdout",
       "text": [
        "                       \r",
        "[2707/3600] KCLT 2012-7\r"
       ]
      },
      {
       "output_type": "stream",
       "stream": "stdout",
       "text": [
        "                       \r",
        "[2708/3600] KCVG 2012-7\r"
       ]
      },
      {
       "output_type": "stream",
       "stream": "stdout",
       "text": [
        "                       \r",
        "[2709/3600] KDAL 2012-7\r"
       ]
      },
      {
       "output_type": "stream",
       "stream": "stdout",
       "text": [
        "                       \r",
        "[2710/3600] KDCA 2012-7\r"
       ]
      },
      {
       "output_type": "stream",
       "stream": "stdout",
       "text": [
        "                       \r",
        "[2711/3600] KDEN 2012-7\r"
       ]
      },
      {
       "output_type": "stream",
       "stream": "stdout",
       "text": [
        "                       \r",
        "[2712/3600] KDFW 2012-7\r"
       ]
      },
      {
       "output_type": "stream",
       "stream": "stdout",
       "text": [
        "                       \r",
        "[2713/3600] KDTW 2012-7\r"
       ]
      },
      {
       "output_type": "stream",
       "stream": "stdout",
       "text": [
        "                       \r",
        "[2714/3600] KEWR 2012-7\r"
       ]
      },
      {
       "output_type": "stream",
       "stream": "stdout",
       "text": [
        "                       \r",
        "[2715/3600] KFLL 2012-7\r"
       ]
      },
      {
       "output_type": "stream",
       "stream": "stdout",
       "text": [
        "                       \r",
        "[2716/3600] KHOU 2012-7\r"
       ]
      },
      {
       "output_type": "stream",
       "stream": "stdout",
       "text": [
        "                       \r",
        "[2717/3600] KIAD 2012-7\r"
       ]
      },
      {
       "output_type": "stream",
       "stream": "stdout",
       "text": [
        "                       \r",
        "[2718/3600] KIAH 2012-7\r"
       ]
      },
      {
       "output_type": "stream",
       "stream": "stdout",
       "text": [
        "                       \r",
        "[2719/3600] KIND 2012-7\r"
       ]
      },
      {
       "output_type": "stream",
       "stream": "stdout",
       "text": [
        "                       \r",
        "[2720/3600] KJFK 2012-7\r"
       ]
      },
      {
       "output_type": "stream",
       "stream": "stdout",
       "text": [
        "                       \r",
        "[2721/3600] KLAS 2012-7\r"
       ]
      },
      {
       "output_type": "stream",
       "stream": "stdout",
       "text": [
        "                       \r",
        "[2722/3600] KLAX 2012-7\r"
       ]
      },
      {
       "output_type": "stream",
       "stream": "stdout",
       "text": [
        "                       \r",
        "[2723/3600] KLGA 2012-7\r"
       ]
      },
      {
       "output_type": "stream",
       "stream": "stdout",
       "text": [
        "                       \r",
        "[2724/3600] KMCI 2012-7\r"
       ]
      },
      {
       "output_type": "stream",
       "stream": "stdout",
       "text": [
        "                       \r",
        "[2725/3600] KMCO 2012-7\r"
       ]
      },
      {
       "output_type": "stream",
       "stream": "stdout",
       "text": [
        "                       \r",
        "[2726/3600] KMDW 2012-7\r"
       ]
      },
      {
       "output_type": "stream",
       "stream": "stdout",
       "text": [
        "                       \r",
        "[2727/3600] KMEM 2012-7\r"
       ]
      },
      {
       "output_type": "stream",
       "stream": "stdout",
       "text": [
        "                       \r",
        "[2728/3600] KMIA 2012-7\r"
       ]
      },
      {
       "output_type": "stream",
       "stream": "stdout",
       "text": [
        "                       \r",
        "[2729/3600] KMKE 2012-7\r"
       ]
      },
      {
       "output_type": "stream",
       "stream": "stdout",
       "text": [
        "                       \r",
        "[2730/3600] KMSP 2012-7\r"
       ]
      },
      {
       "output_type": "stream",
       "stream": "stdout",
       "text": [
        "                       \r",
        "[2731/3600] KMSY 2012-7\r"
       ]
      },
      {
       "output_type": "stream",
       "stream": "stdout",
       "text": [
        "                       \r",
        "[2732/3600] KOAK 2012-7\r"
       ]
      },
      {
       "output_type": "stream",
       "stream": "stdout",
       "text": [
        "                       \r",
        "[2733/3600] KORD 2012-7\r"
       ]
      },
      {
       "output_type": "stream",
       "stream": "stdout",
       "text": [
        "                       \r",
        "[2734/3600] KPDX 2012-7\r"
       ]
      },
      {
       "output_type": "stream",
       "stream": "stdout",
       "text": [
        "                       \r",
        "[2735/3600] KPHL 2012-7\r"
       ]
      },
      {
       "output_type": "stream",
       "stream": "stdout",
       "text": [
        "                       \r",
        "[2736/3600] KPHX 2012-7\r"
       ]
      },
      {
       "output_type": "stream",
       "stream": "stdout",
       "text": [
        "                       \r",
        "[2737/3600] KPIT 2012-7\r"
       ]
      },
      {
       "output_type": "stream",
       "stream": "stdout",
       "text": [
        "                       \r",
        "[2738/3600] KRDU 2012-7\r"
       ]
      },
      {
       "output_type": "stream",
       "stream": "stdout",
       "text": [
        "                       \r",
        "[2739/3600] KSAN 2012-7\r"
       ]
      },
      {
       "output_type": "stream",
       "stream": "stdout",
       "text": [
        "                       \r",
        "[2740/3600] KSAT 2012-7\r"
       ]
      },
      {
       "output_type": "stream",
       "stream": "stdout",
       "text": [
        "                       \r",
        "[2741/3600] KSEA 2012-7\r"
       ]
      },
      {
       "output_type": "stream",
       "stream": "stdout",
       "text": [
        "                       \r",
        "[2742/3600] KSFO 2012-7\r"
       ]
      },
      {
       "output_type": "stream",
       "stream": "stdout",
       "text": [
        "                       \r",
        "[2743/3600] KSJC 2012-7\r"
       ]
      },
      {
       "output_type": "stream",
       "stream": "stdout",
       "text": [
        "                       \r",
        "[2744/3600] KSLC 2012-7\r"
       ]
      },
      {
       "output_type": "stream",
       "stream": "stdout",
       "text": [
        "                       \r",
        "[2745/3600] KSMF 2012-7\r"
       ]
      },
      {
       "output_type": "stream",
       "stream": "stdout",
       "text": [
        "                       \r",
        "[2746/3600] KSNA 2012-7\r"
       ]
      },
      {
       "output_type": "stream",
       "stream": "stdout",
       "text": [
        "                       \r",
        "[2747/3600] KSTL 2012-7\r"
       ]
      },
      {
       "output_type": "stream",
       "stream": "stdout",
       "text": [
        "                       \r",
        "[2748/3600] KTPA 2012-7\r"
       ]
      },
      {
       "output_type": "stream",
       "stream": "stdout",
       "text": [
        "                       \r",
        "[2749/3600] PHNL 2012-7\r"
       ]
      },
      {
       "output_type": "stream",
       "stream": "stdout",
       "text": [
        "                       \r",
        "[2750/3600] TJSJ 2012-7\r"
       ]
      },
      {
       "output_type": "stream",
       "stream": "stdout",
       "text": [
        "                       \r",
        "[2751/3600] KATL 2012-8\r"
       ]
      },
      {
       "output_type": "stream",
       "stream": "stdout",
       "text": [
        "                       \r",
        "[2752/3600] KAUS 2012-8\r"
       ]
      },
      {
       "output_type": "stream",
       "stream": "stdout",
       "text": [
        "                       \r",
        "[2753/3600] KBNA 2012-8\r"
       ]
      },
      {
       "output_type": "stream",
       "stream": "stdout",
       "text": [
        "                       \r",
        "[2754/3600] KBOS 2012-8\r"
       ]
      },
      {
       "output_type": "stream",
       "stream": "stdout",
       "text": [
        "                       \r",
        "[2755/3600] KBWI 2012-8\r"
       ]
      },
      {
       "output_type": "stream",
       "stream": "stdout",
       "text": [
        "                       \r",
        "[2756/3600] KCLE 2012-8\r"
       ]
      },
      {
       "output_type": "stream",
       "stream": "stdout",
       "text": [
        "                       \r",
        "[2757/3600] KCLT 2012-8\r"
       ]
      },
      {
       "output_type": "stream",
       "stream": "stdout",
       "text": [
        "                       \r",
        "[2758/3600] KCVG 2012-8\r"
       ]
      },
      {
       "output_type": "stream",
       "stream": "stdout",
       "text": [
        "                       \r",
        "[2759/3600] KDAL 2012-8\r"
       ]
      },
      {
       "output_type": "stream",
       "stream": "stdout",
       "text": [
        "                       \r",
        "[2760/3600] KDCA 2012-8\r"
       ]
      },
      {
       "output_type": "stream",
       "stream": "stdout",
       "text": [
        "                       \r",
        "[2761/3600] KDEN 2012-8\r"
       ]
      },
      {
       "output_type": "stream",
       "stream": "stdout",
       "text": [
        "                       \r",
        "[2762/3600] KDFW 2012-8\r"
       ]
      },
      {
       "output_type": "stream",
       "stream": "stdout",
       "text": [
        "                       \r",
        "[2763/3600] KDTW 2012-8\r"
       ]
      },
      {
       "output_type": "stream",
       "stream": "stdout",
       "text": [
        "                       \r",
        "[2764/3600] KEWR 2012-8\r"
       ]
      },
      {
       "output_type": "stream",
       "stream": "stdout",
       "text": [
        "                       \r",
        "[2765/3600] KFLL 2012-8\r"
       ]
      },
      {
       "output_type": "stream",
       "stream": "stdout",
       "text": [
        "                       \r",
        "[2766/3600] KHOU 2012-8\r"
       ]
      },
      {
       "output_type": "stream",
       "stream": "stdout",
       "text": [
        "                       \r",
        "[2767/3600] KIAD 2012-8\r"
       ]
      },
      {
       "output_type": "stream",
       "stream": "stdout",
       "text": [
        "                       \r",
        "[2768/3600] KIAH 2012-8\r"
       ]
      },
      {
       "output_type": "stream",
       "stream": "stdout",
       "text": [
        "                       \r",
        "[2769/3600] KIND 2012-8\r"
       ]
      },
      {
       "output_type": "stream",
       "stream": "stdout",
       "text": [
        "                       \r",
        "[2770/3600] KJFK 2012-8\r"
       ]
      },
      {
       "output_type": "stream",
       "stream": "stdout",
       "text": [
        "                       \r",
        "[2771/3600] KLAS 2012-8\r"
       ]
      },
      {
       "output_type": "stream",
       "stream": "stdout",
       "text": [
        "                       \r",
        "[2772/3600] KLAX 2012-8\r"
       ]
      },
      {
       "output_type": "stream",
       "stream": "stdout",
       "text": [
        "                       \r",
        "[2773/3600] KLGA 2012-8\r"
       ]
      },
      {
       "output_type": "stream",
       "stream": "stdout",
       "text": [
        "                       \r",
        "[2774/3600] KMCI 2012-8\r"
       ]
      },
      {
       "output_type": "stream",
       "stream": "stdout",
       "text": [
        "                       \r",
        "[2775/3600] KMCO 2012-8\r"
       ]
      },
      {
       "output_type": "stream",
       "stream": "stdout",
       "text": [
        "                       \r",
        "[2776/3600] KMDW 2012-8\r"
       ]
      },
      {
       "output_type": "stream",
       "stream": "stdout",
       "text": [
        "                       \r",
        "[2777/3600] KMEM 2012-8\r"
       ]
      },
      {
       "output_type": "stream",
       "stream": "stdout",
       "text": [
        "                       \r",
        "[2778/3600] KMIA 2012-8\r"
       ]
      },
      {
       "output_type": "stream",
       "stream": "stdout",
       "text": [
        "                       \r",
        "[2779/3600] KMKE 2012-8\r"
       ]
      },
      {
       "output_type": "stream",
       "stream": "stdout",
       "text": [
        "                       \r",
        "[2780/3600] KMSP 2012-8\r"
       ]
      },
      {
       "output_type": "stream",
       "stream": "stdout",
       "text": [
        "                       \r",
        "[2781/3600] KMSY 2012-8\r"
       ]
      },
      {
       "output_type": "stream",
       "stream": "stdout",
       "text": [
        "                       \r",
        "[2782/3600] KOAK 2012-8\r"
       ]
      },
      {
       "output_type": "stream",
       "stream": "stdout",
       "text": [
        "                       \r",
        "[2783/3600] KORD 2012-8\r"
       ]
      },
      {
       "output_type": "stream",
       "stream": "stdout",
       "text": [
        "                       \r",
        "[2784/3600] KPDX 2012-8\r"
       ]
      },
      {
       "output_type": "stream",
       "stream": "stdout",
       "text": [
        "                       \r",
        "[2785/3600] KPHL 2012-8\r"
       ]
      },
      {
       "output_type": "stream",
       "stream": "stdout",
       "text": [
        "                       \r",
        "[2786/3600] KPHX 2012-8\r"
       ]
      },
      {
       "output_type": "stream",
       "stream": "stdout",
       "text": [
        "                       \r",
        "[2787/3600] KPIT 2012-8\r"
       ]
      },
      {
       "output_type": "stream",
       "stream": "stdout",
       "text": [
        "                       \r",
        "[2788/3600] KRDU 2012-8\r"
       ]
      },
      {
       "output_type": "stream",
       "stream": "stdout",
       "text": [
        "                       \r",
        "[2789/3600] KSAN 2012-8\r"
       ]
      },
      {
       "output_type": "stream",
       "stream": "stdout",
       "text": [
        "                       \r",
        "[2790/3600] KSAT 2012-8\r"
       ]
      },
      {
       "output_type": "stream",
       "stream": "stdout",
       "text": [
        "                       \r",
        "[2791/3600] KSEA 2012-8\r"
       ]
      },
      {
       "output_type": "stream",
       "stream": "stdout",
       "text": [
        "                       \r",
        "[2792/3600] KSFO 2012-8\r"
       ]
      },
      {
       "output_type": "stream",
       "stream": "stdout",
       "text": [
        "                       \r",
        "[2793/3600] KSJC 2012-8\r"
       ]
      },
      {
       "output_type": "stream",
       "stream": "stdout",
       "text": [
        "                       \r",
        "[2794/3600] KSLC 2012-8\r"
       ]
      },
      {
       "output_type": "stream",
       "stream": "stdout",
       "text": [
        "                       \r",
        "[2795/3600] KSMF 2012-8\r"
       ]
      },
      {
       "output_type": "stream",
       "stream": "stdout",
       "text": [
        "                       \r",
        "[2796/3600] KSNA 2012-8\r"
       ]
      },
      {
       "output_type": "stream",
       "stream": "stdout",
       "text": [
        "                       \r",
        "[2797/3600] KSTL 2012-8\r"
       ]
      },
      {
       "output_type": "stream",
       "stream": "stdout",
       "text": [
        "                       \r",
        "[2798/3600] KTPA 2012-8\r"
       ]
      },
      {
       "output_type": "stream",
       "stream": "stdout",
       "text": [
        "                       \r",
        "[2799/3600] PHNL 2012-8\r"
       ]
      },
      {
       "output_type": "stream",
       "stream": "stdout",
       "text": [
        "                       \r",
        "[2800/3600] TJSJ 2012-8\r"
       ]
      },
      {
       "output_type": "stream",
       "stream": "stdout",
       "text": [
        "                       \r",
        "[2801/3600] KATL 2012-9\r"
       ]
      },
      {
       "output_type": "stream",
       "stream": "stdout",
       "text": [
        "                       \r",
        "[2802/3600] KAUS 2012-9\r"
       ]
      },
      {
       "output_type": "stream",
       "stream": "stdout",
       "text": [
        "                       \r",
        "[2803/3600] KBNA 2012-9\r"
       ]
      },
      {
       "output_type": "stream",
       "stream": "stdout",
       "text": [
        "                       \r",
        "[2804/3600] KBOS 2012-9\r"
       ]
      },
      {
       "output_type": "stream",
       "stream": "stdout",
       "text": [
        "                       \r",
        "[2805/3600] KBWI 2012-9\r"
       ]
      },
      {
       "output_type": "stream",
       "stream": "stdout",
       "text": [
        "                       \r",
        "[2806/3600] KCLE 2012-9\r"
       ]
      },
      {
       "output_type": "stream",
       "stream": "stdout",
       "text": [
        "                       \r",
        "[2807/3600] KCLT 2012-9\r"
       ]
      },
      {
       "output_type": "stream",
       "stream": "stdout",
       "text": [
        "                       \r",
        "[2808/3600] KCVG 2012-9\r"
       ]
      },
      {
       "output_type": "stream",
       "stream": "stdout",
       "text": [
        "                       \r",
        "[2809/3600] KDAL 2012-9\r"
       ]
      },
      {
       "output_type": "stream",
       "stream": "stdout",
       "text": [
        "                       \r",
        "[2810/3600] KDCA 2012-9\r"
       ]
      },
      {
       "output_type": "stream",
       "stream": "stdout",
       "text": [
        "                       \r",
        "[2811/3600] KDEN 2012-9\r"
       ]
      },
      {
       "output_type": "stream",
       "stream": "stdout",
       "text": [
        "                       \r",
        "[2812/3600] KDFW 2012-9\r"
       ]
      },
      {
       "output_type": "stream",
       "stream": "stdout",
       "text": [
        "                       \r",
        "[2813/3600] KDTW 2012-9\r"
       ]
      },
      {
       "output_type": "stream",
       "stream": "stdout",
       "text": [
        "                       \r",
        "[2814/3600] KEWR 2012-9\r"
       ]
      },
      {
       "output_type": "stream",
       "stream": "stdout",
       "text": [
        "                       \r",
        "[2815/3600] KFLL 2012-9\r"
       ]
      },
      {
       "output_type": "stream",
       "stream": "stdout",
       "text": [
        "                       \r",
        "[2816/3600] KHOU 2012-9\r"
       ]
      },
      {
       "output_type": "stream",
       "stream": "stdout",
       "text": [
        "                       \r",
        "[2817/3600] KIAD 2012-9\r"
       ]
      },
      {
       "output_type": "stream",
       "stream": "stdout",
       "text": [
        "                       \r",
        "[2818/3600] KIAH 2012-9\r"
       ]
      },
      {
       "output_type": "stream",
       "stream": "stdout",
       "text": [
        "                       \r",
        "[2819/3600] KIND 2012-9\r"
       ]
      },
      {
       "output_type": "stream",
       "stream": "stdout",
       "text": [
        "                       \r",
        "[2820/3600] KJFK 2012-9\r"
       ]
      },
      {
       "output_type": "stream",
       "stream": "stdout",
       "text": [
        "                       \r",
        "[2821/3600] KLAS 2012-9\r"
       ]
      },
      {
       "output_type": "stream",
       "stream": "stdout",
       "text": [
        "                       \r",
        "[2822/3600] KLAX 2012-9\r"
       ]
      },
      {
       "output_type": "stream",
       "stream": "stdout",
       "text": [
        "                       \r",
        "[2823/3600] KLGA 2012-9\r"
       ]
      },
      {
       "output_type": "stream",
       "stream": "stdout",
       "text": [
        "                       \r",
        "[2824/3600] KMCI 2012-9\r"
       ]
      },
      {
       "output_type": "stream",
       "stream": "stdout",
       "text": [
        "                       \r",
        "[2825/3600] KMCO 2012-9\r"
       ]
      },
      {
       "output_type": "stream",
       "stream": "stdout",
       "text": [
        "                       \r",
        "[2826/3600] KMDW 2012-9\r"
       ]
      },
      {
       "output_type": "stream",
       "stream": "stdout",
       "text": [
        "                       \r",
        "[2827/3600] KMEM 2012-9\r"
       ]
      },
      {
       "output_type": "stream",
       "stream": "stdout",
       "text": [
        "                       \r",
        "[2828/3600] KMIA 2012-9\r"
       ]
      },
      {
       "output_type": "stream",
       "stream": "stdout",
       "text": [
        "                       \r",
        "[2829/3600] KMKE 2012-9\r"
       ]
      },
      {
       "output_type": "stream",
       "stream": "stdout",
       "text": [
        "                       \r",
        "[2830/3600] KMSP 2012-9\r"
       ]
      },
      {
       "output_type": "stream",
       "stream": "stdout",
       "text": [
        "                       \r",
        "[2831/3600] KMSY 2012-9\r"
       ]
      },
      {
       "output_type": "stream",
       "stream": "stdout",
       "text": [
        "                       \r",
        "[2832/3600] KOAK 2012-9\r"
       ]
      },
      {
       "output_type": "stream",
       "stream": "stdout",
       "text": [
        "                       \r",
        "[2833/3600] KORD 2012-9\r"
       ]
      },
      {
       "output_type": "stream",
       "stream": "stdout",
       "text": [
        "                       \r",
        "[2834/3600] KPDX 2012-9\r"
       ]
      },
      {
       "output_type": "stream",
       "stream": "stdout",
       "text": [
        "                       \r",
        "[2835/3600] KPHL 2012-9\r"
       ]
      },
      {
       "output_type": "stream",
       "stream": "stdout",
       "text": [
        "                       \r",
        "[2836/3600] KPHX 2012-9\r"
       ]
      },
      {
       "output_type": "stream",
       "stream": "stdout",
       "text": [
        "                       \r",
        "[2837/3600] KPIT 2012-9\r"
       ]
      },
      {
       "output_type": "stream",
       "stream": "stdout",
       "text": [
        "                       \r",
        "[2838/3600] KRDU 2012-9\r"
       ]
      },
      {
       "output_type": "stream",
       "stream": "stdout",
       "text": [
        "                       \r",
        "[2839/3600] KSAN 2012-9\r"
       ]
      },
      {
       "output_type": "stream",
       "stream": "stdout",
       "text": [
        "                       \r",
        "[2840/3600] KSAT 2012-9\r"
       ]
      },
      {
       "output_type": "stream",
       "stream": "stdout",
       "text": [
        "                       \r",
        "[2841/3600] KSEA 2012-9\r"
       ]
      },
      {
       "output_type": "stream",
       "stream": "stdout",
       "text": [
        "                       \r",
        "[2842/3600] KSFO 2012-9\r"
       ]
      },
      {
       "output_type": "stream",
       "stream": "stdout",
       "text": [
        "                       \r",
        "[2843/3600] KSJC 2012-9\r"
       ]
      },
      {
       "output_type": "stream",
       "stream": "stdout",
       "text": [
        "                       \r",
        "[2844/3600] KSLC 2012-9\r"
       ]
      },
      {
       "output_type": "stream",
       "stream": "stdout",
       "text": [
        "                       \r",
        "[2845/3600] KSMF 2012-9\r"
       ]
      },
      {
       "output_type": "stream",
       "stream": "stdout",
       "text": [
        "                       \r",
        "[2846/3600] KSNA 2012-9\r"
       ]
      },
      {
       "output_type": "stream",
       "stream": "stdout",
       "text": [
        "                       \r",
        "[2847/3600] KSTL 2012-9\r"
       ]
      },
      {
       "output_type": "stream",
       "stream": "stdout",
       "text": [
        "                       \r",
        "[2848/3600] KTPA 2012-9\r"
       ]
      },
      {
       "output_type": "stream",
       "stream": "stdout",
       "text": [
        "                       \r",
        "[2849/3600] PHNL 2012-9\r"
       ]
      },
      {
       "output_type": "stream",
       "stream": "stdout",
       "text": [
        "                       \r",
        "[2850/3600] TJSJ 2012-9\r"
       ]
      },
      {
       "output_type": "stream",
       "stream": "stdout",
       "text": [
        "                       \r",
        "[2851/3600] KATL 2012-10\r"
       ]
      },
      {
       "output_type": "stream",
       "stream": "stdout",
       "text": [
        "                        \r",
        "[2852/3600] KAUS 2012-10\r"
       ]
      },
      {
       "output_type": "stream",
       "stream": "stdout",
       "text": [
        "                        \r",
        "[2853/3600] KBNA 2012-10\r"
       ]
      },
      {
       "output_type": "stream",
       "stream": "stdout",
       "text": [
        "                        \r",
        "[2854/3600] KBOS 2012-10\r"
       ]
      },
      {
       "output_type": "stream",
       "stream": "stdout",
       "text": [
        "                        \r",
        "[2855/3600] KBWI 2012-10\r"
       ]
      },
      {
       "output_type": "stream",
       "stream": "stdout",
       "text": [
        "                        \r",
        "[2856/3600] KCLE 2012-10\r"
       ]
      },
      {
       "output_type": "stream",
       "stream": "stdout",
       "text": [
        "                        \r",
        "[2857/3600] KCLT 2012-10\r"
       ]
      },
      {
       "output_type": "stream",
       "stream": "stdout",
       "text": [
        "                        \r",
        "[2858/3600] KCVG 2012-10\r"
       ]
      },
      {
       "output_type": "stream",
       "stream": "stdout",
       "text": [
        "                        \r",
        "[2859/3600] KDAL 2012-10\r"
       ]
      },
      {
       "output_type": "stream",
       "stream": "stdout",
       "text": [
        "                        \r",
        "[2860/3600] KDCA 2012-10\r"
       ]
      },
      {
       "output_type": "stream",
       "stream": "stdout",
       "text": [
        "                        \r",
        "[2861/3600] KDEN 2012-10\r"
       ]
      },
      {
       "output_type": "stream",
       "stream": "stdout",
       "text": [
        "                        \r",
        "[2862/3600] KDFW 2012-10\r"
       ]
      },
      {
       "output_type": "stream",
       "stream": "stdout",
       "text": [
        "                        \r",
        "[2863/3600] KDTW 2012-10\r"
       ]
      },
      {
       "output_type": "stream",
       "stream": "stdout",
       "text": [
        "                        \r",
        "[2864/3600] KEWR 2012-10\r"
       ]
      },
      {
       "output_type": "stream",
       "stream": "stdout",
       "text": [
        "                        \r",
        "[2865/3600] KFLL 2012-10\r"
       ]
      },
      {
       "output_type": "stream",
       "stream": "stdout",
       "text": [
        "                        \r",
        "[2866/3600] KHOU 2012-10\r"
       ]
      },
      {
       "output_type": "stream",
       "stream": "stdout",
       "text": [
        "                        \r",
        "[2867/3600] KIAD 2012-10\r"
       ]
      },
      {
       "output_type": "stream",
       "stream": "stdout",
       "text": [
        "                        \r",
        "[2868/3600] KIAH 2012-10\r"
       ]
      },
      {
       "output_type": "stream",
       "stream": "stdout",
       "text": [
        "                        \r",
        "[2869/3600] KIND 2012-10\r"
       ]
      },
      {
       "output_type": "stream",
       "stream": "stdout",
       "text": [
        "                        \r",
        "[2870/3600] KJFK 2012-10\r"
       ]
      },
      {
       "output_type": "stream",
       "stream": "stdout",
       "text": [
        "                        \r",
        "[2871/3600] KLAS 2012-10\r"
       ]
      },
      {
       "output_type": "stream",
       "stream": "stdout",
       "text": [
        "                        \r",
        "[2872/3600] KLAX 2012-10\r"
       ]
      },
      {
       "output_type": "stream",
       "stream": "stdout",
       "text": [
        "                        \r",
        "[2873/3600] KLGA 2012-10\r"
       ]
      },
      {
       "output_type": "stream",
       "stream": "stdout",
       "text": [
        "                        \r",
        "[2874/3600] KMCI 2012-10\r"
       ]
      },
      {
       "output_type": "stream",
       "stream": "stdout",
       "text": [
        "                        \r",
        "[2875/3600] KMCO 2012-10\r"
       ]
      },
      {
       "output_type": "stream",
       "stream": "stdout",
       "text": [
        "                        \r",
        "[2876/3600] KMDW 2012-10\r"
       ]
      },
      {
       "output_type": "stream",
       "stream": "stdout",
       "text": [
        "                        \r",
        "[2877/3600] KMEM 2012-10\r"
       ]
      },
      {
       "output_type": "stream",
       "stream": "stdout",
       "text": [
        "                        \r",
        "[2878/3600] KMIA 2012-10\r"
       ]
      },
      {
       "output_type": "stream",
       "stream": "stdout",
       "text": [
        "                        \r",
        "[2879/3600] KMKE 2012-10\r"
       ]
      },
      {
       "output_type": "stream",
       "stream": "stdout",
       "text": [
        "                        \r",
        "[2880/3600] KMSP 2012-10\r"
       ]
      },
      {
       "output_type": "stream",
       "stream": "stdout",
       "text": [
        "                        \r",
        "[2881/3600] KMSY 2012-10\r"
       ]
      },
      {
       "output_type": "stream",
       "stream": "stdout",
       "text": [
        "                        \r",
        "[2882/3600] KOAK 2012-10\r"
       ]
      },
      {
       "output_type": "stream",
       "stream": "stdout",
       "text": [
        "                        \r",
        "[2883/3600] KORD 2012-10\r"
       ]
      },
      {
       "output_type": "stream",
       "stream": "stdout",
       "text": [
        "                        \r",
        "[2884/3600] KPDX 2012-10\r"
       ]
      },
      {
       "output_type": "stream",
       "stream": "stdout",
       "text": [
        "                        \r",
        "[2885/3600] KPHL 2012-10\r"
       ]
      },
      {
       "output_type": "stream",
       "stream": "stdout",
       "text": [
        "                        \r",
        "[2886/3600] KPHX 2012-10\r"
       ]
      },
      {
       "output_type": "stream",
       "stream": "stdout",
       "text": [
        "                        \r",
        "[2887/3600] KPIT 2012-10\r"
       ]
      },
      {
       "output_type": "stream",
       "stream": "stdout",
       "text": [
        "                        \r",
        "[2888/3600] KRDU 2012-10\r"
       ]
      },
      {
       "output_type": "stream",
       "stream": "stdout",
       "text": [
        "                        \r",
        "[2889/3600] KSAN 2012-10\r"
       ]
      },
      {
       "output_type": "stream",
       "stream": "stdout",
       "text": [
        "                        \r",
        "[2890/3600] KSAT 2012-10\r"
       ]
      },
      {
       "output_type": "stream",
       "stream": "stdout",
       "text": [
        "                        \r",
        "[2891/3600] KSEA 2012-10\r"
       ]
      },
      {
       "output_type": "stream",
       "stream": "stdout",
       "text": [
        "                        \r",
        "[2892/3600] KSFO 2012-10\r"
       ]
      },
      {
       "output_type": "stream",
       "stream": "stdout",
       "text": [
        "                        \r",
        "[2893/3600] KSJC 2012-10\r"
       ]
      },
      {
       "output_type": "stream",
       "stream": "stdout",
       "text": [
        "                        \r",
        "[2894/3600] KSLC 2012-10\r"
       ]
      },
      {
       "output_type": "stream",
       "stream": "stdout",
       "text": [
        "                        \r",
        "[2895/3600] KSMF 2012-10\r"
       ]
      },
      {
       "output_type": "stream",
       "stream": "stdout",
       "text": [
        "                        \r",
        "[2896/3600] KSNA 2012-10\r"
       ]
      },
      {
       "output_type": "stream",
       "stream": "stdout",
       "text": [
        "                        \r",
        "[2897/3600] KSTL 2012-10\r"
       ]
      },
      {
       "output_type": "stream",
       "stream": "stdout",
       "text": [
        "                        \r",
        "[2898/3600] KTPA 2012-10\r"
       ]
      },
      {
       "output_type": "stream",
       "stream": "stdout",
       "text": [
        "                        \r",
        "[2899/3600] PHNL 2012-10\r"
       ]
      },
      {
       "output_type": "stream",
       "stream": "stdout",
       "text": [
        "                        \r",
        "[2900/3600] TJSJ 2012-10\r"
       ]
      },
      {
       "output_type": "stream",
       "stream": "stdout",
       "text": [
        "                        \r",
        "[2901/3600] KATL 2012-11\r"
       ]
      },
      {
       "output_type": "stream",
       "stream": "stdout",
       "text": [
        "                        \r",
        "[2902/3600] KAUS 2012-11\r"
       ]
      },
      {
       "output_type": "stream",
       "stream": "stdout",
       "text": [
        "                        \r",
        "[2903/3600] KBNA 2012-11\r"
       ]
      },
      {
       "output_type": "stream",
       "stream": "stdout",
       "text": [
        "                        \r",
        "[2904/3600] KBOS 2012-11\r"
       ]
      },
      {
       "output_type": "stream",
       "stream": "stdout",
       "text": [
        "                        \r",
        "[2905/3600] KBWI 2012-11\r"
       ]
      },
      {
       "output_type": "stream",
       "stream": "stdout",
       "text": [
        "                        \r",
        "[2906/3600] KCLE 2012-11\r"
       ]
      },
      {
       "output_type": "stream",
       "stream": "stdout",
       "text": [
        "                        \r",
        "[2907/3600] KCLT 2012-11\r"
       ]
      },
      {
       "output_type": "stream",
       "stream": "stdout",
       "text": [
        "                        \r",
        "[2908/3600] KCVG 2012-11\r"
       ]
      },
      {
       "output_type": "stream",
       "stream": "stdout",
       "text": [
        "                        \r",
        "[2909/3600] KDAL 2012-11\r"
       ]
      },
      {
       "output_type": "stream",
       "stream": "stdout",
       "text": [
        "                        \r",
        "[2910/3600] KDCA 2012-11\r"
       ]
      },
      {
       "output_type": "stream",
       "stream": "stdout",
       "text": [
        "                        \r",
        "[2911/3600] KDEN 2012-11\r"
       ]
      },
      {
       "output_type": "stream",
       "stream": "stdout",
       "text": [
        "                        \r",
        "[2912/3600] KDFW 2012-11\r"
       ]
      },
      {
       "output_type": "stream",
       "stream": "stdout",
       "text": [
        "                        \r",
        "[2913/3600] KDTW 2012-11\r"
       ]
      },
      {
       "output_type": "stream",
       "stream": "stdout",
       "text": [
        "                        \r",
        "[2914/3600] KEWR 2012-11\r"
       ]
      },
      {
       "output_type": "stream",
       "stream": "stdout",
       "text": [
        "                        \r",
        "[2915/3600] KFLL 2012-11\r"
       ]
      },
      {
       "output_type": "stream",
       "stream": "stdout",
       "text": [
        "                        \r",
        "[2916/3600] KHOU 2012-11\r"
       ]
      },
      {
       "output_type": "stream",
       "stream": "stdout",
       "text": [
        "                        \r",
        "[2917/3600] KIAD 2012-11\r"
       ]
      },
      {
       "output_type": "stream",
       "stream": "stdout",
       "text": [
        "                        \r",
        "[2918/3600] KIAH 2012-11\r"
       ]
      },
      {
       "output_type": "stream",
       "stream": "stdout",
       "text": [
        "                        \r",
        "[2919/3600] KIND 2012-11\r"
       ]
      },
      {
       "output_type": "stream",
       "stream": "stdout",
       "text": [
        "                        \r",
        "[2920/3600] KJFK 2012-11\r"
       ]
      },
      {
       "output_type": "stream",
       "stream": "stdout",
       "text": [
        "                        \r",
        "[2921/3600] KLAS 2012-11\r"
       ]
      },
      {
       "output_type": "stream",
       "stream": "stdout",
       "text": [
        "                        \r",
        "[2922/3600] KLAX 2012-11\r"
       ]
      },
      {
       "output_type": "stream",
       "stream": "stdout",
       "text": [
        "                        \r",
        "[2923/3600] KLGA 2012-11\r"
       ]
      },
      {
       "output_type": "stream",
       "stream": "stdout",
       "text": [
        "                        \r",
        "[2924/3600] KMCI 2012-11\r"
       ]
      },
      {
       "output_type": "stream",
       "stream": "stdout",
       "text": [
        "                        \r",
        "[2925/3600] KMCO 2012-11\r"
       ]
      },
      {
       "output_type": "stream",
       "stream": "stdout",
       "text": [
        "                        \r",
        "[2926/3600] KMDW 2012-11\r"
       ]
      },
      {
       "output_type": "stream",
       "stream": "stdout",
       "text": [
        "                        \r",
        "[2927/3600] KMEM 2012-11\r"
       ]
      },
      {
       "output_type": "stream",
       "stream": "stdout",
       "text": [
        "                        \r",
        "[2928/3600] KMIA 2012-11\r"
       ]
      },
      {
       "output_type": "stream",
       "stream": "stdout",
       "text": [
        "                        \r",
        "[2929/3600] KMKE 2012-11\r"
       ]
      },
      {
       "output_type": "stream",
       "stream": "stdout",
       "text": [
        "                        \r",
        "[2930/3600] KMSP 2012-11\r"
       ]
      },
      {
       "output_type": "stream",
       "stream": "stdout",
       "text": [
        "                        \r",
        "[2931/3600] KMSY 2012-11\r"
       ]
      },
      {
       "output_type": "stream",
       "stream": "stdout",
       "text": [
        "                        \r",
        "[2932/3600] KOAK 2012-11\r"
       ]
      },
      {
       "output_type": "stream",
       "stream": "stdout",
       "text": [
        "                        \r",
        "[2933/3600] KORD 2012-11\r"
       ]
      },
      {
       "output_type": "stream",
       "stream": "stdout",
       "text": [
        "                        \r",
        "[2934/3600] KPDX 2012-11\r"
       ]
      },
      {
       "output_type": "stream",
       "stream": "stdout",
       "text": [
        "                        \r",
        "[2935/3600] KPHL 2012-11\r"
       ]
      },
      {
       "output_type": "stream",
       "stream": "stdout",
       "text": [
        "                        \r",
        "[2936/3600] KPHX 2012-11\r"
       ]
      },
      {
       "output_type": "stream",
       "stream": "stdout",
       "text": [
        "                        \r",
        "[2937/3600] KPIT 2012-11\r"
       ]
      },
      {
       "output_type": "stream",
       "stream": "stdout",
       "text": [
        "                        \r",
        "[2938/3600] KRDU 2012-11\r"
       ]
      },
      {
       "output_type": "stream",
       "stream": "stdout",
       "text": [
        "                        \r",
        "[2939/3600] KSAN 2012-11\r"
       ]
      },
      {
       "output_type": "stream",
       "stream": "stdout",
       "text": [
        "                        \r",
        "[2940/3600] KSAT 2012-11\r"
       ]
      },
      {
       "output_type": "stream",
       "stream": "stdout",
       "text": [
        "                        \r",
        "[2941/3600] KSEA 2012-11\r"
       ]
      },
      {
       "output_type": "stream",
       "stream": "stdout",
       "text": [
        "                        \r",
        "[2942/3600] KSFO 2012-11\r"
       ]
      },
      {
       "output_type": "stream",
       "stream": "stdout",
       "text": [
        "                        \r",
        "[2943/3600] KSJC 2012-11\r"
       ]
      },
      {
       "output_type": "stream",
       "stream": "stdout",
       "text": [
        "                        \r",
        "[2944/3600] KSLC 2012-11\r"
       ]
      },
      {
       "output_type": "stream",
       "stream": "stdout",
       "text": [
        "                        \r",
        "[2945/3600] KSMF 2012-11\r"
       ]
      },
      {
       "output_type": "stream",
       "stream": "stdout",
       "text": [
        "                        \r",
        "[2946/3600] KSNA 2012-11\r"
       ]
      },
      {
       "output_type": "stream",
       "stream": "stdout",
       "text": [
        "                        \r",
        "[2947/3600] KSTL 2012-11\r"
       ]
      },
      {
       "output_type": "stream",
       "stream": "stdout",
       "text": [
        "                        \r",
        "[2948/3600] KTPA 2012-11\r"
       ]
      },
      {
       "output_type": "stream",
       "stream": "stdout",
       "text": [
        "                        \r",
        "[2949/3600] PHNL 2012-11\r"
       ]
      },
      {
       "output_type": "stream",
       "stream": "stdout",
       "text": [
        "                        \r",
        "[2950/3600] TJSJ 2012-11\r"
       ]
      },
      {
       "output_type": "stream",
       "stream": "stdout",
       "text": [
        "                        \r",
        "[2951/3600] KATL 2012-12\r"
       ]
      },
      {
       "output_type": "stream",
       "stream": "stdout",
       "text": [
        "                        \r",
        "[2952/3600] KAUS 2012-12\r"
       ]
      },
      {
       "output_type": "stream",
       "stream": "stdout",
       "text": [
        "                        \r",
        "[2953/3600] KBNA 2012-12\r"
       ]
      },
      {
       "output_type": "stream",
       "stream": "stdout",
       "text": [
        "                        \r",
        "[2954/3600] KBOS 2012-12\r"
       ]
      },
      {
       "output_type": "stream",
       "stream": "stdout",
       "text": [
        "                        \r",
        "[2955/3600] KBWI 2012-12\r"
       ]
      },
      {
       "output_type": "stream",
       "stream": "stdout",
       "text": [
        "                        \r",
        "[2956/3600] KCLE 2012-12\r"
       ]
      },
      {
       "output_type": "stream",
       "stream": "stdout",
       "text": [
        "                        \r",
        "[2957/3600] KCLT 2012-12\r"
       ]
      },
      {
       "output_type": "stream",
       "stream": "stdout",
       "text": [
        "                        \r",
        "[2958/3600] KCVG 2012-12\r"
       ]
      },
      {
       "output_type": "stream",
       "stream": "stdout",
       "text": [
        "                        \r",
        "[2959/3600] KDAL 2012-12\r"
       ]
      },
      {
       "output_type": "stream",
       "stream": "stdout",
       "text": [
        "                        \r",
        "[2960/3600] KDCA 2012-12\r"
       ]
      },
      {
       "output_type": "stream",
       "stream": "stdout",
       "text": [
        "                        \r",
        "[2961/3600] KDEN 2012-12\r"
       ]
      },
      {
       "output_type": "stream",
       "stream": "stdout",
       "text": [
        "                        \r",
        "[2962/3600] KDFW 2012-12\r"
       ]
      },
      {
       "output_type": "stream",
       "stream": "stdout",
       "text": [
        "                        \r",
        "[2963/3600] KDTW 2012-12\r"
       ]
      },
      {
       "output_type": "stream",
       "stream": "stdout",
       "text": [
        "                        \r",
        "[2964/3600] KEWR 2012-12\r"
       ]
      },
      {
       "output_type": "stream",
       "stream": "stdout",
       "text": [
        "                        \r",
        "[2965/3600] KFLL 2012-12\r"
       ]
      },
      {
       "output_type": "stream",
       "stream": "stdout",
       "text": [
        "                        \r",
        "[2966/3600] KHOU 2012-12\r"
       ]
      },
      {
       "output_type": "stream",
       "stream": "stdout",
       "text": [
        "                        \r",
        "[2967/3600] KIAD 2012-12\r"
       ]
      },
      {
       "output_type": "stream",
       "stream": "stdout",
       "text": [
        "                        \r",
        "[2968/3600] KIAH 2012-12\r"
       ]
      },
      {
       "output_type": "stream",
       "stream": "stdout",
       "text": [
        "                        \r",
        "[2969/3600] KIND 2012-12\r"
       ]
      },
      {
       "output_type": "stream",
       "stream": "stdout",
       "text": [
        "                        \r",
        "[2970/3600] KJFK 2012-12\r"
       ]
      },
      {
       "output_type": "stream",
       "stream": "stdout",
       "text": [
        "                        \r",
        "[2971/3600] KLAS 2012-12\r"
       ]
      },
      {
       "output_type": "stream",
       "stream": "stdout",
       "text": [
        "                        \r",
        "[2972/3600] KLAX 2012-12\r"
       ]
      },
      {
       "output_type": "stream",
       "stream": "stdout",
       "text": [
        "                        \r",
        "[2973/3600] KLGA 2012-12\r"
       ]
      },
      {
       "output_type": "stream",
       "stream": "stdout",
       "text": [
        "                        \r",
        "[2974/3600] KMCI 2012-12\r"
       ]
      },
      {
       "output_type": "stream",
       "stream": "stdout",
       "text": [
        "                        \r",
        "[2975/3600] KMCO 2012-12\r"
       ]
      },
      {
       "output_type": "stream",
       "stream": "stdout",
       "text": [
        "                        \r",
        "[2976/3600] KMDW 2012-12\r"
       ]
      },
      {
       "output_type": "stream",
       "stream": "stdout",
       "text": [
        "                        \r",
        "[2977/3600] KMEM 2012-12\r"
       ]
      },
      {
       "output_type": "stream",
       "stream": "stdout",
       "text": [
        "                        \r",
        "[2978/3600] KMIA 2012-12\r"
       ]
      },
      {
       "output_type": "stream",
       "stream": "stdout",
       "text": [
        "                        \r",
        "[2979/3600] KMKE 2012-12\r"
       ]
      },
      {
       "output_type": "stream",
       "stream": "stdout",
       "text": [
        "                        \r",
        "[2980/3600] KMSP 2012-12\r"
       ]
      },
      {
       "output_type": "stream",
       "stream": "stdout",
       "text": [
        "                        \r",
        "[2981/3600] KMSY 2012-12\r"
       ]
      },
      {
       "output_type": "stream",
       "stream": "stdout",
       "text": [
        "                        \r",
        "[2982/3600] KOAK 2012-12\r"
       ]
      },
      {
       "output_type": "stream",
       "stream": "stdout",
       "text": [
        "                        \r",
        "[2983/3600] KORD 2012-12\r"
       ]
      },
      {
       "output_type": "stream",
       "stream": "stdout",
       "text": [
        "                        \r",
        "[2984/3600] KPDX 2012-12\r"
       ]
      },
      {
       "output_type": "stream",
       "stream": "stdout",
       "text": [
        "                        \r",
        "[2985/3600] KPHL 2012-12\r"
       ]
      },
      {
       "output_type": "stream",
       "stream": "stdout",
       "text": [
        "                        \r",
        "[2986/3600] KPHX 2012-12\r"
       ]
      },
      {
       "output_type": "stream",
       "stream": "stdout",
       "text": [
        "                        \r",
        "[2987/3600] KPIT 2012-12\r"
       ]
      },
      {
       "output_type": "stream",
       "stream": "stdout",
       "text": [
        "                        \r",
        "[2988/3600] KRDU 2012-12\r"
       ]
      },
      {
       "output_type": "stream",
       "stream": "stdout",
       "text": [
        "                        \r",
        "[2989/3600] KSAN 2012-12\r"
       ]
      },
      {
       "output_type": "stream",
       "stream": "stdout",
       "text": [
        "                        \r",
        "[2990/3600] KSAT 2012-12\r"
       ]
      },
      {
       "output_type": "stream",
       "stream": "stdout",
       "text": [
        "                        \r",
        "[2991/3600] KSEA 2012-12\r"
       ]
      },
      {
       "output_type": "stream",
       "stream": "stdout",
       "text": [
        "                        \r",
        "[2992/3600] KSFO 2012-12\r"
       ]
      },
      {
       "output_type": "stream",
       "stream": "stdout",
       "text": [
        "                        \r",
        "[2993/3600] KSJC 2012-12\r"
       ]
      },
      {
       "output_type": "stream",
       "stream": "stdout",
       "text": [
        "                        \r",
        "[2994/3600] KSLC 2012-12\r"
       ]
      },
      {
       "output_type": "stream",
       "stream": "stdout",
       "text": [
        "                        \r",
        "[2995/3600] KSMF 2012-12\r"
       ]
      },
      {
       "output_type": "stream",
       "stream": "stdout",
       "text": [
        "                        \r",
        "[2996/3600] KSNA 2012-12\r"
       ]
      },
      {
       "output_type": "stream",
       "stream": "stdout",
       "text": [
        "                        \r",
        "[2997/3600] KSTL 2012-12\r"
       ]
      },
      {
       "output_type": "stream",
       "stream": "stdout",
       "text": [
        "                        \r",
        "[2998/3600] KTPA 2012-12\r"
       ]
      },
      {
       "output_type": "stream",
       "stream": "stdout",
       "text": [
        "                        \r",
        "[2999/3600] PHNL 2012-12\r"
       ]
      },
      {
       "output_type": "stream",
       "stream": "stdout",
       "text": [
        "                        \r",
        "[3000/3600] TJSJ 2012-12\r"
       ]
      },
      {
       "output_type": "stream",
       "stream": "stdout",
       "text": [
        "                        \r",
        "[3001/3600] KATL 2013-1\r"
       ]
      },
      {
       "output_type": "stream",
       "stream": "stdout",
       "text": [
        "                       \r",
        "[3002/3600] KAUS 2013-1\r"
       ]
      },
      {
       "output_type": "stream",
       "stream": "stdout",
       "text": [
        "                       \r",
        "[3003/3600] KBNA 2013-1\r"
       ]
      },
      {
       "output_type": "stream",
       "stream": "stdout",
       "text": [
        "                       \r",
        "[3004/3600] KBOS 2013-1\r"
       ]
      },
      {
       "output_type": "stream",
       "stream": "stdout",
       "text": [
        "                       \r",
        "[3005/3600] KBWI 2013-1\r"
       ]
      },
      {
       "output_type": "stream",
       "stream": "stdout",
       "text": [
        "                       \r",
        "[3006/3600] KCLE 2013-1\r"
       ]
      },
      {
       "output_type": "stream",
       "stream": "stdout",
       "text": [
        "                       \r",
        "[3007/3600] KCLT 2013-1\r"
       ]
      },
      {
       "output_type": "stream",
       "stream": "stdout",
       "text": [
        "                       \r",
        "[3008/3600] KCVG 2013-1\r"
       ]
      },
      {
       "output_type": "stream",
       "stream": "stdout",
       "text": [
        "                       \r",
        "[3009/3600] KDAL 2013-1\r"
       ]
      },
      {
       "output_type": "stream",
       "stream": "stdout",
       "text": [
        "                       \r",
        "[3010/3600] KDCA 2013-1\r"
       ]
      },
      {
       "output_type": "stream",
       "stream": "stdout",
       "text": [
        "                       \r",
        "[3011/3600] KDEN 2013-1\r"
       ]
      },
      {
       "output_type": "stream",
       "stream": "stdout",
       "text": [
        "                       \r",
        "[3012/3600] KDFW 2013-1\r"
       ]
      },
      {
       "output_type": "stream",
       "stream": "stdout",
       "text": [
        "                       \r",
        "[3013/3600] KDTW 2013-1\r"
       ]
      },
      {
       "output_type": "stream",
       "stream": "stdout",
       "text": [
        "                       \r",
        "[3014/3600] KEWR 2013-1\r"
       ]
      },
      {
       "output_type": "stream",
       "stream": "stdout",
       "text": [
        "                       \r",
        "[3015/3600] KFLL 2013-1\r"
       ]
      },
      {
       "output_type": "stream",
       "stream": "stdout",
       "text": [
        "                       \r",
        "[3016/3600] KHOU 2013-1\r"
       ]
      },
      {
       "output_type": "stream",
       "stream": "stdout",
       "text": [
        "                       \r",
        "[3017/3600] KIAD 2013-1\r"
       ]
      },
      {
       "output_type": "stream",
       "stream": "stdout",
       "text": [
        "                       \r",
        "[3018/3600] KIAH 2013-1\r"
       ]
      },
      {
       "output_type": "stream",
       "stream": "stdout",
       "text": [
        "                       \r",
        "[3019/3600] KIND 2013-1\r"
       ]
      },
      {
       "output_type": "stream",
       "stream": "stdout",
       "text": [
        "                       \r",
        "[3020/3600] KJFK 2013-1\r"
       ]
      },
      {
       "output_type": "stream",
       "stream": "stdout",
       "text": [
        "                       \r",
        "[3021/3600] KLAS 2013-1\r"
       ]
      },
      {
       "output_type": "stream",
       "stream": "stdout",
       "text": [
        "                       \r",
        "[3022/3600] KLAX 2013-1\r"
       ]
      },
      {
       "output_type": "stream",
       "stream": "stdout",
       "text": [
        "                       \r",
        "[3023/3600] KLGA 2013-1\r"
       ]
      },
      {
       "output_type": "stream",
       "stream": "stdout",
       "text": [
        "                       \r",
        "[3024/3600] KMCI 2013-1\r"
       ]
      },
      {
       "output_type": "stream",
       "stream": "stdout",
       "text": [
        "                       \r",
        "[3025/3600] KMCO 2013-1\r"
       ]
      },
      {
       "output_type": "stream",
       "stream": "stdout",
       "text": [
        "                       \r",
        "[3026/3600] KMDW 2013-1\r"
       ]
      },
      {
       "output_type": "stream",
       "stream": "stdout",
       "text": [
        "                       \r",
        "[3027/3600] KMEM 2013-1\r"
       ]
      },
      {
       "output_type": "stream",
       "stream": "stdout",
       "text": [
        "                       \r",
        "[3028/3600] KMIA 2013-1\r"
       ]
      },
      {
       "output_type": "stream",
       "stream": "stdout",
       "text": [
        "                       \r",
        "[3029/3600] KMKE 2013-1\r"
       ]
      },
      {
       "output_type": "stream",
       "stream": "stdout",
       "text": [
        "                       \r",
        "[3030/3600] KMSP 2013-1\r"
       ]
      },
      {
       "output_type": "stream",
       "stream": "stdout",
       "text": [
        "                       \r",
        "[3031/3600] KMSY 2013-1\r"
       ]
      },
      {
       "output_type": "stream",
       "stream": "stdout",
       "text": [
        "                       \r",
        "[3032/3600] KOAK 2013-1\r"
       ]
      },
      {
       "output_type": "stream",
       "stream": "stdout",
       "text": [
        "                       \r",
        "[3033/3600] KORD 2013-1\r"
       ]
      },
      {
       "output_type": "stream",
       "stream": "stdout",
       "text": [
        "                       \r",
        "[3034/3600] KPDX 2013-1\r"
       ]
      },
      {
       "output_type": "stream",
       "stream": "stdout",
       "text": [
        "                       \r",
        "[3035/3600] KPHL 2013-1\r"
       ]
      },
      {
       "output_type": "stream",
       "stream": "stdout",
       "text": [
        "                       \r",
        "[3036/3600] KPHX 2013-1\r"
       ]
      },
      {
       "output_type": "stream",
       "stream": "stdout",
       "text": [
        "                       \r",
        "[3037/3600] KPIT 2013-1\r"
       ]
      },
      {
       "output_type": "stream",
       "stream": "stdout",
       "text": [
        "                       \r",
        "[3038/3600] KRDU 2013-1\r"
       ]
      },
      {
       "output_type": "stream",
       "stream": "stdout",
       "text": [
        "                       \r",
        "[3039/3600] KSAN 2013-1\r"
       ]
      },
      {
       "output_type": "stream",
       "stream": "stdout",
       "text": [
        "                       \r",
        "[3040/3600] KSAT 2013-1\r"
       ]
      },
      {
       "output_type": "stream",
       "stream": "stdout",
       "text": [
        "                       \r",
        "[3041/3600] KSEA 2013-1\r"
       ]
      },
      {
       "output_type": "stream",
       "stream": "stdout",
       "text": [
        "                       \r",
        "[3042/3600] KSFO 2013-1\r"
       ]
      },
      {
       "output_type": "stream",
       "stream": "stdout",
       "text": [
        "                       \r",
        "[3043/3600] KSJC 2013-1\r"
       ]
      },
      {
       "output_type": "stream",
       "stream": "stdout",
       "text": [
        "                       \r",
        "[3044/3600] KSLC 2013-1\r"
       ]
      },
      {
       "output_type": "stream",
       "stream": "stdout",
       "text": [
        "                       \r",
        "[3045/3600] KSMF 2013-1\r"
       ]
      },
      {
       "output_type": "stream",
       "stream": "stdout",
       "text": [
        "                       \r",
        "[3046/3600] KSNA 2013-1\r"
       ]
      },
      {
       "output_type": "stream",
       "stream": "stdout",
       "text": [
        "                       \r",
        "[3047/3600] KSTL 2013-1\r"
       ]
      },
      {
       "output_type": "stream",
       "stream": "stdout",
       "text": [
        "                       \r",
        "[3048/3600] KTPA 2013-1\r"
       ]
      },
      {
       "output_type": "stream",
       "stream": "stdout",
       "text": [
        "                       \r",
        "[3049/3600] PHNL 2013-1\r"
       ]
      },
      {
       "output_type": "stream",
       "stream": "stdout",
       "text": [
        "                       \r",
        "[3050/3600] TJSJ 2013-1\r"
       ]
      },
      {
       "output_type": "stream",
       "stream": "stdout",
       "text": [
        "                       \r",
        "[3051/3600] KATL 2013-2\r"
       ]
      },
      {
       "output_type": "stream",
       "stream": "stdout",
       "text": [
        "                       \r",
        "[3052/3600] KAUS 2013-2\r"
       ]
      },
      {
       "output_type": "stream",
       "stream": "stdout",
       "text": [
        "                       \r",
        "[3053/3600] KBNA 2013-2\r"
       ]
      },
      {
       "output_type": "stream",
       "stream": "stdout",
       "text": [
        "                       \r",
        "[3054/3600] KBOS 2013-2\r"
       ]
      },
      {
       "output_type": "stream",
       "stream": "stdout",
       "text": [
        "                       \r",
        "[3055/3600] KBWI 2013-2\r"
       ]
      },
      {
       "output_type": "stream",
       "stream": "stdout",
       "text": [
        "                       \r",
        "[3056/3600] KCLE 2013-2\r"
       ]
      },
      {
       "output_type": "stream",
       "stream": "stdout",
       "text": [
        "                       \r",
        "[3057/3600] KCLT 2013-2\r"
       ]
      },
      {
       "output_type": "stream",
       "stream": "stdout",
       "text": [
        "                       \r",
        "[3058/3600] KCVG 2013-2\r"
       ]
      },
      {
       "output_type": "stream",
       "stream": "stdout",
       "text": [
        "                       \r",
        "[3059/3600] KDAL 2013-2\r"
       ]
      },
      {
       "output_type": "stream",
       "stream": "stdout",
       "text": [
        "                       \r",
        "[3060/3600] KDCA 2013-2\r"
       ]
      },
      {
       "output_type": "stream",
       "stream": "stdout",
       "text": [
        "                       \r",
        "[3061/3600] KDEN 2013-2\r"
       ]
      },
      {
       "output_type": "stream",
       "stream": "stdout",
       "text": [
        "                       \r",
        "[3062/3600] KDFW 2013-2\r"
       ]
      },
      {
       "output_type": "stream",
       "stream": "stdout",
       "text": [
        "                       \r",
        "[3063/3600] KDTW 2013-2\r"
       ]
      },
      {
       "output_type": "stream",
       "stream": "stdout",
       "text": [
        "                       \r",
        "[3064/3600] KEWR 2013-2\r"
       ]
      },
      {
       "output_type": "stream",
       "stream": "stdout",
       "text": [
        "                       \r",
        "[3065/3600] KFLL 2013-2\r"
       ]
      },
      {
       "output_type": "stream",
       "stream": "stdout",
       "text": [
        "                       \r",
        "[3066/3600] KHOU 2013-2\r"
       ]
      },
      {
       "output_type": "stream",
       "stream": "stdout",
       "text": [
        "                       \r",
        "[3067/3600] KIAD 2013-2\r"
       ]
      },
      {
       "output_type": "stream",
       "stream": "stdout",
       "text": [
        "                       \r",
        "[3068/3600] KIAH 2013-2\r"
       ]
      },
      {
       "output_type": "stream",
       "stream": "stdout",
       "text": [
        "                       \r",
        "[3069/3600] KIND 2013-2\r"
       ]
      },
      {
       "output_type": "stream",
       "stream": "stdout",
       "text": [
        "                       \r",
        "[3070/3600] KJFK 2013-2\r"
       ]
      },
      {
       "output_type": "stream",
       "stream": "stdout",
       "text": [
        "                       \r",
        "[3071/3600] KLAS 2013-2\r"
       ]
      },
      {
       "output_type": "stream",
       "stream": "stdout",
       "text": [
        "                       \r",
        "[3072/3600] KLAX 2013-2\r"
       ]
      },
      {
       "output_type": "stream",
       "stream": "stdout",
       "text": [
        "                       \r",
        "[3073/3600] KLGA 2013-2\r"
       ]
      },
      {
       "output_type": "stream",
       "stream": "stdout",
       "text": [
        "                       \r",
        "[3074/3600] KMCI 2013-2\r"
       ]
      },
      {
       "output_type": "stream",
       "stream": "stdout",
       "text": [
        "                       \r",
        "[3075/3600] KMCO 2013-2\r"
       ]
      },
      {
       "output_type": "stream",
       "stream": "stdout",
       "text": [
        "                       \r",
        "[3076/3600] KMDW 2013-2\r"
       ]
      },
      {
       "output_type": "stream",
       "stream": "stdout",
       "text": [
        "                       \r",
        "[3077/3600] KMEM 2013-2\r"
       ]
      },
      {
       "output_type": "stream",
       "stream": "stdout",
       "text": [
        "                       \r",
        "[3078/3600] KMIA 2013-2\r"
       ]
      },
      {
       "output_type": "stream",
       "stream": "stdout",
       "text": [
        "                       \r",
        "[3079/3600] KMKE 2013-2\r"
       ]
      },
      {
       "output_type": "stream",
       "stream": "stdout",
       "text": [
        "                       \r",
        "[3080/3600] KMSP 2013-2\r"
       ]
      },
      {
       "output_type": "stream",
       "stream": "stdout",
       "text": [
        "                       \r",
        "[3081/3600] KMSY 2013-2\r"
       ]
      },
      {
       "output_type": "stream",
       "stream": "stdout",
       "text": [
        "                       \r",
        "[3082/3600] KOAK 2013-2\r"
       ]
      },
      {
       "output_type": "stream",
       "stream": "stdout",
       "text": [
        "                       \r",
        "[3083/3600] KORD 2013-2\r"
       ]
      },
      {
       "output_type": "stream",
       "stream": "stdout",
       "text": [
        "                       \r",
        "[3084/3600] KPDX 2013-2\r"
       ]
      },
      {
       "output_type": "stream",
       "stream": "stdout",
       "text": [
        "                       \r",
        "[3085/3600] KPHL 2013-2\r"
       ]
      },
      {
       "output_type": "stream",
       "stream": "stdout",
       "text": [
        "                       \r",
        "[3086/3600] KPHX 2013-2\r"
       ]
      },
      {
       "output_type": "stream",
       "stream": "stdout",
       "text": [
        "                       \r",
        "[3087/3600] KPIT 2013-2\r"
       ]
      },
      {
       "output_type": "stream",
       "stream": "stdout",
       "text": [
        "                       \r",
        "[3088/3600] KRDU 2013-2\r"
       ]
      },
      {
       "output_type": "stream",
       "stream": "stdout",
       "text": [
        "                       \r",
        "[3089/3600] KSAN 2013-2\r"
       ]
      },
      {
       "output_type": "stream",
       "stream": "stdout",
       "text": [
        "                       \r",
        "[3090/3600] KSAT 2013-2\r"
       ]
      },
      {
       "output_type": "stream",
       "stream": "stdout",
       "text": [
        "                       \r",
        "[3091/3600] KSEA 2013-2\r"
       ]
      },
      {
       "output_type": "stream",
       "stream": "stdout",
       "text": [
        "                       \r",
        "[3092/3600] KSFO 2013-2\r"
       ]
      },
      {
       "output_type": "stream",
       "stream": "stdout",
       "text": [
        "                       \r",
        "[3093/3600] KSJC 2013-2\r"
       ]
      },
      {
       "output_type": "stream",
       "stream": "stdout",
       "text": [
        "                       \r",
        "[3094/3600] KSLC 2013-2\r"
       ]
      },
      {
       "output_type": "stream",
       "stream": "stdout",
       "text": [
        "                       \r",
        "[3095/3600] KSMF 2013-2\r"
       ]
      },
      {
       "output_type": "stream",
       "stream": "stdout",
       "text": [
        "                       \r",
        "[3096/3600] KSNA 2013-2\r"
       ]
      },
      {
       "output_type": "stream",
       "stream": "stdout",
       "text": [
        "                       \r",
        "[3097/3600] KSTL 2013-2\r"
       ]
      },
      {
       "output_type": "stream",
       "stream": "stdout",
       "text": [
        "                       \r",
        "[3098/3600] KTPA 2013-2\r"
       ]
      },
      {
       "output_type": "stream",
       "stream": "stdout",
       "text": [
        "                       \r",
        "[3099/3600] PHNL 2013-2\r"
       ]
      },
      {
       "output_type": "stream",
       "stream": "stdout",
       "text": [
        "                       \r",
        "[3100/3600] TJSJ 2013-2\r"
       ]
      },
      {
       "output_type": "stream",
       "stream": "stdout",
       "text": [
        "                       \r",
        "[3101/3600] KATL 2013-3\r"
       ]
      },
      {
       "output_type": "stream",
       "stream": "stdout",
       "text": [
        "                       \r",
        "[3102/3600] KAUS 2013-3\r"
       ]
      },
      {
       "output_type": "stream",
       "stream": "stdout",
       "text": [
        "                       \r",
        "[3103/3600] KBNA 2013-3\r"
       ]
      },
      {
       "output_type": "stream",
       "stream": "stdout",
       "text": [
        "                       \r",
        "[3104/3600] KBOS 2013-3\r"
       ]
      },
      {
       "output_type": "stream",
       "stream": "stdout",
       "text": [
        "                       \r",
        "[3105/3600] KBWI 2013-3\r"
       ]
      },
      {
       "output_type": "stream",
       "stream": "stdout",
       "text": [
        "                       \r",
        "[3106/3600] KCLE 2013-3\r"
       ]
      },
      {
       "output_type": "stream",
       "stream": "stdout",
       "text": [
        "                       \r",
        "[3107/3600] KCLT 2013-3\r"
       ]
      },
      {
       "output_type": "stream",
       "stream": "stdout",
       "text": [
        "                       \r",
        "[3108/3600] KCVG 2013-3\r"
       ]
      },
      {
       "output_type": "stream",
       "stream": "stdout",
       "text": [
        "                       \r",
        "[3109/3600] KDAL 2013-3\r"
       ]
      },
      {
       "output_type": "stream",
       "stream": "stdout",
       "text": [
        "                       \r",
        "[3110/3600] KDCA 2013-3\r"
       ]
      },
      {
       "output_type": "stream",
       "stream": "stdout",
       "text": [
        "                       \r",
        "[3111/3600] KDEN 2013-3\r"
       ]
      },
      {
       "output_type": "stream",
       "stream": "stdout",
       "text": [
        "                       \r",
        "[3112/3600] KDFW 2013-3\r"
       ]
      },
      {
       "output_type": "stream",
       "stream": "stdout",
       "text": [
        "                       \r",
        "[3113/3600] KDTW 2013-3\r"
       ]
      },
      {
       "output_type": "stream",
       "stream": "stdout",
       "text": [
        "                       \r",
        "[3114/3600] KEWR 2013-3\r"
       ]
      },
      {
       "output_type": "stream",
       "stream": "stdout",
       "text": [
        "                       \r",
        "[3115/3600] KFLL 2013-3\r"
       ]
      },
      {
       "output_type": "stream",
       "stream": "stdout",
       "text": [
        "                       \r",
        "[3116/3600] KHOU 2013-3\r"
       ]
      },
      {
       "output_type": "stream",
       "stream": "stdout",
       "text": [
        "                       \r",
        "[3117/3600] KIAD 2013-3\r"
       ]
      },
      {
       "output_type": "stream",
       "stream": "stdout",
       "text": [
        "                       \r",
        "[3118/3600] KIAH 2013-3\r"
       ]
      },
      {
       "output_type": "stream",
       "stream": "stdout",
       "text": [
        "                       \r",
        "[3119/3600] KIND 2013-3\r"
       ]
      },
      {
       "output_type": "stream",
       "stream": "stdout",
       "text": [
        "                       \r",
        "[3120/3600] KJFK 2013-3\r"
       ]
      },
      {
       "output_type": "stream",
       "stream": "stdout",
       "text": [
        "                       \r",
        "[3121/3600] KLAS 2013-3\r"
       ]
      },
      {
       "output_type": "stream",
       "stream": "stdout",
       "text": [
        "                       \r",
        "[3122/3600] KLAX 2013-3\r"
       ]
      },
      {
       "output_type": "stream",
       "stream": "stdout",
       "text": [
        "                       \r",
        "[3123/3600] KLGA 2013-3\r"
       ]
      },
      {
       "output_type": "stream",
       "stream": "stdout",
       "text": [
        "                       \r",
        "[3124/3600] KMCI 2013-3\r"
       ]
      },
      {
       "output_type": "stream",
       "stream": "stdout",
       "text": [
        "                       \r",
        "[3125/3600] KMCO 2013-3\r"
       ]
      },
      {
       "output_type": "stream",
       "stream": "stdout",
       "text": [
        "                       \r",
        "[3126/3600] KMDW 2013-3\r"
       ]
      },
      {
       "output_type": "stream",
       "stream": "stdout",
       "text": [
        "                       \r",
        "[3127/3600] KMEM 2013-3\r"
       ]
      },
      {
       "output_type": "stream",
       "stream": "stdout",
       "text": [
        "                       \r",
        "[3128/3600] KMIA 2013-3\r"
       ]
      },
      {
       "output_type": "stream",
       "stream": "stdout",
       "text": [
        "                       \r",
        "[3129/3600] KMKE 2013-3\r"
       ]
      },
      {
       "output_type": "stream",
       "stream": "stdout",
       "text": [
        "                       \r",
        "[3130/3600] KMSP 2013-3\r"
       ]
      },
      {
       "output_type": "stream",
       "stream": "stdout",
       "text": [
        "                       \r",
        "[3131/3600] KMSY 2013-3\r"
       ]
      },
      {
       "output_type": "stream",
       "stream": "stdout",
       "text": [
        "                       \r",
        "[3132/3600] KOAK 2013-3\r"
       ]
      },
      {
       "output_type": "stream",
       "stream": "stdout",
       "text": [
        "                       \r",
        "[3133/3600] KORD 2013-3\r"
       ]
      },
      {
       "output_type": "stream",
       "stream": "stdout",
       "text": [
        "                       \r",
        "[3134/3600] KPDX 2013-3\r"
       ]
      },
      {
       "output_type": "stream",
       "stream": "stdout",
       "text": [
        "                       \r",
        "[3135/3600] KPHL 2013-3\r"
       ]
      },
      {
       "output_type": "stream",
       "stream": "stdout",
       "text": [
        "                       \r",
        "[3136/3600] KPHX 2013-3\r"
       ]
      },
      {
       "output_type": "stream",
       "stream": "stdout",
       "text": [
        "                       \r",
        "[3137/3600] KPIT 2013-3\r"
       ]
      },
      {
       "output_type": "stream",
       "stream": "stdout",
       "text": [
        "                       \r",
        "[3138/3600] KRDU 2013-3\r"
       ]
      },
      {
       "output_type": "stream",
       "stream": "stdout",
       "text": [
        "                       \r",
        "[3139/3600] KSAN 2013-3\r"
       ]
      },
      {
       "output_type": "stream",
       "stream": "stdout",
       "text": [
        "                       \r",
        "[3140/3600] KSAT 2013-3\r"
       ]
      },
      {
       "output_type": "stream",
       "stream": "stdout",
       "text": [
        "                       \r",
        "[3141/3600] KSEA 2013-3\r"
       ]
      },
      {
       "output_type": "stream",
       "stream": "stdout",
       "text": [
        "                       \r",
        "[3142/3600] KSFO 2013-3\r"
       ]
      },
      {
       "output_type": "stream",
       "stream": "stdout",
       "text": [
        "                       \r",
        "[3143/3600] KSJC 2013-3\r"
       ]
      },
      {
       "output_type": "stream",
       "stream": "stdout",
       "text": [
        "                       \r",
        "[3144/3600] KSLC 2013-3\r"
       ]
      },
      {
       "output_type": "stream",
       "stream": "stdout",
       "text": [
        "                       \r",
        "[3145/3600] KSMF 2013-3\r"
       ]
      },
      {
       "output_type": "stream",
       "stream": "stdout",
       "text": [
        "                       \r",
        "[3146/3600] KSNA 2013-3\r"
       ]
      },
      {
       "output_type": "stream",
       "stream": "stdout",
       "text": [
        "                       \r",
        "[3147/3600] KSTL 2013-3\r"
       ]
      },
      {
       "output_type": "stream",
       "stream": "stdout",
       "text": [
        "                       \r",
        "[3148/3600] KTPA 2013-3\r"
       ]
      },
      {
       "output_type": "stream",
       "stream": "stdout",
       "text": [
        "                       \r",
        "[3149/3600] PHNL 2013-3\r"
       ]
      },
      {
       "output_type": "stream",
       "stream": "stdout",
       "text": [
        "                       \r",
        "[3150/3600] TJSJ 2013-3\r"
       ]
      },
      {
       "output_type": "stream",
       "stream": "stdout",
       "text": [
        "                       \r",
        "[3151/3600] KATL 2013-4\r"
       ]
      },
      {
       "output_type": "stream",
       "stream": "stdout",
       "text": [
        "                       \r",
        "[3152/3600] KAUS 2013-4\r"
       ]
      },
      {
       "output_type": "stream",
       "stream": "stdout",
       "text": [
        "                       \r",
        "[3153/3600] KBNA 2013-4\r"
       ]
      },
      {
       "output_type": "stream",
       "stream": "stdout",
       "text": [
        "                       \r",
        "[3154/3600] KBOS 2013-4\r"
       ]
      },
      {
       "output_type": "stream",
       "stream": "stdout",
       "text": [
        "                       \r",
        "[3155/3600] KBWI 2013-4\r"
       ]
      },
      {
       "output_type": "stream",
       "stream": "stdout",
       "text": [
        "                       \r",
        "[3156/3600] KCLE 2013-4\r"
       ]
      },
      {
       "output_type": "stream",
       "stream": "stdout",
       "text": [
        "                       \r",
        "[3157/3600] KCLT 2013-4\r"
       ]
      },
      {
       "output_type": "stream",
       "stream": "stdout",
       "text": [
        "                       \r",
        "[3158/3600] KCVG 2013-4\r"
       ]
      },
      {
       "output_type": "stream",
       "stream": "stdout",
       "text": [
        "                       \r",
        "[3159/3600] KDAL 2013-4\r"
       ]
      },
      {
       "output_type": "stream",
       "stream": "stdout",
       "text": [
        "                       \r",
        "[3160/3600] KDCA 2013-4\r"
       ]
      },
      {
       "output_type": "stream",
       "stream": "stdout",
       "text": [
        "                       \r",
        "[3161/3600] KDEN 2013-4\r"
       ]
      },
      {
       "output_type": "stream",
       "stream": "stdout",
       "text": [
        "                       \r",
        "[3162/3600] KDFW 2013-4\r"
       ]
      },
      {
       "output_type": "stream",
       "stream": "stdout",
       "text": [
        "                       \r",
        "[3163/3600] KDTW 2013-4\r"
       ]
      },
      {
       "output_type": "stream",
       "stream": "stdout",
       "text": [
        "                       \r",
        "[3164/3600] KEWR 2013-4\r"
       ]
      },
      {
       "output_type": "stream",
       "stream": "stdout",
       "text": [
        "                       \r",
        "[3165/3600] KFLL 2013-4\r"
       ]
      },
      {
       "output_type": "stream",
       "stream": "stdout",
       "text": [
        "                       \r",
        "[3166/3600] KHOU 2013-4\r"
       ]
      },
      {
       "output_type": "stream",
       "stream": "stdout",
       "text": [
        "                       \r",
        "[3167/3600] KIAD 2013-4\r"
       ]
      },
      {
       "output_type": "stream",
       "stream": "stdout",
       "text": [
        "                       \r",
        "[3168/3600] KIAH 2013-4\r"
       ]
      },
      {
       "output_type": "stream",
       "stream": "stdout",
       "text": [
        "                       \r",
        "[3169/3600] KIND 2013-4\r"
       ]
      },
      {
       "output_type": "stream",
       "stream": "stdout",
       "text": [
        "                       \r",
        "[3170/3600] KJFK 2013-4\r"
       ]
      },
      {
       "output_type": "stream",
       "stream": "stdout",
       "text": [
        "                       \r",
        "[3171/3600] KLAS 2013-4\r"
       ]
      },
      {
       "output_type": "stream",
       "stream": "stdout",
       "text": [
        "                       \r",
        "[3172/3600] KLAX 2013-4\r"
       ]
      },
      {
       "output_type": "stream",
       "stream": "stdout",
       "text": [
        "                       \r",
        "[3173/3600] KLGA 2013-4\r"
       ]
      },
      {
       "output_type": "stream",
       "stream": "stdout",
       "text": [
        "                       \r",
        "[3174/3600] KMCI 2013-4\r"
       ]
      },
      {
       "output_type": "stream",
       "stream": "stdout",
       "text": [
        "                       \r",
        "[3175/3600] KMCO 2013-4\r"
       ]
      },
      {
       "output_type": "stream",
       "stream": "stdout",
       "text": [
        "                       \r",
        "[3176/3600] KMDW 2013-4\r"
       ]
      },
      {
       "output_type": "stream",
       "stream": "stdout",
       "text": [
        "                       \r",
        "[3177/3600] KMEM 2013-4\r"
       ]
      },
      {
       "output_type": "stream",
       "stream": "stdout",
       "text": [
        "                       \r",
        "[3178/3600] KMIA 2013-4\r"
       ]
      },
      {
       "output_type": "stream",
       "stream": "stdout",
       "text": [
        "                       \r",
        "[3179/3600] KMKE 2013-4\r"
       ]
      },
      {
       "output_type": "stream",
       "stream": "stdout",
       "text": [
        "                       \r",
        "[3180/3600] KMSP 2013-4\r"
       ]
      },
      {
       "output_type": "stream",
       "stream": "stdout",
       "text": [
        "                       \r",
        "[3181/3600] KMSY 2013-4\r"
       ]
      },
      {
       "output_type": "stream",
       "stream": "stdout",
       "text": [
        "                       \r",
        "[3182/3600] KOAK 2013-4\r"
       ]
      },
      {
       "output_type": "stream",
       "stream": "stdout",
       "text": [
        "                       \r",
        "[3183/3600] KORD 2013-4\r"
       ]
      },
      {
       "output_type": "stream",
       "stream": "stdout",
       "text": [
        "                       \r",
        "[3184/3600] KPDX 2013-4\r"
       ]
      },
      {
       "output_type": "stream",
       "stream": "stdout",
       "text": [
        "                       \r",
        "[3185/3600] KPHL 2013-4\r"
       ]
      },
      {
       "output_type": "stream",
       "stream": "stdout",
       "text": [
        "                       \r",
        "[3186/3600] KPHX 2013-4\r"
       ]
      },
      {
       "output_type": "stream",
       "stream": "stdout",
       "text": [
        "                       \r",
        "[3187/3600] KPIT 2013-4\r"
       ]
      },
      {
       "output_type": "stream",
       "stream": "stdout",
       "text": [
        "                       \r",
        "[3188/3600] KRDU 2013-4\r"
       ]
      },
      {
       "output_type": "stream",
       "stream": "stdout",
       "text": [
        "                       \r",
        "[3189/3600] KSAN 2013-4\r"
       ]
      },
      {
       "output_type": "stream",
       "stream": "stdout",
       "text": [
        "                       \r",
        "[3190/3600] KSAT 2013-4\r"
       ]
      },
      {
       "output_type": "stream",
       "stream": "stdout",
       "text": [
        "                       \r",
        "[3191/3600] KSEA 2013-4\r"
       ]
      },
      {
       "output_type": "stream",
       "stream": "stdout",
       "text": [
        "                       \r",
        "[3192/3600] KSFO 2013-4\r"
       ]
      },
      {
       "output_type": "stream",
       "stream": "stdout",
       "text": [
        "                       \r",
        "[3193/3600] KSJC 2013-4\r"
       ]
      },
      {
       "output_type": "stream",
       "stream": "stdout",
       "text": [
        "                       \r",
        "[3194/3600] KSLC 2013-4\r"
       ]
      },
      {
       "output_type": "stream",
       "stream": "stdout",
       "text": [
        "                       \r",
        "[3195/3600] KSMF 2013-4\r"
       ]
      },
      {
       "output_type": "stream",
       "stream": "stdout",
       "text": [
        "                       \r",
        "[3196/3600] KSNA 2013-4\r"
       ]
      },
      {
       "output_type": "stream",
       "stream": "stdout",
       "text": [
        "                       \r",
        "[3197/3600] KSTL 2013-4\r"
       ]
      },
      {
       "output_type": "stream",
       "stream": "stdout",
       "text": [
        "                       \r",
        "[3198/3600] KTPA 2013-4\r"
       ]
      },
      {
       "output_type": "stream",
       "stream": "stdout",
       "text": [
        "                       \r",
        "[3199/3600] PHNL 2013-4\r"
       ]
      },
      {
       "output_type": "stream",
       "stream": "stdout",
       "text": [
        "                       \r",
        "[3200/3600] TJSJ 2013-4\r"
       ]
      },
      {
       "output_type": "stream",
       "stream": "stdout",
       "text": [
        "                       \r",
        "[3201/3600] KATL 2013-5\r"
       ]
      },
      {
       "output_type": "stream",
       "stream": "stdout",
       "text": [
        "                       \r",
        "[3202/3600] KAUS 2013-5\r"
       ]
      },
      {
       "output_type": "stream",
       "stream": "stdout",
       "text": [
        "                       \r",
        "[3203/3600] KBNA 2013-5\r"
       ]
      },
      {
       "output_type": "stream",
       "stream": "stdout",
       "text": [
        "                       \r",
        "[3204/3600] KBOS 2013-5\r"
       ]
      },
      {
       "output_type": "stream",
       "stream": "stdout",
       "text": [
        "                       \r",
        "[3205/3600] KBWI 2013-5\r"
       ]
      },
      {
       "output_type": "stream",
       "stream": "stdout",
       "text": [
        "                       \r",
        "[3206/3600] KCLE 2013-5\r"
       ]
      },
      {
       "output_type": "stream",
       "stream": "stdout",
       "text": [
        "                       \r",
        "[3207/3600] KCLT 2013-5\r"
       ]
      },
      {
       "output_type": "stream",
       "stream": "stdout",
       "text": [
        "                       \r",
        "[3208/3600] KCVG 2013-5\r"
       ]
      },
      {
       "output_type": "stream",
       "stream": "stdout",
       "text": [
        "                       \r",
        "[3209/3600] KDAL 2013-5\r"
       ]
      },
      {
       "output_type": "stream",
       "stream": "stdout",
       "text": [
        "                       \r",
        "[3210/3600] KDCA 2013-5\r"
       ]
      },
      {
       "output_type": "stream",
       "stream": "stdout",
       "text": [
        "                       \r",
        "[3211/3600] KDEN 2013-5\r"
       ]
      },
      {
       "output_type": "stream",
       "stream": "stdout",
       "text": [
        "                       \r",
        "[3212/3600] KDFW 2013-5\r"
       ]
      },
      {
       "output_type": "stream",
       "stream": "stdout",
       "text": [
        "                       \r",
        "[3213/3600] KDTW 2013-5\r"
       ]
      },
      {
       "output_type": "stream",
       "stream": "stdout",
       "text": [
        "                       \r",
        "[3214/3600] KEWR 2013-5\r"
       ]
      },
      {
       "output_type": "stream",
       "stream": "stdout",
       "text": [
        "                       \r",
        "[3215/3600] KFLL 2013-5\r"
       ]
      },
      {
       "output_type": "stream",
       "stream": "stdout",
       "text": [
        "                       \r",
        "[3216/3600] KHOU 2013-5\r"
       ]
      },
      {
       "output_type": "stream",
       "stream": "stdout",
       "text": [
        "                       \r",
        "[3217/3600] KIAD 2013-5\r"
       ]
      },
      {
       "output_type": "stream",
       "stream": "stdout",
       "text": [
        "                       \r",
        "[3218/3600] KIAH 2013-5\r"
       ]
      },
      {
       "output_type": "stream",
       "stream": "stdout",
       "text": [
        "                       \r",
        "[3219/3600] KIND 2013-5\r"
       ]
      },
      {
       "output_type": "stream",
       "stream": "stdout",
       "text": [
        "                       \r",
        "[3220/3600] KJFK 2013-5\r"
       ]
      },
      {
       "output_type": "stream",
       "stream": "stdout",
       "text": [
        "                       \r",
        "[3221/3600] KLAS 2013-5\r"
       ]
      },
      {
       "output_type": "stream",
       "stream": "stdout",
       "text": [
        "                       \r",
        "[3222/3600] KLAX 2013-5\r"
       ]
      },
      {
       "output_type": "stream",
       "stream": "stdout",
       "text": [
        "                       \r",
        "[3223/3600] KLGA 2013-5\r"
       ]
      },
      {
       "output_type": "stream",
       "stream": "stdout",
       "text": [
        "                       \r",
        "[3224/3600] KMCI 2013-5\r"
       ]
      },
      {
       "output_type": "stream",
       "stream": "stdout",
       "text": [
        "                       \r",
        "[3225/3600] KMCO 2013-5\r"
       ]
      },
      {
       "output_type": "stream",
       "stream": "stdout",
       "text": [
        "                       \r",
        "[3226/3600] KMDW 2013-5\r"
       ]
      },
      {
       "output_type": "stream",
       "stream": "stdout",
       "text": [
        "                       \r",
        "[3227/3600] KMEM 2013-5\r"
       ]
      },
      {
       "output_type": "stream",
       "stream": "stdout",
       "text": [
        "                       \r",
        "[3228/3600] KMIA 2013-5\r"
       ]
      },
      {
       "output_type": "stream",
       "stream": "stdout",
       "text": [
        "                       \r",
        "[3229/3600] KMKE 2013-5\r"
       ]
      },
      {
       "output_type": "stream",
       "stream": "stdout",
       "text": [
        "                       \r",
        "[3230/3600] KMSP 2013-5\r"
       ]
      },
      {
       "output_type": "stream",
       "stream": "stdout",
       "text": [
        "                       \r",
        "[3231/3600] KMSY 2013-5\r"
       ]
      },
      {
       "output_type": "stream",
       "stream": "stdout",
       "text": [
        "                       \r",
        "[3232/3600] KOAK 2013-5\r"
       ]
      },
      {
       "output_type": "stream",
       "stream": "stdout",
       "text": [
        "                       \r",
        "[3233/3600] KORD 2013-5\r"
       ]
      },
      {
       "output_type": "stream",
       "stream": "stdout",
       "text": [
        "                       \r",
        "[3234/3600] KPDX 2013-5\r"
       ]
      },
      {
       "output_type": "stream",
       "stream": "stdout",
       "text": [
        "                       \r",
        "[3235/3600] KPHL 2013-5\r"
       ]
      },
      {
       "output_type": "stream",
       "stream": "stdout",
       "text": [
        "                       \r",
        "[3236/3600] KPHX 2013-5\r"
       ]
      },
      {
       "output_type": "stream",
       "stream": "stdout",
       "text": [
        "                       \r",
        "[3237/3600] KPIT 2013-5\r"
       ]
      },
      {
       "output_type": "stream",
       "stream": "stdout",
       "text": [
        "                       \r",
        "[3238/3600] KRDU 2013-5\r"
       ]
      },
      {
       "output_type": "stream",
       "stream": "stdout",
       "text": [
        "                       \r",
        "[3239/3600] KSAN 2013-5\r"
       ]
      },
      {
       "output_type": "stream",
       "stream": "stdout",
       "text": [
        "                       \r",
        "[3240/3600] KSAT 2013-5\r"
       ]
      },
      {
       "output_type": "stream",
       "stream": "stdout",
       "text": [
        "                       \r",
        "[3241/3600] KSEA 2013-5\r"
       ]
      },
      {
       "output_type": "stream",
       "stream": "stdout",
       "text": [
        "                       \r",
        "[3242/3600] KSFO 2013-5\r"
       ]
      },
      {
       "output_type": "stream",
       "stream": "stdout",
       "text": [
        "                       \r",
        "[3243/3600] KSJC 2013-5\r"
       ]
      },
      {
       "output_type": "stream",
       "stream": "stdout",
       "text": [
        "                       \r",
        "[3244/3600] KSLC 2013-5\r"
       ]
      },
      {
       "output_type": "stream",
       "stream": "stdout",
       "text": [
        "                       \r",
        "[3245/3600] KSMF 2013-5\r"
       ]
      },
      {
       "output_type": "stream",
       "stream": "stdout",
       "text": [
        "                       \r",
        "[3246/3600] KSNA 2013-5\r"
       ]
      },
      {
       "output_type": "stream",
       "stream": "stdout",
       "text": [
        "                       \r",
        "[3247/3600] KSTL 2013-5\r"
       ]
      },
      {
       "output_type": "stream",
       "stream": "stdout",
       "text": [
        "                       \r",
        "[3248/3600] KTPA 2013-5\r"
       ]
      },
      {
       "output_type": "stream",
       "stream": "stdout",
       "text": [
        "                       \r",
        "[3249/3600] PHNL 2013-5\r"
       ]
      },
      {
       "output_type": "stream",
       "stream": "stdout",
       "text": [
        "                       \r",
        "[3250/3600] TJSJ 2013-5\r"
       ]
      },
      {
       "output_type": "stream",
       "stream": "stdout",
       "text": [
        "                       \r",
        "[3251/3600] KATL 2013-6\r"
       ]
      },
      {
       "output_type": "stream",
       "stream": "stdout",
       "text": [
        "                       \r",
        "[3252/3600] KAUS 2013-6\r"
       ]
      },
      {
       "output_type": "stream",
       "stream": "stdout",
       "text": [
        "                       \r",
        "[3253/3600] KBNA 2013-6\r"
       ]
      },
      {
       "output_type": "stream",
       "stream": "stdout",
       "text": [
        "                       \r",
        "[3254/3600] KBOS 2013-6\r"
       ]
      },
      {
       "output_type": "stream",
       "stream": "stdout",
       "text": [
        "                       \r",
        "[3255/3600] KBWI 2013-6\r"
       ]
      },
      {
       "output_type": "stream",
       "stream": "stdout",
       "text": [
        "                       \r",
        "[3256/3600] KCLE 2013-6\r"
       ]
      },
      {
       "output_type": "stream",
       "stream": "stdout",
       "text": [
        "                       \r",
        "[3257/3600] KCLT 2013-6\r"
       ]
      },
      {
       "output_type": "stream",
       "stream": "stdout",
       "text": [
        "                       \r",
        "[3258/3600] KCVG 2013-6\r"
       ]
      },
      {
       "output_type": "stream",
       "stream": "stdout",
       "text": [
        "                       \r",
        "[3259/3600] KDAL 2013-6\r"
       ]
      },
      {
       "output_type": "stream",
       "stream": "stdout",
       "text": [
        "                       \r",
        "[3260/3600] KDCA 2013-6\r"
       ]
      },
      {
       "output_type": "stream",
       "stream": "stdout",
       "text": [
        "                       \r",
        "[3261/3600] KDEN 2013-6\r"
       ]
      },
      {
       "output_type": "stream",
       "stream": "stdout",
       "text": [
        "                       \r",
        "[3262/3600] KDFW 2013-6\r"
       ]
      },
      {
       "output_type": "stream",
       "stream": "stdout",
       "text": [
        "                       \r",
        "[3263/3600] KDTW 2013-6\r"
       ]
      },
      {
       "output_type": "stream",
       "stream": "stdout",
       "text": [
        "                       \r",
        "[3264/3600] KEWR 2013-6\r"
       ]
      },
      {
       "output_type": "stream",
       "stream": "stdout",
       "text": [
        "                       \r",
        "[3265/3600] KFLL 2013-6\r"
       ]
      },
      {
       "output_type": "stream",
       "stream": "stdout",
       "text": [
        "                       \r",
        "[3266/3600] KHOU 2013-6\r"
       ]
      },
      {
       "output_type": "stream",
       "stream": "stdout",
       "text": [
        "                       \r",
        "[3267/3600] KIAD 2013-6\r"
       ]
      },
      {
       "output_type": "stream",
       "stream": "stdout",
       "text": [
        "                       \r",
        "[3268/3600] KIAH 2013-6\r"
       ]
      },
      {
       "output_type": "stream",
       "stream": "stdout",
       "text": [
        "                       \r",
        "[3269/3600] KIND 2013-6\r"
       ]
      },
      {
       "output_type": "stream",
       "stream": "stdout",
       "text": [
        "                       \r",
        "[3270/3600] KJFK 2013-6\r"
       ]
      },
      {
       "output_type": "stream",
       "stream": "stdout",
       "text": [
        "                       \r",
        "[3271/3600] KLAS 2013-6\r"
       ]
      },
      {
       "output_type": "stream",
       "stream": "stdout",
       "text": [
        "                       \r",
        "[3272/3600] KLAX 2013-6\r"
       ]
      },
      {
       "output_type": "stream",
       "stream": "stdout",
       "text": [
        "                       \r",
        "[3273/3600] KLGA 2013-6\r"
       ]
      },
      {
       "output_type": "stream",
       "stream": "stdout",
       "text": [
        "                       \r",
        "[3274/3600] KMCI 2013-6\r"
       ]
      },
      {
       "output_type": "stream",
       "stream": "stdout",
       "text": [
        "                       \r",
        "[3275/3600] KMCO 2013-6\r"
       ]
      },
      {
       "output_type": "stream",
       "stream": "stdout",
       "text": [
        "                       \r",
        "[3276/3600] KMDW 2013-6\r"
       ]
      },
      {
       "output_type": "stream",
       "stream": "stdout",
       "text": [
        "                       \r",
        "[3277/3600] KMEM 2013-6\r"
       ]
      },
      {
       "output_type": "stream",
       "stream": "stdout",
       "text": [
        "                       \r",
        "[3278/3600] KMIA 2013-6\r"
       ]
      },
      {
       "output_type": "stream",
       "stream": "stdout",
       "text": [
        "                       \r",
        "[3279/3600] KMKE 2013-6\r"
       ]
      },
      {
       "output_type": "stream",
       "stream": "stdout",
       "text": [
        "                       \r",
        "[3280/3600] KMSP 2013-6\r"
       ]
      },
      {
       "output_type": "stream",
       "stream": "stdout",
       "text": [
        "                       \r",
        "[3281/3600] KMSY 2013-6\r"
       ]
      },
      {
       "output_type": "stream",
       "stream": "stdout",
       "text": [
        "                       \r",
        "[3282/3600] KOAK 2013-6\r"
       ]
      },
      {
       "output_type": "stream",
       "stream": "stdout",
       "text": [
        "                       \r",
        "[3283/3600] KORD 2013-6\r"
       ]
      },
      {
       "output_type": "stream",
       "stream": "stdout",
       "text": [
        "                       \r",
        "[3284/3600] KPDX 2013-6\r"
       ]
      },
      {
       "output_type": "stream",
       "stream": "stdout",
       "text": [
        "                       \r",
        "[3285/3600] KPHL 2013-6\r"
       ]
      },
      {
       "output_type": "stream",
       "stream": "stdout",
       "text": [
        "                       \r",
        "[3286/3600] KPHX 2013-6\r"
       ]
      },
      {
       "output_type": "stream",
       "stream": "stdout",
       "text": [
        "                       \r",
        "[3287/3600] KPIT 2013-6\r"
       ]
      },
      {
       "output_type": "stream",
       "stream": "stdout",
       "text": [
        "                       \r",
        "[3288/3600] KRDU 2013-6\r"
       ]
      },
      {
       "output_type": "stream",
       "stream": "stdout",
       "text": [
        "                       \r",
        "[3289/3600] KSAN 2013-6\r"
       ]
      },
      {
       "output_type": "stream",
       "stream": "stdout",
       "text": [
        "                       \r",
        "[3290/3600] KSAT 2013-6\r"
       ]
      },
      {
       "output_type": "stream",
       "stream": "stdout",
       "text": [
        "                       \r",
        "[3291/3600] KSEA 2013-6\r"
       ]
      },
      {
       "output_type": "stream",
       "stream": "stdout",
       "text": [
        "                       \r",
        "[3292/3600] KSFO 2013-6\r"
       ]
      },
      {
       "output_type": "stream",
       "stream": "stdout",
       "text": [
        "                       \r",
        "[3293/3600] KSJC 2013-6\r"
       ]
      },
      {
       "output_type": "stream",
       "stream": "stdout",
       "text": [
        "                       \r",
        "[3294/3600] KSLC 2013-6\r"
       ]
      },
      {
       "output_type": "stream",
       "stream": "stdout",
       "text": [
        "                       \r",
        "[3295/3600] KSMF 2013-6\r"
       ]
      },
      {
       "output_type": "stream",
       "stream": "stdout",
       "text": [
        "                       \r",
        "[3296/3600] KSNA 2013-6\r"
       ]
      },
      {
       "output_type": "stream",
       "stream": "stdout",
       "text": [
        "                       \r",
        "[3297/3600] KSTL 2013-6\r"
       ]
      },
      {
       "output_type": "stream",
       "stream": "stdout",
       "text": [
        "                       \r",
        "[3298/3600] KTPA 2013-6\r"
       ]
      },
      {
       "output_type": "stream",
       "stream": "stdout",
       "text": [
        "                       \r",
        "[3299/3600] PHNL 2013-6\r"
       ]
      },
      {
       "output_type": "stream",
       "stream": "stdout",
       "text": [
        "                       \r",
        "[3300/3600] TJSJ 2013-6\r"
       ]
      },
      {
       "output_type": "stream",
       "stream": "stdout",
       "text": [
        "                       \r",
        "[3301/3600] KATL 2013-7\r"
       ]
      },
      {
       "output_type": "stream",
       "stream": "stdout",
       "text": [
        "                       \r",
        "[3302/3600] KAUS 2013-7\r"
       ]
      },
      {
       "output_type": "stream",
       "stream": "stdout",
       "text": [
        "                       \r",
        "[3303/3600] KBNA 2013-7\r"
       ]
      },
      {
       "output_type": "stream",
       "stream": "stdout",
       "text": [
        "                       \r",
        "[3304/3600] KBOS 2013-7\r"
       ]
      },
      {
       "output_type": "stream",
       "stream": "stdout",
       "text": [
        "                       \r",
        "[3305/3600] KBWI 2013-7\r"
       ]
      },
      {
       "output_type": "stream",
       "stream": "stdout",
       "text": [
        "                       \r",
        "[3306/3600] KCLE 2013-7\r"
       ]
      },
      {
       "output_type": "stream",
       "stream": "stdout",
       "text": [
        "                       \r",
        "[3307/3600] KCLT 2013-7\r"
       ]
      },
      {
       "output_type": "stream",
       "stream": "stdout",
       "text": [
        "                       \r",
        "[3308/3600] KCVG 2013-7\r"
       ]
      },
      {
       "output_type": "stream",
       "stream": "stdout",
       "text": [
        "                       \r",
        "[3309/3600] KDAL 2013-7\r"
       ]
      },
      {
       "output_type": "stream",
       "stream": "stdout",
       "text": [
        "                       \r",
        "[3310/3600] KDCA 2013-7\r"
       ]
      },
      {
       "output_type": "stream",
       "stream": "stdout",
       "text": [
        "                       \r",
        "[3311/3600] KDEN 2013-7\r"
       ]
      },
      {
       "output_type": "stream",
       "stream": "stdout",
       "text": [
        "                       \r",
        "[3312/3600] KDFW 2013-7\r"
       ]
      },
      {
       "output_type": "stream",
       "stream": "stdout",
       "text": [
        "                       \r",
        "[3313/3600] KDTW 2013-7\r"
       ]
      },
      {
       "output_type": "stream",
       "stream": "stdout",
       "text": [
        "                       \r",
        "[3314/3600] KEWR 2013-7\r"
       ]
      },
      {
       "output_type": "stream",
       "stream": "stdout",
       "text": [
        "                       \r",
        "[3315/3600] KFLL 2013-7\r"
       ]
      },
      {
       "output_type": "stream",
       "stream": "stdout",
       "text": [
        "                       \r",
        "[3316/3600] KHOU 2013-7\r"
       ]
      },
      {
       "output_type": "stream",
       "stream": "stdout",
       "text": [
        "                       \r",
        "[3317/3600] KIAD 2013-7\r"
       ]
      },
      {
       "output_type": "stream",
       "stream": "stdout",
       "text": [
        "                       \r",
        "[3318/3600] KIAH 2013-7\r"
       ]
      },
      {
       "output_type": "stream",
       "stream": "stdout",
       "text": [
        "                       \r",
        "[3319/3600] KIND 2013-7\r"
       ]
      },
      {
       "output_type": "stream",
       "stream": "stdout",
       "text": [
        "                       \r",
        "[3320/3600] KJFK 2013-7\r"
       ]
      },
      {
       "output_type": "stream",
       "stream": "stdout",
       "text": [
        "                       \r",
        "[3321/3600] KLAS 2013-7\r"
       ]
      },
      {
       "output_type": "stream",
       "stream": "stdout",
       "text": [
        "                       \r",
        "[3322/3600] KLAX 2013-7\r"
       ]
      },
      {
       "output_type": "stream",
       "stream": "stdout",
       "text": [
        "                       \r",
        "[3323/3600] KLGA 2013-7\r"
       ]
      },
      {
       "output_type": "stream",
       "stream": "stdout",
       "text": [
        "                       \r",
        "[3324/3600] KMCI 2013-7\r"
       ]
      },
      {
       "output_type": "stream",
       "stream": "stdout",
       "text": [
        "                       \r",
        "[3325/3600] KMCO 2013-7\r"
       ]
      },
      {
       "output_type": "stream",
       "stream": "stdout",
       "text": [
        "                       \r",
        "[3326/3600] KMDW 2013-7\r"
       ]
      },
      {
       "output_type": "stream",
       "stream": "stdout",
       "text": [
        "                       \r",
        "[3327/3600] KMEM 2013-7\r"
       ]
      },
      {
       "output_type": "stream",
       "stream": "stdout",
       "text": [
        "                       \r",
        "[3328/3600] KMIA 2013-7\r"
       ]
      },
      {
       "output_type": "stream",
       "stream": "stdout",
       "text": [
        "                       \r",
        "[3329/3600] KMKE 2013-7\r"
       ]
      },
      {
       "output_type": "stream",
       "stream": "stdout",
       "text": [
        "                       \r",
        "[3330/3600] KMSP 2013-7\r"
       ]
      },
      {
       "output_type": "stream",
       "stream": "stdout",
       "text": [
        "                       \r",
        "[3331/3600] KMSY 2013-7\r"
       ]
      },
      {
       "output_type": "stream",
       "stream": "stdout",
       "text": [
        "                       \r",
        "[3332/3600] KOAK 2013-7\r"
       ]
      },
      {
       "output_type": "stream",
       "stream": "stdout",
       "text": [
        "                       \r",
        "[3333/3600] KORD 2013-7\r"
       ]
      },
      {
       "output_type": "stream",
       "stream": "stdout",
       "text": [
        "                       \r",
        "[3334/3600] KPDX 2013-7\r"
       ]
      },
      {
       "output_type": "stream",
       "stream": "stdout",
       "text": [
        "                       \r",
        "[3335/3600] KPHL 2013-7\r"
       ]
      },
      {
       "output_type": "stream",
       "stream": "stdout",
       "text": [
        "                       \r",
        "[3336/3600] KPHX 2013-7\r"
       ]
      },
      {
       "output_type": "stream",
       "stream": "stdout",
       "text": [
        "                       \r",
        "[3337/3600] KPIT 2013-7\r"
       ]
      },
      {
       "output_type": "stream",
       "stream": "stdout",
       "text": [
        "                       \r",
        "[3338/3600] KRDU 2013-7\r"
       ]
      },
      {
       "output_type": "stream",
       "stream": "stdout",
       "text": [
        "                       \r",
        "[3339/3600] KSAN 2013-7\r"
       ]
      },
      {
       "output_type": "stream",
       "stream": "stdout",
       "text": [
        "                       \r",
        "[3340/3600] KSAT 2013-7\r"
       ]
      },
      {
       "output_type": "stream",
       "stream": "stdout",
       "text": [
        "                       \r",
        "[3341/3600] KSEA 2013-7\r"
       ]
      },
      {
       "output_type": "stream",
       "stream": "stdout",
       "text": [
        "                       \r",
        "[3342/3600] KSFO 2013-7\r"
       ]
      },
      {
       "output_type": "stream",
       "stream": "stdout",
       "text": [
        "                       \r",
        "[3343/3600] KSJC 2013-7\r"
       ]
      },
      {
       "output_type": "stream",
       "stream": "stdout",
       "text": [
        "                       \r",
        "[3344/3600] KSLC 2013-7\r"
       ]
      },
      {
       "output_type": "stream",
       "stream": "stdout",
       "text": [
        "                       \r",
        "[3345/3600] KSMF 2013-7\r"
       ]
      },
      {
       "output_type": "stream",
       "stream": "stdout",
       "text": [
        "                       \r",
        "[3346/3600] KSNA 2013-7\r"
       ]
      },
      {
       "output_type": "stream",
       "stream": "stdout",
       "text": [
        "                       \r",
        "[3347/3600] KSTL 2013-7\r"
       ]
      },
      {
       "output_type": "stream",
       "stream": "stdout",
       "text": [
        "                       \r",
        "[3348/3600] KTPA 2013-7\r"
       ]
      },
      {
       "output_type": "stream",
       "stream": "stdout",
       "text": [
        "                       \r",
        "[3349/3600] PHNL 2013-7\r"
       ]
      },
      {
       "output_type": "stream",
       "stream": "stdout",
       "text": [
        "                       \r",
        "[3350/3600] TJSJ 2013-7\r"
       ]
      },
      {
       "output_type": "stream",
       "stream": "stdout",
       "text": [
        "                       \r",
        "[3351/3600] KATL 2013-8\r"
       ]
      },
      {
       "output_type": "stream",
       "stream": "stdout",
       "text": [
        "                       \r",
        "[3352/3600] KAUS 2013-8\r"
       ]
      },
      {
       "output_type": "stream",
       "stream": "stdout",
       "text": [
        "                       \r",
        "[3353/3600] KBNA 2013-8\r"
       ]
      },
      {
       "output_type": "stream",
       "stream": "stdout",
       "text": [
        "                       \r",
        "[3354/3600] KBOS 2013-8\r"
       ]
      },
      {
       "output_type": "stream",
       "stream": "stdout",
       "text": [
        "                       \r",
        "[3355/3600] KBWI 2013-8\r"
       ]
      },
      {
       "output_type": "stream",
       "stream": "stdout",
       "text": [
        "                       \r",
        "[3356/3600] KCLE 2013-8\r"
       ]
      },
      {
       "output_type": "stream",
       "stream": "stdout",
       "text": [
        "                       \r",
        "[3357/3600] KCLT 2013-8\r"
       ]
      },
      {
       "output_type": "stream",
       "stream": "stdout",
       "text": [
        "                       \r",
        "[3358/3600] KCVG 2013-8\r"
       ]
      },
      {
       "output_type": "stream",
       "stream": "stdout",
       "text": [
        "                       \r",
        "[3359/3600] KDAL 2013-8\r"
       ]
      },
      {
       "output_type": "stream",
       "stream": "stdout",
       "text": [
        "                       \r",
        "[3360/3600] KDCA 2013-8\r"
       ]
      },
      {
       "output_type": "stream",
       "stream": "stdout",
       "text": [
        "                       \r",
        "[3361/3600] KDEN 2013-8\r"
       ]
      },
      {
       "output_type": "stream",
       "stream": "stdout",
       "text": [
        "                       \r",
        "[3362/3600] KDFW 2013-8\r"
       ]
      },
      {
       "output_type": "stream",
       "stream": "stdout",
       "text": [
        "                       \r",
        "[3363/3600] KDTW 2013-8\r"
       ]
      },
      {
       "output_type": "stream",
       "stream": "stdout",
       "text": [
        "                       \r",
        "[3364/3600] KEWR 2013-8\r"
       ]
      },
      {
       "output_type": "stream",
       "stream": "stdout",
       "text": [
        "                       \r",
        "[3365/3600] KFLL 2013-8\r"
       ]
      },
      {
       "output_type": "stream",
       "stream": "stdout",
       "text": [
        "                       \r",
        "[3366/3600] KHOU 2013-8\r"
       ]
      },
      {
       "output_type": "stream",
       "stream": "stdout",
       "text": [
        "                       \r",
        "[3367/3600] KIAD 2013-8\r"
       ]
      },
      {
       "output_type": "stream",
       "stream": "stdout",
       "text": [
        "                       \r",
        "[3368/3600] KIAH 2013-8\r"
       ]
      },
      {
       "output_type": "stream",
       "stream": "stdout",
       "text": [
        "                       \r",
        "[3369/3600] KIND 2013-8\r"
       ]
      },
      {
       "output_type": "stream",
       "stream": "stdout",
       "text": [
        "                       \r",
        "[3370/3600] KJFK 2013-8\r"
       ]
      },
      {
       "output_type": "stream",
       "stream": "stdout",
       "text": [
        "                       \r",
        "[3371/3600] KLAS 2013-8\r"
       ]
      },
      {
       "output_type": "stream",
       "stream": "stdout",
       "text": [
        "                       \r",
        "[3372/3600] KLAX 2013-8\r"
       ]
      },
      {
       "output_type": "stream",
       "stream": "stdout",
       "text": [
        "                       \r",
        "[3373/3600] KLGA 2013-8\r"
       ]
      },
      {
       "output_type": "stream",
       "stream": "stdout",
       "text": [
        "                       \r",
        "[3374/3600] KMCI 2013-8\r"
       ]
      },
      {
       "output_type": "stream",
       "stream": "stdout",
       "text": [
        "                       \r",
        "[3375/3600] KMCO 2013-8\r"
       ]
      },
      {
       "output_type": "stream",
       "stream": "stdout",
       "text": [
        "                       \r",
        "[3376/3600] KMDW 2013-8\r"
       ]
      },
      {
       "output_type": "stream",
       "stream": "stdout",
       "text": [
        "                       \r",
        "[3377/3600] KMEM 2013-8\r"
       ]
      },
      {
       "output_type": "stream",
       "stream": "stdout",
       "text": [
        "                       \r",
        "[3378/3600] KMIA 2013-8\r"
       ]
      },
      {
       "output_type": "stream",
       "stream": "stdout",
       "text": [
        "                       \r",
        "[3379/3600] KMKE 2013-8\r"
       ]
      },
      {
       "output_type": "stream",
       "stream": "stdout",
       "text": [
        "                       \r",
        "[3380/3600] KMSP 2013-8\r"
       ]
      },
      {
       "output_type": "stream",
       "stream": "stdout",
       "text": [
        "                       \r",
        "[3381/3600] KMSY 2013-8\r"
       ]
      },
      {
       "output_type": "stream",
       "stream": "stdout",
       "text": [
        "                       \r",
        "[3382/3600] KOAK 2013-8\r"
       ]
      },
      {
       "output_type": "stream",
       "stream": "stdout",
       "text": [
        "                       \r",
        "[3383/3600] KORD 2013-8\r"
       ]
      },
      {
       "output_type": "stream",
       "stream": "stdout",
       "text": [
        "                       \r",
        "[3384/3600] KPDX 2013-8\r"
       ]
      },
      {
       "output_type": "stream",
       "stream": "stdout",
       "text": [
        "                       \r",
        "[3385/3600] KPHL 2013-8\r"
       ]
      },
      {
       "output_type": "stream",
       "stream": "stdout",
       "text": [
        "                       \r",
        "[3386/3600] KPHX 2013-8\r"
       ]
      },
      {
       "output_type": "stream",
       "stream": "stdout",
       "text": [
        "                       \r",
        "[3387/3600] KPIT 2013-8\r"
       ]
      },
      {
       "output_type": "stream",
       "stream": "stdout",
       "text": [
        "                       \r",
        "[3388/3600] KRDU 2013-8\r"
       ]
      },
      {
       "output_type": "stream",
       "stream": "stdout",
       "text": [
        "                       \r",
        "[3389/3600] KSAN 2013-8\r"
       ]
      },
      {
       "output_type": "stream",
       "stream": "stdout",
       "text": [
        "                       \r",
        "[3390/3600] KSAT 2013-8\r"
       ]
      },
      {
       "output_type": "stream",
       "stream": "stdout",
       "text": [
        "                       \r",
        "[3391/3600] KSEA 2013-8\r"
       ]
      },
      {
       "output_type": "stream",
       "stream": "stdout",
       "text": [
        "                       \r",
        "[3392/3600] KSFO 2013-8\r"
       ]
      },
      {
       "output_type": "stream",
       "stream": "stdout",
       "text": [
        "                       \r",
        "[3393/3600] KSJC 2013-8\r"
       ]
      },
      {
       "output_type": "stream",
       "stream": "stdout",
       "text": [
        "                       \r",
        "[3394/3600] KSLC 2013-8\r"
       ]
      },
      {
       "output_type": "stream",
       "stream": "stdout",
       "text": [
        "                       \r",
        "[3395/3600] KSMF 2013-8\r"
       ]
      },
      {
       "output_type": "stream",
       "stream": "stdout",
       "text": [
        "                       \r",
        "[3396/3600] KSNA 2013-8\r"
       ]
      },
      {
       "output_type": "stream",
       "stream": "stdout",
       "text": [
        "                       \r",
        "[3397/3600] KSTL 2013-8\r"
       ]
      },
      {
       "output_type": "stream",
       "stream": "stdout",
       "text": [
        "                       \r",
        "[3398/3600] KTPA 2013-8\r"
       ]
      },
      {
       "output_type": "stream",
       "stream": "stdout",
       "text": [
        "                       \r",
        "[3399/3600] PHNL 2013-8\r"
       ]
      },
      {
       "output_type": "stream",
       "stream": "stdout",
       "text": [
        "                       \r",
        "[3400/3600] TJSJ 2013-8\r"
       ]
      },
      {
       "output_type": "stream",
       "stream": "stdout",
       "text": [
        "                       \r",
        "[3401/3600] KATL 2013-9\r"
       ]
      },
      {
       "output_type": "stream",
       "stream": "stdout",
       "text": [
        "                       \r",
        "[3402/3600] KAUS 2013-9\r"
       ]
      },
      {
       "output_type": "stream",
       "stream": "stdout",
       "text": [
        "                       \r",
        "[3403/3600] KBNA 2013-9\r"
       ]
      },
      {
       "output_type": "stream",
       "stream": "stdout",
       "text": [
        "                       \r",
        "[3404/3600] KBOS 2013-9\r"
       ]
      },
      {
       "output_type": "stream",
       "stream": "stdout",
       "text": [
        "                       \r",
        "[3405/3600] KBWI 2013-9\r"
       ]
      },
      {
       "output_type": "stream",
       "stream": "stdout",
       "text": [
        "                       \r",
        "[3406/3600] KCLE 2013-9\r"
       ]
      },
      {
       "output_type": "stream",
       "stream": "stdout",
       "text": [
        "                       \r",
        "[3407/3600] KCLT 2013-9\r"
       ]
      },
      {
       "output_type": "stream",
       "stream": "stdout",
       "text": [
        "                       \r",
        "[3408/3600] KCVG 2013-9\r"
       ]
      },
      {
       "output_type": "stream",
       "stream": "stdout",
       "text": [
        "                       \r",
        "[3409/3600] KDAL 2013-9\r"
       ]
      },
      {
       "output_type": "stream",
       "stream": "stdout",
       "text": [
        "                       \r",
        "[3410/3600] KDCA 2013-9\r"
       ]
      },
      {
       "output_type": "stream",
       "stream": "stdout",
       "text": [
        "                       \r",
        "[3411/3600] KDEN 2013-9\r"
       ]
      },
      {
       "output_type": "stream",
       "stream": "stdout",
       "text": [
        "                       \r",
        "[3412/3600] KDFW 2013-9\r"
       ]
      },
      {
       "output_type": "stream",
       "stream": "stdout",
       "text": [
        "                       \r",
        "[3413/3600] KDTW 2013-9\r"
       ]
      },
      {
       "output_type": "stream",
       "stream": "stdout",
       "text": [
        "                       \r",
        "[3414/3600] KEWR 2013-9\r"
       ]
      },
      {
       "output_type": "stream",
       "stream": "stdout",
       "text": [
        "                       \r",
        "[3415/3600] KFLL 2013-9\r"
       ]
      },
      {
       "output_type": "stream",
       "stream": "stdout",
       "text": [
        "                       \r",
        "[3416/3600] KHOU 2013-9\r"
       ]
      },
      {
       "output_type": "stream",
       "stream": "stdout",
       "text": [
        "                       \r",
        "[3417/3600] KIAD 2013-9\r"
       ]
      },
      {
       "output_type": "stream",
       "stream": "stdout",
       "text": [
        "                       \r",
        "[3418/3600] KIAH 2013-9\r"
       ]
      },
      {
       "output_type": "stream",
       "stream": "stdout",
       "text": [
        "                       \r",
        "[3419/3600] KIND 2013-9\r"
       ]
      },
      {
       "output_type": "stream",
       "stream": "stdout",
       "text": [
        "                       \r",
        "[3420/3600] KJFK 2013-9\r"
       ]
      },
      {
       "output_type": "stream",
       "stream": "stdout",
       "text": [
        "                       \r",
        "[3421/3600] KLAS 2013-9\r"
       ]
      },
      {
       "output_type": "stream",
       "stream": "stdout",
       "text": [
        "                       \r",
        "[3422/3600] KLAX 2013-9\r"
       ]
      },
      {
       "output_type": "stream",
       "stream": "stdout",
       "text": [
        "                       \r",
        "[3423/3600] KLGA 2013-9\r"
       ]
      },
      {
       "output_type": "stream",
       "stream": "stdout",
       "text": [
        "                       \r",
        "[3424/3600] KMCI 2013-9\r"
       ]
      },
      {
       "output_type": "stream",
       "stream": "stdout",
       "text": [
        "                       \r",
        "[3425/3600] KMCO 2013-9\r"
       ]
      },
      {
       "output_type": "stream",
       "stream": "stdout",
       "text": [
        "                       \r",
        "[3426/3600] KMDW 2013-9\r"
       ]
      },
      {
       "output_type": "stream",
       "stream": "stdout",
       "text": [
        "                       \r",
        "[3427/3600] KMEM 2013-9\r"
       ]
      },
      {
       "output_type": "stream",
       "stream": "stdout",
       "text": [
        "                       \r",
        "[3428/3600] KMIA 2013-9\r"
       ]
      },
      {
       "output_type": "stream",
       "stream": "stdout",
       "text": [
        "                       \r",
        "[3429/3600] KMKE 2013-9\r"
       ]
      },
      {
       "output_type": "stream",
       "stream": "stdout",
       "text": [
        "                       \r",
        "[3430/3600] KMSP 2013-9\r"
       ]
      },
      {
       "output_type": "stream",
       "stream": "stdout",
       "text": [
        "                       \r",
        "[3431/3600] KMSY 2013-9\r"
       ]
      },
      {
       "output_type": "stream",
       "stream": "stdout",
       "text": [
        "                       \r",
        "[3432/3600] KOAK 2013-9\r"
       ]
      },
      {
       "output_type": "stream",
       "stream": "stdout",
       "text": [
        "                       \r",
        "[3433/3600] KORD 2013-9\r"
       ]
      },
      {
       "output_type": "stream",
       "stream": "stdout",
       "text": [
        "                       \r",
        "[3434/3600] KPDX 2013-9\r"
       ]
      },
      {
       "output_type": "stream",
       "stream": "stdout",
       "text": [
        "                       \r",
        "[3435/3600] KPHL 2013-9\r"
       ]
      },
      {
       "output_type": "stream",
       "stream": "stdout",
       "text": [
        "                       \r",
        "[3436/3600] KPHX 2013-9\r"
       ]
      },
      {
       "output_type": "stream",
       "stream": "stdout",
       "text": [
        "                       \r",
        "[3437/3600] KPIT 2013-9\r"
       ]
      },
      {
       "output_type": "stream",
       "stream": "stdout",
       "text": [
        "                       \r",
        "[3438/3600] KRDU 2013-9\r"
       ]
      },
      {
       "output_type": "stream",
       "stream": "stdout",
       "text": [
        "                       \r",
        "[3439/3600] KSAN 2013-9\r"
       ]
      },
      {
       "output_type": "stream",
       "stream": "stdout",
       "text": [
        "                       \r",
        "[3440/3600] KSAT 2013-9\r"
       ]
      },
      {
       "output_type": "stream",
       "stream": "stdout",
       "text": [
        "                       \r",
        "[3441/3600] KSEA 2013-9\r"
       ]
      },
      {
       "output_type": "stream",
       "stream": "stdout",
       "text": [
        "                       \r",
        "[3442/3600] KSFO 2013-9\r"
       ]
      },
      {
       "output_type": "stream",
       "stream": "stdout",
       "text": [
        "                       \r",
        "[3443/3600] KSJC 2013-9\r"
       ]
      },
      {
       "output_type": "stream",
       "stream": "stdout",
       "text": [
        "                       \r",
        "[3444/3600] KSLC 2013-9\r"
       ]
      },
      {
       "output_type": "stream",
       "stream": "stdout",
       "text": [
        "                       \r",
        "[3445/3600] KSMF 2013-9\r"
       ]
      },
      {
       "output_type": "stream",
       "stream": "stdout",
       "text": [
        "                       \r",
        "[3446/3600] KSNA 2013-9\r"
       ]
      },
      {
       "output_type": "stream",
       "stream": "stdout",
       "text": [
        "                       \r",
        "[3447/3600] KSTL 2013-9\r"
       ]
      },
      {
       "output_type": "stream",
       "stream": "stdout",
       "text": [
        "                       \r",
        "[3448/3600] KTPA 2013-9\r"
       ]
      },
      {
       "output_type": "stream",
       "stream": "stdout",
       "text": [
        "                       \r",
        "[3449/3600] PHNL 2013-9\r"
       ]
      },
      {
       "output_type": "stream",
       "stream": "stdout",
       "text": [
        "                       \r",
        "[3450/3600] TJSJ 2013-9\r"
       ]
      },
      {
       "output_type": "stream",
       "stream": "stdout",
       "text": [
        "                       \r",
        "[3451/3600] KATL 2013-10\r"
       ]
      },
      {
       "output_type": "stream",
       "stream": "stdout",
       "text": [
        "\r",
        "[3452/3600] KAUS 2013-10\r"
       ]
      },
      {
       "output_type": "stream",
       "stream": "stdout",
       "text": [
        "\r",
        "[3453/3600] KBNA 2013-10\r"
       ]
      },
      {
       "output_type": "stream",
       "stream": "stdout",
       "text": [
        "\r",
        "[3454/3600] KBOS 2013-10\r"
       ]
      },
      {
       "output_type": "stream",
       "stream": "stdout",
       "text": [
        "\r",
        "[3455/3600] KBWI 2013-10\r"
       ]
      },
      {
       "output_type": "stream",
       "stream": "stdout",
       "text": [
        "\r",
        "[3456/3600] KCLE 2013-10\r"
       ]
      },
      {
       "output_type": "stream",
       "stream": "stdout",
       "text": [
        "\r",
        "[3457/3600] KCLT 2013-10\r"
       ]
      },
      {
       "output_type": "stream",
       "stream": "stdout",
       "text": [
        "\r",
        "[3458/3600] KCVG 2013-10\r"
       ]
      },
      {
       "output_type": "stream",
       "stream": "stdout",
       "text": [
        "\r",
        "[3459/3600] KDAL 2013-10\r"
       ]
      },
      {
       "output_type": "stream",
       "stream": "stdout",
       "text": [
        "\r",
        "[3460/3600] KDCA 2013-10\r"
       ]
      },
      {
       "output_type": "stream",
       "stream": "stdout",
       "text": [
        "\r",
        "[3461/3600] KDEN 2013-10\r"
       ]
      },
      {
       "output_type": "stream",
       "stream": "stdout",
       "text": [
        "\r",
        "[3462/3600] KDFW 2013-10\r"
       ]
      },
      {
       "output_type": "stream",
       "stream": "stdout",
       "text": [
        "\r",
        "[3463/3600] KDTW 2013-10\r"
       ]
      },
      {
       "output_type": "stream",
       "stream": "stdout",
       "text": [
        "\r",
        "[3464/3600] KEWR 2013-10\r"
       ]
      },
      {
       "output_type": "stream",
       "stream": "stdout",
       "text": [
        "\r",
        "[3465/3600] KFLL 2013-10\r"
       ]
      },
      {
       "output_type": "stream",
       "stream": "stdout",
       "text": [
        "\r",
        "[3466/3600] KHOU 2013-10\r"
       ]
      },
      {
       "output_type": "stream",
       "stream": "stdout",
       "text": [
        "\r",
        "[3467/3600] KIAD 2013-10\r"
       ]
      },
      {
       "output_type": "stream",
       "stream": "stdout",
       "text": [
        "\r",
        "[3468/3600] KIAH 2013-10\r"
       ]
      },
      {
       "output_type": "stream",
       "stream": "stdout",
       "text": [
        "\r",
        "[3469/3600] KIND 2013-10\r"
       ]
      },
      {
       "output_type": "stream",
       "stream": "stdout",
       "text": [
        "\r",
        "[3470/3600] KJFK 2013-10\r"
       ]
      },
      {
       "output_type": "stream",
       "stream": "stdout",
       "text": [
        "\r",
        "[3471/3600] KLAS 2013-10\r"
       ]
      },
      {
       "output_type": "stream",
       "stream": "stdout",
       "text": [
        "\r",
        "[3472/3600] KLAX 2013-10\r"
       ]
      },
      {
       "output_type": "stream",
       "stream": "stdout",
       "text": [
        "\r",
        "[3473/3600] KLGA 2013-10\r"
       ]
      },
      {
       "output_type": "stream",
       "stream": "stdout",
       "text": [
        "\r",
        "[3474/3600] KMCI 2013-10\r"
       ]
      },
      {
       "output_type": "stream",
       "stream": "stdout",
       "text": [
        "\r",
        "[3475/3600] KMCO 2013-10\r"
       ]
      },
      {
       "output_type": "stream",
       "stream": "stdout",
       "text": [
        "\r",
        "[3476/3600] KMDW 2013-10\r"
       ]
      },
      {
       "output_type": "stream",
       "stream": "stdout",
       "text": [
        "\r",
        "[3477/3600] KMEM 2013-10\r"
       ]
      },
      {
       "output_type": "stream",
       "stream": "stdout",
       "text": [
        "\r",
        "[3478/3600] KMIA 2013-10\r"
       ]
      },
      {
       "output_type": "stream",
       "stream": "stdout",
       "text": [
        "\r",
        "[3479/3600] KMKE 2013-10\r"
       ]
      },
      {
       "output_type": "stream",
       "stream": "stdout",
       "text": [
        "\r",
        "[3480/3600] KMSP 2013-10\r"
       ]
      },
      {
       "output_type": "stream",
       "stream": "stdout",
       "text": [
        "\r",
        "[3481/3600] KMSY 2013-10\r"
       ]
      },
      {
       "output_type": "stream",
       "stream": "stdout",
       "text": [
        "\r",
        "[3482/3600] KOAK 2013-10\r"
       ]
      },
      {
       "output_type": "stream",
       "stream": "stdout",
       "text": [
        "\r",
        "[3483/3600] KORD 2013-10\r"
       ]
      },
      {
       "output_type": "stream",
       "stream": "stdout",
       "text": [
        "\r",
        "[3484/3600] KPDX 2013-10\r"
       ]
      },
      {
       "output_type": "stream",
       "stream": "stdout",
       "text": [
        "\r",
        "[3485/3600] KPHL 2013-10\r"
       ]
      },
      {
       "output_type": "stream",
       "stream": "stdout",
       "text": [
        "\r",
        "[3486/3600] KPHX 2013-10\r"
       ]
      },
      {
       "output_type": "stream",
       "stream": "stdout",
       "text": [
        "\r",
        "[3487/3600] KPIT 2013-10\r"
       ]
      },
      {
       "output_type": "stream",
       "stream": "stdout",
       "text": [
        "\r",
        "[3488/3600] KRDU 2013-10\r"
       ]
      },
      {
       "output_type": "stream",
       "stream": "stdout",
       "text": [
        "\r",
        "[3489/3600] KSAN 2013-10\r"
       ]
      },
      {
       "output_type": "stream",
       "stream": "stdout",
       "text": [
        "\r",
        "[3490/3600] KSAT 2013-10\r"
       ]
      },
      {
       "output_type": "stream",
       "stream": "stdout",
       "text": [
        "\r",
        "[3491/3600] KSEA 2013-10\r"
       ]
      },
      {
       "output_type": "stream",
       "stream": "stdout",
       "text": [
        "\r",
        "[3492/3600] KSFO 2013-10\r"
       ]
      },
      {
       "output_type": "stream",
       "stream": "stdout",
       "text": [
        "\r",
        "[3493/3600] KSJC 2013-10\r"
       ]
      },
      {
       "output_type": "stream",
       "stream": "stdout",
       "text": [
        "\r",
        "[3494/3600] KSLC 2013-10\r"
       ]
      },
      {
       "output_type": "stream",
       "stream": "stdout",
       "text": [
        "\r",
        "[3495/3600] KSMF 2013-10\r"
       ]
      },
      {
       "output_type": "stream",
       "stream": "stdout",
       "text": [
        "\r",
        "[3496/3600] KSNA 2013-10\r"
       ]
      },
      {
       "output_type": "stream",
       "stream": "stdout",
       "text": [
        "\r",
        "[3497/3600] KSTL 2013-10\r"
       ]
      },
      {
       "output_type": "stream",
       "stream": "stdout",
       "text": [
        "\r",
        "[3498/3600] KTPA 2013-10\r"
       ]
      },
      {
       "output_type": "stream",
       "stream": "stdout",
       "text": [
        "\r",
        "[3499/3600] PHNL 2013-10\r"
       ]
      },
      {
       "output_type": "stream",
       "stream": "stdout",
       "text": [
        "\r",
        "[3500/3600] TJSJ 2013-10\r"
       ]
      },
      {
       "output_type": "stream",
       "stream": "stdout",
       "text": [
        "\r",
        "[3501/3600] KATL 2013-11\r"
       ]
      },
      {
       "output_type": "stream",
       "stream": "stdout",
       "text": [
        "\r",
        "[3502/3600] KAUS 2013-11\r"
       ]
      },
      {
       "output_type": "stream",
       "stream": "stdout",
       "text": [
        "\r",
        "[3503/3600] KBNA 2013-11\r"
       ]
      },
      {
       "output_type": "stream",
       "stream": "stdout",
       "text": [
        "\r",
        "[3504/3600] KBOS 2013-11\r"
       ]
      },
      {
       "output_type": "stream",
       "stream": "stdout",
       "text": [
        "\r",
        "[3505/3600] KBWI 2013-11\r"
       ]
      },
      {
       "output_type": "stream",
       "stream": "stdout",
       "text": [
        "\r",
        "[3506/3600] KCLE 2013-11\r"
       ]
      },
      {
       "output_type": "stream",
       "stream": "stdout",
       "text": [
        "\r",
        "[3507/3600] KCLT 2013-11\r"
       ]
      },
      {
       "output_type": "stream",
       "stream": "stdout",
       "text": [
        "\r",
        "[3508/3600] KCVG 2013-11\r"
       ]
      },
      {
       "output_type": "stream",
       "stream": "stdout",
       "text": [
        "\r",
        "[3509/3600] KDAL 2013-11\r"
       ]
      },
      {
       "output_type": "stream",
       "stream": "stdout",
       "text": [
        "\r",
        "[3510/3600] KDCA 2013-11\r"
       ]
      },
      {
       "output_type": "stream",
       "stream": "stdout",
       "text": [
        "\r",
        "[3511/3600] KDEN 2013-11\r"
       ]
      },
      {
       "output_type": "stream",
       "stream": "stdout",
       "text": [
        "\r",
        "[3512/3600] KDFW 2013-11\r"
       ]
      },
      {
       "output_type": "stream",
       "stream": "stdout",
       "text": [
        "\r",
        "[3513/3600] KDTW 2013-11\r"
       ]
      },
      {
       "output_type": "stream",
       "stream": "stdout",
       "text": [
        "\r",
        "[3514/3600] KEWR 2013-11\r"
       ]
      },
      {
       "output_type": "stream",
       "stream": "stdout",
       "text": [
        "\r",
        "[3515/3600] KFLL 2013-11\r"
       ]
      },
      {
       "output_type": "stream",
       "stream": "stdout",
       "text": [
        "\r",
        "[3516/3600] KHOU 2013-11\r"
       ]
      },
      {
       "output_type": "stream",
       "stream": "stdout",
       "text": [
        "\r",
        "[3517/3600] KIAD 2013-11\r"
       ]
      },
      {
       "output_type": "stream",
       "stream": "stdout",
       "text": [
        "\r",
        "[3518/3600] KIAH 2013-11\r"
       ]
      },
      {
       "output_type": "stream",
       "stream": "stdout",
       "text": [
        "\r",
        "[3519/3600] KIND 2013-11\r"
       ]
      },
      {
       "output_type": "stream",
       "stream": "stdout",
       "text": [
        "\r",
        "[3520/3600] KJFK 2013-11\r"
       ]
      },
      {
       "output_type": "stream",
       "stream": "stdout",
       "text": [
        "\r",
        "[3521/3600] KLAS 2013-11\r"
       ]
      },
      {
       "output_type": "stream",
       "stream": "stdout",
       "text": [
        "\r",
        "[3522/3600] KLAX 2013-11\r"
       ]
      },
      {
       "output_type": "stream",
       "stream": "stdout",
       "text": [
        "\r",
        "[3523/3600] KLGA 2013-11\r"
       ]
      },
      {
       "output_type": "stream",
       "stream": "stdout",
       "text": [
        "\r",
        "[3524/3600] KMCI 2013-11\r"
       ]
      },
      {
       "output_type": "stream",
       "stream": "stdout",
       "text": [
        "\r",
        "[3525/3600] KMCO 2013-11\r"
       ]
      },
      {
       "output_type": "stream",
       "stream": "stdout",
       "text": [
        "\r",
        "[3526/3600] KMDW 2013-11\r"
       ]
      },
      {
       "output_type": "stream",
       "stream": "stdout",
       "text": [
        "\r",
        "[3527/3600] KMEM 2013-11\r"
       ]
      },
      {
       "output_type": "stream",
       "stream": "stdout",
       "text": [
        "\r",
        "[3528/3600] KMIA 2013-11\r"
       ]
      },
      {
       "output_type": "stream",
       "stream": "stdout",
       "text": [
        "\r",
        "[3529/3600] KMKE 2013-11\r"
       ]
      },
      {
       "output_type": "stream",
       "stream": "stdout",
       "text": [
        "\r",
        "[3530/3600] KMSP 2013-11\r"
       ]
      },
      {
       "output_type": "stream",
       "stream": "stdout",
       "text": [
        "\r",
        "[3531/3600] KMSY 2013-11\r"
       ]
      },
      {
       "output_type": "stream",
       "stream": "stdout",
       "text": [
        "\r",
        "[3532/3600] KOAK 2013-11\r"
       ]
      },
      {
       "output_type": "stream",
       "stream": "stdout",
       "text": [
        "\r",
        "[3533/3600] KORD 2013-11\r"
       ]
      },
      {
       "output_type": "stream",
       "stream": "stdout",
       "text": [
        "\r",
        "[3534/3600] KPDX 2013-11\r"
       ]
      },
      {
       "output_type": "stream",
       "stream": "stdout",
       "text": [
        "\r",
        "[3535/3600] KPHL 2013-11\r"
       ]
      },
      {
       "output_type": "stream",
       "stream": "stdout",
       "text": [
        "\r",
        "[3536/3600] KPHX 2013-11\r"
       ]
      },
      {
       "output_type": "stream",
       "stream": "stdout",
       "text": [
        "\r",
        "[3537/3600] KPIT 2013-11\r"
       ]
      },
      {
       "output_type": "stream",
       "stream": "stdout",
       "text": [
        "\r",
        "[3538/3600] KRDU 2013-11\r"
       ]
      },
      {
       "output_type": "stream",
       "stream": "stdout",
       "text": [
        "\r",
        "[3539/3600] KSAN 2013-11\r"
       ]
      },
      {
       "output_type": "stream",
       "stream": "stdout",
       "text": [
        "\r",
        "[3540/3600] KSAT 2013-11\r"
       ]
      },
      {
       "output_type": "stream",
       "stream": "stdout",
       "text": [
        "\r",
        "[3541/3600] KSEA 2013-11\r"
       ]
      },
      {
       "output_type": "stream",
       "stream": "stdout",
       "text": [
        "\r",
        "[3542/3600] KSFO 2013-11\r"
       ]
      },
      {
       "output_type": "stream",
       "stream": "stdout",
       "text": [
        "\r",
        "[3543/3600] KSJC 2013-11\r"
       ]
      },
      {
       "output_type": "stream",
       "stream": "stdout",
       "text": [
        "\r",
        "[3544/3600] KSLC 2013-11\r"
       ]
      },
      {
       "output_type": "stream",
       "stream": "stdout",
       "text": [
        "\r",
        "[3545/3600] KSMF 2013-11\r"
       ]
      },
      {
       "output_type": "stream",
       "stream": "stdout",
       "text": [
        "\r",
        "[3546/3600] KSNA 2013-11\r"
       ]
      },
      {
       "output_type": "stream",
       "stream": "stdout",
       "text": [
        "\r",
        "[3547/3600] KSTL 2013-11\r"
       ]
      },
      {
       "output_type": "stream",
       "stream": "stdout",
       "text": [
        "\r",
        "[3548/3600] KTPA 2013-11\r"
       ]
      },
      {
       "output_type": "stream",
       "stream": "stdout",
       "text": [
        "\r",
        "[3549/3600] PHNL 2013-11\r"
       ]
      },
      {
       "output_type": "stream",
       "stream": "stdout",
       "text": [
        "\r",
        "[3550/3600] TJSJ 2013-11\r"
       ]
      },
      {
       "output_type": "stream",
       "stream": "stdout",
       "text": [
        "\r",
        "[3551/3600] KATL 2013-12\r"
       ]
      },
      {
       "output_type": "stream",
       "stream": "stdout",
       "text": [
        "\r",
        "[3552/3600] KAUS 2013-12\r"
       ]
      },
      {
       "output_type": "stream",
       "stream": "stdout",
       "text": [
        "\r",
        "[3553/3600] KBNA 2013-12\r"
       ]
      },
      {
       "output_type": "stream",
       "stream": "stdout",
       "text": [
        "\r",
        "[3554/3600] KBOS 2013-12\r"
       ]
      },
      {
       "output_type": "stream",
       "stream": "stdout",
       "text": [
        "\r",
        "[3555/3600] KBWI 2013-12\r"
       ]
      },
      {
       "output_type": "stream",
       "stream": "stdout",
       "text": [
        "\r",
        "[3556/3600] KCLE 2013-12\r"
       ]
      },
      {
       "output_type": "stream",
       "stream": "stdout",
       "text": [
        "\r",
        "[3557/3600] KCLT 2013-12\r"
       ]
      },
      {
       "output_type": "stream",
       "stream": "stdout",
       "text": [
        "\r",
        "[3558/3600] KCVG 2013-12\r"
       ]
      },
      {
       "output_type": "stream",
       "stream": "stdout",
       "text": [
        "\r",
        "[3559/3600] KDAL 2013-12\r"
       ]
      },
      {
       "output_type": "stream",
       "stream": "stdout",
       "text": [
        "\r",
        "[3560/3600] KDCA 2013-12\r"
       ]
      },
      {
       "output_type": "stream",
       "stream": "stdout",
       "text": [
        "\r",
        "[3561/3600] KDEN 2013-12\r"
       ]
      },
      {
       "output_type": "stream",
       "stream": "stdout",
       "text": [
        "\r",
        "[3562/3600] KDFW 2013-12\r"
       ]
      },
      {
       "output_type": "stream",
       "stream": "stdout",
       "text": [
        "\r",
        "[3563/3600] KDTW 2013-12\r"
       ]
      },
      {
       "output_type": "stream",
       "stream": "stdout",
       "text": [
        "\r",
        "[3564/3600] KEWR 2013-12\r"
       ]
      },
      {
       "output_type": "stream",
       "stream": "stdout",
       "text": [
        "\r",
        "[3565/3600] KFLL 2013-12\r"
       ]
      },
      {
       "output_type": "stream",
       "stream": "stdout",
       "text": [
        "\r",
        "[3566/3600] KHOU 2013-12\r"
       ]
      },
      {
       "output_type": "stream",
       "stream": "stdout",
       "text": [
        "\r",
        "[3567/3600] KIAD 2013-12\r"
       ]
      },
      {
       "output_type": "stream",
       "stream": "stdout",
       "text": [
        "\r",
        "[3568/3600] KIAH 2013-12\r"
       ]
      },
      {
       "output_type": "stream",
       "stream": "stdout",
       "text": [
        "\r",
        "[3569/3600] KIND 2013-12\r"
       ]
      },
      {
       "output_type": "stream",
       "stream": "stdout",
       "text": [
        "\r",
        "[3570/3600] KJFK 2013-12\r"
       ]
      },
      {
       "output_type": "stream",
       "stream": "stdout",
       "text": [
        "\r",
        "[3571/3600] KLAS 2013-12\r"
       ]
      },
      {
       "output_type": "stream",
       "stream": "stdout",
       "text": [
        "\r",
        "[3572/3600] KLAX 2013-12\r"
       ]
      },
      {
       "output_type": "stream",
       "stream": "stdout",
       "text": [
        "\r",
        "[3573/3600] KLGA 2013-12\r"
       ]
      },
      {
       "output_type": "stream",
       "stream": "stdout",
       "text": [
        "\r",
        "[3574/3600] KMCI 2013-12\r"
       ]
      },
      {
       "output_type": "stream",
       "stream": "stdout",
       "text": [
        "\r",
        "[3575/3600] KMCO 2013-12\r"
       ]
      },
      {
       "output_type": "stream",
       "stream": "stdout",
       "text": [
        "\r",
        "[3576/3600] KMDW 2013-12\r"
       ]
      },
      {
       "output_type": "stream",
       "stream": "stdout",
       "text": [
        "\r",
        "[3577/3600] KMEM 2013-12\r"
       ]
      },
      {
       "output_type": "stream",
       "stream": "stdout",
       "text": [
        "\r",
        "[3578/3600] KMIA 2013-12\r"
       ]
      },
      {
       "output_type": "stream",
       "stream": "stdout",
       "text": [
        "\r",
        "[3579/3600] KMKE 2013-12\r"
       ]
      },
      {
       "output_type": "stream",
       "stream": "stdout",
       "text": [
        "\r",
        "[3580/3600] KMSP 2013-12\r"
       ]
      },
      {
       "output_type": "stream",
       "stream": "stdout",
       "text": [
        "\r",
        "[3581/3600] KMSY 2013-12\r"
       ]
      },
      {
       "output_type": "stream",
       "stream": "stdout",
       "text": [
        "\r",
        "[3582/3600] KOAK 2013-12\r"
       ]
      },
      {
       "output_type": "stream",
       "stream": "stdout",
       "text": [
        "\r",
        "[3583/3600] KORD 2013-12\r"
       ]
      },
      {
       "output_type": "stream",
       "stream": "stdout",
       "text": [
        "\r",
        "[3584/3600] KPDX 2013-12\r"
       ]
      },
      {
       "output_type": "stream",
       "stream": "stdout",
       "text": [
        "\r",
        "[3585/3600] KPHL 2013-12\r"
       ]
      },
      {
       "output_type": "stream",
       "stream": "stdout",
       "text": [
        "\r",
        "[3586/3600] KPHX 2013-12\r"
       ]
      },
      {
       "output_type": "stream",
       "stream": "stdout",
       "text": [
        "\r",
        "[3587/3600] KPIT 2013-12\r"
       ]
      },
      {
       "output_type": "stream",
       "stream": "stdout",
       "text": [
        "\r",
        "[3588/3600] KRDU 2013-12\r"
       ]
      },
      {
       "output_type": "stream",
       "stream": "stdout",
       "text": [
        "\r",
        "[3589/3600] KSAN 2013-12\r"
       ]
      },
      {
       "output_type": "stream",
       "stream": "stdout",
       "text": [
        "\r",
        "[3590/3600] KSAT 2013-12\r"
       ]
      },
      {
       "output_type": "stream",
       "stream": "stdout",
       "text": [
        "\r",
        "[3591/3600] KSEA 2013-12\r"
       ]
      },
      {
       "output_type": "stream",
       "stream": "stdout",
       "text": [
        "\r",
        "[3592/3600] KSFO 2013-12\r"
       ]
      },
      {
       "output_type": "stream",
       "stream": "stdout",
       "text": [
        "\r",
        "[3593/3600] KSJC 2013-12\r"
       ]
      },
      {
       "output_type": "stream",
       "stream": "stdout",
       "text": [
        "\r",
        "[3594/3600] KSLC 2013-12\r"
       ]
      },
      {
       "output_type": "stream",
       "stream": "stdout",
       "text": [
        "\r",
        "[3595/3600] KSMF 2013-12\r"
       ]
      },
      {
       "output_type": "stream",
       "stream": "stdout",
       "text": [
        "\r",
        "[3596/3600] KSNA 2013-12\r"
       ]
      },
      {
       "output_type": "stream",
       "stream": "stdout",
       "text": [
        "\r",
        "[3597/3600] KSTL 2013-12\r"
       ]
      },
      {
       "output_type": "stream",
       "stream": "stdout",
       "text": [
        "\r",
        "[3598/3600] KTPA 2013-12\r"
       ]
      },
      {
       "output_type": "stream",
       "stream": "stdout",
       "text": [
        "\r",
        "[3599/3600] PHNL 2013-12\r"
       ]
      },
      {
       "output_type": "stream",
       "stream": "stdout",
       "text": [
        "\r",
        "[3600/3600] TJSJ 2013-12\r"
       ]
      }
     ],
     "prompt_number": 16
    },
    {
     "cell_type": "markdown",
     "source": [
      "## Part 4\n",
      "\n",
      "For each pair of cities/airports determine how the daily change of\n",
      "**high temperature** and **cloud cover** from one city predicts the\n",
      "daily change of the other city 1, 3, and 7 days in advance."
     ]
    },
    {
     "cell_type": "code",
     "collapsed": false,
     "input": [
      "# open a new connection to the database\n",
      "connection = sqlite3.connect(\"airports.db\")\n",
      "cursor = connection.cursor()"
     ],
     "language": "python",
     "outputs": [],
     "prompt_number": 17
    },
    {
     "cell_type": "code",
     "collapsed": false,
     "input": [
      "# join data from the airports and weather tables that we will use in\n",
      "# our analysis, and create a DataFrame from the result\n",
      "sql_cmd = \"\"\"SELECT airports.icao, airports.latitude,\n",
      "airports.longitude, weather.date, weather.max_temp,\n",
      "weather.cloud_cover FROM weather LEFT JOIN airports ON airports.icao\n",
      "== weather.icao\"\"\"\n",
      "\n",
      "cursor.execute(sql_cmd)\n",
      "columns = ['icao', 'latitude', 'longitude', 'date', 'max_temp', 'cloud_cover']\n",
      "data = pd.DataFrame.from_records(cursor.fetchall(), columns=columns)\n",
      "data.date = pd.to_datetime(data.date)\n",
      "data.head()"
     ],
     "language": "python",
     "outputs": [
      {
       "html": [
        "<div style=\"max-height:1000px;max-width:1500px;overflow:auto;\">\n",
        "<table border=\"1\" class=\"dataframe\">\n",
        "  <thead>\n",
        "    <tr style=\"text-align: right;\">\n",
        "      <th></th>\n",
        "      <th>icao</th>\n",
        "      <th>latitude</th>\n",
        "      <th>longitude</th>\n",
        "      <th>date</th>\n",
        "      <th>max_temp</th>\n",
        "      <th>cloud_cover</th>\n",
        "    </tr>\n",
        "  </thead>\n",
        "  <tbody>\n",
        "    <tr>\n",
        "      <th>0</th>\n",
        "      <td> KATL</td>\n",
        "      <td> 33.6367</td>\n",
        "      <td>-84.428101</td>\n",
        "      <td>2008-01-01 00:00:00</td>\n",
        "      <td> 47</td>\n",
        "      <td> 1</td>\n",
        "    </tr>\n",
        "    <tr>\n",
        "      <th>1</th>\n",
        "      <td> KATL</td>\n",
        "      <td> 33.6367</td>\n",
        "      <td>-84.428101</td>\n",
        "      <td>2008-01-02 00:00:00</td>\n",
        "      <td> 30</td>\n",
        "      <td> 1</td>\n",
        "    </tr>\n",
        "    <tr>\n",
        "      <th>2</th>\n",
        "      <td> KATL</td>\n",
        "      <td> 33.6367</td>\n",
        "      <td>-84.428101</td>\n",
        "      <td>2008-01-03 00:00:00</td>\n",
        "      <td> 40</td>\n",
        "      <td> 1</td>\n",
        "    </tr>\n",
        "    <tr>\n",
        "      <th>3</th>\n",
        "      <td> KATL</td>\n",
        "      <td> 33.6367</td>\n",
        "      <td>-84.428101</td>\n",
        "      <td>2008-01-04 00:00:00</td>\n",
        "      <td> 47</td>\n",
        "      <td> 3</td>\n",
        "    </tr>\n",
        "    <tr>\n",
        "      <th>4</th>\n",
        "      <td> KATL</td>\n",
        "      <td> 33.6367</td>\n",
        "      <td>-84.428101</td>\n",
        "      <td>2008-01-05 00:00:00</td>\n",
        "      <td> 55</td>\n",
        "      <td> 6</td>\n",
        "    </tr>\n",
        "  </tbody>\n",
        "</table>\n",
        "</div>"
       ],
       "metadata": null,
       "output_type": "pyout",
       "prompt_number": 18,
       "text": [
        "   icao  latitude  longitude                date  max_temp  cloud_cover\n",
        "0  KATL   33.6367 -84.428101 2008-01-01 00:00:00        47            1\n",
        "1  KATL   33.6367 -84.428101 2008-01-02 00:00:00        30            1\n",
        "2  KATL   33.6367 -84.428101 2008-01-03 00:00:00        40            1\n",
        "3  KATL   33.6367 -84.428101 2008-01-04 00:00:00        47            3\n",
        "4  KATL   33.6367 -84.428101 2008-01-05 00:00:00        55            6"
       ]
      }
     ],
     "prompt_number": 18
    },
    {
     "cell_type": "code",
     "collapsed": false,
     "input": [
      "# pivot the data to extract our temperature and cloud cover frames\n",
      "temps = data.pivot(columns='icao', index='date', values='max_temp').dropna()\n",
      "cloud = data.pivot(columns='icao', index='date', values='cloud_cover').dropna()"
     ],
     "language": "python",
     "outputs": [],
     "prompt_number": 19
    },
    {
     "cell_type": "code",
     "collapsed": false,
     "input": [
      "# compute correlations between different cities, on different days,\n",
      "# for temperature and cloud cover\n",
      "temp_corrs = util.correlate(temps)\n",
      "cloud_corrs = util.correlate(cloud)\n",
      "temp_corrs['metric'] = 'temperature'\n",
      "cloud_corrs['metric'] = 'cloud_cover'\n",
      "# combine the two correlations dataframes into a single frame\n",
      "corrs = pd.concat([temp_corrs, cloud_corrs])\n",
      "corrs.head()"
     ],
     "language": "python",
     "outputs": [
      {
       "html": [
        "<div style=\"max-height:1000px;max-width:1500px;overflow:auto;\">\n",
        "<table border=\"1\" class=\"dataframe\">\n",
        "  <thead>\n",
        "    <tr style=\"text-align: right;\">\n",
        "      <th></th>\n",
        "      <th>city1</th>\n",
        "      <th>city2</th>\n",
        "      <th>corr</th>\n",
        "      <th>offset</th>\n",
        "      <th>metric</th>\n",
        "    </tr>\n",
        "  </thead>\n",
        "  <tbody>\n",
        "    <tr>\n",
        "      <th>0</th>\n",
        "      <td> KATL</td>\n",
        "      <td> KATL</td>\n",
        "      <td> 0.914951</td>\n",
        "      <td> 1</td>\n",
        "      <td> temperature</td>\n",
        "    </tr>\n",
        "    <tr>\n",
        "      <th>1</th>\n",
        "      <td> KATL</td>\n",
        "      <td> KAUS</td>\n",
        "      <td> 0.787554</td>\n",
        "      <td> 1</td>\n",
        "      <td> temperature</td>\n",
        "    </tr>\n",
        "    <tr>\n",
        "      <th>2</th>\n",
        "      <td> KATL</td>\n",
        "      <td> KBNA</td>\n",
        "      <td> 0.865245</td>\n",
        "      <td> 1</td>\n",
        "      <td> temperature</td>\n",
        "    </tr>\n",
        "    <tr>\n",
        "      <th>3</th>\n",
        "      <td> KATL</td>\n",
        "      <td> KBOS</td>\n",
        "      <td> 0.820683</td>\n",
        "      <td> 1</td>\n",
        "      <td> temperature</td>\n",
        "    </tr>\n",
        "    <tr>\n",
        "      <th>4</th>\n",
        "      <td> KATL</td>\n",
        "      <td> KBWI</td>\n",
        "      <td> 0.875272</td>\n",
        "      <td> 1</td>\n",
        "      <td> temperature</td>\n",
        "    </tr>\n",
        "  </tbody>\n",
        "</table>\n",
        "</div>"
       ],
       "metadata": null,
       "output_type": "pyout",
       "prompt_number": 20,
       "text": [
        "  city1 city2      corr  offset       metric\n",
        "0  KATL  KATL  0.914951       1  temperature\n",
        "1  KATL  KAUS  0.787554       1  temperature\n",
        "2  KATL  KBNA  0.865245       1  temperature\n",
        "3  KATL  KBOS  0.820683       1  temperature\n",
        "4  KATL  KBWI  0.875272       1  temperature"
       ]
      }
     ],
     "prompt_number": 20
    },
    {
     "cell_type": "markdown",
     "source": [
      "## Part 5\n",
      "\n",
      "Plot the correlation strengths for the 10 top pairs for all three\n",
      "dates, for both temperature and cloud cover as a function of\n",
      "distance. Also make a plot as a function of longitude difference. What\n",
      "trends do you see?"
     ]
    },
    {
     "cell_type": "code",
     "collapsed": false,
     "input": [
      "# calculate distances betwen cities/airports\n",
      "ll = data.set_index('icao')[['latitude', 'longitude']].drop_duplicates().T\n",
      "dist = util.calc_dist(ll)\n",
      "dist.head()"
     ],
     "language": "python",
     "outputs": [
      {
       "html": [
        "<div style=\"max-height:1000px;max-width:1500px;overflow:auto;\">\n",
        "<table border=\"1\" class=\"dataframe\">\n",
        "  <thead>\n",
        "    <tr style=\"text-align: right;\">\n",
        "      <th></th>\n",
        "      <th>city1</th>\n",
        "      <th>city2</th>\n",
        "      <th>distance</th>\n",
        "      <th>latitude_distance</th>\n",
        "      <th>longitude_distance</th>\n",
        "    </tr>\n",
        "  </thead>\n",
        "  <tbody>\n",
        "    <tr>\n",
        "      <th>0</th>\n",
        "      <td> KATL</td>\n",
        "      <td> KATL</td>\n",
        "      <td>  0.000000</td>\n",
        "      <td> 0.000000</td>\n",
        "      <td>  0.000000</td>\n",
        "    </tr>\n",
        "    <tr>\n",
        "      <th>1</th>\n",
        "      <td> KATL</td>\n",
        "      <td> KAUS</td>\n",
        "      <td> 13.681885</td>\n",
        "      <td> 3.442200</td>\n",
        "      <td> 13.241798</td>\n",
        "    </tr>\n",
        "    <tr>\n",
        "      <th>2</th>\n",
        "      <td> KATL</td>\n",
        "      <td> KBNA</td>\n",
        "      <td>  3.354415</td>\n",
        "      <td> 2.487801</td>\n",
        "      <td>  2.250099</td>\n",
        "    </tr>\n",
        "    <tr>\n",
        "      <th>3</th>\n",
        "      <td> KATL</td>\n",
        "      <td> KBOS</td>\n",
        "      <td> 16.010783</td>\n",
        "      <td> 8.727600</td>\n",
        "      <td> 13.422897</td>\n",
        "    </tr>\n",
        "    <tr>\n",
        "      <th>4</th>\n",
        "      <td> KATL</td>\n",
        "      <td> KBWI</td>\n",
        "      <td>  9.533717</td>\n",
        "      <td> 5.538700</td>\n",
        "      <td>  7.759804</td>\n",
        "    </tr>\n",
        "  </tbody>\n",
        "</table>\n",
        "</div>"
       ],
       "metadata": null,
       "output_type": "pyout",
       "prompt_number": 21,
       "text": [
        "  city1 city2   distance  latitude_distance  longitude_distance\n",
        "0  KATL  KATL   0.000000           0.000000            0.000000\n",
        "1  KATL  KAUS  13.681885           3.442200           13.241798\n",
        "2  KATL  KBNA   3.354415           2.487801            2.250099\n",
        "3  KATL  KBOS  16.010783           8.727600           13.422897\n",
        "4  KATL  KBWI   9.533717           5.538700            7.759804"
       ]
      }
     ],
     "prompt_number": 21
    },
    {
     "cell_type": "code",
     "collapsed": false,
     "input": [
      "# combine the correlations with distances\n",
      "plotdata = pd.merge(corrs, dist, how='outer').sort('corr', ascending=False)"
     ],
     "language": "python",
     "outputs": [],
     "prompt_number": 22
    },
    {
     "cell_type": "markdown",
     "source": [
      "### Trends\n",
      "\n",
      "Temperature is a much more robust predictor of future temperatures;\n",
      "even a week in advance it is quite telling. Interestingly, as the time\n",
      "offset increases, so does the distance between correlated cities --\n",
      "this likely reflects the movements of hot/cold fronts and the like.\n",
      "\n",
      "Cloud cover is only really predictive a single day in advance, and\n",
      "only for cities which are right next to each other. This also make\n",
      "intuitive sense, because clouds move and change much faster than\n",
      "temperature, so they *a priori* have less predictive power, and are\n",
      "not as robust to changes in location."
     ]
    },
    {
     "cell_type": "code",
     "collapsed": false,
     "input": [
      "# plot correlations as a function of distance\n",
      "util.plot(plotdata, 'distance')"
     ],
     "language": "python",
     "outputs": [
      {
       "metadata": null,
       "output_type": "display_data",
       "png": "[encoded data removed]",
       "text": [
        "<matplotlib.figure.Figure at 0x11304a050>"
       ]
      }
     ],
     "prompt_number": 23
    },
    {
     "cell_type": "markdown",
     "source": [
      "Looking at longitudinal distance compared to full euclidean distance,\n",
      "we see that the two produce nearly identical plots. This indicates\n",
      "that the direction of weather movement is largely north/south.\n",
      "Differences in latitudinal distance barely affect the correlations\n",
      "between cities."
     ]
    },
    {
     "cell_type": "code",
     "collapsed": false,
     "input": [
      "# plot correlations as a function of longitude distance\n",
      "util.plot(plotdata, 'longitude_distance')"
     ],
     "language": "python",
     "outputs": [
      {
       "metadata": null,
       "output_type": "display_data",
       "png": "[encoded data removed]",
       "text": [
        "<matplotlib.figure.Figure at 0x11645ab90>"
       ]
      }
     ],
     "prompt_number": 24
    }
   ]
  }
 ]
}