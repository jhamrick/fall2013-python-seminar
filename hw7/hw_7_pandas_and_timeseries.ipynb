{
 "metadata": {
  "name": ""
 },
 "nbformat": 3,
 "nbformat_minor": 0,
 "worksheets": [
  {
   "cells": [
    {
     "cell_type": "markdown",
     "source": [
      "Pandas and Timeseries\n",
      "----------------------\n",
      "\n",
      "Due Thursday October 24 at 9am\n",
      "\n",
      "UC Berkeley \"Python for Data Science\" Seminar AY 250. Fall 2013.\n",
      "\n",
      "Created by Guest Lecturer [Wes McKinney](http://blog.wesmckinney.com/)."
     ]
    },
    {
     "cell_type": "code",
     "collapsed": false,
     "input": [
      "import json\n",
      "import pandas as pd\n",
      "import datetime"
     ],
     "language": "python",
     "outputs": []
    },
    {
     "cell_type": "markdown",
     "source": [
      "Download a dump of data about closed GitHub issues for the pandas\n",
      "project here:\n",
      "\n",
      "https://www.dropbox.com/s/pe6dqooznrfynii/closed.json\n",
      "\n",
      "Use the built-in json library to read this file into memory. Each\n",
      "element in the list contains information about a GitHub issue and all\n",
      "developer comments that were made on it in the 'comments' field."
     ]
    },
    {
     "cell_type": "code",
     "collapsed": false,
     "input": [
      "with open(\"closed.json\", \"r\") as fh:\n",
      "    closed = pd.DataFrame(json.load(fh))"
     ],
     "language": "python",
     "outputs": []
    },
    {
     "cell_type": "markdown",
     "source": [
      "1) Make a DataFrame with one row per issue with the following columns\n",
      "extracted from the issue data:\n",
      "\n",
      "   ``title, created_at, labels, closed_at, user, id``\n",
      "\n",
      "Transform the user values to be simply the 'login' string, so that the\n",
      "user column contains only string usernames."
     ]
    },
    {
     "cell_type": "code",
     "collapsed": false,
     "input": [
      "fields = ['title', 'created_at', 'labels', 'closed_at', 'user', 'id']\n",
      "issues = closed[fields]\n",
      "issues['user'] = [x['login'] for x in issues['user']]\n",
      "issues"
     ],
     "language": "python",
     "outputs": []
    },
    {
     "cell_type": "markdown",
     "source": [
      "2) Remove duplicate rows by id from the DataFrame you just created\n",
      "using the id column's duplicated method."
     ]
    },
    {
     "cell_type": "code",
     "collapsed": false,
     "input": [
      "unique_issues = issues[~issues.id.duplicated()]\n",
      "unique_issues.head()"
     ],
     "language": "python",
     "outputs": []
    },
    {
     "cell_type": "markdown",
     "source": [
      "4) Convert the ``created_at`` and ``closed_at columns`` from string to\n",
      "datetime type."
     ]
    },
    {
     "cell_type": "code",
     "collapsed": false,
     "input": [
      "unique_issues['created_at'] = pd.to_datetime(unique_issues['created_at'])\n",
      "unique_issues['closed_at'] = pd.to_datetime(unique_issues['closed_at'])"
     ],
     "language": "python",
     "outputs": []
    },
    {
     "cell_type": "markdown",
     "source": [
      "5) Now construct appropriate time series and pandas functions to make the\n",
      "following plots:\n",
      "\n",
      "- Number of issues created by month\n",
      "\n",
      "- Number of distinct users creating issues each month (hint: you can pass a\n",
      "  function to resample's how argument, and there's nothing wrong with having\n",
      "  string values in a TimeSeries)"
     ]
    },
    {
     "cell_type": "code",
     "collapsed": false,
     "input": [
      "issues_per_month = unique_issues\\\n",
      "    .set_index('created_at')['id']\\\n",
      "    .resample('M', how=lambda x: len(x))\n",
      "issues_per_month.head()"
     ],
     "language": "python",
     "outputs": []
    },
    {
     "cell_type": "code",
     "collapsed": false,
     "input": [
      "users_per_month = unique_issues\\\n",
      "    .set_index('created_at')['user']\\\n",
      "    .resample('M', how=lambda x: x.unique().size)\n",
      "users_per_month.head()"
     ],
     "language": "python",
     "outputs": []
    },
    {
     "cell_type": "markdown",
     "source": [
      "6) Make a table and an accompanying plot illustrating:\n",
      "\n",
      "- The mean number of days it took for issues to be closed by the month they\n",
      "  were opened. In other words, for closed issues created in August 2012, how\n",
      "  long were they open on average? (hint: use the ``total_seconds`` function on the\n",
      "  timedelta objects computed when subtracting datetime objects). Also show the\n",
      "  number of issues in each month in the table."
     ]
    },
    {
     "cell_type": "code",
     "collapsed": false,
     "input": [
      "unique_issues['length_open'] = (unique_issues['closed_at'] - unique_issues['created_at'])\n",
      "days_open_per_month = unique_issues\\\n",
      "    .set_index('created_at')['length_open']\\\n",
      "    .map(lambda x: datetime.timedelta(seconds=int(x) * 1e-9).days)\\\n",
      "    .resample('M', how='mean')\n",
      "days_open_per_month"
     ],
     "language": "python",
     "outputs": []
    },
    {
     "cell_type": "code",
     "collapsed": false,
     "input": [
      "month_table = pd.DataFrame({\n",
      "    'Avg. days open': days_open_per_month,\n",
      "    'Num issues': issues_per_month\n",
      "})\n",
      "month_table.index = month_table.index.to_period()\n",
      "month_table.index.name = \"Month\""
     ],
     "language": "python",
     "outputs": []
    },
    {
     "cell_type": "code",
     "collapsed": false,
     "input": [
      "month_table"
     ],
     "language": "python",
     "outputs": []
    },
    {
     "cell_type": "code",
     "collapsed": false,
     "input": [
      "%matplotlib inline\n",
      "month_table.plot(kind='bar', subplots=True)\n",
      "plt.tight_layout()"
     ],
     "language": "python",
     "outputs": []
    },
    {
     "cell_type": "markdown",
     "source": [
      "7) Make a DataFrame containing all the comments for all of the issues. You will\n",
      "want to add an ``id`` attribute to each comment while doing so so that each row\n",
      "contains a single comment and has the id of the issue it belongs to.\n",
      "\n",
      "Convert the ``created`` column to datetime format; note you will need to multiply\n",
      "the values (appropriately converted to integers) by 1000000 to get them in\n",
      "nanoseconds and pass to to_datetime."
     ]
    },
    {
     "cell_type": "code",
     "collapsed": false,
     "input": [
      "comments = pd.DataFrame(\n",
      "    [dict([x for x in c.iteritems()] + [('id', i)]) \n",
      "     for i, issue in closed.drop_duplicates(cols='id').set_index('id').iterrows()\n",
      "     for c in issue['comments']])\n",
      "comments['created'] = pd.to_datetime(comments['created'].astype(int) * 1000000)"
     ],
     "language": "python",
     "outputs": []
    },
    {
     "cell_type": "markdown",
     "source": [
      "8) For each month, compute a table summarizing the following for each month:\n",
      "\n",
      "- Total number of issue comments\n",
      "- The \"chattiest\" user (most number of comments)\n",
      "- The percentage of total comments made by the chattiest users\n",
      "- The number of distinct participants in the issue comments"
     ]
    },
    {
     "cell_type": "code",
     "collapsed": false,
     "input": [
      "num_comments = comments\\\n",
      "    .set_index('created')['id']\\\n",
      "    .resample('M', how=lambda x: len(x))\n",
      "num_comments.sort_index()\n",
      "num_comments.head()"
     ],
     "language": "python",
     "outputs": []
    },
    {
     "cell_type": "code",
     "collapsed": false,
     "input": [
      "def count_comments(arr):\n",
      "    return arr.set_index('created').resample('M', how=lambda x: len(x))['id']\n",
      "\n",
      "comments_per_user = comments\\\n",
      "    .groupby('author')\\\n",
      "    .apply(count_comments)\\\n",
      "    .unstack('author')\\\n",
      "    .fillna(0)\\\n",
      "    .sort()\n",
      "\n",
      "frac_comments_per_user = comments_per_user / num_comments.astype('f8')"
     ],
     "language": "python",
     "outputs": []
    },
    {
     "cell_type": "code",
     "collapsed": false,
     "input": [
      "chattiest_users = comments_per_user.idxmax(axis=1)\n",
      "chattiest_users.head()"
     ],
     "language": "python",
     "outputs": []
    },
    {
     "cell_type": "code",
     "collapsed": false,
     "input": [
      "frac_chattiest_users = frac_comments_per_user.max(axis=1)\n",
      "frac_chattiest_users.head()"
     ],
     "language": "python",
     "outputs": []
    },
    {
     "cell_type": "code",
     "collapsed": false,
     "input": [
      "unique_users = (comments_per_user > 0).sum(axis=1)\n",
      "unique_users.head()"
     ],
     "language": "python",
     "outputs": []
    },
    {
     "cell_type": "code",
     "collapsed": false,
     "input": [
      "user_table = pd.DataFrame({\n",
      "    'num comments': num_comments,\n",
      "    'chattiest user': chattiest_users,\n",
      "    'frac. chattiest user': frac_chattiest_users,\n",
      "    'num participants': unique_users\n",
      "})\n",
      "\n",
      "user_table = user_table.dropna().reindex(user_table.index)\n",
      "user_table"
     ],
     "language": "python",
     "outputs": []
    },
    {
     "cell_type": "markdown",
     "source": [
      "9) Create a helper ``labels`` table from the issues data with two columns: id and\n",
      "label. If an issue has 3 elements in its 'labels' value, add 3 rows to the\n",
      "table. If an issue does not have any labels, place a single row with None as\n",
      "the label (hint: construct a list of tuples, then make the DataFrame)."
     ]
    },
    {
     "cell_type": "markdown",
     "source": [
      "10) Now, join the issues data with the labels helper table (pandas.merge). Add\n",
      "a column to this table containing the number of days (as a floating point\n",
      "number) it took to close each issue."
     ]
    },
    {
     "cell_type": "markdown",
     "source": [
      "11) Compute a table containing the average time to close for each label\n",
      "type. Now make a plot comparing mean time to close by month for Enhancement\n",
      "versus Bug issue types."
     ]
    }
   ]
  }
 ]
}