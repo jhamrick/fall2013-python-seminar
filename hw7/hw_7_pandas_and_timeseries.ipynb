{
 "metadata": {
  "name": ""
 },
 "nbformat": 3,
 "nbformat_minor": 0,
 "worksheets": [
  {
   "cells": [
    {
     "cell_type": "markdown",
     "source": [
      "Pandas and Timeseries\n",
      "----------------------\n",
      "\n",
      "Due Thursday October 24 at 9am\n",
      "\n",
      "UC Berkeley \"Python for Data Science\" Seminar AY 250. Fall 2013.\n",
      "\n",
      "Created by Guest Lecturer [Wes McKinney](http://blog.wesmckinney.com/).\n",
      "\n",
      "<hr>"
     ]
    },
    {
     "cell_type": "code",
     "collapsed": false,
     "input": [
      "import json\n",
      "import pandas as pd"
     ],
     "language": "python",
     "outputs": [],
     "prompt_number": 1
    },
    {
     "cell_type": "markdown",
     "source": [
      "Download a dump of data about closed GitHub issues for the pandas\n",
      "project here:\n",
      "\n",
      "https://www.dropbox.com/s/pe6dqooznrfynii/closed.json\n",
      "\n",
      "Use the built-in json library to read this file into memory. Each\n",
      "element in the list contains information about a GitHub issue and all\n",
      "developer comments that were made on it in the 'comments' field."
     ]
    },
    {
     "cell_type": "code",
     "collapsed": false,
     "input": [
      "with open(\"closed.json\", \"r\") as fh:\n",
      "    closed = json.load(fh)"
     ],
     "language": "python",
     "outputs": [],
     "prompt_number": 2
    },
    {
     "cell_type": "markdown",
     "source": [
      "1) Make a DataFrame with one row per issue with the following columns\n",
      "extracted from the issue data:\n",
      "\n",
      "   ``title, created_at, labels, closed_at, user, id``\n",
      "\n",
      "Transform the user values to be simply the 'login' string, so that the\n",
      "user column contains only string usernames."
     ]
    },
    {
     "cell_type": "code",
     "collapsed": false,
     "input": [
      "fields = ['title', 'created_at', 'labels', 'closed_at', 'user', 'id']\n",
      "issues = pd.DataFrame([{f: x.get(f, None) for f in fields} for x in closed])\n",
      "issues['user'] = [x['login'] for x in issues['user']]\n",
      "issues"
     ],
     "language": "python",
     "outputs": [
      {
       "html": [
        "<pre>\n",
        "&lt;class 'pandas.core.frame.DataFrame'&gt;\n",
        "Int64Index: 2968 entries, 0 to 2967\n",
        "Data columns (total 6 columns):\n",
        "closed_at     2968  non-null values\n",
        "created_at    2968  non-null values\n",
        "id            2968  non-null values\n",
        "labels        2968  non-null values\n",
        "title         2968  non-null values\n",
        "user          2968  non-null values\n",
        "dtypes: int64(1), object(5)\n",
        "</pre>"
       ],
       "output_type": "pyout",
       "prompt_number": 3,
       "text": [
        "<class 'pandas.core.frame.DataFrame'>\n",
        "Int64Index: 2968 entries, 0 to 2967\n",
        "Data columns (total 6 columns):\n",
        "closed_at     2968  non-null values\n",
        "created_at    2968  non-null values\n",
        "id            2968  non-null values\n",
        "labels        2968  non-null values\n",
        "title         2968  non-null values\n",
        "user          2968  non-null values\n",
        "dtypes: int64(1), object(5)"
       ]
      }
     ],
     "prompt_number": 3
    },
    {
     "cell_type": "markdown",
     "source": [
      "2) Remove duplicate rows by id from the DataFrame you just created\n",
      "using the id column's duplicated method."
     ]
    },
    {
     "cell_type": "code",
     "collapsed": false,
     "input": [
      "unique_issues = issues[issues.id.duplicated()]\n",
      "unique_issues.head()"
     ],
     "language": "python",
     "outputs": [
      {
       "html": [
        "<div style=\"max-height:1000px;max-width:1500px;overflow:auto;\">\n",
        "<table border=\"1\" class=\"dataframe\">\n",
        "  <thead>\n",
        "    <tr style=\"text-align: right;\">\n",
        "      <th></th>\n",
        "      <th>closed_at</th>\n",
        "      <th>created_at</th>\n",
        "      <th>id</th>\n",
        "      <th>labels</th>\n",
        "      <th>title</th>\n",
        "      <th>user</th>\n",
        "    </tr>\n",
        "  </thead>\n",
        "  <tbody>\n",
        "    <tr>\n",
        "      <th>1</th>\n",
        "      <td> 2011-02-19T23:13:48Z</td>\n",
        "      <td> 2010-09-29T00:45:31Z</td>\n",
        "      <td> 337721</td>\n",
        "      <td> []</td>\n",
        "      <td> Enable element-wise comparison operations in D...</td>\n",
        "      <td> wesm</td>\n",
        "    </tr>\n",
        "    <tr>\n",
        "      <th>3</th>\n",
        "      <td> 2010-12-17T02:57:33Z</td>\n",
        "      <td> 2010-09-29T00:50:13Z</td>\n",
        "      <td> 337726</td>\n",
        "      <td> []</td>\n",
        "      <td>                             reindex_like function</td>\n",
        "      <td> wesm</td>\n",
        "    </tr>\n",
        "    <tr>\n",
        "      <th>5</th>\n",
        "      <td> 2011-01-01T23:50:12Z</td>\n",
        "      <td> 2010-09-29T00:50:52Z</td>\n",
        "      <td> 337728</td>\n",
        "      <td> []</td>\n",
        "      <td>               Binary operations on int DataMatrix</td>\n",
        "      <td> wesm</td>\n",
        "    </tr>\n",
        "    <tr>\n",
        "      <th>7</th>\n",
        "      <td> 2010-12-11T06:14:32Z</td>\n",
        "      <td> 2010-09-29T00:51:27Z</td>\n",
        "      <td> 337730</td>\n",
        "      <td> []</td>\n",
        "      <td> Plot keyword arguments are unused in DataFrame...</td>\n",
        "      <td> wesm</td>\n",
        "    </tr>\n",
        "    <tr>\n",
        "      <th>9</th>\n",
        "      <td> 2010-12-17T02:46:34Z</td>\n",
        "      <td> 2010-09-29T00:57:00Z</td>\n",
        "      <td> 337736</td>\n",
        "      <td> []</td>\n",
        "      <td>                                Python 2.7 testing</td>\n",
        "      <td> wesm</td>\n",
        "    </tr>\n",
        "  </tbody>\n",
        "</table>\n",
        "</div>"
       ],
       "output_type": "pyout",
       "prompt_number": 4,
       "text": [
        "              closed_at            created_at      id labels  \\\n",
        "1  2011-02-19T23:13:48Z  2010-09-29T00:45:31Z  337721     []   \n",
        "3  2010-12-17T02:57:33Z  2010-09-29T00:50:13Z  337726     []   \n",
        "5  2011-01-01T23:50:12Z  2010-09-29T00:50:52Z  337728     []   \n",
        "7  2010-12-11T06:14:32Z  2010-09-29T00:51:27Z  337730     []   \n",
        "9  2010-12-17T02:46:34Z  2010-09-29T00:57:00Z  337736     []   \n",
        "\n",
        "                                               title  user  \n",
        "1  Enable element-wise comparison operations in D...  wesm  \n",
        "3                              reindex_like function  wesm  \n",
        "5                Binary operations on int DataMatrix  wesm  \n",
        "7  Plot keyword arguments are unused in DataFrame...  wesm  \n",
        "9                                 Python 2.7 testing  wesm  "
       ]
      }
     ],
     "prompt_number": 4
    },
    {
     "cell_type": "markdown",
     "source": [
      "4) Convert the ``created_at`` and ``closed_at columns`` from string to\n",
      "datetime type."
     ]
    },
    {
     "cell_type": "code",
     "collapsed": false,
     "input": [
      "unique_issues['created_at'] = pd.to_datetime(unique_issues['created_at'])\n",
      "unique_issues['closed_at'] = pd.to_datetime(unique_issues['closed_at'])"
     ],
     "language": "python",
     "outputs": [],
     "prompt_number": 5
    },
    {
     "cell_type": "markdown",
     "source": [
      "5) Now construct appropriate time series and pandas functions to make the\n",
      "following plots:\n",
      "\n",
      "- Number of issues created by month\n",
      "\n",
      "- Number of distinct users creating issues each month (hint: you can pass a\n",
      "  function to resample's how argument, and there's nothing wrong with having\n",
      "  string values in a TimeSeries)"
     ]
    },
    {
     "cell_type": "code",
     "collapsed": false,
     "input": [],
     "language": "python",
     "outputs": []
    },
    {
     "cell_type": "markdown",
     "source": [
      "6) Make a table and an accompanying plot illustrating:\n",
      "\n",
      "- The mean number of days it took for issues to be closed by the month they\n",
      "  were opened. In other words, for closed issues created in August 2012, how\n",
      "  long were they open on average? (hint: use the ``total_seconds`` function on the\n",
      "  timedelta objects computed when subtracting datetime objects). Also show the\n",
      "  number of issues in each month in the table."
     ]
    },
    {
     "cell_type": "markdown",
     "source": [
      "7) Make a DataFrame containing all the comments for all of the issues. You will\n",
      "want to add an ``id`` attribute to each comment while doing so so that each row\n",
      "contains a single comment and has the id of the issue it belongs to.\n",
      "\n",
      "Convert the ``created`` column to datetime format; note you will need to multiply\n",
      "the values (appropriately converted to integers) by 1000000 to get them in\n",
      "nanoseconds and pass to to_datetime."
     ]
    },
    {
     "cell_type": "markdown",
     "source": [
      "8) For each month, compute a table summarizing the following for each month:\n",
      "\n",
      "- Total number of issue comments\n",
      "- The \"chattiest\" user (most number of comments)\n",
      "- The percentage of total comments made by the chattiest users\n",
      "- The number of distinct participants in the issue comments"
     ]
    },
    {
     "cell_type": "markdown",
     "source": [
      "9) Create a helper ``labels`` table from the issues data with two columns: id and\n",
      "label. If an issue has 3 elements in its 'labels' value, add 3 rows to the\n",
      "table. If an issue does not have any labels, place a single row with None as\n",
      "the label (hint: construct a list of tuples, then make the DataFrame)."
     ]
    },
    {
     "cell_type": "markdown",
     "source": [
      "10) Now, join the issues data with the labels helper table (pandas.merge). Add\n",
      "a column to this table containing the number of days (as a floating point\n",
      "number) it took to close each issue."
     ]
    },
    {
     "cell_type": "markdown",
     "source": [
      "11) Compute a table containing the average time to close for each label\n",
      "type. Now make a plot comparing mean time to close by month for Enhancement\n",
      "versus Bug issue types."
     ]
    }
   ]
  }
 ]
}