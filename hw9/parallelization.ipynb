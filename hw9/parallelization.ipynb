{
 "metadata": {
  "name": ""
 },
 "nbformat": 3,
 "nbformat_minor": 0,
 "worksheets": [
  {
   "cells": [
    {
     "cell_type": "code",
     "collapsed": false,
     "input": [
      "from time import time\n",
      "import logging\n",
      "import sys\n",
      "import multiprocessing as mp\n",
      "from IPython import parallel"
     ],
     "language": "python",
     "outputs": [],
     "prompt_number": 1
    },
    {
     "cell_type": "code",
     "collapsed": false,
     "input": [
      "# Set up parallelization\n",
      "n_cpus = mp.cpu_count()\n",
      "rc = parallel.Client()\n",
      "dview = rc[:]\n",
      "dview.block = True\n",
      "assert len(dview) == n_cpus"
     ],
     "language": "python",
     "outputs": [],
     "prompt_number": 2
    },
    {
     "cell_type": "code",
     "collapsed": false,
     "input": [
      "# Configure the logger\n",
      "logger = logging.getLogger()\n",
      "logger.setLevel(logging.INFO)"
     ],
     "language": "python",
     "outputs": [],
     "prompt_number": 3
    },
    {
     "cell_type": "markdown",
     "source": [
      "For each dart, find a random position in the unit circle for it to\n",
      "fall. Test if it falls within the circle by calculating the distance\n",
      "from the origin (0.5, 0.5) to the dart. Darts that fall within 0.5 of\n",
      "the origin are within the circle."
     ]
    },
    {
     "cell_type": "code",
     "collapsed": false,
     "input": [
      "def simple(n_darts):\n",
      "    \"\"\"Simple serial method: pick random coordinates, one at a time,\n",
      "    and test to see if the point is within the circle.\n",
      "\n",
      "    \"\"\"\n",
      "    from random import uniform\n",
      "    from math import sqrt\n",
      "\n",
      "    n_in_circle = 0\n",
      "\n",
      "    for n in xrange(n_darts):\n",
      "\tx, y = uniform(0, 1), uniform(0, 1)\n",
      "\tif sqrt((x - 0.5) ** 2 + (y - 0.5) ** 2) <= 0.5:\n",
      "\t    n_in_circle += 1\n",
      "\n",
      "    return n_in_circle"
     ],
     "language": "python",
     "outputs": [],
     "prompt_number": 4
    },
    {
     "cell_type": "code",
     "collapsed": false,
     "input": [
      "def numpy(n_darts):\n",
      "    \"\"\"Simply numpy method: pick random coordinates all at once, and\n",
      "    test to see if they are within the circle.\n",
      "\n",
      "    \"\"\"\n",
      "\n",
      "    import numpy as np\n",
      "\n",
      "    points = np.random.uniform(0, 1, (n_darts, 2))\n",
      "    in_circle = np.sqrt(((points - 0.5) ** 2).sum(axis=1)) <= 0.5\n",
      "    n_in_circle = np.sum(in_circle)\n",
      "    return n_in_circle"
     ],
     "language": "python",
     "outputs": [],
     "prompt_number": 5
    },
    {
     "cell_type": "code",
     "collapsed": false,
     "input": [
      "def multiprocessing(n_darts, func): \n",
      "    \"\"\"Multiprocessing method: divide the number of darts by the\n",
      "    number of cpus, and use a processing pool to perform those tasks\n",
      "    individually.\n",
      "\n",
      "    \"\"\"\n",
      "\n",
      "    if n_darts % n_cpus != 0:\n",
      "\traise ValueError(\"n_darts is not divisible by n_cpus\")\n",
      "    n_per_cpu = n_darts / n_cpus\n",
      "    pool = mp.Pool(n_cpus)\n",
      "    n_in_circle = sum(pool.map(func, [n_per_cpu]*n_cpus))\n",
      "    return n_in_circle"
     ],
     "language": "python",
     "outputs": [],
     "prompt_number": 6
    },
    {
     "cell_type": "code",
     "collapsed": false,
     "input": [
      "def ipcluster(n_darts, func): \n",
      "    \"\"\"IPython Cluster method: divide the number of darts by the\n",
      "    number of cpus, and map those subtasks to each engine in the\n",
      "    cluster.\n",
      "\n",
      "    \"\"\"\n",
      "\n",
      "    if n_darts % n_cpus != 0:\n",
      "\traise ValueError(\"n_darts is not divisible by n_cpus\")\n",
      "    n_per_cpu = n_darts / n_cpus\n",
      "    n_in_circle = sum(dview.map_sync(func, [n_per_cpu]*n_cpus))\n",
      "    return n_in_circle"
     ],
     "language": "python",
     "outputs": [],
     "prompt_number": 7
    },
    {
     "cell_type": "code",
     "collapsed": false,
     "input": [
      "def pi_approx(n_darts, n_in_circle):\n",
      "    \"\"\"We can calculate an approximate numerical value for pi using\n",
      "    the formula for the area of a circle (which defines pi):\n",
      "\n",
      "        A = pi * r**2. \n",
      "\n",
      "    Here, r=0.5 and the area of the circle can be approximated by the\n",
      "    ratio of the number of darts that fall inside the circle over the\n",
      "    total number of darts thrown. Thus we have pi = 4 * Area.\n",
      "\n",
      "    \"\"\"\n",
      "\n",
      "    pi_approx = 4 * n_in_circle / float(n_darts)\n",
      "    return pi_approx"
     ],
     "language": "python",
     "outputs": [],
     "prompt_number": 8
    },
    {
     "cell_type": "code",
     "collapsed": false,
     "input": [
      "def test(func, n_darts=1000000, thresh=1e-3):\n",
      "    \"\"\"Simple test function to make sure that the approximation to pi\n",
      "    computed by `func` is correct.\n",
      "\n",
      "    \"\"\"\n",
      "\n",
      "    import math\n",
      "    logger.info(\"Testing %s(%d) ...\", func.__name__, n_darts)\n",
      "    # Estimate pi\n",
      "    n_in_circle = func(n_darts)\n",
      "    pi = pi_approx(n_darts, n_in_circle)\n",
      "    # Compute the error\n",
      "    diff = pi - math.pi\n",
      "    if diff >= thresh:\n",
      "\tlogger.error(\"%f != %f\", pi, math.pi)\n",
      "\traise AssertionError(\"%f != %f\" % (pi, math.pi))\n",
      "    logger.info(\"OK\")"
     ],
     "language": "python",
     "outputs": [],
     "prompt_number": 9
    },
    {
     "cell_type": "code",
     "collapsed": false,
     "input": [
      "def run(func, n_darts, *args):\n",
      "    # We will will use time() to record the execution time of the function\n",
      "    # that runs the dart throwing simulation\n",
      "    start_time = time()\n",
      "    # Run the function\n",
      "    n_in_circle = func(n_darts, *args)\n",
      "    # Record the time after the conclusion of the function\n",
      "    end_time = time()\n",
      "    # Compute the approximation to pi\n",
      "    pi = pi_approx(n_darts, n_in_circle)\n",
      "\n",
      "    # The total time required to run the function is the difference\n",
      "    execution_time = end_time - start_time \n",
      "    # The rate of the simulation\n",
      "    simulation_rate = n_darts / execution_time\n",
      "\n",
      "\n",
      "    # Print out some summary info about the run. Execution time should\n",
      "    # increase with increasing numbers of darts. Darts thrown per\n",
      "    # second should stay relatively constant and is sort of a measure\n",
      "    # of the speed of the processor (although it is highly dependent\n",
      "    # on the efficiencies of the involved operators and functions).\n",
      "    logger.info(\"Pi Approximation: %f\", pi)\n",
      "    logger.info(\"Number of Darts: %d\", n_darts)\n",
      "    logger.info(\"Execution Time (s): %d\", execution_time)\n",
      "    logger.info(\"Darts Thrown per Second: %d\", simulation_rate)\n",
      "\n",
      "    return execution_time, simulation_rate"
     ],
     "language": "python",
     "outputs": [],
     "prompt_number": 10
    },
    {
     "cell_type": "code",
     "collapsed": false,
     "input": [
      "# Test that the different methods correctly calculate pi\n",
      "test(simple)\n",
      "test(numpy)"
     ],
     "language": "python",
     "outputs": [
      {
       "output_type": "stream",
       "stream": "stderr",
       "text": [
        "INFO:root:Testing simple(1000000) ...\n"
       ]
      },
      {
       "output_type": "stream",
       "stream": "stderr",
       "text": [
        "INFO:root:OK\n"
       ]
      },
      {
       "output_type": "stream",
       "stream": "stderr",
       "text": [
        "INFO:root:Testing numpy(1000000) ...\n"
       ]
      },
      {
       "output_type": "stream",
       "stream": "stderr",
       "text": [
        "INFO:root:OK\n"
       ]
      }
     ],
     "prompt_number": 11
    },
    {
     "cell_type": "code",
     "collapsed": false,
     "input": [
      "# Define the total number of darts we'll throw\n",
      "number_of_darts = 2000000"
     ],
     "language": "python",
     "outputs": [],
     "prompt_number": 12
    },
    {
     "cell_type": "code",
     "collapsed": false,
     "input": [
      "run(numpy, number_of_darts)"
     ],
     "language": "python",
     "outputs": [
      {
       "output_type": "stream",
       "stream": "stderr",
       "text": [
        "INFO:root:Pi Approximation: 3.141936\n"
       ]
      },
      {
       "output_type": "stream",
       "stream": "stderr",
       "text": [
        "INFO:root:Number of Darts: 2000000\n"
       ]
      },
      {
       "output_type": "stream",
       "stream": "stderr",
       "text": [
        "INFO:root:Execution Time (s): 0\n"
       ]
      },
      {
       "output_type": "stream",
       "stream": "stderr",
       "text": [
        "INFO:root:Darts Thrown per Second: 11717765\n"
       ]
      },
      {
       "output_type": "pyout",
       "prompt_number": 13,
       "text": [
        "(0.17068099975585938, 11717765.90751626)"
       ]
      }
     ],
     "prompt_number": 13
    },
    {
     "cell_type": "code",
     "collapsed": false,
     "input": [
      "run(multiprocessing, number_of_darts, simple)"
     ],
     "language": "python",
     "outputs": [
      {
       "output_type": "stream",
       "stream": "stderr",
       "text": [
        "INFO:root:Pi Approximation: 3.140886\n"
       ]
      },
      {
       "output_type": "stream",
       "stream": "stderr",
       "text": [
        "INFO:root:Number of Darts: 2000000\n"
       ]
      },
      {
       "output_type": "stream",
       "stream": "stderr",
       "text": [
        "INFO:root:Execution Time (s): 1\n"
       ]
      },
      {
       "output_type": "stream",
       "stream": "stderr",
       "text": [
        "INFO:root:Darts Thrown per Second: 1416473\n"
       ]
      },
      {
       "output_type": "pyout",
       "prompt_number": 14,
       "text": [
        "(1.411956787109375, 1416473.944712214)"
       ]
      }
     ],
     "prompt_number": 14
    },
    {
     "cell_type": "code",
     "collapsed": false,
     "input": [
      "run(multiprocessing, number_of_darts, numpy)"
     ],
     "language": "python",
     "outputs": [
      {
       "output_type": "stream",
       "stream": "stderr",
       "text": [
        "INFO:root:Pi Approximation: 3.141456\n"
       ]
      },
      {
       "output_type": "stream",
       "stream": "stderr",
       "text": [
        "INFO:root:Number of Darts: 2000000\n"
       ]
      },
      {
       "output_type": "stream",
       "stream": "stderr",
       "text": [
        "INFO:root:Execution Time (s): 0\n"
       ]
      },
      {
       "output_type": "stream",
       "stream": "stderr",
       "text": [
        "INFO:root:Darts Thrown per Second: 16714436\n"
       ]
      },
      {
       "output_type": "pyout",
       "prompt_number": 15,
       "text": [
        "(0.11965703964233398, 16714436.576219719)"
       ]
      }
     ],
     "prompt_number": 15
    },
    {
     "cell_type": "code",
     "collapsed": false,
     "input": [
      "run(ipcluster, number_of_darts, simple)"
     ],
     "language": "python",
     "outputs": [
      {
       "output_type": "stream",
       "stream": "stderr",
       "text": [
        "INFO:root:Pi Approximation: 3.142468\n"
       ]
      },
      {
       "output_type": "stream",
       "stream": "stderr",
       "text": [
        "INFO:root:Number of Darts: 2000000\n"
       ]
      },
      {
       "output_type": "stream",
       "stream": "stderr",
       "text": [
        "INFO:root:Execution Time (s): 1\n"
       ]
      },
      {
       "output_type": "stream",
       "stream": "stderr",
       "text": [
        "INFO:root:Darts Thrown per Second: 1392545\n"
       ]
      },
      {
       "output_type": "pyout",
       "prompt_number": 16,
       "text": [
        "(1.4362189769744873, 1392545.3096387596)"
       ]
      }
     ],
     "prompt_number": 16
    },
    {
     "cell_type": "code",
     "collapsed": false,
     "input": [
      "run(ipcluster, number_of_darts, numpy)"
     ],
     "language": "python",
     "outputs": [
      {
       "output_type": "stream",
       "stream": "stderr",
       "text": [
        "INFO:root:Pi Approximation: 3.141358\n"
       ]
      },
      {
       "output_type": "stream",
       "stream": "stderr",
       "text": [
        "INFO:root:Number of Darts: 2000000\n"
       ]
      },
      {
       "output_type": "stream",
       "stream": "stderr",
       "text": [
        "INFO:root:Execution Time (s): 0\n"
       ]
      },
      {
       "output_type": "stream",
       "stream": "stderr",
       "text": [
        "INFO:root:Darts Thrown per Second: 23613053\n"
       ]
      },
      {
       "output_type": "pyout",
       "prompt_number": 17,
       "text": [
        "(0.08469891548156738, 23613053.23248502)"
       ]
      }
     ],
     "prompt_number": 17
    }
   ]
  }
 ]
}