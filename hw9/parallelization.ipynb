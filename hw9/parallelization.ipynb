{
 "metadata": {
  "name": ""
 },
 "nbformat": 3,
 "nbformat_minor": 0,
 "worksheets": [
  {
   "cells": [
    {
     "cell_type": "markdown",
     "source": [
      "# Estimating Pi with Monte Carlo (and parallelization)\n",
      "\n",
      "Author: Jessica B. Hamrick \n",
      "Email: jhamrick@berkeley.edu\n",
      "\n",
      "For each dart, find a random position in the unit circle for it to\n",
      "fall. Test if it falls within the circle by calculating the distance\n",
      "from the origin (0.5, 0.5) to the dart. Darts that fall within 0.5 of\n",
      "the origin are within the circle."
     ]
    },
    {
     "cell_type": "code",
     "collapsed": false,
     "input": [
      "import multiprocessing as mp\n",
      "import sys\n",
      "\n",
      "from IPython import parallel\n",
      "from IPython.display import clear_output\n",
      "from itertools import product\n",
      "from time import time"
     ],
     "language": "python",
     "outputs": [],
     "prompt_number": 3
    },
    {
     "cell_type": "code",
     "collapsed": false,
     "input": [
      "# Set up parallelization for multiprocessing and ipython cluster\n",
      "n_cpus = mp.cpu_count()\n",
      "rc = parallel.Client()\n",
      "dview = rc[:n_cpus]\n",
      "dview.block = True"
     ],
     "language": "python",
     "outputs": [],
     "prompt_number": 4
    },
    {
     "cell_type": "code",
     "collapsed": false,
     "input": [
      "def simple(n_darts):\n",
      "    \"\"\"Simple serial method: pick random coordinates, one at a time,\n",
      "    and test to see if the point is within the circle.\n",
      "\n",
      "    \"\"\"\n",
      "    from random import uniform\n",
      "    from math import sqrt\n",
      "\n",
      "    n_in_circle = 0\n",
      "\n",
      "    for n in xrange(n_darts):\n",
      "\tx, y = uniform(0, 1), uniform(0, 1)\n",
      "\tif sqrt((x - 0.5) ** 2 + (y - 0.5) ** 2) <= 0.5:\n",
      "\t    n_in_circle += 1\n",
      "\n",
      "    return n_in_circle"
     ],
     "language": "python",
     "outputs": [],
     "prompt_number": 5
    },
    {
     "cell_type": "code",
     "collapsed": false,
     "input": [
      "def numpy(n_darts):\n",
      "    \"\"\"Simply numpy method: pick random coordinates all at once, and\n",
      "    test to see if they are within the circle.\n",
      "\n",
      "    \"\"\"\n",
      "\n",
      "    import numpy as np\n",
      "\n",
      "    points = np.random.uniform(0, 1, (n_darts, 2))\n",
      "    in_circle = np.sqrt(((points - 0.5) ** 2).sum(axis=1)) <= 0.5\n",
      "    n_in_circle = np.sum(in_circle)\n",
      "    return n_in_circle"
     ],
     "language": "python",
     "outputs": [],
     "prompt_number": 6
    },
    {
     "cell_type": "code",
     "collapsed": false,
     "input": [
      "def multiprocessing(n_darts): \n",
      "    \"\"\"Multiprocessing method: divide the number of darts by the\n",
      "    number of cpus, and use a processing pool to perform those tasks\n",
      "    individually.\n",
      "\n",
      "    \"\"\"\n",
      "\n",
      "    if n_darts % n_cpus != 0:\n",
      "\traise ValueError(\"n_darts is not divisible by n_cpus\")\n",
      "    n_per_cpu = n_darts / n_cpus\n",
      "    pool = mp.Pool(n_cpus)\n",
      "    n_in_circle = sum(pool.map(simple, [n_per_cpu]*n_cpus))\n",
      "    return n_in_circle"
     ],
     "language": "python",
     "outputs": [],
     "prompt_number": 7
    },
    {
     "cell_type": "code",
     "collapsed": false,
     "input": [
      "def ipcluster(n_darts):\n",
      "    \"\"\"IPython Cluster method: divide the number of darts by the\n",
      "    number of cpus, and map those subtasks to each engine in the\n",
      "    cluster.\n",
      "\n",
      "    \"\"\"\n",
      "\n",
      "    if n_darts % n_cpus != 0:\n",
      "\traise ValueError(\"n_darts is not divisible by n_cpus\")\n",
      "    n_per_cpu = n_darts / n_cpus\n",
      "    n_in_circle = sum(dview.map(simple, [n_per_cpu]*n_cpus))\n",
      "    return n_in_circle"
     ],
     "language": "python",
     "outputs": [],
     "prompt_number": 8
    },
    {
     "cell_type": "code",
     "collapsed": false,
     "input": [
      "def pi_approx(n_darts, n_in_circle):\n",
      "    \"\"\"We can calculate an approximate numerical value for pi using\n",
      "    the formula for the area of a circle (which defines pi):\n",
      "\n",
      "        A = pi * r**2. \n",
      "\n",
      "    Here, r=0.5 and the area of the circle can be approximated by the\n",
      "    ratio of the number of darts that fall inside the circle over the\n",
      "    total number of darts thrown. Thus we have pi = 4 * Area.\n",
      "\n",
      "    \"\"\"\n",
      "\n",
      "    pi_approx = 4 * n_in_circle / float(n_darts)\n",
      "    return pi_approx"
     ],
     "language": "python",
     "outputs": [],
     "prompt_number": 9
    },
    {
     "cell_type": "code",
     "collapsed": false,
     "input": [
      "def test(func, n_darts=1000000, thresh=1e-2):\n",
      "    \"\"\"Simple test function to make sure that the approximation to pi\n",
      "    computed by `func` is correct.\n",
      "\n",
      "    \"\"\"\n",
      "\n",
      "    import math\n",
      "    print (\"Testing %s(%d) ... \" % (func.__name__, n_darts)),\n",
      "    # Estimate pi\n",
      "    n_in_circle = func(n_darts)\n",
      "    pi = pi_approx(n_darts, n_in_circle)\n",
      "    # Compute the error\n",
      "    diff = pi - math.pi\n",
      "    if diff >= thresh:\n",
      "\traise AssertionError(\"%f != %f\" % (pi, math.pi))\n",
      "    print \"OK\""
     ],
     "language": "python",
     "outputs": [],
     "prompt_number": 10
    },
    {
     "cell_type": "code",
     "collapsed": false,
     "input": [
      "# Test that the different methods correctly calculate pi\n",
      "test(simple)\n",
      "test(numpy)\n",
      "test(multiprocessing)\n",
      "test(ipcluster)"
     ],
     "language": "python",
     "outputs": [
      {
       "output_type": "stream",
       "stream": "stdout",
       "text": [
        "Testing simple(1000000) ...  "
       ]
      },
      {
       "output_type": "stream",
       "stream": "stdout",
       "text": [
        "OK\n",
        "Testing numpy(1000000) ...  "
       ]
      },
      {
       "output_type": "stream",
       "stream": "stdout",
       "text": [
        "OK\n",
        "Testing multiprocessing(1000000) ... "
       ]
      },
      {
       "output_type": "stream",
       "stream": "stdout",
       "text": [
        " OK\n",
        "Testing ipcluster(1000000) ...  "
       ]
      },
      {
       "output_type": "stream",
       "stream": "stdout",
       "text": [
        "OK\n"
       ]
      }
     ],
     "prompt_number": 11
    },
    {
     "cell_type": "code",
     "collapsed": false,
     "input": [
      "def run(func, n_darts, verbose=False):\n",
      "    \"\"\"Run the function `func` with the argument `n_darts`, time the\n",
      "    computation, and compute the resulting approximation to pi. Return\n",
      "    the total execution time and simulation rate (darts thrown per\n",
      "    second).\n",
      "\n",
      "    \"\"\"\n",
      "\n",
      "    # optionally print out information about the function we're running\n",
      "    if verbose:\n",
      "\tprint \"-\" * 70\n",
      "\tprint \"Running %s(%d) ...\" % (func.__name__, n_darts)\n",
      "\n",
      "    # We will will use time() to record the execution time of the function\n",
      "    # that runs the dart throwing simulation\n",
      "    start_time = time()\n",
      "    # Run the function\n",
      "    n_in_circle = func(n_darts)\n",
      "    # Record the time after the conclusion of the function\n",
      "    end_time = time()\n",
      "    # Compute the approximation to pi\n",
      "    pi = pi_approx(n_darts, n_in_circle)\n",
      "\n",
      "    # The total time required to run the function is the difference\n",
      "    execution_time = end_time - start_time \n",
      "    # The rate of the simulation\n",
      "    simulation_rate = n_darts / execution_time\n",
      "\n",
      "    # Print out some summary info about the run. Execution time should\n",
      "    # increase with increasing numbers of darts. Darts thrown per\n",
      "    # second should stay relatively constant and is sort of a measure\n",
      "    # of the speed of the processor (although it is highly dependent\n",
      "    # on the efficiencies of the involved operators and functions).\n",
      "    if verbose:\n",
      "\tprint \" --> Pi Approximation: %f\" % pi\n",
      "\tprint \" --> Execution Time (s): %f\" % execution_time\n",
      "\tprint \" --> Darts Thrown per Second: %f\" % simulation_rate\n",
      "\tprint\n",
      "\n",
      "    return execution_time, simulation_rate"
     ],
     "language": "python",
     "outputs": [],
     "prompt_number": 12
    },
    {
     "cell_type": "code",
     "collapsed": false,
     "input": [
      "# Do a single computation with each method, as an illustration /\n",
      "# sanity check\n",
      "n_darts = 200000\n",
      "run(simple, n_darts, verbose=True)\n",
      "run(multiprocessing, n_darts, verbose=True)\n",
      "run(ipcluster, n_darts, verbose=True)\n",
      "run(numpy, n_darts, verbose=True)"
     ],
     "language": "python",
     "outputs": [
      {
       "output_type": "stream",
       "stream": "stdout",
       "text": [
        "----------------------------------------------------------------------\n",
        "Running simple(200000) ...\n",
        " --> Pi Approximation: 3.141900"
       ]
      },
      {
       "output_type": "stream",
       "stream": "stdout",
       "text": [
        "\n",
        " --> Execution Time (s): 0.313363\n",
        " --> Darts Thrown per Second: 638237.290199\n",
        "\n",
        "----------------------------------------------------------------------\n",
        "Running multiprocessing(200000) ...\n"
       ]
      },
      {
       "output_type": "stream",
       "stream": "stdout",
       "text": [
        " --> Pi Approximation: 3.137060\n",
        " --> Execution Time (s): 0.163144\n",
        " --> Darts Thrown per Second: 1225911.804465\n",
        "\n",
        "----------------------------------------------------------------------\n",
        "Running ipcluster(200000) ...\n",
        " --> Pi Approximation: 3.142040"
       ]
      },
      {
       "output_type": "stream",
       "stream": "stdout",
       "text": [
        "\n",
        " --> Execution Time (s): 0.208993\n",
        " --> Darts Thrown per Second: 956968.950958\n",
        "\n",
        "----------------------------------------------------------------------\n",
        "Running numpy(200000) ...\n",
        " --> Pi Approximation: 3.141700\n",
        " --> Execution Time (s): 0.024946\n",
        " --> Darts Thrown per Second: 8017325.649186\n",
        "\n"
       ]
      },
      {
       "output_type": "pyout",
       "prompt_number": 13,
       "text": [
        "(0.024945974349975586, 8017325.649186187)"
       ]
      }
     ],
     "prompt_number": 13
    },
    {
     "cell_type": "code",
     "collapsed": false,
     "input": [
      "# Now we'll do a more careful analysis of the run times, by running\n",
      "# each method multiple times for different numbers of darts.\n",
      "\n",
      "# Define the total number of darts we'll throw\n",
      "methods = [simple, multiprocessing, ipcluster, numpy]\n",
      "darts = (np.round(np.logspace(1, 7, 10) / n_cpus) * n_cpus).astype(int)\n",
      "samples = np.arange(10)\n",
      "\n",
      "# Allocate space for the resulting execution times and simulation\n",
      "# rates\n",
      "execution_times = np.empty((len(methods), darts.size, samples.size))\n",
      "simulation_rates = np.empty((len(methods), darts.size, samples.size))"
     ],
     "language": "python",
     "outputs": [],
     "prompt_number": 14
    },
    {
     "cell_type": "code",
     "collapsed": false,
     "input": [
      "# Run the methods\n",
      "for i, func in enumerate(methods):\n",
      "    sys.stdout.write(\"Running %s \" % func.__name__)\n",
      "    sys.stdout.flush()\n",
      "\n",
      "    for j, n_darts in enumerate(darts):\n",
      "\tsys.stdout.write(\".\")\n",
      "\tsys.stdout.flush()\n",
      "\t\n",
      "\tfor k in samples:\n",
      "\t    out = run(func, n_darts)\n",
      "\t    execution_times[i, j, k] = out[0]\n",
      "\t    simulation_rates[i, j, k] = out[1]\n",
      "\n",
      "    sys.stdout.write(\"\\n\")"
     ],
     "language": "python",
     "outputs": [
      {
       "output_type": "stream",
       "stream": "stdout",
       "text": [
        "Running simple "
       ]
      },
      {
       "output_type": "stream",
       "stream": "stdout",
       "text": [
        "."
       ]
      },
      {
       "output_type": "stream",
       "stream": "stdout",
       "text": [
        "."
       ]
      },
      {
       "output_type": "stream",
       "stream": "stdout",
       "text": [
        "."
       ]
      },
      {
       "output_type": "stream",
       "stream": "stdout",
       "text": [
        "."
       ]
      },
      {
       "output_type": "stream",
       "stream": "stdout",
       "text": [
        "."
       ]
      },
      {
       "output_type": "stream",
       "stream": "stdout",
       "text": [
        "."
       ]
      },
      {
       "output_type": "stream",
       "stream": "stdout",
       "text": [
        "."
       ]
      },
      {
       "output_type": "stream",
       "stream": "stdout",
       "text": [
        "."
       ]
      },
      {
       "output_type": "stream",
       "stream": "stdout",
       "text": [
        "."
       ]
      },
      {
       "output_type": "stream",
       "stream": "stdout",
       "text": [
        "."
       ]
      },
      {
       "output_type": "stream",
       "stream": "stdout",
       "text": [
        "\n",
        "Running multiprocessing "
       ]
      },
      {
       "output_type": "stream",
       "stream": "stdout",
       "text": [
        "."
       ]
      },
      {
       "output_type": "stream",
       "stream": "stdout",
       "text": [
        "."
       ]
      },
      {
       "output_type": "stream",
       "stream": "stdout",
       "text": [
        "."
       ]
      },
      {
       "output_type": "stream",
       "stream": "stdout",
       "text": [
        "."
       ]
      },
      {
       "output_type": "stream",
       "stream": "stdout",
       "text": [
        "."
       ]
      },
      {
       "output_type": "stream",
       "stream": "stdout",
       "text": [
        "."
       ]
      },
      {
       "output_type": "stream",
       "stream": "stdout",
       "text": [
        "."
       ]
      },
      {
       "output_type": "stream",
       "stream": "stdout",
       "text": [
        "."
       ]
      },
      {
       "output_type": "stream",
       "stream": "stdout",
       "text": [
        "."
       ]
      },
      {
       "output_type": "stream",
       "stream": "stdout",
       "text": [
        "."
       ]
      },
      {
       "output_type": "stream",
       "stream": "stdout",
       "text": [
        "\n",
        "Running ipcluster "
       ]
      },
      {
       "output_type": "stream",
       "stream": "stdout",
       "text": [
        "."
       ]
      },
      {
       "output_type": "stream",
       "stream": "stdout",
       "text": [
        "."
       ]
      },
      {
       "output_type": "stream",
       "stream": "stdout",
       "text": [
        "."
       ]
      },
      {
       "output_type": "stream",
       "stream": "stdout",
       "text": [
        "."
       ]
      },
      {
       "output_type": "stream",
       "stream": "stdout",
       "text": [
        "."
       ]
      },
      {
       "output_type": "stream",
       "stream": "stdout",
       "text": [
        "."
       ]
      },
      {
       "output_type": "stream",
       "stream": "stdout",
       "text": [
        "."
       ]
      },
      {
       "output_type": "stream",
       "stream": "stdout",
       "text": [
        "."
       ]
      },
      {
       "output_type": "stream",
       "stream": "stdout",
       "text": [
        "."
       ]
      },
      {
       "output_type": "stream",
       "stream": "stdout",
       "text": [
        "."
       ]
      },
      {
       "output_type": "stream",
       "stream": "stdout",
       "text": [
        "\n",
        "Running numpy "
       ]
      },
      {
       "output_type": "stream",
       "stream": "stdout",
       "text": [
        "."
       ]
      },
      {
       "output_type": "stream",
       "stream": "stdout",
       "text": [
        "."
       ]
      },
      {
       "output_type": "stream",
       "stream": "stdout",
       "text": [
        "."
       ]
      },
      {
       "output_type": "stream",
       "stream": "stdout",
       "text": [
        "."
       ]
      },
      {
       "output_type": "stream",
       "stream": "stdout",
       "text": [
        "."
       ]
      },
      {
       "output_type": "stream",
       "stream": "stdout",
       "text": [
        "."
       ]
      },
      {
       "output_type": "stream",
       "stream": "stdout",
       "text": [
        "."
       ]
      },
      {
       "output_type": "stream",
       "stream": "stdout",
       "text": [
        "."
       ]
      },
      {
       "output_type": "stream",
       "stream": "stdout",
       "text": [
        "."
       ]
      },
      {
       "output_type": "stream",
       "stream": "stdout",
       "text": [
        "."
       ]
      },
      {
       "output_type": "stream",
       "stream": "stdout",
       "text": [
        "\n"
       ]
      }
     ],
     "prompt_number": 15
    },
    {
     "cell_type": "code",
     "collapsed": false,
     "input": [
      "# Plot the results\n",
      "%matplotlib inline\n",
      "import matplotlib.pyplot as plt\n",
      "colors = ['r', 'c', 'g', 'b']"
     ],
     "language": "python",
     "outputs": [],
     "prompt_number": 16
    },
    {
     "cell_type": "code",
     "collapsed": false,
     "input": [
      "fig, ax1 = plt.subplots()\n",
      "ax2 = ax1.twinx()\n",
      "\n",
      "for i, func in enumerate(methods):\n",
      "    time_lower, time_median, time_upper = np.percentile(\n",
      "\texecution_times[i], [34.1, 50, 65.9], axis=1)\n",
      "    rate_lower, rate_median, rate_upper = np.percentile(\n",
      "\tsimulation_rates[i], [34.1, 50, 65.9], axis=1)\n",
      "    \n",
      "    ax1.fill_between(\n",
      "\tdarts, time_lower, time_upper,\n",
      "\tcolor=colors[i], alpha=0.3)\n",
      "    ax1.loglog(\n",
      "\tdarts, time_median,\n",
      "\tlabel=func.__name__.capitalize(),\n",
      "\tls='-', lw=2, color=colors[i])\n",
      "\n",
      "    ax2.fill_between(\n",
      "\tdarts, rate_lower, rate_upper,\n",
      "\tcolor=colors[i], alpha=0.3)\n",
      "    ax2.loglog(\n",
      "\tdarts, rate_median,\n",
      "\tls='--', lw=2, color=colors[i])\n",
      "\n",
      "ax1.set_xlim(10, 1e7)\n",
      "ax1.set_xlabel(\"Darts Thrown\")\n",
      "ax1.set_ylabel(\"Execution Time (seconds), solid line\")\n",
      "ax1.set_title(\"Macbook Air, 2 GHz Intel Core i7 (2 \\\"cores\\\")\")\n",
      "ax1.legend(loc=0)\n",
      "\n",
      "ax2.set_ylabel(\"Simulation Rate (darts/second), dashed line\")\n",
      "\n",
      "fig.set_figwidth(8)\n",
      "fig.set_figheight(6)\n",
      "plt.tight_layout()"
     ],
     "language": "python",
     "outputs": [
      {
       "output_type": "display_data",
       "png": "[encoded data removed]",
       "text": [
        "<matplotlib.figure.Figure at 0x109a87d90>"
       ]
      }
     ],
     "prompt_number": 17
    }
   ]
  }
 ]
}