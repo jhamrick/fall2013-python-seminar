{
 "metadata": {
  "name": ""
 },
 "nbformat": 3,
 "nbformat_minor": 0,
 "worksheets": [
  {
   "cells": [
    {
     "cell_type": "code",
     "collapsed": false,
     "input": [
      "from random import uniform\n",
      "from time import time\n",
      "import math\n",
      "import numpy as np\n",
      "import logging\n",
      "import sys"
     ],
     "language": "python",
     "outputs": [],
     "prompt_number": 1
    },
    {
     "cell_type": "code",
     "collapsed": false,
     "input": [
      "logger = logging.getLogger()\n",
      "logger.setLevel(logging.INFO)"
     ],
     "language": "python",
     "outputs": [],
     "prompt_number": 2
    },
    {
     "cell_type": "code",
     "collapsed": false,
     "input": [
      "def simple(n_darts):\n",
      "    n_in_circle = 0\n",
      "\n",
      "    # This loop simulates dart throwing. For each dart, find a random\n",
      "    # position in the unit circle for it to fall. Test if it falls\n",
      "    # within the circle by calculating the distance from the origin\n",
      "    # (0.5, 0.5) to the dart. Darts that fall within 0.5 of the origin\n",
      "    # are within the circle.\n",
      "    for n in xrange(n_darts):\n",
      "\tx, y = uniform(0, 1), uniform(0, 1)\n",
      "\tif math.sqrt((x - 0.5) ** 2 + (y - 0.5) ** 2) <= 0.5:\n",
      "\t    n_in_circle += 1\n",
      "\n",
      "    return n_in_circle"
     ],
     "language": "python",
     "outputs": [],
     "prompt_number": 3
    },
    {
     "cell_type": "code",
     "collapsed": false,
     "input": [
      "def numpy(n_darts):\n",
      "    points = np.random.uniform(0, 1, (n_darts, 2))\n",
      "    in_circle = np.sqrt(((points - 0.5) ** 2).sum(axis=1)) <= 0.5\n",
      "    n_in_circle = np.sum(in_circle)\n",
      "    return n_in_circle"
     ],
     "language": "python",
     "outputs": [],
     "prompt_number": 4
    },
    {
     "cell_type": "code",
     "collapsed": false,
     "input": [
      "def pi_approx(n_darts, n_in_circle):\n",
      "    # We can calculate an approximate numerical value for pi using the\n",
      "    # formula for the area of a circle (which defines pi). A = pi *\n",
      "    # r**21. Here, r=0.5 and the area of the circle can be\n",
      "    # approximated by the ratio of the number of darts that fall\n",
      "    # inside the circle over the total number of darts thrown. Thus we\n",
      "    # have pi = 4 * Area.\n",
      "    pi_approx = 4 * n_in_circle / float(n_darts)\n",
      "    return pi_approx"
     ],
     "language": "python",
     "outputs": [],
     "prompt_number": 5
    },
    {
     "cell_type": "code",
     "collapsed": false,
     "input": [
      "def test(func, n_darts=1000000, thresh=1e-3):\n",
      "    logger.info(\"Testing %s(%d) ...\", func.__name__, n_darts)\n",
      "    n_in_circle = func(n_darts)\n",
      "    pi = pi_approx(n_darts, n_in_circle)\n",
      "    diff = pi - math.pi\n",
      "    if diff >= thresh:\n",
      "\tlogger.error(\"%f != %f\", pi, math.pi)\n",
      "\traise AssertionError(\"%f != %f\" % (pi, math.pi))\n",
      "    logger.info(\"OK\")\n",
      "    sys.stdout.flush()"
     ],
     "language": "python",
     "outputs": [],
     "prompt_number": 6
    },
    {
     "cell_type": "code",
     "collapsed": false,
     "input": [
      "def run(func, n_darts):\n",
      "    # We will will use time() to record the execution time of the function\n",
      "    # that runs the dart throwing simulation\n",
      "    start_time = time()\n",
      "    # Run the function\n",
      "    n_in_circle = func(n_darts)\n",
      "    # Record the time after the conclusion of the function\n",
      "    end_time = time()\n",
      "    # Compute the approximation to pi\n",
      "    pi = pi_approx(n_darts, n_in_circle)\n",
      "\n",
      "    # The total time required to run the function is the difference\n",
      "    execution_time = end_time - start_time \n",
      "    # The rate of the simulation\n",
      "    simulation_rate = n_darts / execution_time\n",
      "\n",
      "\n",
      "    # Print out some summary info about the run. Execution time should\n",
      "    # increase with increasing numbers of darts. Darts thrown per\n",
      "    # second should stay relatively constant and is sort of a measure\n",
      "    # of the speed of the processor (although it is highly dependent\n",
      "    # on the efficiencies of the involved operators and functions).\n",
      "    print \"Pi Approximation:\", pi\n",
      "    print \"Number of Darts:\", n_darts\n",
      "    print \"Execution Time (s):\", execution_time\n",
      "    print \"Darts Thrown per Second:\", simulation_rate\n",
      "\n",
      "    return execution_time, simulation_rate"
     ],
     "language": "python",
     "outputs": [],
     "prompt_number": 7
    },
    {
     "cell_type": "code",
     "collapsed": false,
     "input": [
      "# Test that the different methods correctly calculate pi\n",
      "test(simple)\n",
      "test(numpy)"
     ],
     "language": "python",
     "outputs": [
      {
       "output_type": "stream",
       "stream": "stderr",
       "text": [
        "INFO:root:Testing simple(1000000) ...\n"
       ]
      },
      {
       "output_type": "stream",
       "stream": "stderr",
       "text": [
        "INFO:root:OK\n"
       ]
      },
      {
       "output_type": "stream",
       "stream": "stderr",
       "text": [
        "INFO:root:Testing numpy(1000000) ...\n"
       ]
      },
      {
       "output_type": "stream",
       "stream": "stderr",
       "text": [
        "INFO:root:OK\n"
       ]
      }
     ],
     "prompt_number": 8
    },
    {
     "cell_type": "code",
     "collapsed": false,
     "input": [
      "# Define the total number of darts we'll throw\n",
      "number_of_darts = 200000"
     ],
     "language": "python",
     "outputs": [],
     "prompt_number": 9
    },
    {
     "cell_type": "code",
     "collapsed": false,
     "input": [
      "run(simple, number_of_darts)"
     ],
     "language": "python",
     "outputs": [
      {
       "output_type": "stream",
       "stream": "stdout",
       "text": [
        "Pi Approximation: 3.14006\n",
        "Number of Darts: 200000\n",
        "Execution Time (s): 0.341196060181\n",
        "Darts Thrown per Second: 586173.239791\n"
       ]
      },
      {
       "output_type": "pyout",
       "prompt_number": 10,
       "text": [
        "(0.34119606018066406, 586173.2397909272)"
       ]
      }
     ],
     "prompt_number": 10
    },
    {
     "cell_type": "code",
     "collapsed": false,
     "input": [
      "run(simple, number_of_darts)"
     ],
     "language": "python",
     "outputs": [
      {
       "output_type": "stream",
       "stream": "stdout",
       "text": [
        "Pi Approximation: 3.14288\n",
        "Number of Darts: 200000\n",
        "Execution Time (s): 0.339653015137\n",
        "Darts Thrown per Second: 588836.227229\n"
       ]
      },
      {
       "output_type": "pyout",
       "prompt_number": 11,
       "text": [
        "(0.33965301513671875, 588836.2272288237)"
       ]
      }
     ],
     "prompt_number": 11
    }
   ]
  }
 ]
}