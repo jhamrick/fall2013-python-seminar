{
 "metadata": {
  "name": ""
 },
 "nbformat": 3,
 "nbformat_minor": 0,
 "worksheets": [
  {
   "cells": [
    {
     "cell_type": "markdown",
     "source": [
      "# Estimating Pi with Monte Carlo (and parallelization)\n",
      "\n",
      "Author: Jessica B. Hamrick \n",
      "Email: jhamrick@berkeley.edu\n",
      "\n",
      "For each dart, find a random position in the unit circle for it to\n",
      "fall. Test if it falls within the circle by calculating the distance\n",
      "from the origin (0.5, 0.5) to the dart. Darts that fall within 0.5 of\n",
      "the origin are within the circle."
     ]
    },
    {
     "cell_type": "code",
     "collapsed": false,
     "input": [
      "import multiprocessing as mp\n",
      "import sys\n",
      "\n",
      "from IPython import parallel\n",
      "from IPython.display import clear_output\n",
      "from itertools import product\n",
      "from time import time"
     ],
     "language": "python",
     "outputs": []
    },
    {
     "cell_type": "code",
     "collapsed": false,
     "input": [
      "# Set up parallelization for multiprocessing and ipython cluster\n",
      "n_cpus = mp.cpu_count()\n",
      "rc = parallel.Client()\n",
      "dview = rc[:]\n",
      "dview.block = True\n",
      "assert len(dview) == n_cpus"
     ],
     "language": "python",
     "outputs": []
    },
    {
     "cell_type": "code",
     "collapsed": false,
     "input": [
      "def simple(n_darts):\n",
      "    \"\"\"Simple serial method: pick random coordinates, one at a time,\n",
      "    and test to see if the point is within the circle.\n",
      "\n",
      "    \"\"\"\n",
      "    from random import uniform\n",
      "    from math import sqrt\n",
      "\n",
      "    n_in_circle = 0\n",
      "\n",
      "    for n in xrange(n_darts):\n",
      "\tx, y = uniform(0, 1), uniform(0, 1)\n",
      "\tif sqrt((x - 0.5) ** 2 + (y - 0.5) ** 2) <= 0.5:\n",
      "\t    n_in_circle += 1\n",
      "\n",
      "    return n_in_circle"
     ],
     "language": "python",
     "outputs": []
    },
    {
     "cell_type": "code",
     "collapsed": false,
     "input": [
      "def numpy(n_darts):\n",
      "    \"\"\"Simply numpy method: pick random coordinates all at once, and\n",
      "    test to see if they are within the circle.\n",
      "\n",
      "    \"\"\"\n",
      "\n",
      "    import numpy as np\n",
      "\n",
      "    points = np.random.uniform(0, 1, (n_darts, 2))\n",
      "    in_circle = np.sqrt(((points - 0.5) ** 2).sum(axis=1)) <= 0.5\n",
      "    n_in_circle = np.sum(in_circle)\n",
      "    return n_in_circle"
     ],
     "language": "python",
     "outputs": []
    },
    {
     "cell_type": "code",
     "collapsed": false,
     "input": [
      "def multiprocessing(n_darts): \n",
      "    \"\"\"Multiprocessing method: divide the number of darts by the\n",
      "    number of cpus, and use a processing pool to perform those tasks\n",
      "    individually.\n",
      "\n",
      "    \"\"\"\n",
      "\n",
      "    if n_darts % n_cpus != 0:\n",
      "\traise ValueError(\"n_darts is not divisible by n_cpus\")\n",
      "    n_per_cpu = n_darts / n_cpus\n",
      "    pool = mp.Pool(n_cpus)\n",
      "    n_in_circle = sum(pool.map(simple, [n_per_cpu]*n_cpus))\n",
      "    return n_in_circle"
     ],
     "language": "python",
     "outputs": []
    },
    {
     "cell_type": "code",
     "collapsed": false,
     "input": [
      "def ipcluster(n_darts):\n",
      "    \"\"\"IPython Cluster method: divide the number of darts by the\n",
      "    number of cpus, and map those subtasks to each engine in the\n",
      "    cluster.\n",
      "\n",
      "    \"\"\"\n",
      "\n",
      "    if n_darts % n_cpus != 0:\n",
      "\traise ValueError(\"n_darts is not divisible by n_cpus\")\n",
      "    n_per_cpu = n_darts / n_cpus\n",
      "    n_in_circle = sum(dview.map(simple, [n_per_cpu]*n_cpus))\n",
      "    return n_in_circle"
     ],
     "language": "python",
     "outputs": []
    },
    {
     "cell_type": "code",
     "collapsed": false,
     "input": [
      "def pi_approx(n_darts, n_in_circle):\n",
      "    \"\"\"We can calculate an approximate numerical value for pi using\n",
      "    the formula for the area of a circle (which defines pi):\n",
      "\n",
      "        A = pi * r**2. \n",
      "\n",
      "    Here, r=0.5 and the area of the circle can be approximated by the\n",
      "    ratio of the number of darts that fall inside the circle over the\n",
      "    total number of darts thrown. Thus we have pi = 4 * Area.\n",
      "\n",
      "    \"\"\"\n",
      "\n",
      "    pi_approx = 4 * n_in_circle / float(n_darts)\n",
      "    return pi_approx"
     ],
     "language": "python",
     "outputs": []
    },
    {
     "cell_type": "code",
     "collapsed": false,
     "input": [
      "def test(func, n_darts=1000000, thresh=1e-2):\n",
      "    \"\"\"Simple test function to make sure that the approximation to pi\n",
      "    computed by `func` is correct.\n",
      "\n",
      "    \"\"\"\n",
      "\n",
      "    import math\n",
      "    print (\"Testing %s(%d) ... \" % (func.__name__, n_darts)),\n",
      "    # Estimate pi\n",
      "    n_in_circle = func(n_darts)\n",
      "    pi = pi_approx(n_darts, n_in_circle)\n",
      "    # Compute the error\n",
      "    diff = pi - math.pi\n",
      "    if diff >= thresh:\n",
      "\traise AssertionError(\"%f != %f\" % (pi, math.pi))\n",
      "    print \"OK\""
     ],
     "language": "python",
     "outputs": []
    },
    {
     "cell_type": "code",
     "collapsed": false,
     "input": [
      "# Test that the different methods correctly calculate pi\n",
      "test(simple)\n",
      "test(numpy)\n",
      "test(multiprocessing)\n",
      "test(ipcluster)"
     ],
     "language": "python",
     "outputs": []
    },
    {
     "cell_type": "code",
     "collapsed": false,
     "input": [
      "def run(func, n_darts, verbose=False):\n",
      "    \"\"\"Run the function `func` with the argument `n_darts`, time the\n",
      "    computation, and compute the resulting approximation to pi. Return\n",
      "    the total execution time and simulation rate (darts thrown per\n",
      "    second).\n",
      "\n",
      "    \"\"\"\n",
      "\n",
      "    # optionally print out information about the function we're running\n",
      "    if verbose:\n",
      "\tprint \"-\" * 70\n",
      "\tprint \"Running %s(%d) ...\" % (func.__name__, n_darts)\n",
      "\n",
      "    # We will will use time() to record the execution time of the function\n",
      "    # that runs the dart throwing simulation\n",
      "    start_time = time()\n",
      "    # Run the function\n",
      "    n_in_circle = func(n_darts)\n",
      "    # Record the time after the conclusion of the function\n",
      "    end_time = time()\n",
      "    # Compute the approximation to pi\n",
      "    pi = pi_approx(n_darts, n_in_circle)\n",
      "\n",
      "    # The total time required to run the function is the difference\n",
      "    execution_time = end_time - start_time \n",
      "    # The rate of the simulation\n",
      "    simulation_rate = n_darts / execution_time\n",
      "\n",
      "    # Print out some summary info about the run. Execution time should\n",
      "    # increase with increasing numbers of darts. Darts thrown per\n",
      "    # second should stay relatively constant and is sort of a measure\n",
      "    # of the speed of the processor (although it is highly dependent\n",
      "    # on the efficiencies of the involved operators and functions).\n",
      "    if verbose:\n",
      "\tprint \" --> Pi Approximation: %f\" % pi\n",
      "\tprint \" --> Execution Time (s): %f\" % execution_time\n",
      "\tprint \" --> Darts Thrown per Second: %f\" % simulation_rate\n",
      "\tprint\n",
      "\n",
      "    return execution_time, simulation_rate"
     ],
     "language": "python",
     "outputs": []
    },
    {
     "cell_type": "code",
     "collapsed": false,
     "input": [
      "# Do a single computation with each method, as an illustration /\n",
      "# sanity check\n",
      "n_darts = 200000\n",
      "run(simple, n_darts, verbose=True)\n",
      "run(multiprocessing, n_darts, verbose=True)\n",
      "run(ipcluster, n_darts, verbose=True)\n",
      "run(numpy, n_darts, verbose=True)"
     ],
     "language": "python",
     "outputs": []
    },
    {
     "cell_type": "code",
     "collapsed": false,
     "input": [
      "# Now we'll do a more careful analysis of the run times, by running\n",
      "# each method multiple times for different numbers of darts.\n",
      "\n",
      "# Define the total number of darts we'll throw\n",
      "methods = [simple, multiprocessing, ipcluster, numpy]\n",
      "darts = np.logspace(2, 24, 23, base=2)[1::2].astype(int)\n",
      "samples = np.arange(10)\n",
      "\n",
      "# Allocate space for the resulting execution times and simulation\n",
      "# rates\n",
      "execution_times = np.empty((len(methods), darts.size, samples.size))\n",
      "simulation_rates = np.empty((len(methods), darts.size, samples.size))"
     ],
     "language": "python",
     "outputs": []
    },
    {
     "cell_type": "code",
     "collapsed": false,
     "input": [
      "# Run the methods\n",
      "for i, func in enumerate(methods):\n",
      "    sys.stdout.write(\"Running %s \" % func.__name__)\n",
      "    sys.stdout.flush()\n",
      "\n",
      "    for j, n_darts in enumerate(darts):\n",
      "\tsys.stdout.write(\".\")\n",
      "\tsys.stdout.flush()\n",
      "\t\n",
      "\tfor k in samples:\n",
      "\t    out = run(func, n_darts)\n",
      "\t    execution_times[i, j, k] = out[0]\n",
      "\t    simulation_rates[i, j, k] = out[1]\n",
      "\n",
      "    sys.stdout.write(\"\\n\")"
     ],
     "language": "python",
     "outputs": []
    },
    {
     "cell_type": "code",
     "collapsed": false,
     "input": [
      "# Plot the results\n",
      "%matplotlib inline\n",
      "import matplotlib.pyplot as plt\n",
      "colors = ['r', 'c', 'g', 'b']"
     ],
     "language": "python",
     "outputs": []
    },
    {
     "cell_type": "code",
     "collapsed": false,
     "input": [
      "fig, ax1 = plt.subplots()\n",
      "ax2 = ax1.twinx()\n",
      "\n",
      "for i, func in enumerate(methods):\n",
      "    time_mean = execution_times[i].mean(axis=1)\n",
      "    time_std = execution_times[i].std(axis=1, ddof=1)\n",
      "    time_lower = time_mean - time_std\n",
      "    time_upper = time_mean + time_std\n",
      "    \n",
      "    ax1.fill_between(\n",
      "\tdarts, time_lower, time_upper,\n",
      "\tcolor=colors[i], alpha=0.3)\n",
      "    ax1.loglog(\n",
      "\tdarts, time_mean,\n",
      "\tlabel=func.__name__.capitalize(),\n",
      "\tls='-', lw=2, color=colors[i])\n",
      "\n",
      "    rate_mean = simulation_rates[i].mean(axis=1)\n",
      "    rate_std = simulation_rates[i].std(axis=1, ddof=1)\n",
      "    rate_lower = rate_mean - rate_std\n",
      "    rate_upper = rate_mean + rate_std\n",
      "\n",
      "    ax2.fill_between(\n",
      "\tdarts, rate_lower, rate_upper,\n",
      "\tcolor=colors[i], alpha=0.3)\n",
      "    ax2.loglog(\n",
      "\tdarts, rate_mean,\n",
      "\tls='--', lw=2, color=colors[i])\n",
      "\n",
      "ax1.set_xlim(10, 1e7)\n",
      "ax1.set_xlabel(\"Darts Thrown\")\n",
      "ax1.set_ylabel(\"Execution Time (seconds), solid line\")\n",
      "ax1.set_title(\"Macbook Air, 2 GHz Intel Core i7 (2 \\\"cores\\\")\")\n",
      "ax1.legend(loc=0)\n",
      "\n",
      "ax2.set_ylabel(\"Simulation Rate (darts/second), dashed line\")\n",
      "\n",
      "fig.set_figwidth(8)\n",
      "fig.set_figheight(6)\n",
      "plt.tight_layout()"
     ],
     "language": "python",
     "outputs": []
    }
   ]
  }
 ]
}