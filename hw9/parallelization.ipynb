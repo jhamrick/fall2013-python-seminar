{
 "metadata": {
  "name": ""
 },
 "nbformat": 3,
 "nbformat_minor": 0,
 "worksheets": [
  {
   "cells": [
    {
     "cell_type": "code",
     "collapsed": false,
     "input": [
      "from random import uniform\n",
      "from math import sqrt\n",
      "from time import time"
     ],
     "language": "python",
     "outputs": []
    },
    {
     "cell_type": "code",
     "collapsed": false,
     "input": [
      "# Define the total number of darts we'll throw\n",
      "number_of_darts = 200000\n",
      "# Define a variable to store the number of darts that fall inside the circle\n",
      "number_of_darts_in_circle = 0"
     ],
     "language": "python",
     "outputs": []
    },
    {
     "cell_type": "code",
     "collapsed": false,
     "input": [
      "# We will will use time() to record the execution time of the loop\n",
      "# that runs the dart throwing simulation\n",
      "start_time = time()"
     ],
     "language": "python",
     "outputs": []
    },
    {
     "cell_type": "code",
     "collapsed": false,
     "input": [
      "# This loop simulates dart throwing. For each dart, find a random\n",
      "# position in the unit circle for it to fall. Test if it falls within\n",
      "# the circle by calculating the distance from the origin (0.5, 0.5) to\n",
      "# the dart. Darts that fall within 0.5 of the origin are within the\n",
      "# circle.\n",
      "for n in range(number_of_darts):\n",
      "    x, y = uniform(0, 1), uniform (0, 1)\n",
      "    if sqrt((x - 0.5) ** 2 + (y - 0.5) ** 2) <= 0.5:\n",
      "\tnumber_of_darts_in_circle += 1"
     ],
     "language": "python",
     "outputs": []
    },
    {
     "cell_type": "code",
     "collapsed": false,
     "input": [
      "# Record the time after the conclusion of the loop\n",
      "end_time = time()\n",
      "# The total time required to run the loop is the difference\n",
      "execution_time = end_time - start_time"
     ],
     "language": "python",
     "outputs": []
    },
    {
     "cell_type": "code",
     "collapsed": false,
     "input": [
      "# We can calculate an approximate numerical value for pi using the\n",
      "# formula for the area of a circle (which defines pi). A = pi *\n",
      "# r**21. Here, r=0.5 and the area of the circle can be approximated by\n",
      "# the ratio of the number of darts that fall inside the circle over\n",
      "# the total number of darts thrown. Thus we have pi = 4 * Area.\n",
      "pi_approx = 4 * number_of_darts_in_circle / float(number_of_darts)"
     ],
     "language": "python",
     "outputs": []
    },
    {
     "cell_type": "code",
     "collapsed": false,
     "input": [
      "# Print out some summary info about the run. Execution time should\n",
      "# increase with increasing numbers of darts. Darts thrown per second\n",
      "# should stay relatively constant and is sort of a measure of the\n",
      "# speed of the processor (although it is highly dependent on the\n",
      "# efficiencies of the involved operators and functions).\n",
      "print \"Pi Approximation:\", pi_approx\n",
      "print \"Number of Darts:\", number_of_darts\n",
      "print \"Execution Time (s):\", execution_time\n",
      "print \"Darts Thrown per Second:\", number_of_darts / execution_time"
     ],
     "language": "python",
     "outputs": []
    }
   ]
  }
 ]
}