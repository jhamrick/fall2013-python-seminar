{
 "metadata": {
  "name": ""
 },
 "nbformat": 3,
 "nbformat_minor": 0,
 "worksheets": [
  {
   "cells": [
    {
     "cell_type": "markdown",
     "source": [
      "# XMLRPC Server"
     ]
    },
    {
     "cell_type": "markdown",
     "source": [
      "Write an XML-RPC server/client program pair.\n",
      "\n",
      "* The server offers 3 methods providing lossless manipulation (be\n",
      "  creative). Each server method must have descriptive documentation\n",
      "  accessible by the client.\n",
      "\n",
      "* The client calls each method on the server machine with an array\n",
      "  from the image.\n",
      "\n",
      "* Client saves the original image and modified image received from the\n",
      "  server. Server saves image received from the client and modified\n",
      "  image.\n",
      "\n",
      "* Include example images in your solutions, and test by running this\n",
      "  through your local loopback ip address. If you\u2019d like to test from a\n",
      "  remote computer, come to office hours on Monday and we will be set\n",
      "  up to test your program over the network.\n",
      "\n",
      "* localhost ip = 127.0.0.1"
     ]
    },
    {
     "cell_type": "code",
     "collapsed": false,
     "input": [
      "import SimpleXMLRPCServer\n",
      "import xmlimage\n",
      "from PIL import Image"
     ],
     "language": "python",
     "outputs": []
    },
    {
     "cell_type": "code",
     "collapsed": false,
     "input": [
      "class ImageManipulation(object):\n",
      "    def invert(self, data):\n",
      "\timage = xmlimage.encode(data)\n",
      "\tnew_image = 255 - image\n",
      "\treturn xmlimage.decode(new_image)\n",
      "\n",
      "    def flip_vertical(self, data):\n",
      "        image = xmlimage.encode(data)\n",
      "\tnew_image = image[::-1]\n",
      "        return xmlimage.decode(new_image)\n",
      "\n",
      "    def flip_horizontal(self, data):\n",
      "        image = xmlimage.encode(data)\n",
      "\tnew_image = image[:, ::-1]\n",
      "        return xmlimage.decode(new_image)\n",
      "\n",
      "    def rotate_counterclockwise(self, data):\n",
      "\timage = xmlimage.encode(data)\n",
      "\tnew_image = image.swapaxes(0, 1)[::-1]\n",
      "\treturn xmlimage.decode(new_image)\n",
      "\n",
      "    def rotate_clockwise(self, data):\n",
      "\timage = xmlimage.encode(data)\n",
      "\tnew_image = image.swapaxes(0, 1)[:, ::-1]\n",
      "\treturn xmlimage.decode(new_image)"
     ],
     "language": "python",
     "outputs": []
    },
    {
     "cell_type": "code",
     "collapsed": false,
     "input": [
      "host, port = \"127.0.0.1\", 5021\n",
      "server = SimpleXMLRPCServer.SimpleXMLRPCServer((host, port), allow_none=True)\n",
      "server.register_instance(ImageManipulation())\n",
      "server.register_multicall_functions()\n",
      "server.register_introspection_functions()\n",
      "print \"Started XML-RPC server at %s:%s\" % (host, port)"
     ],
     "language": "python",
     "outputs": []
    },
    {
     "cell_type": "code",
     "collapsed": false,
     "input": [
      "server.serve_forever()"
     ],
     "language": "python",
     "outputs": []
    },
    {
     "cell_type": "code",
     "collapsed": false,
     "input": [],
     "language": "python",
     "outputs": []
    }
   ]
  }
 ]
}