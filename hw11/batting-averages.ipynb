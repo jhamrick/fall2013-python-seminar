{
 "metadata": {
  "name": ""
 },
 "nbformat": 3,
 "nbformat_minor": 0,
 "worksheets": [
  {
   "cells": [
    {
     "cell_type": "code",
     "collapsed": false,
     "input": [
      "import pymc\n",
      "import pandas as pd"
     ],
     "language": "python",
     "outputs": [],
     "prompt_number": 1
    },
    {
     "cell_type": "code",
     "collapsed": false,
     "input": [
      "# load the april and full year data\n",
      "april = pd.read_csv(\"hw_11_data/laa_2011_april.txt\", sep=\"\\t*\", index_col='Player')\n",
      "year = pd.read_csv(\"hw_11_data/laa_2011_full.txt\", sep=\"\\t*\", index_col='Player')"
     ],
     "language": "python",
     "outputs": [],
     "prompt_number": 2
    },
    {
     "cell_type": "code",
     "collapsed": false,
     "input": [
      "# compute maximum likelihood estimate of the april batting averages\n",
      "MLE = april['AVG']\n",
      "MLE"
     ],
     "language": "python",
     "outputs": [
      {
       "output_type": "pyout",
       "prompt_number": 3,
       "text": [
        "Player\n",
        "Aybar, E       0.362\n",
        "Izturis, M     0.309\n",
        "Kendrick, H    0.308\n",
        "Callaspo, A    0.303\n",
        "Bourjos, P     0.300\n",
        "Conger, H      0.273\n",
        "Abreu, B       0.258\n",
        "Amarista, A    0.250\n",
        "Trumbo, M      0.250\n",
        "Hunter, T      0.214\n",
        "Wells, V       0.171\n",
        "Mathis, J      0.152\n",
        "Wilson, B      0.125\n",
        "Name: AVG, dtype: float64"
       ]
      }
     ],
     "prompt_number": 3
    },
    {
     "cell_type": "code",
     "collapsed": false,
     "input": [
      "# 2010 mean batting average and variance between players\n",
      "E_mu = 0.255\n",
      "V_mu = 0.0011\n",
      "\n",
      "# compute alpha and beta for the Beta prior from these 2010 stats\n",
      "alpha = (((1 - E_mu) * (E_mu ** 2)) / V_mu) - E_mu\n",
      "beta = (alpha * (1 - E_mu)) / E_mu\n",
      "\n",
      "# sanity check, to make sure we calculated alpha and beta correctly\n",
      "assert np.allclose(E_mu, (alpha / (alpha + beta)))\n",
      "assert np.allclose(V_mu, (alpha * beta / (((alpha + beta) ** 2) * (alpha + beta + 1))))"
     ],
     "language": "python",
     "outputs": [],
     "prompt_number": 4
    },
    {
     "cell_type": "code",
     "collapsed": false,
     "input": [
      "def make_mcmc(i, N, H):\n",
      "    mu_i = pymc.Beta('mu_i', alpha, beta)\n",
      "    x_i = pymc.Binomial('x_i', n=N[i], p=mu_i, value=H[i])\n",
      "    M = pymc.MCMC([mu_i, x_i])\n",
      "    return M"
     ],
     "language": "python",
     "outputs": [],
     "prompt_number": 5
    },
    {
     "cell_type": "code",
     "collapsed": false,
     "input": [
      "N = april['AB']\n",
      "H = april['H']\n",
      "i = 0"
     ],
     "language": "python",
     "outputs": [],
     "prompt_number": 6
    },
    {
     "cell_type": "code",
     "collapsed": false,
     "input": [
      "M = make_mcmc(i, N, H)\n",
      "M.sample(iter=10000, burn=1000, thin=2)"
     ],
     "language": "python",
     "outputs": [
      {
       "output_type": "stream",
       "stream": "stdout",
       "text": [
        "\r",
        " [-----            15%                  ] 1550 of 10000 complete in 0.5 sec"
       ]
      },
      {
       "output_type": "stream",
       "stream": "stdout",
       "text": [
        "\r",
        " [-----------      30%                  ] 3087 of 10000 complete in 1.0 sec"
       ]
      },
      {
       "output_type": "stream",
       "stream": "stdout",
       "text": [
        "\r",
        " [-----------------46%                  ] 4675 of 10000 complete in 1.5 sec"
       ]
      },
      {
       "output_type": "stream",
       "stream": "stdout",
       "text": [
        "\r",
        " [-----------------62%---               ] 6217 of 10000 complete in 2.0 sec"
       ]
      },
      {
       "output_type": "stream",
       "stream": "stdout",
       "text": [
        "\r",
        " [-----------------77%---------         ] 7790 of 10000 complete in 2.5 sec"
       ]
      },
      {
       "output_type": "stream",
       "stream": "stdout",
       "text": [
        "\r",
        " [-----------------93%---------------   ] 9324 of 10000 complete in 3.0 sec"
       ]
      },
      {
       "output_type": "stream",
       "stream": "stdout",
       "text": [
        "\r",
        " [-----------------100%-----------------] 10000 of 10000 complete in 3.2 sec"
       ]
      }
     ],
     "prompt_number": 7
    }
   ]
  }
 ]
}