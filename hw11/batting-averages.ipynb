{
 "metadata": {
  "name": ""
 },
 "nbformat": 3,
 "nbformat_minor": 0,
 "worksheets": [
  {
   "cells": [
    {
     "cell_type": "code",
     "collapsed": false,
     "input": [
      "%matplotlib inline"
     ],
     "language": "python",
     "outputs": [],
     "prompt_number": 1
    },
    {
     "cell_type": "code",
     "collapsed": false,
     "input": [
      "import pymc\n",
      "import pandas as pd"
     ],
     "language": "python",
     "outputs": [],
     "prompt_number": 2
    },
    {
     "cell_type": "code",
     "collapsed": false,
     "input": [
      "def compute_beta_params(E, Var): \n",
      "    \"\"\"Compute the parameters of a Beta distribution given it's mean\n",
      "    and variance.\n",
      "\n",
      "    \"\"\"\n",
      "    # compute alpha and beta for the Beta prior from the given stats\n",
      "    alpha = (((1 - E) * (E ** 2)) / Var) - E\n",
      "    beta = (alpha * (1 - E)) / E\n",
      "\n",
      "    # sanity check, to make sure we calculated alpha and beta correctly\n",
      "    assert np.allclose(E, (alpha / (alpha + beta)))\n",
      "    assert np.allclose(Var, (alpha * beta / (((alpha + beta) ** 2) * (alpha + beta + 1))))\n",
      "\n",
      "    return alpha, beta"
     ],
     "language": "python",
     "outputs": [],
     "prompt_number": 3
    },
    {
     "cell_type": "code",
     "collapsed": false,
     "input": [
      "class BattingAverageModel(object):\n",
      "    \"\"\"Model of a baseball player's batting average.\"\"\"\n",
      "\n",
      "    # compute hyperparameters from the 2010 mean batting average and\n",
      "    # variance between players\n",
      "    alpha, beta = compute_beta_params(E=0.255, Var=0.0011)\n",
      "\n",
      "    def __init__(self, N, H):\n",
      "\t# N is the number of \"at bats\"\n",
      "\t# x is the number of hits (H is the observed value)\n",
      "\t# mu is the hitter's true batting average\n",
      "\tself.mu = pymc.Beta('mu', self.alpha, self.beta)\n",
      "\tself.x = pymc.Binomial('x', n=N, p=self.mu, value=H)"
     ],
     "language": "python",
     "outputs": [],
     "prompt_number": 4
    },
    {
     "cell_type": "code",
     "collapsed": false,
     "input": [
      "# load the april and full year data\n",
      "april = pd.read_csv(\"hw_11_data/laa_2011_april.txt\", sep=\"\\t*\", index_col='Player')\n",
      "year = pd.read_csv(\"hw_11_data/laa_2011_full.txt\", sep=\"\\t*\", index_col='Player')"
     ],
     "language": "python",
     "outputs": [],
     "prompt_number": 5
    },
    {
     "cell_type": "code",
     "collapsed": false,
     "input": [
      "# compute maximum likelihood estimate of the april batting averages\n",
      "MLE = april['AVG']\n",
      "MLE"
     ],
     "language": "python",
     "outputs": [
      {
       "output_type": "pyout",
       "prompt_number": 6,
       "text": [
        "Player\n",
        "Aybar, E       0.362\n",
        "Izturis, M     0.309\n",
        "Kendrick, H    0.308\n",
        "Callaspo, A    0.303\n",
        "Bourjos, P     0.300\n",
        "Conger, H      0.273\n",
        "Abreu, B       0.258\n",
        "Amarista, A    0.250\n",
        "Trumbo, M      0.250\n",
        "Hunter, T      0.214\n",
        "Wells, V       0.171\n",
        "Mathis, J      0.152\n",
        "Wilson, B      0.125\n",
        "Name: AVG, dtype: float64"
       ]
      }
     ],
     "prompt_number": 6
    },
    {
     "cell_type": "code",
     "collapsed": false,
     "input": [
      "# use MCMC to infer the posterior distribution of the batting average\n",
      "# for each player\n",
      "M = {}\n",
      "for player, (N, H) in april[['AB', 'H']].iterrows():\n",
      "    print \"Running MCMC for %s...\" % player\n",
      "    M[player] = pymc.MCMC(BattingAverageModel(N, H))\n",
      "    M[player].sample(iter=10000, burn=1000, thin=2)\n",
      "    print \"\\n\""
     ],
     "language": "python",
     "outputs": []
    },
    {
     "cell_type": "code",
     "collapsed": false,
     "input": [
      "# check convergence of the MCMC sampler\n",
      "fig, axes = plt.subplots(3, 1)\n",
      "fig.set_figwidth(10)\n",
      "fig.set_figheight(6)\n",
      "for i in range(3):\n",
      "    player = april.index[i]\n",
      "    ax = axes[i]\n",
      "    ax.plot(M[player].trace('mu')[:])\n",
      "    ax.set_title(player)\n",
      "plt.tight_layout()"
     ],
     "language": "python",
     "outputs": []
    }
   ]
  }
 ]
}