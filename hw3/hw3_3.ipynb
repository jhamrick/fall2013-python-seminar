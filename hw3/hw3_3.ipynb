{
 "metadata": {
  "name": ""
 },
 "nbformat": 3,
 "nbformat_minor": 0,
 "worksheets": [
  {
   "cells": [
    {
     "cell_type": "code",
     "collapsed": false,
     "input": [
      "%matplotlib osx"
     ],
     "language": "python",
     "outputs": [],
     "prompt_number": 1
    },
    {
     "cell_type": "code",
     "collapsed": false,
     "input": [
      "import numpy as np\n",
      "import pandas as pd\n",
      "import brusher"
     ],
     "language": "python",
     "outputs": [],
     "prompt_number": 2
    },
    {
     "cell_type": "code",
     "collapsed": false,
     "input": [
      "# load the flowers dataset\n",
      "flowers = pd.read_table(\"hw_3_data/flowers.csv\", sep=\",\").set_index(\"species\")\n",
      "flowers"
     ],
     "language": "python",
     "outputs": [
      {
       "html": [
        "<pre>\n",
        "&lt;class 'pandas.core.frame.DataFrame'&gt;\n",
        "Index: 150 entries, setosa to virginica\n",
        "Data columns (total 4 columns):\n",
        "sepal length    150  non-null values\n",
        "sepal width     150  non-null values\n",
        "petal length    150  non-null values\n",
        "petal width     150  non-null values\n",
        "dtypes: float64(4)\n",
        "</pre>"
       ],
       "output_type": "pyout",
       "prompt_number": 3,
       "text": [
        "<class 'pandas.core.frame.DataFrame'>\n",
        "Index: 150 entries, setosa to virginica\n",
        "Data columns (total 4 columns):\n",
        "sepal length    150  non-null values\n",
        "sepal width     150  non-null values\n",
        "petal length    150  non-null values\n",
        "petal width     150  non-null values\n",
        "dtypes: float64(4)"
       ]
      }
     ],
     "prompt_number": 3
    },
    {
     "cell_type": "code",
     "collapsed": false,
     "input": [
      "# compute the colors we want\n",
      "color_map = {\n",
      "    'setosa': (0.6, 0, 0, 0.4),\n",
      "    'versicolor': (0, 0.6, 0, 0.4),\n",
      "    'virginica': (0, 0, 0.6, 0.4)\n",
      "}\n",
      "colors = np.array([color_map[x] for x in flowers.index])  "
     ],
     "language": "python",
     "outputs": [],
     "prompt_number": 4
    },
    {
     "cell_type": "code",
     "collapsed": false,
     "input": [
      "# display the figure\n",
      "df = brusher.Brusher(flowers, colors)"
     ],
     "language": "python",
     "outputs": [],
     "prompt_number": 5
    }
   ]
  }
 ]
}