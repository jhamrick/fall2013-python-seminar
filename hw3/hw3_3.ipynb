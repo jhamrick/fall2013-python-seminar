{
 "metadata": {
  "name": ""
 },
 "nbformat": 3,
 "nbformat_minor": 0,
 "worksheets": [
  {
   "cells": [
    {
     "cell_type": "code",
     "collapsed": false,
     "input": [
      "%matplotlib osx"
     ],
     "language": "python",
     "metadata": {},
     "outputs": [],
     "prompt_number": 1
    },
    {
     "cell_type": "code",
     "collapsed": false,
     "input": [
      "import numpy as np\n",
      "import pandas as pd\n",
      "import matplotlib.pyplot as plt\n",
      "import sys"
     ],
     "language": "python",
     "metadata": {},
     "outputs": [],
     "prompt_number": 2
    },
    {
     "cell_type": "code",
     "collapsed": false,
     "input": [
      "class DrawFlowers(object):\n",
      "    \n",
      "    def __init__(self, flowers):\n",
      "        self.flowers = flowers\n",
      "        \n",
      "        self.colors = {\n",
      "            'setosa': (0.8, 0, 0, 0.4),\n",
      "            'versicolor': (0, 0.8, 0, 0.4),\n",
      "            'virginica': (0, 0, 0.8, 0.4)\n",
      "        }\n",
      "        self.c = np.array([self.colors[x] for x in self.flowers.index])\n",
      "        \n",
      "        self.fig, self.axes = plt.subplots(4, 4)\n",
      "        self.axis_dict = {}\n",
      "        self.axis_data = {}\n",
      "        \n",
      "        for x, xstat in enumerate(self.flowers.columns):\n",
      "            for y, ystat in enumerate(self.flowers.columns):\n",
      "                ax = self.axes[y, x]\n",
      "                self.axis_dict[str(ax)] = (xstat, ystat)\n",
      "                self.axis_data[x, y]= ax.scatter(\n",
      "                    self.flowers[xstat], self.flowers[ystat])\n",
      "                \n",
      "                ax.set_xlim(self.flowers[xstat].min(), self.flowers[xstat].max())\n",
      "                ax.set_ylim(self.flowers[ystat].min(), self.flowers[ystat].max())\n",
      "        \n",
      "                ax.xaxis.set_ticks([])\n",
      "                ax.yaxis.set_ticks([])\n",
      "                \n",
      "                if xstat == ystat:\n",
      "                    ax.text(0.1, 0.85, xstat, transform=ax.transAxes)\n",
      "\n",
      "        self.fig.set_figwidth(10)\n",
      "        self.fig.set_figheight(10)\n",
      "        \n",
      "        self.update_colors(np.array([True]*len(self.flowers)))\n",
      "        \n",
      "        self.xy0 = None\n",
      "        self.ax0 = None\n",
      "        \n",
      "        self.cids = {}\n",
      "        self.cids['button_press_event'] = self.fig.canvas.mpl_connect('button_press_event', self.press)\n",
      "        self.cids['button_release_event'] = self.fig.canvas.mpl_connect('button_release_event', self.release)\n",
      "        \n",
      "    def press(self, event):\n",
      "        if self.xy0 is not None:\n",
      "            raise AssertionError(\"a box is already being drawn!\")\n",
      "        self.xy0 = (event.xdata, event.ydata)\n",
      "        self.ax0 = event.inaxes\n",
      "        print \"press:\", self.xy0, self.ax0\n",
      "        \n",
      "        sys.stdout.flush()\n",
      "        \n",
      "    def release(self, event):\n",
      "        if self.xy0 is None:\n",
      "            raise AssertionError(\"a box is not being draw!\")\n",
      "        xy1 = (event.xdata, event.ydata)\n",
      "        ax1 = event.inaxes\n",
      "        print \"release:\", xy1, ax1\n",
      "        \n",
      "        if self.ax0 != ax1:\n",
      "            print \"Warning: invalid selection\"\n",
      "        \n",
      "        else:\n",
      "            pick = self.pick_points(xy1)\n",
      "            self.update_colors(pick)\n",
      "        \n",
      "        self.xy0 = None\n",
      "        self.ax0 = None\n",
      "        \n",
      "        sys.stdout.flush()\n",
      "        \n",
      "    def pick_points(self, xy1):\n",
      "        xy = np.array([self.xy0, xy1]).T\n",
      "        \n",
      "        xstat, ystat = self.axis_dict[str(self.ax0)]\n",
      "        xdata = np.asarray(self.flowers[xstat])\n",
      "        ydata = np.asarray(self.flowers[ystat])\n",
      "        \n",
      "        xmin = xy[0].min()\n",
      "        xmax = xy[0].max()\n",
      "        ymin = xy[1].min()\n",
      "        ymax = xy[1].max()\n",
      "        \n",
      "        pick = (xdata > xmin) & (xdata < xmax) & (ydata > ymin) & (ydata < ymax)\n",
      "        return pick\n",
      "        \n",
      "    def update_colors(self, pick): \n",
      "        \n",
      "        colors = self.c.copy()\n",
      "        colors[~pick] = (0.3, 0.3, 0.3, 0.4)\n",
      "    \n",
      "        for (x, y), data in self.axis_data.iteritems():\n",
      "            data.set_color(colors)\n",
      "            self.axes[y, x].figure.canvas.draw()\n",
      "            "
     ],
     "language": "python",
     "metadata": {},
     "outputs": [],
     "prompt_number": 3
    },
    {
     "cell_type": "code",
     "collapsed": false,
     "input": [
      "flowers = pd.read_table(\"hw_3_data/flowers.csv\", sep=\",\").set_index(\"species\")\n",
      "flowers"
     ],
     "language": "python",
     "metadata": {},
     "outputs": [
      {
       "html": [
        "<pre>\n",
        "&lt;class 'pandas.core.frame.DataFrame'&gt;\n",
        "Index: 150 entries, setosa to virginica\n",
        "Data columns (total 4 columns):\n",
        "sepal length    150  non-null values\n",
        "sepal width     150  non-null values\n",
        "petal length    150  non-null values\n",
        "petal width     150  non-null values\n",
        "dtypes: float64(4)\n",
        "</pre>"
       ],
       "metadata": {},
       "output_type": "pyout",
       "prompt_number": 4,
       "text": [
        "<class 'pandas.core.frame.DataFrame'>\n",
        "Index: 150 entries, setosa to virginica\n",
        "Data columns (total 4 columns):\n",
        "sepal length    150  non-null values\n",
        "sepal width     150  non-null values\n",
        "petal length    150  non-null values\n",
        "petal width     150  non-null values\n",
        "dtypes: float64(4)"
       ]
      }
     ],
     "prompt_number": 4
    },
    {
     "cell_type": "code",
     "collapsed": false,
     "input": [
      "df = DrawFlowers(flowers)"
     ],
     "language": "python",
     "metadata": {},
     "outputs": [],
     "prompt_number": 5
    }
   ],
   "metadata": {}
  }
 ]
}