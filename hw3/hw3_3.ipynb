{
 "metadata": {
  "name": ""
 },
 "nbformat": 3,
 "nbformat_minor": 0,
 "worksheets": [
  {
   "cells": [
    {
     "cell_type": "code",
     "collapsed": false,
     "input": [
      "%matplotlib osx"
     ],
     "language": "python",
     "outputs": [],
     "prompt_number": 20
    },
    {
     "cell_type": "code",
     "collapsed": false,
     "input": [
      "import numpy as np\n",
      "import pandas as pdb\n",
      "import brusher"
     ],
     "language": "python",
     "outputs": [],
     "prompt_number": 21
    },
    {
     "cell_type": "code",
     "collapsed": false,
     "input": [
      "flowers = pd.read_table(\"hw_3_data/flowers.csv\", sep=\",\").set_index(\"species\")\n",
      "flowers"
     ],
     "language": "python",
     "outputs": [
      {
       "html": [
        "<pre>\n",
        "&lt;class 'pandas.core.frame.DataFrame'&gt;\n",
        "Index: 150 entries, setosa to virginica\n",
        "Data columns (total 4 columns):\n",
        "sepal length    150  non-null values\n",
        "sepal width     150  non-null values\n",
        "petal length    150  non-null values\n",
        "petal width     150  non-null values\n",
        "dtypes: float64(4)\n",
        "</pre>"
       ],
       "output_type": "pyout",
       "prompt_number": 23,
       "text": [
        "<class 'pandas.core.frame.DataFrame'>\n",
        "Index: 150 entries, setosa to virginica\n",
        "Data columns (total 4 columns):\n",
        "sepal length    150  non-null values\n",
        "sepal width     150  non-null values\n",
        "petal length    150  non-null values\n",
        "petal width     150  non-null values\n",
        "dtypes: float64(4)"
       ]
      }
     ],
     "prompt_number": 23
    },
    {
     "cell_type": "code",
     "collapsed": false,
     "input": [
      "colors = {\n",
      "    'setosa': (0.6, 0, 0, 0.4),\n",
      "    'versicolor': (0, 0.6, 0, 0.4),\n",
      "    'virginica': (0, 0, 0.6, 0.4)\n",
      "}\n",
      "c = np.array([colors[x] for x in flowers.index])  "
     ],
     "language": "python",
     "outputs": [],
     "prompt_number": 24
    },
    {
     "cell_type": "code",
     "collapsed": false,
     "input": [
      "df = brusher.Brusher(flowers, c)"
     ],
     "language": "python",
     "outputs": [],
     "prompt_number": 27
    },
    {
     "cell_type": "code",
     "collapsed": false,
     "input": [
      "flowers.columns"
     ],
     "language": "python",
     "outputs": [
      {
       "metadata": null,
       "output_type": "pyout",
       "prompt_number": 13,
       "text": [
        "Index([u'sepal length', u'sepal width', u'petal length', u'petal width'], dtype=object)"
       ]
      }
     ],
     "prompt_number": 13
    },
    {
     "cell_type": "code",
     "collapsed": false,
     "input": [],
     "language": "python",
     "outputs": []
    }
   ]
  }
 ]
}